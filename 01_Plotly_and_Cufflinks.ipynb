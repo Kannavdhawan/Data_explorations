{
  "nbformat": 4,
  "nbformat_minor": 0,
  "metadata": {
    "kernelspec": {
      "display_name": "Python 3",
      "language": "python",
      "name": "python3"
    },
    "language_info": {
      "codemirror_mode": {
        "name": "ipython",
        "version": 3
      },
      "file_extension": ".py",
      "mimetype": "text/x-python",
      "name": "python",
      "nbconvert_exporter": "python",
      "pygments_lexer": "ipython3",
      "version": "3.5.1"
    },
    "colab": {
      "name": "01-Plotly and Cufflinks.ipynb",
      "provenance": [],
      "collapsed_sections": []
    }
  },
  "cells": [
    {
      "cell_type": "markdown",
      "metadata": {
        "id": "vmRnctNAYZj-",
        "colab_type": "text"
      },
      "source": [
        "___\n",
        "___\n",
        "# Plotly and Cufflinks"
      ]
    },
    {
      "cell_type": "markdown",
      "metadata": {
        "id": "Bq7sD2A4YZkA",
        "colab_type": "text"
      },
      "source": [
        "Plotly is a library that allows you to create interactive plots that you can use in dashboards or websites (you can save them as html files or static images).\n",
        "\n",
        "## Installation\n",
        "\n",
        "install plotly and cufflinks to call plots directly off of a pandas dataframe.  **pip**. Installed libs using\n",
        "\n",
        "    pip install plotly\n",
        "    pip install cufflinks"
      ]
    },
    {
      "cell_type": "code",
      "metadata": {
        "id": "lNEL9QBRYZkB",
        "colab_type": "code",
        "colab": {}
      },
      "source": [
        "import pandas as pd\n",
        "import numpy as np\n",
        "%matplotlib inline"
      ],
      "execution_count": 3,
      "outputs": []
    },
    {
      "cell_type": "code",
      "metadata": {
        "id": "i2vYo1QaYZkH",
        "colab_type": "code",
        "colab": {
          "base_uri": "https://localhost:8080/",
          "height": 33
        },
        "outputId": "1ed812cf-7ce6-47e4-f4af-a58dae5e24c9"
      },
      "source": [
        "from plotly import __version__\n",
        "from plotly.offline import download_plotlyjs, init_notebook_mode, plot, iplot\n",
        "\n",
        "print(__version__) # requires version >= 1.9.0"
      ],
      "execution_count": 4,
      "outputs": [
        {
          "output_type": "stream",
          "text": [
            "4.4.1\n"
          ],
          "name": "stdout"
        }
      ]
    },
    {
      "cell_type": "code",
      "metadata": {
        "id": "DkiSHzqyYZkN",
        "colab_type": "code",
        "colab": {}
      },
      "source": [
        "import cufflinks as cf"
      ],
      "execution_count": 5,
      "outputs": []
    },
    {
      "cell_type": "code",
      "metadata": {
        "id": "IN8ftfbZYZkR",
        "colab_type": "code",
        "colab": {
          "base_uri": "https://localhost:8080/",
          "height": 17
        },
        "outputId": "5edb1897-555a-486e-fc3f-f7d2208c394e"
      },
      "source": [
        "# For Notebooks\n",
        "init_notebook_mode(connected=True)"
      ],
      "execution_count": 6,
      "outputs": [
        {
          "output_type": "display_data",
          "data": {
            "text/html": [
              "        <script type=\"text/javascript\">\n",
              "        window.PlotlyConfig = {MathJaxConfig: 'local'};\n",
              "        if (window.MathJax) {MathJax.Hub.Config({SVG: {font: \"STIX-Web\"}});}\n",
              "        if (typeof require !== 'undefined') {\n",
              "        require.undef(\"plotly\");\n",
              "        requirejs.config({\n",
              "            paths: {\n",
              "                'plotly': ['https://cdn.plot.ly/plotly-latest.min']\n",
              "            }\n",
              "        });\n",
              "        require(['plotly'], function(Plotly) {\n",
              "            window._Plotly = Plotly;\n",
              "        });\n",
              "        }\n",
              "        </script>\n",
              "        "
            ]
          },
          "metadata": {
            "tags": []
          }
        }
      ]
    },
    {
      "cell_type": "code",
      "metadata": {
        "id": "CYZqfPaMYZkX",
        "colab_type": "code",
        "colab": {
          "base_uri": "https://localhost:8080/",
          "height": 17
        },
        "outputId": "da1c96ec-7105-4b18-d924-c5a9793e0111"
      },
      "source": [
        "# For offline use\n",
        "cf.go_offline()"
      ],
      "execution_count": 7,
      "outputs": [
        {
          "output_type": "display_data",
          "data": {
            "text/html": [
              "        <script type=\"text/javascript\">\n",
              "        window.PlotlyConfig = {MathJaxConfig: 'local'};\n",
              "        if (window.MathJax) {MathJax.Hub.Config({SVG: {font: \"STIX-Web\"}});}\n",
              "        if (typeof require !== 'undefined') {\n",
              "        require.undef(\"plotly\");\n",
              "        requirejs.config({\n",
              "            paths: {\n",
              "                'plotly': ['https://cdn.plot.ly/plotly-latest.min']\n",
              "            }\n",
              "        });\n",
              "        require(['plotly'], function(Plotly) {\n",
              "            window._Plotly = Plotly;\n",
              "        });\n",
              "        }\n",
              "        </script>\n",
              "        "
            ]
          },
          "metadata": {
            "tags": []
          }
        }
      ]
    },
    {
      "cell_type": "markdown",
      "metadata": {
        "id": "ODwP1aZGYZkd",
        "colab_type": "text"
      },
      "source": [
        "### Fake Data"
      ]
    },
    {
      "cell_type": "code",
      "metadata": {
        "id": "Qcj7frFFYZkd",
        "colab_type": "code",
        "colab": {}
      },
      "source": [
        "df = pd.DataFrame(np.random.randn(100,4),columns='A B C D'.split())"
      ],
      "execution_count": 8,
      "outputs": []
    },
    {
      "cell_type": "code",
      "metadata": {
        "id": "lTyif9PfYZki",
        "colab_type": "code",
        "colab": {
          "base_uri": "https://localhost:8080/",
          "height": 191
        },
        "outputId": "4d8cb128-8ee5-43d4-fd4a-2be0d8ca7d20"
      },
      "source": [
        "df.head()"
      ],
      "execution_count": 9,
      "outputs": [
        {
          "output_type": "execute_result",
          "data": {
            "text/html": [
              "<div>\n",
              "<style scoped>\n",
              "    .dataframe tbody tr th:only-of-type {\n",
              "        vertical-align: middle;\n",
              "    }\n",
              "\n",
              "    .dataframe tbody tr th {\n",
              "        vertical-align: top;\n",
              "    }\n",
              "\n",
              "    .dataframe thead th {\n",
              "        text-align: right;\n",
              "    }\n",
              "</style>\n",
              "<table border=\"1\" class=\"dataframe\">\n",
              "  <thead>\n",
              "    <tr style=\"text-align: right;\">\n",
              "      <th></th>\n",
              "      <th>A</th>\n",
              "      <th>B</th>\n",
              "      <th>C</th>\n",
              "      <th>D</th>\n",
              "    </tr>\n",
              "  </thead>\n",
              "  <tbody>\n",
              "    <tr>\n",
              "      <th>0</th>\n",
              "      <td>0.033388</td>\n",
              "      <td>-0.318582</td>\n",
              "      <td>1.018295</td>\n",
              "      <td>-1.857114</td>\n",
              "    </tr>\n",
              "    <tr>\n",
              "      <th>1</th>\n",
              "      <td>-0.696412</td>\n",
              "      <td>0.017144</td>\n",
              "      <td>0.379452</td>\n",
              "      <td>-1.292980</td>\n",
              "    </tr>\n",
              "    <tr>\n",
              "      <th>2</th>\n",
              "      <td>-1.158281</td>\n",
              "      <td>-1.161883</td>\n",
              "      <td>0.081907</td>\n",
              "      <td>0.205612</td>\n",
              "    </tr>\n",
              "    <tr>\n",
              "      <th>3</th>\n",
              "      <td>-0.256192</td>\n",
              "      <td>-0.670444</td>\n",
              "      <td>0.406098</td>\n",
              "      <td>-1.782657</td>\n",
              "    </tr>\n",
              "    <tr>\n",
              "      <th>4</th>\n",
              "      <td>-0.939640</td>\n",
              "      <td>-0.475202</td>\n",
              "      <td>1.882248</td>\n",
              "      <td>0.368935</td>\n",
              "    </tr>\n",
              "  </tbody>\n",
              "</table>\n",
              "</div>"
            ],
            "text/plain": [
              "          A         B         C         D\n",
              "0  0.033388 -0.318582  1.018295 -1.857114\n",
              "1 -0.696412  0.017144  0.379452 -1.292980\n",
              "2 -1.158281 -1.161883  0.081907  0.205612\n",
              "3 -0.256192 -0.670444  0.406098 -1.782657\n",
              "4 -0.939640 -0.475202  1.882248  0.368935"
            ]
          },
          "metadata": {
            "tags": []
          },
          "execution_count": 9
        }
      ]
    },
    {
      "cell_type": "code",
      "metadata": {
        "id": "e13r1yZxYZkp",
        "colab_type": "code",
        "colab": {}
      },
      "source": [
        "df2 = pd.DataFrame({'Category':['A','B','C'],'Values':[32,43,50]})"
      ],
      "execution_count": 10,
      "outputs": []
    },
    {
      "cell_type": "code",
      "metadata": {
        "id": "1ZJHt89eYZkt",
        "colab_type": "code",
        "colab": {
          "base_uri": "https://localhost:8080/",
          "height": 133
        },
        "outputId": "90471035-f6af-47b9-8b0b-f0fe7d40ab5e"
      },
      "source": [
        "df2.head()"
      ],
      "execution_count": 11,
      "outputs": [
        {
          "output_type": "execute_result",
          "data": {
            "text/html": [
              "<div>\n",
              "<style scoped>\n",
              "    .dataframe tbody tr th:only-of-type {\n",
              "        vertical-align: middle;\n",
              "    }\n",
              "\n",
              "    .dataframe tbody tr th {\n",
              "        vertical-align: top;\n",
              "    }\n",
              "\n",
              "    .dataframe thead th {\n",
              "        text-align: right;\n",
              "    }\n",
              "</style>\n",
              "<table border=\"1\" class=\"dataframe\">\n",
              "  <thead>\n",
              "    <tr style=\"text-align: right;\">\n",
              "      <th></th>\n",
              "      <th>Category</th>\n",
              "      <th>Values</th>\n",
              "    </tr>\n",
              "  </thead>\n",
              "  <tbody>\n",
              "    <tr>\n",
              "      <th>0</th>\n",
              "      <td>A</td>\n",
              "      <td>32</td>\n",
              "    </tr>\n",
              "    <tr>\n",
              "      <th>1</th>\n",
              "      <td>B</td>\n",
              "      <td>43</td>\n",
              "    </tr>\n",
              "    <tr>\n",
              "      <th>2</th>\n",
              "      <td>C</td>\n",
              "      <td>50</td>\n",
              "    </tr>\n",
              "  </tbody>\n",
              "</table>\n",
              "</div>"
            ],
            "text/plain": [
              "  Category  Values\n",
              "0        A      32\n",
              "1        B      43\n",
              "2        C      50"
            ]
          },
          "metadata": {
            "tags": []
          },
          "execution_count": 11
        }
      ]
    },
    {
      "cell_type": "markdown",
      "metadata": {
        "id": "WiTzMrfqYZky",
        "colab_type": "text"
      },
      "source": [
        "## Using Cufflinks and iplot() for my work\n",
        "\n",
        "* scatter\n",
        "* bar\n",
        "* box\n",
        "* spread\n",
        "* ratio\n",
        "* heatmap\n",
        "* surface\n",
        "* histogram\n",
        "* bubble"
      ]
    },
    {
      "cell_type": "markdown",
      "metadata": {
        "id": "4lhdSyEAYZkz",
        "colab_type": "text"
      },
      "source": [
        "## Scatter"
      ]
    },
    {
      "cell_type": "code",
      "metadata": {
        "id": "l6zkcK4iYZk0",
        "colab_type": "code",
        "colab": {
          "base_uri": "https://localhost:8080/",
          "height": 542
        },
        "outputId": "c8675f28-2849-4ba5-a48e-aa37e16a423c"
      },
      "source": [
        "df.iplot(kind='scatter',x='A',y='B',mode='markers',size=10)"
      ],
      "execution_count": 21,
      "outputs": [
        {
          "output_type": "display_data",
          "data": {
            "text/html": [
              "<div>\n",
              "        \n",
              "        \n",
              "            <div id=\"81a2769f-ecc7-45ff-9b38-493b8e5a6470\" class=\"plotly-graph-div\" style=\"height:525px; width:100%;\"></div>\n",
              "            <script type=\"text/javascript\">\n",
              "                require([\"plotly\"], function(Plotly) {\n",
              "                    window.PLOTLYENV=window.PLOTLYENV || {};\n",
              "                    window.PLOTLYENV.BASE_URL='https://plot.ly';\n",
              "                    \n",
              "                if (document.getElementById(\"81a2769f-ecc7-45ff-9b38-493b8e5a6470\")) {\n",
              "                    Plotly.newPlot(\n",
              "                        '81a2769f-ecc7-45ff-9b38-493b8e5a6470',\n",
              "                        [{\"line\": {\"color\": \"rgba(255, 153, 51, 1.0)\", \"dash\": \"solid\", \"shape\": \"linear\", \"width\": 1.3}, \"marker\": {\"size\": 10, \"symbol\": \"circle\"}, \"mode\": \"markers\", \"name\": \"B\", \"text\": \"\", \"type\": \"scatter\", \"x\": [0.033388217440508905, -0.6964117620033113, -1.1582806081079497, -0.2561921110075144, -0.9396395616723018, -1.8710775986328148, 1.1381065930965866, 0.2836313998887739, 0.8372825848844795, 0.5352062157485056, -0.10570195697932709, 1.3932461971675265, -1.0203377791552646, 1.4054722978405614, 1.2599083999065768, -0.8173466696833639, 0.749141786818367, 0.32314069513049737, 0.7835951532562746, -0.770714323484931, 1.3378126523628584, -0.11036438568990392, -1.2305529427537507, 0.11815301833078981, 0.11468249633092606, -1.5570788214620102, 0.3298883731176722, -0.1670048980170897, -0.44610787272009117, -1.040410419879342, -2.134223059509332, 1.2055267598805925, 0.7833271951513457, -0.30517818327250934, -1.054797078733294, 1.0339469118287643, 0.031724802569528074, 0.46524479084304915, 0.2696133157308018, -1.9022090457341743, -0.672553302714725, -1.4538759223619475, -0.8952596564969528, -1.6090791774457278, -0.9556876902032667, -1.2883809167343472, -1.013453792978003, -0.6001203860131052, -0.42238651267056765, -0.9170182467887845, -0.18415000223704875, 0.18274248152898628, 1.142934386894334, 0.6890288189881617, 0.5124153344064991, 0.9954018120132386, -0.27710289787528714, 0.5618092295029821, -1.5853615513089843, -0.0157622538163842, 0.0034350917010841247, -1.1545937310589027, -0.9052719576531694, -0.6408810782085186, -1.0539102470766974, -1.6088884404905042, 1.4254864256297581, -0.381852587029767, 0.49973553564455736, 0.12058127493662403, 0.10141909915549104, -2.23702939333417, 1.1966390259865207, -1.0238163568433811, 0.5306379570018278, 1.4703548194163234, -0.3706618777461258, -0.4550084839216992, 0.08172360222080535, 0.6328493435423694, -1.1647795582446374, 1.2494878059546373, 1.0678653724911056, 0.37109684888001876, -0.21332835621154117, -0.36165792593448076, -0.5427678072839484, -0.4522924354445968, 0.7548666787430129, -0.18127561554144686, 0.18500763008449855, 0.4227463117416283, 0.09356699424783808, 0.5616913468969047, -0.8108851809052096, -0.06592248187876751, 0.9053101300097707, 1.1852123122865834, 1.7821500045599021, 1.6772169106987314], \"y\": [-0.3185819437242191, 0.017143553003232212, -1.161883283271516, -0.6704437820758866, -0.4752021049002068, 0.8818848095813414, -1.6113668454298233, -0.33827338930798506, -1.22976132791649, -1.1088957196694917, -0.6591281589852449, -0.9959336166710657, 0.9843663632768888, -0.8954963504718098, -0.9708364965136446, -0.3456105679762152, -0.5363379641406554, -0.347986706152008, -1.9772259945605442, -1.3146882448697077, 1.382190391435313, 0.4345969579360139, 0.30113552461211096, -0.8470311410792175, 0.3685426426850477, 0.5951448453513402, 0.17061591052139344, 0.17415532756605645, 0.2981196168572048, 0.4977249129616586, 0.33480901130394974, 0.1868880359802086, -1.6650149993841277, -0.6404910513353013, -0.8824072467179087, -0.553742729869468, 0.36036163241066343, -2.275974570734227, -1.5874012126450154, 1.3419821073368021, -1.4171003468926828, 1.231652765552878, -1.8453235220960005, -0.7197969325839411, 1.3226340184457743, 0.20947818537722288, 0.29165688844925786, 0.5883754850166348, 0.3683509795965926, -0.3339353731153345, 1.309887025504271, 0.31546723226620027, 1.3263631277316312, -0.34567806682641433, -0.19141808194686688, -0.4713020694872677, 0.8852804183445554, -0.8576319218947199, -0.9145682759871094, -1.4002022553453086, -0.1835398022198471, 0.9597120405836465, 0.7459121859140037, 0.9582724578902626, 0.2515689421160934, -0.38993360906100594, -1.2295245875026266, -0.6031951925607657, -2.681150844317574, 0.08570599518645991, -0.30239374308582356, -0.17549857467971453, -0.34269764974175787, -0.6967515592890964, -0.6517567157566919, -0.7432742339004702, 0.9679312814459848, -0.10389313558341703, 0.6858706396566807, -0.3944155036832106, 0.301036982440157, 1.5086902264625675, -0.7373137660036858, -0.22448726844840527, -0.22652852888373978, -1.0077169954080438, 1.249022242931242, -0.09106059301916564, 1.2227833371035044, 1.1059491261446488, -0.8637469439487155, 2.124637526257138, 0.07570566559288731, -0.652759552671152, -0.35136007142557557, -0.42327448382840327, 1.2267554224089194, 0.46971004043741227, 0.5654883626864355, 1.3099927206532345]}],\n",
              "                        {\"legend\": {\"bgcolor\": \"#F5F6F9\", \"font\": {\"color\": \"#4D5663\"}}, \"paper_bgcolor\": \"#F5F6F9\", \"plot_bgcolor\": \"#F5F6F9\", \"template\": {\"data\": {\"bar\": [{\"error_x\": {\"color\": \"#2a3f5f\"}, \"error_y\": {\"color\": \"#2a3f5f\"}, \"marker\": {\"line\": {\"color\": \"#E5ECF6\", \"width\": 0.5}}, \"type\": \"bar\"}], \"barpolar\": [{\"marker\": {\"line\": {\"color\": \"#E5ECF6\", \"width\": 0.5}}, \"type\": \"barpolar\"}], \"carpet\": [{\"aaxis\": {\"endlinecolor\": \"#2a3f5f\", \"gridcolor\": \"white\", \"linecolor\": \"white\", \"minorgridcolor\": \"white\", \"startlinecolor\": \"#2a3f5f\"}, \"baxis\": {\"endlinecolor\": \"#2a3f5f\", \"gridcolor\": \"white\", \"linecolor\": \"white\", \"minorgridcolor\": \"white\", \"startlinecolor\": \"#2a3f5f\"}, \"type\": \"carpet\"}], \"choropleth\": [{\"colorbar\": {\"outlinewidth\": 0, \"ticks\": \"\"}, \"type\": \"choropleth\"}], \"contour\": [{\"colorbar\": {\"outlinewidth\": 0, \"ticks\": \"\"}, \"colorscale\": [[0.0, \"#0d0887\"], [0.1111111111111111, \"#46039f\"], [0.2222222222222222, \"#7201a8\"], [0.3333333333333333, \"#9c179e\"], [0.4444444444444444, \"#bd3786\"], [0.5555555555555556, \"#d8576b\"], [0.6666666666666666, \"#ed7953\"], [0.7777777777777778, \"#fb9f3a\"], [0.8888888888888888, \"#fdca26\"], [1.0, \"#f0f921\"]], \"type\": \"contour\"}], \"contourcarpet\": [{\"colorbar\": {\"outlinewidth\": 0, \"ticks\": \"\"}, \"type\": \"contourcarpet\"}], \"heatmap\": [{\"colorbar\": {\"outlinewidth\": 0, \"ticks\": \"\"}, \"colorscale\": [[0.0, \"#0d0887\"], [0.1111111111111111, \"#46039f\"], [0.2222222222222222, \"#7201a8\"], [0.3333333333333333, \"#9c179e\"], [0.4444444444444444, \"#bd3786\"], [0.5555555555555556, \"#d8576b\"], [0.6666666666666666, \"#ed7953\"], [0.7777777777777778, \"#fb9f3a\"], [0.8888888888888888, \"#fdca26\"], [1.0, \"#f0f921\"]], \"type\": \"heatmap\"}], \"heatmapgl\": [{\"colorbar\": {\"outlinewidth\": 0, \"ticks\": \"\"}, \"colorscale\": [[0.0, \"#0d0887\"], [0.1111111111111111, \"#46039f\"], [0.2222222222222222, \"#7201a8\"], [0.3333333333333333, \"#9c179e\"], [0.4444444444444444, \"#bd3786\"], [0.5555555555555556, \"#d8576b\"], [0.6666666666666666, \"#ed7953\"], [0.7777777777777778, \"#fb9f3a\"], [0.8888888888888888, \"#fdca26\"], [1.0, \"#f0f921\"]], \"type\": \"heatmapgl\"}], \"histogram\": [{\"marker\": {\"colorbar\": {\"outlinewidth\": 0, \"ticks\": \"\"}}, \"type\": \"histogram\"}], \"histogram2d\": [{\"colorbar\": {\"outlinewidth\": 0, \"ticks\": \"\"}, \"colorscale\": [[0.0, \"#0d0887\"], [0.1111111111111111, \"#46039f\"], [0.2222222222222222, \"#7201a8\"], [0.3333333333333333, \"#9c179e\"], [0.4444444444444444, \"#bd3786\"], [0.5555555555555556, \"#d8576b\"], [0.6666666666666666, \"#ed7953\"], [0.7777777777777778, \"#fb9f3a\"], [0.8888888888888888, \"#fdca26\"], [1.0, \"#f0f921\"]], \"type\": \"histogram2d\"}], \"histogram2dcontour\": [{\"colorbar\": {\"outlinewidth\": 0, \"ticks\": \"\"}, \"colorscale\": [[0.0, \"#0d0887\"], [0.1111111111111111, \"#46039f\"], [0.2222222222222222, \"#7201a8\"], [0.3333333333333333, \"#9c179e\"], [0.4444444444444444, \"#bd3786\"], [0.5555555555555556, \"#d8576b\"], [0.6666666666666666, \"#ed7953\"], [0.7777777777777778, \"#fb9f3a\"], [0.8888888888888888, \"#fdca26\"], [1.0, \"#f0f921\"]], \"type\": \"histogram2dcontour\"}], \"mesh3d\": [{\"colorbar\": {\"outlinewidth\": 0, \"ticks\": \"\"}, \"type\": \"mesh3d\"}], \"parcoords\": [{\"line\": {\"colorbar\": {\"outlinewidth\": 0, \"ticks\": \"\"}}, \"type\": \"parcoords\"}], \"pie\": [{\"automargin\": true, \"type\": \"pie\"}], \"scatter\": [{\"marker\": {\"colorbar\": {\"outlinewidth\": 0, \"ticks\": \"\"}}, \"type\": \"scatter\"}], \"scatter3d\": [{\"line\": {\"colorbar\": {\"outlinewidth\": 0, \"ticks\": \"\"}}, \"marker\": {\"colorbar\": {\"outlinewidth\": 0, \"ticks\": \"\"}}, \"type\": \"scatter3d\"}], \"scattercarpet\": [{\"marker\": {\"colorbar\": {\"outlinewidth\": 0, \"ticks\": \"\"}}, \"type\": \"scattercarpet\"}], \"scattergeo\": [{\"marker\": {\"colorbar\": {\"outlinewidth\": 0, \"ticks\": \"\"}}, \"type\": \"scattergeo\"}], \"scattergl\": [{\"marker\": {\"colorbar\": {\"outlinewidth\": 0, \"ticks\": \"\"}}, \"type\": \"scattergl\"}], \"scattermapbox\": [{\"marker\": {\"colorbar\": {\"outlinewidth\": 0, \"ticks\": \"\"}}, \"type\": \"scattermapbox\"}], \"scatterpolar\": [{\"marker\": {\"colorbar\": {\"outlinewidth\": 0, \"ticks\": \"\"}}, \"type\": \"scatterpolar\"}], \"scatterpolargl\": [{\"marker\": {\"colorbar\": {\"outlinewidth\": 0, \"ticks\": \"\"}}, \"type\": \"scatterpolargl\"}], \"scatterternary\": [{\"marker\": {\"colorbar\": {\"outlinewidth\": 0, \"ticks\": \"\"}}, \"type\": \"scatterternary\"}], \"surface\": [{\"colorbar\": {\"outlinewidth\": 0, \"ticks\": \"\"}, \"colorscale\": [[0.0, \"#0d0887\"], [0.1111111111111111, \"#46039f\"], [0.2222222222222222, \"#7201a8\"], [0.3333333333333333, \"#9c179e\"], [0.4444444444444444, \"#bd3786\"], [0.5555555555555556, \"#d8576b\"], [0.6666666666666666, \"#ed7953\"], [0.7777777777777778, \"#fb9f3a\"], [0.8888888888888888, \"#fdca26\"], [1.0, \"#f0f921\"]], \"type\": \"surface\"}], \"table\": [{\"cells\": {\"fill\": {\"color\": \"#EBF0F8\"}, \"line\": {\"color\": \"white\"}}, \"header\": {\"fill\": {\"color\": \"#C8D4E3\"}, \"line\": {\"color\": \"white\"}}, \"type\": \"table\"}]}, \"layout\": {\"annotationdefaults\": {\"arrowcolor\": \"#2a3f5f\", \"arrowhead\": 0, \"arrowwidth\": 1}, \"coloraxis\": {\"colorbar\": {\"outlinewidth\": 0, \"ticks\": \"\"}}, \"colorscale\": {\"diverging\": [[0, \"#8e0152\"], [0.1, \"#c51b7d\"], [0.2, \"#de77ae\"], [0.3, \"#f1b6da\"], [0.4, \"#fde0ef\"], [0.5, \"#f7f7f7\"], [0.6, \"#e6f5d0\"], [0.7, \"#b8e186\"], [0.8, \"#7fbc41\"], [0.9, \"#4d9221\"], [1, \"#276419\"]], \"sequential\": [[0.0, \"#0d0887\"], [0.1111111111111111, \"#46039f\"], [0.2222222222222222, \"#7201a8\"], [0.3333333333333333, \"#9c179e\"], [0.4444444444444444, \"#bd3786\"], [0.5555555555555556, \"#d8576b\"], [0.6666666666666666, \"#ed7953\"], [0.7777777777777778, \"#fb9f3a\"], [0.8888888888888888, \"#fdca26\"], [1.0, \"#f0f921\"]], \"sequentialminus\": [[0.0, \"#0d0887\"], [0.1111111111111111, \"#46039f\"], [0.2222222222222222, \"#7201a8\"], [0.3333333333333333, \"#9c179e\"], [0.4444444444444444, \"#bd3786\"], [0.5555555555555556, \"#d8576b\"], [0.6666666666666666, \"#ed7953\"], [0.7777777777777778, \"#fb9f3a\"], [0.8888888888888888, \"#fdca26\"], [1.0, \"#f0f921\"]]}, \"colorway\": [\"#636efa\", \"#EF553B\", \"#00cc96\", \"#ab63fa\", \"#FFA15A\", \"#19d3f3\", \"#FF6692\", \"#B6E880\", \"#FF97FF\", \"#FECB52\"], \"font\": {\"color\": \"#2a3f5f\"}, \"geo\": {\"bgcolor\": \"white\", \"lakecolor\": \"white\", \"landcolor\": \"#E5ECF6\", \"showlakes\": true, \"showland\": true, \"subunitcolor\": \"white\"}, \"hoverlabel\": {\"align\": \"left\"}, \"hovermode\": \"closest\", \"mapbox\": {\"style\": \"light\"}, \"paper_bgcolor\": \"white\", \"plot_bgcolor\": \"#E5ECF6\", \"polar\": {\"angularaxis\": {\"gridcolor\": \"white\", \"linecolor\": \"white\", \"ticks\": \"\"}, \"bgcolor\": \"#E5ECF6\", \"radialaxis\": {\"gridcolor\": \"white\", \"linecolor\": \"white\", \"ticks\": \"\"}}, \"scene\": {\"xaxis\": {\"backgroundcolor\": \"#E5ECF6\", \"gridcolor\": \"white\", \"gridwidth\": 2, \"linecolor\": \"white\", \"showbackground\": true, \"ticks\": \"\", \"zerolinecolor\": \"white\"}, \"yaxis\": {\"backgroundcolor\": \"#E5ECF6\", \"gridcolor\": \"white\", \"gridwidth\": 2, \"linecolor\": \"white\", \"showbackground\": true, \"ticks\": \"\", \"zerolinecolor\": \"white\"}, \"zaxis\": {\"backgroundcolor\": \"#E5ECF6\", \"gridcolor\": \"white\", \"gridwidth\": 2, \"linecolor\": \"white\", \"showbackground\": true, \"ticks\": \"\", \"zerolinecolor\": \"white\"}}, \"shapedefaults\": {\"line\": {\"color\": \"#2a3f5f\"}}, \"ternary\": {\"aaxis\": {\"gridcolor\": \"white\", \"linecolor\": \"white\", \"ticks\": \"\"}, \"baxis\": {\"gridcolor\": \"white\", \"linecolor\": \"white\", \"ticks\": \"\"}, \"bgcolor\": \"#E5ECF6\", \"caxis\": {\"gridcolor\": \"white\", \"linecolor\": \"white\", \"ticks\": \"\"}}, \"title\": {\"x\": 0.05}, \"xaxis\": {\"automargin\": true, \"gridcolor\": \"white\", \"linecolor\": \"white\", \"ticks\": \"\", \"title\": {\"standoff\": 15}, \"zerolinecolor\": \"white\", \"zerolinewidth\": 2}, \"yaxis\": {\"automargin\": true, \"gridcolor\": \"white\", \"linecolor\": \"white\", \"ticks\": \"\", \"title\": {\"standoff\": 15}, \"zerolinecolor\": \"white\", \"zerolinewidth\": 2}}}, \"title\": {\"font\": {\"color\": \"#4D5663\"}}, \"xaxis\": {\"gridcolor\": \"#E1E5ED\", \"showgrid\": true, \"tickfont\": {\"color\": \"#4D5663\"}, \"title\": {\"font\": {\"color\": \"#4D5663\"}, \"text\": \"\"}, \"zerolinecolor\": \"#E1E5ED\"}, \"yaxis\": {\"gridcolor\": \"#E1E5ED\", \"showgrid\": true, \"tickfont\": {\"color\": \"#4D5663\"}, \"title\": {\"font\": {\"color\": \"#4D5663\"}, \"text\": \"\"}, \"zerolinecolor\": \"#E1E5ED\"}},\n",
              "                        {\"showLink\": true, \"linkText\": \"Export to plot.ly\", \"plotlyServerURL\": \"https://plot.ly\", \"responsive\": true}\n",
              "                    ).then(function(){\n",
              "                            \n",
              "var gd = document.getElementById('81a2769f-ecc7-45ff-9b38-493b8e5a6470');\n",
              "var x = new MutationObserver(function (mutations, observer) {{\n",
              "        var display = window.getComputedStyle(gd).display;\n",
              "        if (!display || display === 'none') {{\n",
              "            console.log([gd, 'removed!']);\n",
              "            Plotly.purge(gd);\n",
              "            observer.disconnect();\n",
              "        }}\n",
              "}});\n",
              "\n",
              "// Listen for the removal of the full notebook cells\n",
              "var notebookContainer = gd.closest('#notebook-container');\n",
              "if (notebookContainer) {{\n",
              "    x.observe(notebookContainer, {childList: true});\n",
              "}}\n",
              "\n",
              "// Listen for the clearing of the current output cell\n",
              "var outputEl = gd.closest('.output');\n",
              "if (outputEl) {{\n",
              "    x.observe(outputEl, {childList: true});\n",
              "}}\n",
              "\n",
              "                        })\n",
              "                };\n",
              "                });\n",
              "            </script>\n",
              "        </div>"
            ],
            "application/vnd.plotly.v1+json": {
              "data": [
                {
                  "name": "B",
                  "text": "",
                  "y": [
                    -0.3185819437242191,
                    0.017143553003232212,
                    -1.161883283271516,
                    -0.6704437820758866,
                    -0.4752021049002068,
                    0.8818848095813414,
                    -1.6113668454298233,
                    -0.33827338930798506,
                    -1.22976132791649,
                    -1.1088957196694917,
                    -0.6591281589852449,
                    -0.9959336166710657,
                    0.9843663632768888,
                    -0.8954963504718098,
                    -0.9708364965136446,
                    -0.3456105679762152,
                    -0.5363379641406554,
                    -0.347986706152008,
                    -1.9772259945605442,
                    -1.3146882448697077,
                    1.382190391435313,
                    0.4345969579360139,
                    0.30113552461211096,
                    -0.8470311410792175,
                    0.3685426426850477,
                    0.5951448453513402,
                    0.17061591052139344,
                    0.17415532756605645,
                    0.2981196168572048,
                    0.4977249129616586,
                    0.33480901130394974,
                    0.1868880359802086,
                    -1.6650149993841277,
                    -0.6404910513353013,
                    -0.8824072467179087,
                    -0.553742729869468,
                    0.36036163241066343,
                    -2.275974570734227,
                    -1.5874012126450154,
                    1.3419821073368021,
                    -1.4171003468926828,
                    1.231652765552878,
                    -1.8453235220960005,
                    -0.7197969325839411,
                    1.3226340184457743,
                    0.20947818537722288,
                    0.29165688844925786,
                    0.5883754850166348,
                    0.3683509795965926,
                    -0.3339353731153345,
                    1.309887025504271,
                    0.31546723226620027,
                    1.3263631277316312,
                    -0.34567806682641433,
                    -0.19141808194686688,
                    -0.4713020694872677,
                    0.8852804183445554,
                    -0.8576319218947199,
                    -0.9145682759871094,
                    -1.4002022553453086,
                    -0.1835398022198471,
                    0.9597120405836465,
                    0.7459121859140037,
                    0.9582724578902626,
                    0.2515689421160934,
                    -0.38993360906100594,
                    -1.2295245875026266,
                    -0.6031951925607657,
                    -2.681150844317574,
                    0.08570599518645991,
                    -0.30239374308582356,
                    -0.17549857467971453,
                    -0.34269764974175787,
                    -0.6967515592890964,
                    -0.6517567157566919,
                    -0.7432742339004702,
                    0.9679312814459848,
                    -0.10389313558341703,
                    0.6858706396566807,
                    -0.3944155036832106,
                    0.301036982440157,
                    1.5086902264625675,
                    -0.7373137660036858,
                    -0.22448726844840527,
                    -0.22652852888373978,
                    -1.0077169954080438,
                    1.249022242931242,
                    -0.09106059301916564,
                    1.2227833371035044,
                    1.1059491261446488,
                    -0.8637469439487155,
                    2.124637526257138,
                    0.07570566559288731,
                    -0.652759552671152,
                    -0.35136007142557557,
                    -0.42327448382840327,
                    1.2267554224089194,
                    0.46971004043741227,
                    0.5654883626864355,
                    1.3099927206532345
                  ],
                  "mode": "markers",
                  "marker": {
                    "symbol": "circle",
                    "size": 10
                  },
                  "x": [
                    0.033388217440508905,
                    -0.6964117620033113,
                    -1.1582806081079497,
                    -0.2561921110075144,
                    -0.9396395616723018,
                    -1.8710775986328148,
                    1.1381065930965866,
                    0.2836313998887739,
                    0.8372825848844795,
                    0.5352062157485056,
                    -0.10570195697932709,
                    1.3932461971675265,
                    -1.0203377791552646,
                    1.4054722978405614,
                    1.2599083999065768,
                    -0.8173466696833639,
                    0.749141786818367,
                    0.32314069513049737,
                    0.7835951532562746,
                    -0.770714323484931,
                    1.3378126523628584,
                    -0.11036438568990392,
                    -1.2305529427537507,
                    0.11815301833078981,
                    0.11468249633092606,
                    -1.5570788214620102,
                    0.3298883731176722,
                    -0.1670048980170897,
                    -0.44610787272009117,
                    -1.040410419879342,
                    -2.134223059509332,
                    1.2055267598805925,
                    0.7833271951513457,
                    -0.30517818327250934,
                    -1.054797078733294,
                    1.0339469118287643,
                    0.031724802569528074,
                    0.46524479084304915,
                    0.2696133157308018,
                    -1.9022090457341743,
                    -0.672553302714725,
                    -1.4538759223619475,
                    -0.8952596564969528,
                    -1.6090791774457278,
                    -0.9556876902032667,
                    -1.2883809167343472,
                    -1.013453792978003,
                    -0.6001203860131052,
                    -0.42238651267056765,
                    -0.9170182467887845,
                    -0.18415000223704875,
                    0.18274248152898628,
                    1.142934386894334,
                    0.6890288189881617,
                    0.5124153344064991,
                    0.9954018120132386,
                    -0.27710289787528714,
                    0.5618092295029821,
                    -1.5853615513089843,
                    -0.0157622538163842,
                    0.0034350917010841247,
                    -1.1545937310589027,
                    -0.9052719576531694,
                    -0.6408810782085186,
                    -1.0539102470766974,
                    -1.6088884404905042,
                    1.4254864256297581,
                    -0.381852587029767,
                    0.49973553564455736,
                    0.12058127493662403,
                    0.10141909915549104,
                    -2.23702939333417,
                    1.1966390259865207,
                    -1.0238163568433811,
                    0.5306379570018278,
                    1.4703548194163234,
                    -0.3706618777461258,
                    -0.4550084839216992,
                    0.08172360222080535,
                    0.6328493435423694,
                    -1.1647795582446374,
                    1.2494878059546373,
                    1.0678653724911056,
                    0.37109684888001876,
                    -0.21332835621154117,
                    -0.36165792593448076,
                    -0.5427678072839484,
                    -0.4522924354445968,
                    0.7548666787430129,
                    -0.18127561554144686,
                    0.18500763008449855,
                    0.4227463117416283,
                    0.09356699424783808,
                    0.5616913468969047,
                    -0.8108851809052096,
                    -0.06592248187876751,
                    0.9053101300097707,
                    1.1852123122865834,
                    1.7821500045599021,
                    1.6772169106987314
                  ],
                  "line": {
                    "color": "rgba(255, 153, 51, 1.0)",
                    "dash": "solid",
                    "shape": "linear",
                    "width": 1.3
                  },
                  "type": "scatter"
                }
              ],
              "config": {
                "plotlyServerURL": "https://plot.ly",
                "linkText": "Export to plot.ly",
                "showLink": true
              },
              "layout": {
                "template": {
                  "layout": {
                    "shapedefaults": {
                      "line": {
                        "color": "#2a3f5f"
                      }
                    },
                    "polar": {
                      "radialaxis": {
                        "ticks": "",
                        "gridcolor": "white",
                        "linecolor": "white"
                      },
                      "bgcolor": "#E5ECF6",
                      "angularaxis": {
                        "ticks": "",
                        "gridcolor": "white",
                        "linecolor": "white"
                      }
                    },
                    "colorway": [
                      "#636efa",
                      "#EF553B",
                      "#00cc96",
                      "#ab63fa",
                      "#FFA15A",
                      "#19d3f3",
                      "#FF6692",
                      "#B6E880",
                      "#FF97FF",
                      "#FECB52"
                    ],
                    "xaxis": {
                      "automargin": true,
                      "title": {
                        "standoff": 15
                      },
                      "zerolinewidth": 2,
                      "ticks": "",
                      "zerolinecolor": "white",
                      "gridcolor": "white",
                      "linecolor": "white"
                    },
                    "colorscale": {
                      "diverging": [
                        [
                          0,
                          "#8e0152"
                        ],
                        [
                          0.1,
                          "#c51b7d"
                        ],
                        [
                          0.2,
                          "#de77ae"
                        ],
                        [
                          0.3,
                          "#f1b6da"
                        ],
                        [
                          0.4,
                          "#fde0ef"
                        ],
                        [
                          0.5,
                          "#f7f7f7"
                        ],
                        [
                          0.6,
                          "#e6f5d0"
                        ],
                        [
                          0.7,
                          "#b8e186"
                        ],
                        [
                          0.8,
                          "#7fbc41"
                        ],
                        [
                          0.9,
                          "#4d9221"
                        ],
                        [
                          1,
                          "#276419"
                        ]
                      ],
                      "sequential": [
                        [
                          0,
                          "#0d0887"
                        ],
                        [
                          0.1111111111111111,
                          "#46039f"
                        ],
                        [
                          0.2222222222222222,
                          "#7201a8"
                        ],
                        [
                          0.3333333333333333,
                          "#9c179e"
                        ],
                        [
                          0.4444444444444444,
                          "#bd3786"
                        ],
                        [
                          0.5555555555555556,
                          "#d8576b"
                        ],
                        [
                          0.6666666666666666,
                          "#ed7953"
                        ],
                        [
                          0.7777777777777778,
                          "#fb9f3a"
                        ],
                        [
                          0.8888888888888888,
                          "#fdca26"
                        ],
                        [
                          1,
                          "#f0f921"
                        ]
                      ],
                      "sequentialminus": [
                        [
                          0,
                          "#0d0887"
                        ],
                        [
                          0.1111111111111111,
                          "#46039f"
                        ],
                        [
                          0.2222222222222222,
                          "#7201a8"
                        ],
                        [
                          0.3333333333333333,
                          "#9c179e"
                        ],
                        [
                          0.4444444444444444,
                          "#bd3786"
                        ],
                        [
                          0.5555555555555556,
                          "#d8576b"
                        ],
                        [
                          0.6666666666666666,
                          "#ed7953"
                        ],
                        [
                          0.7777777777777778,
                          "#fb9f3a"
                        ],
                        [
                          0.8888888888888888,
                          "#fdca26"
                        ],
                        [
                          1,
                          "#f0f921"
                        ]
                      ]
                    },
                    "paper_bgcolor": "white",
                    "plot_bgcolor": "#E5ECF6",
                    "title": {
                      "x": 0.05
                    },
                    "scene": {
                      "zaxis": {
                        "backgroundcolor": "#E5ECF6",
                        "ticks": "",
                        "gridwidth": 2,
                        "showbackground": true,
                        "zerolinecolor": "white",
                        "gridcolor": "white",
                        "linecolor": "white"
                      },
                      "xaxis": {
                        "backgroundcolor": "#E5ECF6",
                        "ticks": "",
                        "gridwidth": 2,
                        "showbackground": true,
                        "zerolinecolor": "white",
                        "gridcolor": "white",
                        "linecolor": "white"
                      },
                      "yaxis": {
                        "backgroundcolor": "#E5ECF6",
                        "ticks": "",
                        "gridwidth": 2,
                        "showbackground": true,
                        "zerolinecolor": "white",
                        "gridcolor": "white",
                        "linecolor": "white"
                      }
                    },
                    "yaxis": {
                      "automargin": true,
                      "title": {
                        "standoff": 15
                      },
                      "zerolinewidth": 2,
                      "ticks": "",
                      "zerolinecolor": "white",
                      "gridcolor": "white",
                      "linecolor": "white"
                    },
                    "annotationdefaults": {
                      "arrowwidth": 1,
                      "arrowhead": 0,
                      "arrowcolor": "#2a3f5f"
                    },
                    "hoverlabel": {
                      "align": "left"
                    },
                    "ternary": {
                      "bgcolor": "#E5ECF6",
                      "baxis": {
                        "ticks": "",
                        "gridcolor": "white",
                        "linecolor": "white"
                      },
                      "caxis": {
                        "ticks": "",
                        "gridcolor": "white",
                        "linecolor": "white"
                      },
                      "aaxis": {
                        "ticks": "",
                        "gridcolor": "white",
                        "linecolor": "white"
                      }
                    },
                    "mapbox": {
                      "style": "light"
                    },
                    "hovermode": "closest",
                    "font": {
                      "color": "#2a3f5f"
                    },
                    "geo": {
                      "showland": true,
                      "landcolor": "#E5ECF6",
                      "showlakes": true,
                      "bgcolor": "white",
                      "subunitcolor": "white",
                      "lakecolor": "white"
                    },
                    "coloraxis": {
                      "colorbar": {
                        "outlinewidth": 0,
                        "ticks": ""
                      }
                    }
                  },
                  "data": {
                    "mesh3d": [
                      {
                        "colorbar": {
                          "outlinewidth": 0,
                          "ticks": ""
                        },
                        "type": "mesh3d"
                      }
                    ],
                    "scattercarpet": [
                      {
                        "marker": {
                          "colorbar": {
                            "outlinewidth": 0,
                            "ticks": ""
                          }
                        },
                        "type": "scattercarpet"
                      }
                    ],
                    "pie": [
                      {
                        "automargin": true,
                        "type": "pie"
                      }
                    ],
                    "surface": [
                      {
                        "colorbar": {
                          "outlinewidth": 0,
                          "ticks": ""
                        },
                        "type": "surface",
                        "colorscale": [
                          [
                            0,
                            "#0d0887"
                          ],
                          [
                            0.1111111111111111,
                            "#46039f"
                          ],
                          [
                            0.2222222222222222,
                            "#7201a8"
                          ],
                          [
                            0.3333333333333333,
                            "#9c179e"
                          ],
                          [
                            0.4444444444444444,
                            "#bd3786"
                          ],
                          [
                            0.5555555555555556,
                            "#d8576b"
                          ],
                          [
                            0.6666666666666666,
                            "#ed7953"
                          ],
                          [
                            0.7777777777777778,
                            "#fb9f3a"
                          ],
                          [
                            0.8888888888888888,
                            "#fdca26"
                          ],
                          [
                            1,
                            "#f0f921"
                          ]
                        ]
                      }
                    ],
                    "table": [
                      {
                        "header": {
                          "line": {
                            "color": "white"
                          },
                          "fill": {
                            "color": "#C8D4E3"
                          }
                        },
                        "cells": {
                          "line": {
                            "color": "white"
                          },
                          "fill": {
                            "color": "#EBF0F8"
                          }
                        },
                        "type": "table"
                      }
                    ],
                    "scatterpolargl": [
                      {
                        "marker": {
                          "colorbar": {
                            "outlinewidth": 0,
                            "ticks": ""
                          }
                        },
                        "type": "scatterpolargl"
                      }
                    ],
                    "contour": [
                      {
                        "colorbar": {
                          "outlinewidth": 0,
                          "ticks": ""
                        },
                        "type": "contour",
                        "colorscale": [
                          [
                            0,
                            "#0d0887"
                          ],
                          [
                            0.1111111111111111,
                            "#46039f"
                          ],
                          [
                            0.2222222222222222,
                            "#7201a8"
                          ],
                          [
                            0.3333333333333333,
                            "#9c179e"
                          ],
                          [
                            0.4444444444444444,
                            "#bd3786"
                          ],
                          [
                            0.5555555555555556,
                            "#d8576b"
                          ],
                          [
                            0.6666666666666666,
                            "#ed7953"
                          ],
                          [
                            0.7777777777777778,
                            "#fb9f3a"
                          ],
                          [
                            0.8888888888888888,
                            "#fdca26"
                          ],
                          [
                            1,
                            "#f0f921"
                          ]
                        ]
                      }
                    ],
                    "carpet": [
                      {
                        "type": "carpet",
                        "baxis": {
                          "minorgridcolor": "white",
                          "gridcolor": "white",
                          "linecolor": "white",
                          "endlinecolor": "#2a3f5f",
                          "startlinecolor": "#2a3f5f"
                        },
                        "aaxis": {
                          "minorgridcolor": "white",
                          "gridcolor": "white",
                          "linecolor": "white",
                          "endlinecolor": "#2a3f5f",
                          "startlinecolor": "#2a3f5f"
                        }
                      }
                    ],
                    "contourcarpet": [
                      {
                        "colorbar": {
                          "outlinewidth": 0,
                          "ticks": ""
                        },
                        "type": "contourcarpet"
                      }
                    ],
                    "heatmap": [
                      {
                        "colorbar": {
                          "outlinewidth": 0,
                          "ticks": ""
                        },
                        "type": "heatmap",
                        "colorscale": [
                          [
                            0,
                            "#0d0887"
                          ],
                          [
                            0.1111111111111111,
                            "#46039f"
                          ],
                          [
                            0.2222222222222222,
                            "#7201a8"
                          ],
                          [
                            0.3333333333333333,
                            "#9c179e"
                          ],
                          [
                            0.4444444444444444,
                            "#bd3786"
                          ],
                          [
                            0.5555555555555556,
                            "#d8576b"
                          ],
                          [
                            0.6666666666666666,
                            "#ed7953"
                          ],
                          [
                            0.7777777777777778,
                            "#fb9f3a"
                          ],
                          [
                            0.8888888888888888,
                            "#fdca26"
                          ],
                          [
                            1,
                            "#f0f921"
                          ]
                        ]
                      }
                    ],
                    "scattermapbox": [
                      {
                        "marker": {
                          "colorbar": {
                            "outlinewidth": 0,
                            "ticks": ""
                          }
                        },
                        "type": "scattermapbox"
                      }
                    ],
                    "scatter3d": [
                      {
                        "marker": {
                          "colorbar": {
                            "outlinewidth": 0,
                            "ticks": ""
                          }
                        },
                        "line": {
                          "colorbar": {
                            "outlinewidth": 0,
                            "ticks": ""
                          }
                        },
                        "type": "scatter3d"
                      }
                    ],
                    "scattergl": [
                      {
                        "marker": {
                          "colorbar": {
                            "outlinewidth": 0,
                            "ticks": ""
                          }
                        },
                        "type": "scattergl"
                      }
                    ],
                    "scatterternary": [
                      {
                        "marker": {
                          "colorbar": {
                            "outlinewidth": 0,
                            "ticks": ""
                          }
                        },
                        "type": "scatterternary"
                      }
                    ],
                    "histogram": [
                      {
                        "marker": {
                          "colorbar": {
                            "outlinewidth": 0,
                            "ticks": ""
                          }
                        },
                        "type": "histogram"
                      }
                    ],
                    "heatmapgl": [
                      {
                        "colorbar": {
                          "outlinewidth": 0,
                          "ticks": ""
                        },
                        "type": "heatmapgl",
                        "colorscale": [
                          [
                            0,
                            "#0d0887"
                          ],
                          [
                            0.1111111111111111,
                            "#46039f"
                          ],
                          [
                            0.2222222222222222,
                            "#7201a8"
                          ],
                          [
                            0.3333333333333333,
                            "#9c179e"
                          ],
                          [
                            0.4444444444444444,
                            "#bd3786"
                          ],
                          [
                            0.5555555555555556,
                            "#d8576b"
                          ],
                          [
                            0.6666666666666666,
                            "#ed7953"
                          ],
                          [
                            0.7777777777777778,
                            "#fb9f3a"
                          ],
                          [
                            0.8888888888888888,
                            "#fdca26"
                          ],
                          [
                            1,
                            "#f0f921"
                          ]
                        ]
                      }
                    ],
                    "scatterpolar": [
                      {
                        "marker": {
                          "colorbar": {
                            "outlinewidth": 0,
                            "ticks": ""
                          }
                        },
                        "type": "scatterpolar"
                      }
                    ],
                    "histogram2d": [
                      {
                        "colorbar": {
                          "outlinewidth": 0,
                          "ticks": ""
                        },
                        "type": "histogram2d",
                        "colorscale": [
                          [
                            0,
                            "#0d0887"
                          ],
                          [
                            0.1111111111111111,
                            "#46039f"
                          ],
                          [
                            0.2222222222222222,
                            "#7201a8"
                          ],
                          [
                            0.3333333333333333,
                            "#9c179e"
                          ],
                          [
                            0.4444444444444444,
                            "#bd3786"
                          ],
                          [
                            0.5555555555555556,
                            "#d8576b"
                          ],
                          [
                            0.6666666666666666,
                            "#ed7953"
                          ],
                          [
                            0.7777777777777778,
                            "#fb9f3a"
                          ],
                          [
                            0.8888888888888888,
                            "#fdca26"
                          ],
                          [
                            1,
                            "#f0f921"
                          ]
                        ]
                      }
                    ],
                    "scattergeo": [
                      {
                        "marker": {
                          "colorbar": {
                            "outlinewidth": 0,
                            "ticks": ""
                          }
                        },
                        "type": "scattergeo"
                      }
                    ],
                    "bar": [
                      {
                        "marker": {
                          "line": {
                            "color": "#E5ECF6",
                            "width": 0.5
                          }
                        },
                        "type": "bar",
                        "error_x": {
                          "color": "#2a3f5f"
                        },
                        "error_y": {
                          "color": "#2a3f5f"
                        }
                      }
                    ],
                    "choropleth": [
                      {
                        "colorbar": {
                          "outlinewidth": 0,
                          "ticks": ""
                        },
                        "type": "choropleth"
                      }
                    ],
                    "parcoords": [
                      {
                        "line": {
                          "colorbar": {
                            "outlinewidth": 0,
                            "ticks": ""
                          }
                        },
                        "type": "parcoords"
                      }
                    ],
                    "barpolar": [
                      {
                        "marker": {
                          "line": {
                            "color": "#E5ECF6",
                            "width": 0.5
                          }
                        },
                        "type": "barpolar"
                      }
                    ],
                    "histogram2dcontour": [
                      {
                        "colorbar": {
                          "outlinewidth": 0,
                          "ticks": ""
                        },
                        "type": "histogram2dcontour",
                        "colorscale": [
                          [
                            0,
                            "#0d0887"
                          ],
                          [
                            0.1111111111111111,
                            "#46039f"
                          ],
                          [
                            0.2222222222222222,
                            "#7201a8"
                          ],
                          [
                            0.3333333333333333,
                            "#9c179e"
                          ],
                          [
                            0.4444444444444444,
                            "#bd3786"
                          ],
                          [
                            0.5555555555555556,
                            "#d8576b"
                          ],
                          [
                            0.6666666666666666,
                            "#ed7953"
                          ],
                          [
                            0.7777777777777778,
                            "#fb9f3a"
                          ],
                          [
                            0.8888888888888888,
                            "#fdca26"
                          ],
                          [
                            1,
                            "#f0f921"
                          ]
                        ]
                      }
                    ],
                    "scatter": [
                      {
                        "marker": {
                          "colorbar": {
                            "outlinewidth": 0,
                            "ticks": ""
                          }
                        },
                        "type": "scatter"
                      }
                    ]
                  }
                },
                "title": {
                  "font": {
                    "color": "#4D5663"
                  }
                },
                "paper_bgcolor": "#F5F6F9",
                "plot_bgcolor": "#F5F6F9",
                "yaxis": {
                  "tickfont": {
                    "color": "#4D5663"
                  },
                  "zerolinecolor": "#E1E5ED",
                  "title": {
                    "text": "",
                    "font": {
                      "color": "#4D5663"
                    }
                  },
                  "gridcolor": "#E1E5ED",
                  "showgrid": true
                },
                "xaxis": {
                  "tickfont": {
                    "color": "#4D5663"
                  },
                  "zerolinecolor": "#E1E5ED",
                  "title": {
                    "text": "",
                    "font": {
                      "color": "#4D5663"
                    }
                  },
                  "gridcolor": "#E1E5ED",
                  "showgrid": true
                },
                "legend": {
                  "bgcolor": "#F5F6F9",
                  "font": {
                    "color": "#4D5663"
                  }
                }
              }
            }
          },
          "metadata": {
            "tags": []
          }
        }
      ]
    },
    {
      "cell_type": "markdown",
      "metadata": {
        "id": "q-ELAWYwYZk5",
        "colab_type": "text"
      },
      "source": [
        "## Bar Plots"
      ]
    },
    {
      "cell_type": "code",
      "metadata": {
        "id": "BbSn9CwCYZk6",
        "colab_type": "code",
        "colab": {
          "base_uri": "https://localhost:8080/",
          "height": 542
        },
        "outputId": "26acc887-6c05-4e57-aa01-e3704b5976fe"
      },
      "source": [
        "df2.iplot(kind='bar',x='Category',y='Values')"
      ],
      "execution_count": 13,
      "outputs": [
        {
          "output_type": "display_data",
          "data": {
            "text/html": [
              "<div>\n",
              "        \n",
              "        \n",
              "            <div id=\"3e4fa225-2b17-4092-86a5-48db2e4d2862\" class=\"plotly-graph-div\" style=\"height:525px; width:100%;\"></div>\n",
              "            <script type=\"text/javascript\">\n",
              "                require([\"plotly\"], function(Plotly) {\n",
              "                    window.PLOTLYENV=window.PLOTLYENV || {};\n",
              "                    window.PLOTLYENV.BASE_URL='https://plot.ly';\n",
              "                    \n",
              "                if (document.getElementById(\"3e4fa225-2b17-4092-86a5-48db2e4d2862\")) {\n",
              "                    Plotly.newPlot(\n",
              "                        '3e4fa225-2b17-4092-86a5-48db2e4d2862',\n",
              "                        [{\"marker\": {\"color\": \"rgba(255, 153, 51, 0.6)\", \"line\": {\"color\": \"rgba(255, 153, 51, 1.0)\", \"width\": 1}}, \"name\": \"Values\", \"orientation\": \"v\", \"text\": \"\", \"type\": \"bar\", \"x\": [\"A\", \"B\", \"C\"], \"y\": [32, 43, 50]}],\n",
              "                        {\"legend\": {\"bgcolor\": \"#F5F6F9\", \"font\": {\"color\": \"#4D5663\"}}, \"paper_bgcolor\": \"#F5F6F9\", \"plot_bgcolor\": \"#F5F6F9\", \"template\": {\"data\": {\"bar\": [{\"error_x\": {\"color\": \"#2a3f5f\"}, \"error_y\": {\"color\": \"#2a3f5f\"}, \"marker\": {\"line\": {\"color\": \"#E5ECF6\", \"width\": 0.5}}, \"type\": \"bar\"}], \"barpolar\": [{\"marker\": {\"line\": {\"color\": \"#E5ECF6\", \"width\": 0.5}}, \"type\": \"barpolar\"}], \"carpet\": [{\"aaxis\": {\"endlinecolor\": \"#2a3f5f\", \"gridcolor\": \"white\", \"linecolor\": \"white\", \"minorgridcolor\": \"white\", \"startlinecolor\": \"#2a3f5f\"}, \"baxis\": {\"endlinecolor\": \"#2a3f5f\", \"gridcolor\": \"white\", \"linecolor\": \"white\", \"minorgridcolor\": \"white\", \"startlinecolor\": \"#2a3f5f\"}, \"type\": \"carpet\"}], \"choropleth\": [{\"colorbar\": {\"outlinewidth\": 0, \"ticks\": \"\"}, \"type\": \"choropleth\"}], \"contour\": [{\"colorbar\": {\"outlinewidth\": 0, \"ticks\": \"\"}, \"colorscale\": [[0.0, \"#0d0887\"], [0.1111111111111111, \"#46039f\"], [0.2222222222222222, \"#7201a8\"], [0.3333333333333333, \"#9c179e\"], [0.4444444444444444, \"#bd3786\"], [0.5555555555555556, \"#d8576b\"], [0.6666666666666666, \"#ed7953\"], [0.7777777777777778, \"#fb9f3a\"], [0.8888888888888888, \"#fdca26\"], [1.0, \"#f0f921\"]], \"type\": \"contour\"}], \"contourcarpet\": [{\"colorbar\": {\"outlinewidth\": 0, \"ticks\": \"\"}, \"type\": \"contourcarpet\"}], \"heatmap\": [{\"colorbar\": {\"outlinewidth\": 0, \"ticks\": \"\"}, \"colorscale\": [[0.0, \"#0d0887\"], [0.1111111111111111, \"#46039f\"], [0.2222222222222222, \"#7201a8\"], [0.3333333333333333, \"#9c179e\"], [0.4444444444444444, \"#bd3786\"], [0.5555555555555556, \"#d8576b\"], [0.6666666666666666, \"#ed7953\"], [0.7777777777777778, \"#fb9f3a\"], [0.8888888888888888, \"#fdca26\"], [1.0, \"#f0f921\"]], \"type\": \"heatmap\"}], \"heatmapgl\": [{\"colorbar\": {\"outlinewidth\": 0, \"ticks\": \"\"}, \"colorscale\": [[0.0, \"#0d0887\"], [0.1111111111111111, \"#46039f\"], [0.2222222222222222, \"#7201a8\"], [0.3333333333333333, \"#9c179e\"], [0.4444444444444444, \"#bd3786\"], [0.5555555555555556, \"#d8576b\"], [0.6666666666666666, \"#ed7953\"], [0.7777777777777778, \"#fb9f3a\"], [0.8888888888888888, \"#fdca26\"], [1.0, \"#f0f921\"]], \"type\": \"heatmapgl\"}], \"histogram\": [{\"marker\": {\"colorbar\": {\"outlinewidth\": 0, \"ticks\": \"\"}}, \"type\": \"histogram\"}], \"histogram2d\": [{\"colorbar\": {\"outlinewidth\": 0, \"ticks\": \"\"}, \"colorscale\": [[0.0, \"#0d0887\"], [0.1111111111111111, \"#46039f\"], [0.2222222222222222, \"#7201a8\"], [0.3333333333333333, \"#9c179e\"], [0.4444444444444444, \"#bd3786\"], [0.5555555555555556, \"#d8576b\"], [0.6666666666666666, \"#ed7953\"], [0.7777777777777778, \"#fb9f3a\"], [0.8888888888888888, \"#fdca26\"], [1.0, \"#f0f921\"]], \"type\": \"histogram2d\"}], \"histogram2dcontour\": [{\"colorbar\": {\"outlinewidth\": 0, \"ticks\": \"\"}, \"colorscale\": [[0.0, \"#0d0887\"], [0.1111111111111111, \"#46039f\"], [0.2222222222222222, \"#7201a8\"], [0.3333333333333333, \"#9c179e\"], [0.4444444444444444, \"#bd3786\"], [0.5555555555555556, \"#d8576b\"], [0.6666666666666666, \"#ed7953\"], [0.7777777777777778, \"#fb9f3a\"], [0.8888888888888888, \"#fdca26\"], [1.0, \"#f0f921\"]], \"type\": \"histogram2dcontour\"}], \"mesh3d\": [{\"colorbar\": {\"outlinewidth\": 0, \"ticks\": \"\"}, \"type\": \"mesh3d\"}], \"parcoords\": [{\"line\": {\"colorbar\": {\"outlinewidth\": 0, \"ticks\": \"\"}}, \"type\": \"parcoords\"}], \"pie\": [{\"automargin\": true, \"type\": \"pie\"}], \"scatter\": [{\"marker\": {\"colorbar\": {\"outlinewidth\": 0, \"ticks\": \"\"}}, \"type\": \"scatter\"}], \"scatter3d\": [{\"line\": {\"colorbar\": {\"outlinewidth\": 0, \"ticks\": \"\"}}, \"marker\": {\"colorbar\": {\"outlinewidth\": 0, \"ticks\": \"\"}}, \"type\": \"scatter3d\"}], \"scattercarpet\": [{\"marker\": {\"colorbar\": {\"outlinewidth\": 0, \"ticks\": \"\"}}, \"type\": \"scattercarpet\"}], \"scattergeo\": [{\"marker\": {\"colorbar\": {\"outlinewidth\": 0, \"ticks\": \"\"}}, \"type\": \"scattergeo\"}], \"scattergl\": [{\"marker\": {\"colorbar\": {\"outlinewidth\": 0, \"ticks\": \"\"}}, \"type\": \"scattergl\"}], \"scattermapbox\": [{\"marker\": {\"colorbar\": {\"outlinewidth\": 0, \"ticks\": \"\"}}, \"type\": \"scattermapbox\"}], \"scatterpolar\": [{\"marker\": {\"colorbar\": {\"outlinewidth\": 0, \"ticks\": \"\"}}, \"type\": \"scatterpolar\"}], \"scatterpolargl\": [{\"marker\": {\"colorbar\": {\"outlinewidth\": 0, \"ticks\": \"\"}}, \"type\": \"scatterpolargl\"}], \"scatterternary\": [{\"marker\": {\"colorbar\": {\"outlinewidth\": 0, \"ticks\": \"\"}}, \"type\": \"scatterternary\"}], \"surface\": [{\"colorbar\": {\"outlinewidth\": 0, \"ticks\": \"\"}, \"colorscale\": [[0.0, \"#0d0887\"], [0.1111111111111111, \"#46039f\"], [0.2222222222222222, \"#7201a8\"], [0.3333333333333333, \"#9c179e\"], [0.4444444444444444, \"#bd3786\"], [0.5555555555555556, \"#d8576b\"], [0.6666666666666666, \"#ed7953\"], [0.7777777777777778, \"#fb9f3a\"], [0.8888888888888888, \"#fdca26\"], [1.0, \"#f0f921\"]], \"type\": \"surface\"}], \"table\": [{\"cells\": {\"fill\": {\"color\": \"#EBF0F8\"}, \"line\": {\"color\": \"white\"}}, \"header\": {\"fill\": {\"color\": \"#C8D4E3\"}, \"line\": {\"color\": \"white\"}}, \"type\": \"table\"}]}, \"layout\": {\"annotationdefaults\": {\"arrowcolor\": \"#2a3f5f\", \"arrowhead\": 0, \"arrowwidth\": 1}, \"coloraxis\": {\"colorbar\": {\"outlinewidth\": 0, \"ticks\": \"\"}}, \"colorscale\": {\"diverging\": [[0, \"#8e0152\"], [0.1, \"#c51b7d\"], [0.2, \"#de77ae\"], [0.3, \"#f1b6da\"], [0.4, \"#fde0ef\"], [0.5, \"#f7f7f7\"], [0.6, \"#e6f5d0\"], [0.7, \"#b8e186\"], [0.8, \"#7fbc41\"], [0.9, \"#4d9221\"], [1, \"#276419\"]], \"sequential\": [[0.0, \"#0d0887\"], [0.1111111111111111, \"#46039f\"], [0.2222222222222222, \"#7201a8\"], [0.3333333333333333, \"#9c179e\"], [0.4444444444444444, \"#bd3786\"], [0.5555555555555556, \"#d8576b\"], [0.6666666666666666, \"#ed7953\"], [0.7777777777777778, \"#fb9f3a\"], [0.8888888888888888, \"#fdca26\"], [1.0, \"#f0f921\"]], \"sequentialminus\": [[0.0, \"#0d0887\"], [0.1111111111111111, \"#46039f\"], [0.2222222222222222, \"#7201a8\"], [0.3333333333333333, \"#9c179e\"], [0.4444444444444444, \"#bd3786\"], [0.5555555555555556, \"#d8576b\"], [0.6666666666666666, \"#ed7953\"], [0.7777777777777778, \"#fb9f3a\"], [0.8888888888888888, \"#fdca26\"], [1.0, \"#f0f921\"]]}, \"colorway\": [\"#636efa\", \"#EF553B\", \"#00cc96\", \"#ab63fa\", \"#FFA15A\", \"#19d3f3\", \"#FF6692\", \"#B6E880\", \"#FF97FF\", \"#FECB52\"], \"font\": {\"color\": \"#2a3f5f\"}, \"geo\": {\"bgcolor\": \"white\", \"lakecolor\": \"white\", \"landcolor\": \"#E5ECF6\", \"showlakes\": true, \"showland\": true, \"subunitcolor\": \"white\"}, \"hoverlabel\": {\"align\": \"left\"}, \"hovermode\": \"closest\", \"mapbox\": {\"style\": \"light\"}, \"paper_bgcolor\": \"white\", \"plot_bgcolor\": \"#E5ECF6\", \"polar\": {\"angularaxis\": {\"gridcolor\": \"white\", \"linecolor\": \"white\", \"ticks\": \"\"}, \"bgcolor\": \"#E5ECF6\", \"radialaxis\": {\"gridcolor\": \"white\", \"linecolor\": \"white\", \"ticks\": \"\"}}, \"scene\": {\"xaxis\": {\"backgroundcolor\": \"#E5ECF6\", \"gridcolor\": \"white\", \"gridwidth\": 2, \"linecolor\": \"white\", \"showbackground\": true, \"ticks\": \"\", \"zerolinecolor\": \"white\"}, \"yaxis\": {\"backgroundcolor\": \"#E5ECF6\", \"gridcolor\": \"white\", \"gridwidth\": 2, \"linecolor\": \"white\", \"showbackground\": true, \"ticks\": \"\", \"zerolinecolor\": \"white\"}, \"zaxis\": {\"backgroundcolor\": \"#E5ECF6\", \"gridcolor\": \"white\", \"gridwidth\": 2, \"linecolor\": \"white\", \"showbackground\": true, \"ticks\": \"\", \"zerolinecolor\": \"white\"}}, \"shapedefaults\": {\"line\": {\"color\": \"#2a3f5f\"}}, \"ternary\": {\"aaxis\": {\"gridcolor\": \"white\", \"linecolor\": \"white\", \"ticks\": \"\"}, \"baxis\": {\"gridcolor\": \"white\", \"linecolor\": \"white\", \"ticks\": \"\"}, \"bgcolor\": \"#E5ECF6\", \"caxis\": {\"gridcolor\": \"white\", \"linecolor\": \"white\", \"ticks\": \"\"}}, \"title\": {\"x\": 0.05}, \"xaxis\": {\"automargin\": true, \"gridcolor\": \"white\", \"linecolor\": \"white\", \"ticks\": \"\", \"title\": {\"standoff\": 15}, \"zerolinecolor\": \"white\", \"zerolinewidth\": 2}, \"yaxis\": {\"automargin\": true, \"gridcolor\": \"white\", \"linecolor\": \"white\", \"ticks\": \"\", \"title\": {\"standoff\": 15}, \"zerolinecolor\": \"white\", \"zerolinewidth\": 2}}}, \"title\": {\"font\": {\"color\": \"#4D5663\"}}, \"xaxis\": {\"gridcolor\": \"#E1E5ED\", \"showgrid\": true, \"tickfont\": {\"color\": \"#4D5663\"}, \"title\": {\"font\": {\"color\": \"#4D5663\"}, \"text\": \"\"}, \"zerolinecolor\": \"#E1E5ED\"}, \"yaxis\": {\"gridcolor\": \"#E1E5ED\", \"showgrid\": true, \"tickfont\": {\"color\": \"#4D5663\"}, \"title\": {\"font\": {\"color\": \"#4D5663\"}, \"text\": \"\"}, \"zerolinecolor\": \"#E1E5ED\"}},\n",
              "                        {\"showLink\": true, \"linkText\": \"Export to plot.ly\", \"plotlyServerURL\": \"https://plot.ly\", \"responsive\": true}\n",
              "                    ).then(function(){\n",
              "                            \n",
              "var gd = document.getElementById('3e4fa225-2b17-4092-86a5-48db2e4d2862');\n",
              "var x = new MutationObserver(function (mutations, observer) {{\n",
              "        var display = window.getComputedStyle(gd).display;\n",
              "        if (!display || display === 'none') {{\n",
              "            console.log([gd, 'removed!']);\n",
              "            Plotly.purge(gd);\n",
              "            observer.disconnect();\n",
              "        }}\n",
              "}});\n",
              "\n",
              "// Listen for the removal of the full notebook cells\n",
              "var notebookContainer = gd.closest('#notebook-container');\n",
              "if (notebookContainer) {{\n",
              "    x.observe(notebookContainer, {childList: true});\n",
              "}}\n",
              "\n",
              "// Listen for the clearing of the current output cell\n",
              "var outputEl = gd.closest('.output');\n",
              "if (outputEl) {{\n",
              "    x.observe(outputEl, {childList: true});\n",
              "}}\n",
              "\n",
              "                        })\n",
              "                };\n",
              "                });\n",
              "            </script>\n",
              "        </div>"
            ],
            "application/vnd.plotly.v1+json": {
              "data": [
                {
                  "name": "Values",
                  "text": "",
                  "y": [
                    32,
                    43,
                    50
                  ],
                  "marker": {
                    "color": "rgba(255, 153, 51, 0.6)",
                    "line": {
                      "color": "rgba(255, 153, 51, 1.0)",
                      "width": 1
                    }
                  },
                  "x": [
                    "A",
                    "B",
                    "C"
                  ],
                  "type": "bar",
                  "orientation": "v"
                }
              ],
              "config": {
                "plotlyServerURL": "https://plot.ly",
                "linkText": "Export to plot.ly",
                "showLink": true
              },
              "layout": {
                "template": {
                  "layout": {
                    "shapedefaults": {
                      "line": {
                        "color": "#2a3f5f"
                      }
                    },
                    "polar": {
                      "radialaxis": {
                        "ticks": "",
                        "gridcolor": "white",
                        "linecolor": "white"
                      },
                      "bgcolor": "#E5ECF6",
                      "angularaxis": {
                        "ticks": "",
                        "gridcolor": "white",
                        "linecolor": "white"
                      }
                    },
                    "colorway": [
                      "#636efa",
                      "#EF553B",
                      "#00cc96",
                      "#ab63fa",
                      "#FFA15A",
                      "#19d3f3",
                      "#FF6692",
                      "#B6E880",
                      "#FF97FF",
                      "#FECB52"
                    ],
                    "xaxis": {
                      "automargin": true,
                      "title": {
                        "standoff": 15
                      },
                      "zerolinewidth": 2,
                      "ticks": "",
                      "zerolinecolor": "white",
                      "gridcolor": "white",
                      "linecolor": "white"
                    },
                    "colorscale": {
                      "diverging": [
                        [
                          0,
                          "#8e0152"
                        ],
                        [
                          0.1,
                          "#c51b7d"
                        ],
                        [
                          0.2,
                          "#de77ae"
                        ],
                        [
                          0.3,
                          "#f1b6da"
                        ],
                        [
                          0.4,
                          "#fde0ef"
                        ],
                        [
                          0.5,
                          "#f7f7f7"
                        ],
                        [
                          0.6,
                          "#e6f5d0"
                        ],
                        [
                          0.7,
                          "#b8e186"
                        ],
                        [
                          0.8,
                          "#7fbc41"
                        ],
                        [
                          0.9,
                          "#4d9221"
                        ],
                        [
                          1,
                          "#276419"
                        ]
                      ],
                      "sequential": [
                        [
                          0,
                          "#0d0887"
                        ],
                        [
                          0.1111111111111111,
                          "#46039f"
                        ],
                        [
                          0.2222222222222222,
                          "#7201a8"
                        ],
                        [
                          0.3333333333333333,
                          "#9c179e"
                        ],
                        [
                          0.4444444444444444,
                          "#bd3786"
                        ],
                        [
                          0.5555555555555556,
                          "#d8576b"
                        ],
                        [
                          0.6666666666666666,
                          "#ed7953"
                        ],
                        [
                          0.7777777777777778,
                          "#fb9f3a"
                        ],
                        [
                          0.8888888888888888,
                          "#fdca26"
                        ],
                        [
                          1,
                          "#f0f921"
                        ]
                      ],
                      "sequentialminus": [
                        [
                          0,
                          "#0d0887"
                        ],
                        [
                          0.1111111111111111,
                          "#46039f"
                        ],
                        [
                          0.2222222222222222,
                          "#7201a8"
                        ],
                        [
                          0.3333333333333333,
                          "#9c179e"
                        ],
                        [
                          0.4444444444444444,
                          "#bd3786"
                        ],
                        [
                          0.5555555555555556,
                          "#d8576b"
                        ],
                        [
                          0.6666666666666666,
                          "#ed7953"
                        ],
                        [
                          0.7777777777777778,
                          "#fb9f3a"
                        ],
                        [
                          0.8888888888888888,
                          "#fdca26"
                        ],
                        [
                          1,
                          "#f0f921"
                        ]
                      ]
                    },
                    "paper_bgcolor": "white",
                    "plot_bgcolor": "#E5ECF6",
                    "title": {
                      "x": 0.05
                    },
                    "scene": {
                      "zaxis": {
                        "backgroundcolor": "#E5ECF6",
                        "ticks": "",
                        "gridwidth": 2,
                        "showbackground": true,
                        "zerolinecolor": "white",
                        "gridcolor": "white",
                        "linecolor": "white"
                      },
                      "xaxis": {
                        "backgroundcolor": "#E5ECF6",
                        "ticks": "",
                        "gridwidth": 2,
                        "showbackground": true,
                        "zerolinecolor": "white",
                        "gridcolor": "white",
                        "linecolor": "white"
                      },
                      "yaxis": {
                        "backgroundcolor": "#E5ECF6",
                        "ticks": "",
                        "gridwidth": 2,
                        "showbackground": true,
                        "zerolinecolor": "white",
                        "gridcolor": "white",
                        "linecolor": "white"
                      }
                    },
                    "yaxis": {
                      "automargin": true,
                      "title": {
                        "standoff": 15
                      },
                      "zerolinewidth": 2,
                      "ticks": "",
                      "zerolinecolor": "white",
                      "gridcolor": "white",
                      "linecolor": "white"
                    },
                    "annotationdefaults": {
                      "arrowwidth": 1,
                      "arrowhead": 0,
                      "arrowcolor": "#2a3f5f"
                    },
                    "hoverlabel": {
                      "align": "left"
                    },
                    "ternary": {
                      "bgcolor": "#E5ECF6",
                      "baxis": {
                        "ticks": "",
                        "gridcolor": "white",
                        "linecolor": "white"
                      },
                      "caxis": {
                        "ticks": "",
                        "gridcolor": "white",
                        "linecolor": "white"
                      },
                      "aaxis": {
                        "ticks": "",
                        "gridcolor": "white",
                        "linecolor": "white"
                      }
                    },
                    "mapbox": {
                      "style": "light"
                    },
                    "hovermode": "closest",
                    "font": {
                      "color": "#2a3f5f"
                    },
                    "geo": {
                      "showland": true,
                      "landcolor": "#E5ECF6",
                      "showlakes": true,
                      "bgcolor": "white",
                      "subunitcolor": "white",
                      "lakecolor": "white"
                    },
                    "coloraxis": {
                      "colorbar": {
                        "outlinewidth": 0,
                        "ticks": ""
                      }
                    }
                  },
                  "data": {
                    "mesh3d": [
                      {
                        "colorbar": {
                          "outlinewidth": 0,
                          "ticks": ""
                        },
                        "type": "mesh3d"
                      }
                    ],
                    "scattercarpet": [
                      {
                        "marker": {
                          "colorbar": {
                            "outlinewidth": 0,
                            "ticks": ""
                          }
                        },
                        "type": "scattercarpet"
                      }
                    ],
                    "pie": [
                      {
                        "automargin": true,
                        "type": "pie"
                      }
                    ],
                    "surface": [
                      {
                        "colorbar": {
                          "outlinewidth": 0,
                          "ticks": ""
                        },
                        "type": "surface",
                        "colorscale": [
                          [
                            0,
                            "#0d0887"
                          ],
                          [
                            0.1111111111111111,
                            "#46039f"
                          ],
                          [
                            0.2222222222222222,
                            "#7201a8"
                          ],
                          [
                            0.3333333333333333,
                            "#9c179e"
                          ],
                          [
                            0.4444444444444444,
                            "#bd3786"
                          ],
                          [
                            0.5555555555555556,
                            "#d8576b"
                          ],
                          [
                            0.6666666666666666,
                            "#ed7953"
                          ],
                          [
                            0.7777777777777778,
                            "#fb9f3a"
                          ],
                          [
                            0.8888888888888888,
                            "#fdca26"
                          ],
                          [
                            1,
                            "#f0f921"
                          ]
                        ]
                      }
                    ],
                    "table": [
                      {
                        "header": {
                          "line": {
                            "color": "white"
                          },
                          "fill": {
                            "color": "#C8D4E3"
                          }
                        },
                        "cells": {
                          "line": {
                            "color": "white"
                          },
                          "fill": {
                            "color": "#EBF0F8"
                          }
                        },
                        "type": "table"
                      }
                    ],
                    "scatterpolargl": [
                      {
                        "marker": {
                          "colorbar": {
                            "outlinewidth": 0,
                            "ticks": ""
                          }
                        },
                        "type": "scatterpolargl"
                      }
                    ],
                    "contour": [
                      {
                        "colorbar": {
                          "outlinewidth": 0,
                          "ticks": ""
                        },
                        "type": "contour",
                        "colorscale": [
                          [
                            0,
                            "#0d0887"
                          ],
                          [
                            0.1111111111111111,
                            "#46039f"
                          ],
                          [
                            0.2222222222222222,
                            "#7201a8"
                          ],
                          [
                            0.3333333333333333,
                            "#9c179e"
                          ],
                          [
                            0.4444444444444444,
                            "#bd3786"
                          ],
                          [
                            0.5555555555555556,
                            "#d8576b"
                          ],
                          [
                            0.6666666666666666,
                            "#ed7953"
                          ],
                          [
                            0.7777777777777778,
                            "#fb9f3a"
                          ],
                          [
                            0.8888888888888888,
                            "#fdca26"
                          ],
                          [
                            1,
                            "#f0f921"
                          ]
                        ]
                      }
                    ],
                    "carpet": [
                      {
                        "type": "carpet",
                        "baxis": {
                          "minorgridcolor": "white",
                          "gridcolor": "white",
                          "linecolor": "white",
                          "endlinecolor": "#2a3f5f",
                          "startlinecolor": "#2a3f5f"
                        },
                        "aaxis": {
                          "minorgridcolor": "white",
                          "gridcolor": "white",
                          "linecolor": "white",
                          "endlinecolor": "#2a3f5f",
                          "startlinecolor": "#2a3f5f"
                        }
                      }
                    ],
                    "contourcarpet": [
                      {
                        "colorbar": {
                          "outlinewidth": 0,
                          "ticks": ""
                        },
                        "type": "contourcarpet"
                      }
                    ],
                    "heatmap": [
                      {
                        "colorbar": {
                          "outlinewidth": 0,
                          "ticks": ""
                        },
                        "type": "heatmap",
                        "colorscale": [
                          [
                            0,
                            "#0d0887"
                          ],
                          [
                            0.1111111111111111,
                            "#46039f"
                          ],
                          [
                            0.2222222222222222,
                            "#7201a8"
                          ],
                          [
                            0.3333333333333333,
                            "#9c179e"
                          ],
                          [
                            0.4444444444444444,
                            "#bd3786"
                          ],
                          [
                            0.5555555555555556,
                            "#d8576b"
                          ],
                          [
                            0.6666666666666666,
                            "#ed7953"
                          ],
                          [
                            0.7777777777777778,
                            "#fb9f3a"
                          ],
                          [
                            0.8888888888888888,
                            "#fdca26"
                          ],
                          [
                            1,
                            "#f0f921"
                          ]
                        ]
                      }
                    ],
                    "scattermapbox": [
                      {
                        "marker": {
                          "colorbar": {
                            "outlinewidth": 0,
                            "ticks": ""
                          }
                        },
                        "type": "scattermapbox"
                      }
                    ],
                    "scatter3d": [
                      {
                        "marker": {
                          "colorbar": {
                            "outlinewidth": 0,
                            "ticks": ""
                          }
                        },
                        "line": {
                          "colorbar": {
                            "outlinewidth": 0,
                            "ticks": ""
                          }
                        },
                        "type": "scatter3d"
                      }
                    ],
                    "scattergl": [
                      {
                        "marker": {
                          "colorbar": {
                            "outlinewidth": 0,
                            "ticks": ""
                          }
                        },
                        "type": "scattergl"
                      }
                    ],
                    "scatterternary": [
                      {
                        "marker": {
                          "colorbar": {
                            "outlinewidth": 0,
                            "ticks": ""
                          }
                        },
                        "type": "scatterternary"
                      }
                    ],
                    "histogram": [
                      {
                        "marker": {
                          "colorbar": {
                            "outlinewidth": 0,
                            "ticks": ""
                          }
                        },
                        "type": "histogram"
                      }
                    ],
                    "heatmapgl": [
                      {
                        "colorbar": {
                          "outlinewidth": 0,
                          "ticks": ""
                        },
                        "type": "heatmapgl",
                        "colorscale": [
                          [
                            0,
                            "#0d0887"
                          ],
                          [
                            0.1111111111111111,
                            "#46039f"
                          ],
                          [
                            0.2222222222222222,
                            "#7201a8"
                          ],
                          [
                            0.3333333333333333,
                            "#9c179e"
                          ],
                          [
                            0.4444444444444444,
                            "#bd3786"
                          ],
                          [
                            0.5555555555555556,
                            "#d8576b"
                          ],
                          [
                            0.6666666666666666,
                            "#ed7953"
                          ],
                          [
                            0.7777777777777778,
                            "#fb9f3a"
                          ],
                          [
                            0.8888888888888888,
                            "#fdca26"
                          ],
                          [
                            1,
                            "#f0f921"
                          ]
                        ]
                      }
                    ],
                    "scatterpolar": [
                      {
                        "marker": {
                          "colorbar": {
                            "outlinewidth": 0,
                            "ticks": ""
                          }
                        },
                        "type": "scatterpolar"
                      }
                    ],
                    "histogram2d": [
                      {
                        "colorbar": {
                          "outlinewidth": 0,
                          "ticks": ""
                        },
                        "type": "histogram2d",
                        "colorscale": [
                          [
                            0,
                            "#0d0887"
                          ],
                          [
                            0.1111111111111111,
                            "#46039f"
                          ],
                          [
                            0.2222222222222222,
                            "#7201a8"
                          ],
                          [
                            0.3333333333333333,
                            "#9c179e"
                          ],
                          [
                            0.4444444444444444,
                            "#bd3786"
                          ],
                          [
                            0.5555555555555556,
                            "#d8576b"
                          ],
                          [
                            0.6666666666666666,
                            "#ed7953"
                          ],
                          [
                            0.7777777777777778,
                            "#fb9f3a"
                          ],
                          [
                            0.8888888888888888,
                            "#fdca26"
                          ],
                          [
                            1,
                            "#f0f921"
                          ]
                        ]
                      }
                    ],
                    "scattergeo": [
                      {
                        "marker": {
                          "colorbar": {
                            "outlinewidth": 0,
                            "ticks": ""
                          }
                        },
                        "type": "scattergeo"
                      }
                    ],
                    "bar": [
                      {
                        "marker": {
                          "line": {
                            "color": "#E5ECF6",
                            "width": 0.5
                          }
                        },
                        "type": "bar",
                        "error_x": {
                          "color": "#2a3f5f"
                        },
                        "error_y": {
                          "color": "#2a3f5f"
                        }
                      }
                    ],
                    "choropleth": [
                      {
                        "colorbar": {
                          "outlinewidth": 0,
                          "ticks": ""
                        },
                        "type": "choropleth"
                      }
                    ],
                    "parcoords": [
                      {
                        "line": {
                          "colorbar": {
                            "outlinewidth": 0,
                            "ticks": ""
                          }
                        },
                        "type": "parcoords"
                      }
                    ],
                    "barpolar": [
                      {
                        "marker": {
                          "line": {
                            "color": "#E5ECF6",
                            "width": 0.5
                          }
                        },
                        "type": "barpolar"
                      }
                    ],
                    "histogram2dcontour": [
                      {
                        "colorbar": {
                          "outlinewidth": 0,
                          "ticks": ""
                        },
                        "type": "histogram2dcontour",
                        "colorscale": [
                          [
                            0,
                            "#0d0887"
                          ],
                          [
                            0.1111111111111111,
                            "#46039f"
                          ],
                          [
                            0.2222222222222222,
                            "#7201a8"
                          ],
                          [
                            0.3333333333333333,
                            "#9c179e"
                          ],
                          [
                            0.4444444444444444,
                            "#bd3786"
                          ],
                          [
                            0.5555555555555556,
                            "#d8576b"
                          ],
                          [
                            0.6666666666666666,
                            "#ed7953"
                          ],
                          [
                            0.7777777777777778,
                            "#fb9f3a"
                          ],
                          [
                            0.8888888888888888,
                            "#fdca26"
                          ],
                          [
                            1,
                            "#f0f921"
                          ]
                        ]
                      }
                    ],
                    "scatter": [
                      {
                        "marker": {
                          "colorbar": {
                            "outlinewidth": 0,
                            "ticks": ""
                          }
                        },
                        "type": "scatter"
                      }
                    ]
                  }
                },
                "title": {
                  "font": {
                    "color": "#4D5663"
                  }
                },
                "paper_bgcolor": "#F5F6F9",
                "plot_bgcolor": "#F5F6F9",
                "yaxis": {
                  "tickfont": {
                    "color": "#4D5663"
                  },
                  "zerolinecolor": "#E1E5ED",
                  "title": {
                    "text": "",
                    "font": {
                      "color": "#4D5663"
                    }
                  },
                  "gridcolor": "#E1E5ED",
                  "showgrid": true
                },
                "xaxis": {
                  "tickfont": {
                    "color": "#4D5663"
                  },
                  "zerolinecolor": "#E1E5ED",
                  "title": {
                    "text": "",
                    "font": {
                      "color": "#4D5663"
                    }
                  },
                  "gridcolor": "#E1E5ED",
                  "showgrid": true
                },
                "legend": {
                  "bgcolor": "#F5F6F9",
                  "font": {
                    "color": "#4D5663"
                  }
                }
              }
            }
          },
          "metadata": {
            "tags": []
          }
        }
      ]
    },
    {
      "cell_type": "code",
      "metadata": {
        "id": "7Ckw9HGyYZk-",
        "colab_type": "code",
        "colab": {
          "base_uri": "https://localhost:8080/",
          "height": 542
        },
        "outputId": "c936ee1e-b88f-40fa-df1d-cb97627176dd"
      },
      "source": [
        "df.count().iplot(kind='bar')"
      ],
      "execution_count": 14,
      "outputs": [
        {
          "output_type": "display_data",
          "data": {
            "text/html": [
              "<div>\n",
              "        \n",
              "        \n",
              "            <div id=\"b9750ba7-1055-48ae-9da4-6ccd2ab5151b\" class=\"plotly-graph-div\" style=\"height:525px; width:100%;\"></div>\n",
              "            <script type=\"text/javascript\">\n",
              "                require([\"plotly\"], function(Plotly) {\n",
              "                    window.PLOTLYENV=window.PLOTLYENV || {};\n",
              "                    window.PLOTLYENV.BASE_URL='https://plot.ly';\n",
              "                    \n",
              "                if (document.getElementById(\"b9750ba7-1055-48ae-9da4-6ccd2ab5151b\")) {\n",
              "                    Plotly.newPlot(\n",
              "                        'b9750ba7-1055-48ae-9da4-6ccd2ab5151b',\n",
              "                        [{\"marker\": {\"color\": \"rgba(255, 153, 51, 0.6)\", \"line\": {\"color\": \"rgba(255, 153, 51, 1.0)\", \"width\": 1}}, \"name\": \"None\", \"orientation\": \"v\", \"text\": \"\", \"type\": \"bar\", \"x\": [\"A\", \"B\", \"C\", \"D\"], \"y\": [100, 100, 100, 100]}],\n",
              "                        {\"legend\": {\"bgcolor\": \"#F5F6F9\", \"font\": {\"color\": \"#4D5663\"}}, \"paper_bgcolor\": \"#F5F6F9\", \"plot_bgcolor\": \"#F5F6F9\", \"template\": {\"data\": {\"bar\": [{\"error_x\": {\"color\": \"#2a3f5f\"}, \"error_y\": {\"color\": \"#2a3f5f\"}, \"marker\": {\"line\": {\"color\": \"#E5ECF6\", \"width\": 0.5}}, \"type\": \"bar\"}], \"barpolar\": [{\"marker\": {\"line\": {\"color\": \"#E5ECF6\", \"width\": 0.5}}, \"type\": \"barpolar\"}], \"carpet\": [{\"aaxis\": {\"endlinecolor\": \"#2a3f5f\", \"gridcolor\": \"white\", \"linecolor\": \"white\", \"minorgridcolor\": \"white\", \"startlinecolor\": \"#2a3f5f\"}, \"baxis\": {\"endlinecolor\": \"#2a3f5f\", \"gridcolor\": \"white\", \"linecolor\": \"white\", \"minorgridcolor\": \"white\", \"startlinecolor\": \"#2a3f5f\"}, \"type\": \"carpet\"}], \"choropleth\": [{\"colorbar\": {\"outlinewidth\": 0, \"ticks\": \"\"}, \"type\": \"choropleth\"}], \"contour\": [{\"colorbar\": {\"outlinewidth\": 0, \"ticks\": \"\"}, \"colorscale\": [[0.0, \"#0d0887\"], [0.1111111111111111, \"#46039f\"], [0.2222222222222222, \"#7201a8\"], [0.3333333333333333, \"#9c179e\"], [0.4444444444444444, \"#bd3786\"], [0.5555555555555556, \"#d8576b\"], [0.6666666666666666, \"#ed7953\"], [0.7777777777777778, \"#fb9f3a\"], [0.8888888888888888, \"#fdca26\"], [1.0, \"#f0f921\"]], \"type\": \"contour\"}], \"contourcarpet\": [{\"colorbar\": {\"outlinewidth\": 0, \"ticks\": \"\"}, \"type\": \"contourcarpet\"}], \"heatmap\": [{\"colorbar\": {\"outlinewidth\": 0, \"ticks\": \"\"}, \"colorscale\": [[0.0, \"#0d0887\"], [0.1111111111111111, \"#46039f\"], [0.2222222222222222, \"#7201a8\"], [0.3333333333333333, \"#9c179e\"], [0.4444444444444444, \"#bd3786\"], [0.5555555555555556, \"#d8576b\"], [0.6666666666666666, \"#ed7953\"], [0.7777777777777778, \"#fb9f3a\"], [0.8888888888888888, \"#fdca26\"], [1.0, \"#f0f921\"]], \"type\": \"heatmap\"}], \"heatmapgl\": [{\"colorbar\": {\"outlinewidth\": 0, \"ticks\": \"\"}, \"colorscale\": [[0.0, \"#0d0887\"], [0.1111111111111111, \"#46039f\"], [0.2222222222222222, \"#7201a8\"], [0.3333333333333333, \"#9c179e\"], [0.4444444444444444, \"#bd3786\"], [0.5555555555555556, \"#d8576b\"], [0.6666666666666666, \"#ed7953\"], [0.7777777777777778, \"#fb9f3a\"], [0.8888888888888888, \"#fdca26\"], [1.0, \"#f0f921\"]], \"type\": \"heatmapgl\"}], \"histogram\": [{\"marker\": {\"colorbar\": {\"outlinewidth\": 0, \"ticks\": \"\"}}, \"type\": \"histogram\"}], \"histogram2d\": [{\"colorbar\": {\"outlinewidth\": 0, \"ticks\": \"\"}, \"colorscale\": [[0.0, \"#0d0887\"], [0.1111111111111111, \"#46039f\"], [0.2222222222222222, \"#7201a8\"], [0.3333333333333333, \"#9c179e\"], [0.4444444444444444, \"#bd3786\"], [0.5555555555555556, \"#d8576b\"], [0.6666666666666666, \"#ed7953\"], [0.7777777777777778, \"#fb9f3a\"], [0.8888888888888888, \"#fdca26\"], [1.0, \"#f0f921\"]], \"type\": \"histogram2d\"}], \"histogram2dcontour\": [{\"colorbar\": {\"outlinewidth\": 0, \"ticks\": \"\"}, \"colorscale\": [[0.0, \"#0d0887\"], [0.1111111111111111, \"#46039f\"], [0.2222222222222222, \"#7201a8\"], [0.3333333333333333, \"#9c179e\"], [0.4444444444444444, \"#bd3786\"], [0.5555555555555556, \"#d8576b\"], [0.6666666666666666, \"#ed7953\"], [0.7777777777777778, \"#fb9f3a\"], [0.8888888888888888, \"#fdca26\"], [1.0, \"#f0f921\"]], \"type\": \"histogram2dcontour\"}], \"mesh3d\": [{\"colorbar\": {\"outlinewidth\": 0, \"ticks\": \"\"}, \"type\": \"mesh3d\"}], \"parcoords\": [{\"line\": {\"colorbar\": {\"outlinewidth\": 0, \"ticks\": \"\"}}, \"type\": \"parcoords\"}], \"pie\": [{\"automargin\": true, \"type\": \"pie\"}], \"scatter\": [{\"marker\": {\"colorbar\": {\"outlinewidth\": 0, \"ticks\": \"\"}}, \"type\": \"scatter\"}], \"scatter3d\": [{\"line\": {\"colorbar\": {\"outlinewidth\": 0, \"ticks\": \"\"}}, \"marker\": {\"colorbar\": {\"outlinewidth\": 0, \"ticks\": \"\"}}, \"type\": \"scatter3d\"}], \"scattercarpet\": [{\"marker\": {\"colorbar\": {\"outlinewidth\": 0, \"ticks\": \"\"}}, \"type\": \"scattercarpet\"}], \"scattergeo\": [{\"marker\": {\"colorbar\": {\"outlinewidth\": 0, \"ticks\": \"\"}}, \"type\": \"scattergeo\"}], \"scattergl\": [{\"marker\": {\"colorbar\": {\"outlinewidth\": 0, \"ticks\": \"\"}}, \"type\": \"scattergl\"}], \"scattermapbox\": [{\"marker\": {\"colorbar\": {\"outlinewidth\": 0, \"ticks\": \"\"}}, \"type\": \"scattermapbox\"}], \"scatterpolar\": [{\"marker\": {\"colorbar\": {\"outlinewidth\": 0, \"ticks\": \"\"}}, \"type\": \"scatterpolar\"}], \"scatterpolargl\": [{\"marker\": {\"colorbar\": {\"outlinewidth\": 0, \"ticks\": \"\"}}, \"type\": \"scatterpolargl\"}], \"scatterternary\": [{\"marker\": {\"colorbar\": {\"outlinewidth\": 0, \"ticks\": \"\"}}, \"type\": \"scatterternary\"}], \"surface\": [{\"colorbar\": {\"outlinewidth\": 0, \"ticks\": \"\"}, \"colorscale\": [[0.0, \"#0d0887\"], [0.1111111111111111, \"#46039f\"], [0.2222222222222222, \"#7201a8\"], [0.3333333333333333, \"#9c179e\"], [0.4444444444444444, \"#bd3786\"], [0.5555555555555556, \"#d8576b\"], [0.6666666666666666, \"#ed7953\"], [0.7777777777777778, \"#fb9f3a\"], [0.8888888888888888, \"#fdca26\"], [1.0, \"#f0f921\"]], \"type\": \"surface\"}], \"table\": [{\"cells\": {\"fill\": {\"color\": \"#EBF0F8\"}, \"line\": {\"color\": \"white\"}}, \"header\": {\"fill\": {\"color\": \"#C8D4E3\"}, \"line\": {\"color\": \"white\"}}, \"type\": \"table\"}]}, \"layout\": {\"annotationdefaults\": {\"arrowcolor\": \"#2a3f5f\", \"arrowhead\": 0, \"arrowwidth\": 1}, \"coloraxis\": {\"colorbar\": {\"outlinewidth\": 0, \"ticks\": \"\"}}, \"colorscale\": {\"diverging\": [[0, \"#8e0152\"], [0.1, \"#c51b7d\"], [0.2, \"#de77ae\"], [0.3, \"#f1b6da\"], [0.4, \"#fde0ef\"], [0.5, \"#f7f7f7\"], [0.6, \"#e6f5d0\"], [0.7, \"#b8e186\"], [0.8, \"#7fbc41\"], [0.9, \"#4d9221\"], [1, \"#276419\"]], \"sequential\": [[0.0, \"#0d0887\"], [0.1111111111111111, \"#46039f\"], [0.2222222222222222, \"#7201a8\"], [0.3333333333333333, \"#9c179e\"], [0.4444444444444444, \"#bd3786\"], [0.5555555555555556, \"#d8576b\"], [0.6666666666666666, \"#ed7953\"], [0.7777777777777778, \"#fb9f3a\"], [0.8888888888888888, \"#fdca26\"], [1.0, \"#f0f921\"]], \"sequentialminus\": [[0.0, \"#0d0887\"], [0.1111111111111111, \"#46039f\"], [0.2222222222222222, \"#7201a8\"], [0.3333333333333333, \"#9c179e\"], [0.4444444444444444, \"#bd3786\"], [0.5555555555555556, \"#d8576b\"], [0.6666666666666666, \"#ed7953\"], [0.7777777777777778, \"#fb9f3a\"], [0.8888888888888888, \"#fdca26\"], [1.0, \"#f0f921\"]]}, \"colorway\": [\"#636efa\", \"#EF553B\", \"#00cc96\", \"#ab63fa\", \"#FFA15A\", \"#19d3f3\", \"#FF6692\", \"#B6E880\", \"#FF97FF\", \"#FECB52\"], \"font\": {\"color\": \"#2a3f5f\"}, \"geo\": {\"bgcolor\": \"white\", \"lakecolor\": \"white\", \"landcolor\": \"#E5ECF6\", \"showlakes\": true, \"showland\": true, \"subunitcolor\": \"white\"}, \"hoverlabel\": {\"align\": \"left\"}, \"hovermode\": \"closest\", \"mapbox\": {\"style\": \"light\"}, \"paper_bgcolor\": \"white\", \"plot_bgcolor\": \"#E5ECF6\", \"polar\": {\"angularaxis\": {\"gridcolor\": \"white\", \"linecolor\": \"white\", \"ticks\": \"\"}, \"bgcolor\": \"#E5ECF6\", \"radialaxis\": {\"gridcolor\": \"white\", \"linecolor\": \"white\", \"ticks\": \"\"}}, \"scene\": {\"xaxis\": {\"backgroundcolor\": \"#E5ECF6\", \"gridcolor\": \"white\", \"gridwidth\": 2, \"linecolor\": \"white\", \"showbackground\": true, \"ticks\": \"\", \"zerolinecolor\": \"white\"}, \"yaxis\": {\"backgroundcolor\": \"#E5ECF6\", \"gridcolor\": \"white\", \"gridwidth\": 2, \"linecolor\": \"white\", \"showbackground\": true, \"ticks\": \"\", \"zerolinecolor\": \"white\"}, \"zaxis\": {\"backgroundcolor\": \"#E5ECF6\", \"gridcolor\": \"white\", \"gridwidth\": 2, \"linecolor\": \"white\", \"showbackground\": true, \"ticks\": \"\", \"zerolinecolor\": \"white\"}}, \"shapedefaults\": {\"line\": {\"color\": \"#2a3f5f\"}}, \"ternary\": {\"aaxis\": {\"gridcolor\": \"white\", \"linecolor\": \"white\", \"ticks\": \"\"}, \"baxis\": {\"gridcolor\": \"white\", \"linecolor\": \"white\", \"ticks\": \"\"}, \"bgcolor\": \"#E5ECF6\", \"caxis\": {\"gridcolor\": \"white\", \"linecolor\": \"white\", \"ticks\": \"\"}}, \"title\": {\"x\": 0.05}, \"xaxis\": {\"automargin\": true, \"gridcolor\": \"white\", \"linecolor\": \"white\", \"ticks\": \"\", \"title\": {\"standoff\": 15}, \"zerolinecolor\": \"white\", \"zerolinewidth\": 2}, \"yaxis\": {\"automargin\": true, \"gridcolor\": \"white\", \"linecolor\": \"white\", \"ticks\": \"\", \"title\": {\"standoff\": 15}, \"zerolinecolor\": \"white\", \"zerolinewidth\": 2}}}, \"title\": {\"font\": {\"color\": \"#4D5663\"}}, \"xaxis\": {\"gridcolor\": \"#E1E5ED\", \"showgrid\": true, \"tickfont\": {\"color\": \"#4D5663\"}, \"title\": {\"font\": {\"color\": \"#4D5663\"}, \"text\": \"\"}, \"zerolinecolor\": \"#E1E5ED\"}, \"yaxis\": {\"gridcolor\": \"#E1E5ED\", \"showgrid\": true, \"tickfont\": {\"color\": \"#4D5663\"}, \"title\": {\"font\": {\"color\": \"#4D5663\"}, \"text\": \"\"}, \"zerolinecolor\": \"#E1E5ED\"}},\n",
              "                        {\"showLink\": true, \"linkText\": \"Export to plot.ly\", \"plotlyServerURL\": \"https://plot.ly\", \"responsive\": true}\n",
              "                    ).then(function(){\n",
              "                            \n",
              "var gd = document.getElementById('b9750ba7-1055-48ae-9da4-6ccd2ab5151b');\n",
              "var x = new MutationObserver(function (mutations, observer) {{\n",
              "        var display = window.getComputedStyle(gd).display;\n",
              "        if (!display || display === 'none') {{\n",
              "            console.log([gd, 'removed!']);\n",
              "            Plotly.purge(gd);\n",
              "            observer.disconnect();\n",
              "        }}\n",
              "}});\n",
              "\n",
              "// Listen for the removal of the full notebook cells\n",
              "var notebookContainer = gd.closest('#notebook-container');\n",
              "if (notebookContainer) {{\n",
              "    x.observe(notebookContainer, {childList: true});\n",
              "}}\n",
              "\n",
              "// Listen for the clearing of the current output cell\n",
              "var outputEl = gd.closest('.output');\n",
              "if (outputEl) {{\n",
              "    x.observe(outputEl, {childList: true});\n",
              "}}\n",
              "\n",
              "                        })\n",
              "                };\n",
              "                });\n",
              "            </script>\n",
              "        </div>"
            ],
            "application/vnd.plotly.v1+json": {
              "data": [
                {
                  "name": "None",
                  "text": "",
                  "y": [
                    100,
                    100,
                    100,
                    100
                  ],
                  "marker": {
                    "color": "rgba(255, 153, 51, 0.6)",
                    "line": {
                      "color": "rgba(255, 153, 51, 1.0)",
                      "width": 1
                    }
                  },
                  "x": [
                    "A",
                    "B",
                    "C",
                    "D"
                  ],
                  "type": "bar",
                  "orientation": "v"
                }
              ],
              "config": {
                "plotlyServerURL": "https://plot.ly",
                "linkText": "Export to plot.ly",
                "showLink": true
              },
              "layout": {
                "template": {
                  "layout": {
                    "shapedefaults": {
                      "line": {
                        "color": "#2a3f5f"
                      }
                    },
                    "polar": {
                      "radialaxis": {
                        "ticks": "",
                        "gridcolor": "white",
                        "linecolor": "white"
                      },
                      "bgcolor": "#E5ECF6",
                      "angularaxis": {
                        "ticks": "",
                        "gridcolor": "white",
                        "linecolor": "white"
                      }
                    },
                    "colorway": [
                      "#636efa",
                      "#EF553B",
                      "#00cc96",
                      "#ab63fa",
                      "#FFA15A",
                      "#19d3f3",
                      "#FF6692",
                      "#B6E880",
                      "#FF97FF",
                      "#FECB52"
                    ],
                    "xaxis": {
                      "automargin": true,
                      "title": {
                        "standoff": 15
                      },
                      "zerolinewidth": 2,
                      "ticks": "",
                      "zerolinecolor": "white",
                      "gridcolor": "white",
                      "linecolor": "white"
                    },
                    "colorscale": {
                      "diverging": [
                        [
                          0,
                          "#8e0152"
                        ],
                        [
                          0.1,
                          "#c51b7d"
                        ],
                        [
                          0.2,
                          "#de77ae"
                        ],
                        [
                          0.3,
                          "#f1b6da"
                        ],
                        [
                          0.4,
                          "#fde0ef"
                        ],
                        [
                          0.5,
                          "#f7f7f7"
                        ],
                        [
                          0.6,
                          "#e6f5d0"
                        ],
                        [
                          0.7,
                          "#b8e186"
                        ],
                        [
                          0.8,
                          "#7fbc41"
                        ],
                        [
                          0.9,
                          "#4d9221"
                        ],
                        [
                          1,
                          "#276419"
                        ]
                      ],
                      "sequential": [
                        [
                          0,
                          "#0d0887"
                        ],
                        [
                          0.1111111111111111,
                          "#46039f"
                        ],
                        [
                          0.2222222222222222,
                          "#7201a8"
                        ],
                        [
                          0.3333333333333333,
                          "#9c179e"
                        ],
                        [
                          0.4444444444444444,
                          "#bd3786"
                        ],
                        [
                          0.5555555555555556,
                          "#d8576b"
                        ],
                        [
                          0.6666666666666666,
                          "#ed7953"
                        ],
                        [
                          0.7777777777777778,
                          "#fb9f3a"
                        ],
                        [
                          0.8888888888888888,
                          "#fdca26"
                        ],
                        [
                          1,
                          "#f0f921"
                        ]
                      ],
                      "sequentialminus": [
                        [
                          0,
                          "#0d0887"
                        ],
                        [
                          0.1111111111111111,
                          "#46039f"
                        ],
                        [
                          0.2222222222222222,
                          "#7201a8"
                        ],
                        [
                          0.3333333333333333,
                          "#9c179e"
                        ],
                        [
                          0.4444444444444444,
                          "#bd3786"
                        ],
                        [
                          0.5555555555555556,
                          "#d8576b"
                        ],
                        [
                          0.6666666666666666,
                          "#ed7953"
                        ],
                        [
                          0.7777777777777778,
                          "#fb9f3a"
                        ],
                        [
                          0.8888888888888888,
                          "#fdca26"
                        ],
                        [
                          1,
                          "#f0f921"
                        ]
                      ]
                    },
                    "paper_bgcolor": "white",
                    "plot_bgcolor": "#E5ECF6",
                    "title": {
                      "x": 0.05
                    },
                    "scene": {
                      "zaxis": {
                        "backgroundcolor": "#E5ECF6",
                        "ticks": "",
                        "gridwidth": 2,
                        "showbackground": true,
                        "zerolinecolor": "white",
                        "gridcolor": "white",
                        "linecolor": "white"
                      },
                      "xaxis": {
                        "backgroundcolor": "#E5ECF6",
                        "ticks": "",
                        "gridwidth": 2,
                        "showbackground": true,
                        "zerolinecolor": "white",
                        "gridcolor": "white",
                        "linecolor": "white"
                      },
                      "yaxis": {
                        "backgroundcolor": "#E5ECF6",
                        "ticks": "",
                        "gridwidth": 2,
                        "showbackground": true,
                        "zerolinecolor": "white",
                        "gridcolor": "white",
                        "linecolor": "white"
                      }
                    },
                    "yaxis": {
                      "automargin": true,
                      "title": {
                        "standoff": 15
                      },
                      "zerolinewidth": 2,
                      "ticks": "",
                      "zerolinecolor": "white",
                      "gridcolor": "white",
                      "linecolor": "white"
                    },
                    "annotationdefaults": {
                      "arrowwidth": 1,
                      "arrowhead": 0,
                      "arrowcolor": "#2a3f5f"
                    },
                    "hoverlabel": {
                      "align": "left"
                    },
                    "ternary": {
                      "bgcolor": "#E5ECF6",
                      "baxis": {
                        "ticks": "",
                        "gridcolor": "white",
                        "linecolor": "white"
                      },
                      "caxis": {
                        "ticks": "",
                        "gridcolor": "white",
                        "linecolor": "white"
                      },
                      "aaxis": {
                        "ticks": "",
                        "gridcolor": "white",
                        "linecolor": "white"
                      }
                    },
                    "mapbox": {
                      "style": "light"
                    },
                    "hovermode": "closest",
                    "font": {
                      "color": "#2a3f5f"
                    },
                    "geo": {
                      "showland": true,
                      "landcolor": "#E5ECF6",
                      "showlakes": true,
                      "bgcolor": "white",
                      "subunitcolor": "white",
                      "lakecolor": "white"
                    },
                    "coloraxis": {
                      "colorbar": {
                        "outlinewidth": 0,
                        "ticks": ""
                      }
                    }
                  },
                  "data": {
                    "mesh3d": [
                      {
                        "colorbar": {
                          "outlinewidth": 0,
                          "ticks": ""
                        },
                        "type": "mesh3d"
                      }
                    ],
                    "scattercarpet": [
                      {
                        "marker": {
                          "colorbar": {
                            "outlinewidth": 0,
                            "ticks": ""
                          }
                        },
                        "type": "scattercarpet"
                      }
                    ],
                    "pie": [
                      {
                        "automargin": true,
                        "type": "pie"
                      }
                    ],
                    "surface": [
                      {
                        "colorbar": {
                          "outlinewidth": 0,
                          "ticks": ""
                        },
                        "type": "surface",
                        "colorscale": [
                          [
                            0,
                            "#0d0887"
                          ],
                          [
                            0.1111111111111111,
                            "#46039f"
                          ],
                          [
                            0.2222222222222222,
                            "#7201a8"
                          ],
                          [
                            0.3333333333333333,
                            "#9c179e"
                          ],
                          [
                            0.4444444444444444,
                            "#bd3786"
                          ],
                          [
                            0.5555555555555556,
                            "#d8576b"
                          ],
                          [
                            0.6666666666666666,
                            "#ed7953"
                          ],
                          [
                            0.7777777777777778,
                            "#fb9f3a"
                          ],
                          [
                            0.8888888888888888,
                            "#fdca26"
                          ],
                          [
                            1,
                            "#f0f921"
                          ]
                        ]
                      }
                    ],
                    "table": [
                      {
                        "header": {
                          "line": {
                            "color": "white"
                          },
                          "fill": {
                            "color": "#C8D4E3"
                          }
                        },
                        "cells": {
                          "line": {
                            "color": "white"
                          },
                          "fill": {
                            "color": "#EBF0F8"
                          }
                        },
                        "type": "table"
                      }
                    ],
                    "scatterpolargl": [
                      {
                        "marker": {
                          "colorbar": {
                            "outlinewidth": 0,
                            "ticks": ""
                          }
                        },
                        "type": "scatterpolargl"
                      }
                    ],
                    "contour": [
                      {
                        "colorbar": {
                          "outlinewidth": 0,
                          "ticks": ""
                        },
                        "type": "contour",
                        "colorscale": [
                          [
                            0,
                            "#0d0887"
                          ],
                          [
                            0.1111111111111111,
                            "#46039f"
                          ],
                          [
                            0.2222222222222222,
                            "#7201a8"
                          ],
                          [
                            0.3333333333333333,
                            "#9c179e"
                          ],
                          [
                            0.4444444444444444,
                            "#bd3786"
                          ],
                          [
                            0.5555555555555556,
                            "#d8576b"
                          ],
                          [
                            0.6666666666666666,
                            "#ed7953"
                          ],
                          [
                            0.7777777777777778,
                            "#fb9f3a"
                          ],
                          [
                            0.8888888888888888,
                            "#fdca26"
                          ],
                          [
                            1,
                            "#f0f921"
                          ]
                        ]
                      }
                    ],
                    "carpet": [
                      {
                        "type": "carpet",
                        "baxis": {
                          "minorgridcolor": "white",
                          "gridcolor": "white",
                          "linecolor": "white",
                          "endlinecolor": "#2a3f5f",
                          "startlinecolor": "#2a3f5f"
                        },
                        "aaxis": {
                          "minorgridcolor": "white",
                          "gridcolor": "white",
                          "linecolor": "white",
                          "endlinecolor": "#2a3f5f",
                          "startlinecolor": "#2a3f5f"
                        }
                      }
                    ],
                    "contourcarpet": [
                      {
                        "colorbar": {
                          "outlinewidth": 0,
                          "ticks": ""
                        },
                        "type": "contourcarpet"
                      }
                    ],
                    "heatmap": [
                      {
                        "colorbar": {
                          "outlinewidth": 0,
                          "ticks": ""
                        },
                        "type": "heatmap",
                        "colorscale": [
                          [
                            0,
                            "#0d0887"
                          ],
                          [
                            0.1111111111111111,
                            "#46039f"
                          ],
                          [
                            0.2222222222222222,
                            "#7201a8"
                          ],
                          [
                            0.3333333333333333,
                            "#9c179e"
                          ],
                          [
                            0.4444444444444444,
                            "#bd3786"
                          ],
                          [
                            0.5555555555555556,
                            "#d8576b"
                          ],
                          [
                            0.6666666666666666,
                            "#ed7953"
                          ],
                          [
                            0.7777777777777778,
                            "#fb9f3a"
                          ],
                          [
                            0.8888888888888888,
                            "#fdca26"
                          ],
                          [
                            1,
                            "#f0f921"
                          ]
                        ]
                      }
                    ],
                    "scattermapbox": [
                      {
                        "marker": {
                          "colorbar": {
                            "outlinewidth": 0,
                            "ticks": ""
                          }
                        },
                        "type": "scattermapbox"
                      }
                    ],
                    "scatter3d": [
                      {
                        "marker": {
                          "colorbar": {
                            "outlinewidth": 0,
                            "ticks": ""
                          }
                        },
                        "line": {
                          "colorbar": {
                            "outlinewidth": 0,
                            "ticks": ""
                          }
                        },
                        "type": "scatter3d"
                      }
                    ],
                    "scattergl": [
                      {
                        "marker": {
                          "colorbar": {
                            "outlinewidth": 0,
                            "ticks": ""
                          }
                        },
                        "type": "scattergl"
                      }
                    ],
                    "scatterternary": [
                      {
                        "marker": {
                          "colorbar": {
                            "outlinewidth": 0,
                            "ticks": ""
                          }
                        },
                        "type": "scatterternary"
                      }
                    ],
                    "histogram": [
                      {
                        "marker": {
                          "colorbar": {
                            "outlinewidth": 0,
                            "ticks": ""
                          }
                        },
                        "type": "histogram"
                      }
                    ],
                    "heatmapgl": [
                      {
                        "colorbar": {
                          "outlinewidth": 0,
                          "ticks": ""
                        },
                        "type": "heatmapgl",
                        "colorscale": [
                          [
                            0,
                            "#0d0887"
                          ],
                          [
                            0.1111111111111111,
                            "#46039f"
                          ],
                          [
                            0.2222222222222222,
                            "#7201a8"
                          ],
                          [
                            0.3333333333333333,
                            "#9c179e"
                          ],
                          [
                            0.4444444444444444,
                            "#bd3786"
                          ],
                          [
                            0.5555555555555556,
                            "#d8576b"
                          ],
                          [
                            0.6666666666666666,
                            "#ed7953"
                          ],
                          [
                            0.7777777777777778,
                            "#fb9f3a"
                          ],
                          [
                            0.8888888888888888,
                            "#fdca26"
                          ],
                          [
                            1,
                            "#f0f921"
                          ]
                        ]
                      }
                    ],
                    "scatterpolar": [
                      {
                        "marker": {
                          "colorbar": {
                            "outlinewidth": 0,
                            "ticks": ""
                          }
                        },
                        "type": "scatterpolar"
                      }
                    ],
                    "histogram2d": [
                      {
                        "colorbar": {
                          "outlinewidth": 0,
                          "ticks": ""
                        },
                        "type": "histogram2d",
                        "colorscale": [
                          [
                            0,
                            "#0d0887"
                          ],
                          [
                            0.1111111111111111,
                            "#46039f"
                          ],
                          [
                            0.2222222222222222,
                            "#7201a8"
                          ],
                          [
                            0.3333333333333333,
                            "#9c179e"
                          ],
                          [
                            0.4444444444444444,
                            "#bd3786"
                          ],
                          [
                            0.5555555555555556,
                            "#d8576b"
                          ],
                          [
                            0.6666666666666666,
                            "#ed7953"
                          ],
                          [
                            0.7777777777777778,
                            "#fb9f3a"
                          ],
                          [
                            0.8888888888888888,
                            "#fdca26"
                          ],
                          [
                            1,
                            "#f0f921"
                          ]
                        ]
                      }
                    ],
                    "scattergeo": [
                      {
                        "marker": {
                          "colorbar": {
                            "outlinewidth": 0,
                            "ticks": ""
                          }
                        },
                        "type": "scattergeo"
                      }
                    ],
                    "bar": [
                      {
                        "marker": {
                          "line": {
                            "color": "#E5ECF6",
                            "width": 0.5
                          }
                        },
                        "type": "bar",
                        "error_x": {
                          "color": "#2a3f5f"
                        },
                        "error_y": {
                          "color": "#2a3f5f"
                        }
                      }
                    ],
                    "choropleth": [
                      {
                        "colorbar": {
                          "outlinewidth": 0,
                          "ticks": ""
                        },
                        "type": "choropleth"
                      }
                    ],
                    "parcoords": [
                      {
                        "line": {
                          "colorbar": {
                            "outlinewidth": 0,
                            "ticks": ""
                          }
                        },
                        "type": "parcoords"
                      }
                    ],
                    "barpolar": [
                      {
                        "marker": {
                          "line": {
                            "color": "#E5ECF6",
                            "width": 0.5
                          }
                        },
                        "type": "barpolar"
                      }
                    ],
                    "histogram2dcontour": [
                      {
                        "colorbar": {
                          "outlinewidth": 0,
                          "ticks": ""
                        },
                        "type": "histogram2dcontour",
                        "colorscale": [
                          [
                            0,
                            "#0d0887"
                          ],
                          [
                            0.1111111111111111,
                            "#46039f"
                          ],
                          [
                            0.2222222222222222,
                            "#7201a8"
                          ],
                          [
                            0.3333333333333333,
                            "#9c179e"
                          ],
                          [
                            0.4444444444444444,
                            "#bd3786"
                          ],
                          [
                            0.5555555555555556,
                            "#d8576b"
                          ],
                          [
                            0.6666666666666666,
                            "#ed7953"
                          ],
                          [
                            0.7777777777777778,
                            "#fb9f3a"
                          ],
                          [
                            0.8888888888888888,
                            "#fdca26"
                          ],
                          [
                            1,
                            "#f0f921"
                          ]
                        ]
                      }
                    ],
                    "scatter": [
                      {
                        "marker": {
                          "colorbar": {
                            "outlinewidth": 0,
                            "ticks": ""
                          }
                        },
                        "type": "scatter"
                      }
                    ]
                  }
                },
                "title": {
                  "font": {
                    "color": "#4D5663"
                  }
                },
                "paper_bgcolor": "#F5F6F9",
                "plot_bgcolor": "#F5F6F9",
                "yaxis": {
                  "tickfont": {
                    "color": "#4D5663"
                  },
                  "zerolinecolor": "#E1E5ED",
                  "title": {
                    "text": "",
                    "font": {
                      "color": "#4D5663"
                    }
                  },
                  "gridcolor": "#E1E5ED",
                  "showgrid": true
                },
                "xaxis": {
                  "tickfont": {
                    "color": "#4D5663"
                  },
                  "zerolinecolor": "#E1E5ED",
                  "title": {
                    "text": "",
                    "font": {
                      "color": "#4D5663"
                    }
                  },
                  "gridcolor": "#E1E5ED",
                  "showgrid": true
                },
                "legend": {
                  "bgcolor": "#F5F6F9",
                  "font": {
                    "color": "#4D5663"
                  }
                }
              }
            }
          },
          "metadata": {
            "tags": []
          }
        }
      ]
    },
    {
      "cell_type": "markdown",
      "metadata": {
        "id": "zXSPnbHmYZlC",
        "colab_type": "text"
      },
      "source": [
        "## Boxplots"
      ]
    },
    {
      "cell_type": "code",
      "metadata": {
        "id": "mAekzCweYZlD",
        "colab_type": "code",
        "colab": {
          "base_uri": "https://localhost:8080/",
          "height": 542
        },
        "outputId": "b4901fc4-22c2-4521-94e6-3c95b612e408"
      },
      "source": [
        "df.iplot(kind='box')"
      ],
      "execution_count": 15,
      "outputs": [
        {
          "output_type": "display_data",
          "data": {
            "text/html": [
              "<div>\n",
              "        \n",
              "        \n",
              "            <div id=\"90488008-1e43-4a5c-ad00-dcb9313a25e2\" class=\"plotly-graph-div\" style=\"height:525px; width:100%;\"></div>\n",
              "            <script type=\"text/javascript\">\n",
              "                require([\"plotly\"], function(Plotly) {\n",
              "                    window.PLOTLYENV=window.PLOTLYENV || {};\n",
              "                    window.PLOTLYENV.BASE_URL='https://plot.ly';\n",
              "                    \n",
              "                if (document.getElementById(\"90488008-1e43-4a5c-ad00-dcb9313a25e2\")) {\n",
              "                    Plotly.newPlot(\n",
              "                        '90488008-1e43-4a5c-ad00-dcb9313a25e2',\n",
              "                        [{\"boxpoints\": false, \"line\": {\"width\": 1.3}, \"marker\": {\"color\": \"rgba(255, 153, 51, 1.0)\"}, \"name\": \"A\", \"orientation\": \"v\", \"type\": \"box\", \"y\": [0.033388217440508905, -0.6964117620033113, -1.1582806081079497, -0.2561921110075144, -0.9396395616723018, -1.8710775986328148, 1.1381065930965866, 0.2836313998887739, 0.8372825848844795, 0.5352062157485056, -0.10570195697932709, 1.3932461971675265, -1.0203377791552646, 1.4054722978405614, 1.2599083999065768, -0.8173466696833639, 0.749141786818367, 0.32314069513049737, 0.7835951532562746, -0.770714323484931, 1.3378126523628584, -0.11036438568990392, -1.2305529427537507, 0.11815301833078981, 0.11468249633092606, -1.5570788214620102, 0.3298883731176722, -0.1670048980170897, -0.44610787272009117, -1.040410419879342, -2.134223059509332, 1.2055267598805925, 0.7833271951513457, -0.30517818327250934, -1.054797078733294, 1.0339469118287643, 0.031724802569528074, 0.46524479084304915, 0.2696133157308018, -1.9022090457341743, -0.672553302714725, -1.4538759223619475, -0.8952596564969528, -1.6090791774457278, -0.9556876902032667, -1.2883809167343472, -1.013453792978003, -0.6001203860131052, -0.42238651267056765, -0.9170182467887845, -0.18415000223704875, 0.18274248152898628, 1.142934386894334, 0.6890288189881617, 0.5124153344064991, 0.9954018120132386, -0.27710289787528714, 0.5618092295029821, -1.5853615513089843, -0.0157622538163842, 0.0034350917010841247, -1.1545937310589027, -0.9052719576531694, -0.6408810782085186, -1.0539102470766974, -1.6088884404905042, 1.4254864256297581, -0.381852587029767, 0.49973553564455736, 0.12058127493662403, 0.10141909915549104, -2.23702939333417, 1.1966390259865207, -1.0238163568433811, 0.5306379570018278, 1.4703548194163234, -0.3706618777461258, -0.4550084839216992, 0.08172360222080535, 0.6328493435423694, -1.1647795582446374, 1.2494878059546373, 1.0678653724911056, 0.37109684888001876, -0.21332835621154117, -0.36165792593448076, -0.5427678072839484, -0.4522924354445968, 0.7548666787430129, -0.18127561554144686, 0.18500763008449855, 0.4227463117416283, 0.09356699424783808, 0.5616913468969047, -0.8108851809052096, -0.06592248187876751, 0.9053101300097707, 1.1852123122865834, 1.7821500045599021, 1.6772169106987314]}, {\"boxpoints\": false, \"line\": {\"width\": 1.3}, \"marker\": {\"color\": \"rgba(55, 128, 191, 1.0)\"}, \"name\": \"B\", \"orientation\": \"v\", \"type\": \"box\", \"y\": [-0.3185819437242191, 0.017143553003232212, -1.161883283271516, -0.6704437820758866, -0.4752021049002068, 0.8818848095813414, -1.6113668454298233, -0.33827338930798506, -1.22976132791649, -1.1088957196694917, -0.6591281589852449, -0.9959336166710657, 0.9843663632768888, -0.8954963504718098, -0.9708364965136446, -0.3456105679762152, -0.5363379641406554, -0.347986706152008, -1.9772259945605442, -1.3146882448697077, 1.382190391435313, 0.4345969579360139, 0.30113552461211096, -0.8470311410792175, 0.3685426426850477, 0.5951448453513402, 0.17061591052139344, 0.17415532756605645, 0.2981196168572048, 0.4977249129616586, 0.33480901130394974, 0.1868880359802086, -1.6650149993841277, -0.6404910513353013, -0.8824072467179087, -0.553742729869468, 0.36036163241066343, -2.275974570734227, -1.5874012126450154, 1.3419821073368021, -1.4171003468926828, 1.231652765552878, -1.8453235220960005, -0.7197969325839411, 1.3226340184457743, 0.20947818537722288, 0.29165688844925786, 0.5883754850166348, 0.3683509795965926, -0.3339353731153345, 1.309887025504271, 0.31546723226620027, 1.3263631277316312, -0.34567806682641433, -0.19141808194686688, -0.4713020694872677, 0.8852804183445554, -0.8576319218947199, -0.9145682759871094, -1.4002022553453086, -0.1835398022198471, 0.9597120405836465, 0.7459121859140037, 0.9582724578902626, 0.2515689421160934, -0.38993360906100594, -1.2295245875026266, -0.6031951925607657, -2.681150844317574, 0.08570599518645991, -0.30239374308582356, -0.17549857467971453, -0.34269764974175787, -0.6967515592890964, -0.6517567157566919, -0.7432742339004702, 0.9679312814459848, -0.10389313558341703, 0.6858706396566807, -0.3944155036832106, 0.301036982440157, 1.5086902264625675, -0.7373137660036858, -0.22448726844840527, -0.22652852888373978, -1.0077169954080438, 1.249022242931242, -0.09106059301916564, 1.2227833371035044, 1.1059491261446488, -0.8637469439487155, 2.124637526257138, 0.07570566559288731, -0.652759552671152, -0.35136007142557557, -0.42327448382840327, 1.2267554224089194, 0.46971004043741227, 0.5654883626864355, 1.3099927206532345]}, {\"boxpoints\": false, \"line\": {\"width\": 1.3}, \"marker\": {\"color\": \"rgba(50, 171, 96, 1.0)\"}, \"name\": \"C\", \"orientation\": \"v\", \"type\": \"box\", \"y\": [1.0182954809449183, 0.3794523439700212, 0.08190652367893733, 0.4060976395887609, 1.8822480524904268, -1.1199277178957312, 0.7520408186784354, -0.6331838831946867, -0.17975714925589653, 0.20581278328232264, -0.9206415216715144, -0.158187219487602, 0.5919718158919391, -0.6949331488381687, 0.9515420039403529, -0.4494443621898676, -0.9376624498873257, 1.215580228812475, 1.22299128467945, -0.22091178080380783, 1.3001568912685888, -0.18565026756375427, 0.6146907772970375, -0.7808293908387653, -0.9694216493104032, 0.256562999359, -0.7079856269484804, 1.0305534613508498, -0.2835192015206089, 0.7303941550936714, 0.16276808258431305, -0.043310863923024814, 1.2348333984569575, 0.0007949050313371751, -0.5246867788786806, -1.1188409262101247, -1.3402419478981256, -0.07588887673591871, -0.2720143665160607, 0.0958428080895275, -0.6450366023567586, 0.15577856835919768, -0.4360533301593279, 0.28282047647932523, 0.5202634100016091, -0.040843513287435976, -1.2779500861482962, -0.7033696039532986, -0.1299544172162236, 0.42500834327584436, -2.1885844492814046, -0.6862849450430499, 1.182500876411005, -0.6959730281974437, -0.8944211587337906, -0.30903749460634994, 0.8720881224397372, -0.7160874443335539, 0.5953442187035263, 0.03444748841613024, -0.7903402084528796, 1.6461086977841073, -0.7450716631544378, -1.5138453680566872, 0.5864158277439976, 0.2044839284652703, -0.37970068784926886, -0.4930577907258506, 0.0014749123077378993, 1.8374982646911697, -0.13669230541614008, -0.1918502069627978, 0.4276938637716622, 0.44461120727908987, -1.191864461171342, 0.34935090412853315, -1.6960659723973335, 0.5628706907746021, 0.7957074439625802, 0.8319143980525842, 0.5628102050643603, -1.2533344015247219, 1.462788980892577, 0.1903518081062495, -0.4226318942957426, 0.8000540760912183, 0.7774041770151964, 0.21851412378817658, -0.3872888987741951, -0.38193190011498906, -0.4588068675220083, 0.12212046334608344, 0.7342345571086851, 0.3989454139784152, 0.08242688746543864, -0.0022928649831613942, 1.699568450254879, -1.2052758012027767, -0.6038212323418088, 0.6989754367807544]}, {\"boxpoints\": false, \"line\": {\"width\": 1.3}, \"marker\": {\"color\": \"rgba(128, 0, 128, 1.0)\"}, \"name\": \"D\", \"orientation\": \"v\", \"type\": \"box\", \"y\": [-1.8571136111417104, -1.2929803725979587, 0.20561240856564708, -1.7826569545732074, 0.36893489693853987, -2.290059244742498, -0.1911249252271533, 0.5236185166727625, 0.5899488231677366, -1.3241496820790173, 1.6861347434484786, -0.4399057043982191, -1.3669681004416905, -0.9028743059237215, -0.09325036085177456, 0.280789333174742, -1.459304199149204, -2.1884382975915995, -0.528999666571028, 1.2437336136919452, -0.020657057724462597, -0.353872154266421, -0.897993582574596, -0.017025339970917843, -0.20558985487071055, 0.6469397282058131, 0.9929278936820563, -0.03562031828604396, 1.3188537541797127, 0.5294015240519836, 0.1788681022406548, -2.7249712086013367, -0.10469633823990536, -0.3299367522259721, -1.4903303039003206, 0.9689750855602837, 0.9984033659673972, 0.648012535372687, -0.775307176022823, -0.3652690937238262, -0.41931483841559863, 0.5828936815594129, 0.7270952914903812, -0.3856341136158816, -0.8864597826318832, 1.10148403693856, 1.1956124718032188, 0.30048298039636223, -0.4019068237328676, 2.5319740416688026, 2.14714538343826, 0.49743557883072675, -0.8199651072805834, 0.006857191362686243, -0.7690327399872606, 0.2172719785518792, -0.2311323722336546, -0.16489298283367107, 0.852171081358844, 0.7591667025255826, 0.13467105505109334, -0.977029151573115, 0.763546288536521, -1.3430638347662076, -0.8952301949472096, -2.284450645749927, 0.8237278053146003, 0.4897196387265957, -0.09698778535217137, 0.3036876818094441, 2.572159295231823, -1.3688632995193528, 0.3480995132046122, -0.715482119345779, -0.22407665777146912, -2.8952030766110473, 1.1152970688875075, -0.40533481928326837, 0.6155186509320042, 1.186699957812302, -0.31501332318615505, 0.41068369321607523, -0.7133845944974545, -0.9166980916968319, -0.9158836591238659, -0.8768169082910535, -0.6655457719648636, 1.522949002308957, 0.7635046451431491, -0.9160553350563346, 0.9818650844125953, 0.9817757426707524, 1.4564042531030386, 0.7475502969248169, -0.4367843500387564, 0.9813506593996986, 1.5849208046161924, -0.22726933321225884, -0.6490275283612017, -0.6857300547884588]}],\n",
              "                        {\"legend\": {\"bgcolor\": \"#F5F6F9\", \"font\": {\"color\": \"#4D5663\"}}, \"paper_bgcolor\": \"#F5F6F9\", \"plot_bgcolor\": \"#F5F6F9\", \"template\": {\"data\": {\"bar\": [{\"error_x\": {\"color\": \"#2a3f5f\"}, \"error_y\": {\"color\": \"#2a3f5f\"}, \"marker\": {\"line\": {\"color\": \"#E5ECF6\", \"width\": 0.5}}, \"type\": \"bar\"}], \"barpolar\": [{\"marker\": {\"line\": {\"color\": \"#E5ECF6\", \"width\": 0.5}}, \"type\": \"barpolar\"}], \"carpet\": [{\"aaxis\": {\"endlinecolor\": \"#2a3f5f\", \"gridcolor\": \"white\", \"linecolor\": \"white\", \"minorgridcolor\": \"white\", \"startlinecolor\": \"#2a3f5f\"}, \"baxis\": {\"endlinecolor\": \"#2a3f5f\", \"gridcolor\": \"white\", \"linecolor\": \"white\", \"minorgridcolor\": \"white\", \"startlinecolor\": \"#2a3f5f\"}, \"type\": \"carpet\"}], \"choropleth\": [{\"colorbar\": {\"outlinewidth\": 0, \"ticks\": \"\"}, \"type\": \"choropleth\"}], \"contour\": [{\"colorbar\": {\"outlinewidth\": 0, \"ticks\": \"\"}, \"colorscale\": [[0.0, \"#0d0887\"], [0.1111111111111111, \"#46039f\"], [0.2222222222222222, \"#7201a8\"], [0.3333333333333333, \"#9c179e\"], [0.4444444444444444, \"#bd3786\"], [0.5555555555555556, \"#d8576b\"], [0.6666666666666666, \"#ed7953\"], [0.7777777777777778, \"#fb9f3a\"], [0.8888888888888888, \"#fdca26\"], [1.0, \"#f0f921\"]], \"type\": \"contour\"}], \"contourcarpet\": [{\"colorbar\": {\"outlinewidth\": 0, \"ticks\": \"\"}, \"type\": \"contourcarpet\"}], \"heatmap\": [{\"colorbar\": {\"outlinewidth\": 0, \"ticks\": \"\"}, \"colorscale\": [[0.0, \"#0d0887\"], [0.1111111111111111, \"#46039f\"], [0.2222222222222222, \"#7201a8\"], [0.3333333333333333, \"#9c179e\"], [0.4444444444444444, \"#bd3786\"], [0.5555555555555556, \"#d8576b\"], [0.6666666666666666, \"#ed7953\"], [0.7777777777777778, \"#fb9f3a\"], [0.8888888888888888, \"#fdca26\"], [1.0, \"#f0f921\"]], \"type\": \"heatmap\"}], \"heatmapgl\": [{\"colorbar\": {\"outlinewidth\": 0, \"ticks\": \"\"}, \"colorscale\": [[0.0, \"#0d0887\"], [0.1111111111111111, \"#46039f\"], [0.2222222222222222, \"#7201a8\"], [0.3333333333333333, \"#9c179e\"], [0.4444444444444444, \"#bd3786\"], [0.5555555555555556, \"#d8576b\"], [0.6666666666666666, \"#ed7953\"], [0.7777777777777778, \"#fb9f3a\"], [0.8888888888888888, \"#fdca26\"], [1.0, \"#f0f921\"]], \"type\": \"heatmapgl\"}], \"histogram\": [{\"marker\": {\"colorbar\": {\"outlinewidth\": 0, \"ticks\": \"\"}}, \"type\": \"histogram\"}], \"histogram2d\": [{\"colorbar\": {\"outlinewidth\": 0, \"ticks\": \"\"}, \"colorscale\": [[0.0, \"#0d0887\"], [0.1111111111111111, \"#46039f\"], [0.2222222222222222, \"#7201a8\"], [0.3333333333333333, \"#9c179e\"], [0.4444444444444444, \"#bd3786\"], [0.5555555555555556, \"#d8576b\"], [0.6666666666666666, \"#ed7953\"], [0.7777777777777778, \"#fb9f3a\"], [0.8888888888888888, \"#fdca26\"], [1.0, \"#f0f921\"]], \"type\": \"histogram2d\"}], \"histogram2dcontour\": [{\"colorbar\": {\"outlinewidth\": 0, \"ticks\": \"\"}, \"colorscale\": [[0.0, \"#0d0887\"], [0.1111111111111111, \"#46039f\"], [0.2222222222222222, \"#7201a8\"], [0.3333333333333333, \"#9c179e\"], [0.4444444444444444, \"#bd3786\"], [0.5555555555555556, \"#d8576b\"], [0.6666666666666666, \"#ed7953\"], [0.7777777777777778, \"#fb9f3a\"], [0.8888888888888888, \"#fdca26\"], [1.0, \"#f0f921\"]], \"type\": \"histogram2dcontour\"}], \"mesh3d\": [{\"colorbar\": {\"outlinewidth\": 0, \"ticks\": \"\"}, \"type\": \"mesh3d\"}], \"parcoords\": [{\"line\": {\"colorbar\": {\"outlinewidth\": 0, \"ticks\": \"\"}}, \"type\": \"parcoords\"}], \"pie\": [{\"automargin\": true, \"type\": \"pie\"}], \"scatter\": [{\"marker\": {\"colorbar\": {\"outlinewidth\": 0, \"ticks\": \"\"}}, \"type\": \"scatter\"}], \"scatter3d\": [{\"line\": {\"colorbar\": {\"outlinewidth\": 0, \"ticks\": \"\"}}, \"marker\": {\"colorbar\": {\"outlinewidth\": 0, \"ticks\": \"\"}}, \"type\": \"scatter3d\"}], \"scattercarpet\": [{\"marker\": {\"colorbar\": {\"outlinewidth\": 0, \"ticks\": \"\"}}, \"type\": \"scattercarpet\"}], \"scattergeo\": [{\"marker\": {\"colorbar\": {\"outlinewidth\": 0, \"ticks\": \"\"}}, \"type\": \"scattergeo\"}], \"scattergl\": [{\"marker\": {\"colorbar\": {\"outlinewidth\": 0, \"ticks\": \"\"}}, \"type\": \"scattergl\"}], \"scattermapbox\": [{\"marker\": {\"colorbar\": {\"outlinewidth\": 0, \"ticks\": \"\"}}, \"type\": \"scattermapbox\"}], \"scatterpolar\": [{\"marker\": {\"colorbar\": {\"outlinewidth\": 0, \"ticks\": \"\"}}, \"type\": \"scatterpolar\"}], \"scatterpolargl\": [{\"marker\": {\"colorbar\": {\"outlinewidth\": 0, \"ticks\": \"\"}}, \"type\": \"scatterpolargl\"}], \"scatterternary\": [{\"marker\": {\"colorbar\": {\"outlinewidth\": 0, \"ticks\": \"\"}}, \"type\": \"scatterternary\"}], \"surface\": [{\"colorbar\": {\"outlinewidth\": 0, \"ticks\": \"\"}, \"colorscale\": [[0.0, \"#0d0887\"], [0.1111111111111111, \"#46039f\"], [0.2222222222222222, \"#7201a8\"], [0.3333333333333333, \"#9c179e\"], [0.4444444444444444, \"#bd3786\"], [0.5555555555555556, \"#d8576b\"], [0.6666666666666666, \"#ed7953\"], [0.7777777777777778, \"#fb9f3a\"], [0.8888888888888888, \"#fdca26\"], [1.0, \"#f0f921\"]], \"type\": \"surface\"}], \"table\": [{\"cells\": {\"fill\": {\"color\": \"#EBF0F8\"}, \"line\": {\"color\": \"white\"}}, \"header\": {\"fill\": {\"color\": \"#C8D4E3\"}, \"line\": {\"color\": \"white\"}}, \"type\": \"table\"}]}, \"layout\": {\"annotationdefaults\": {\"arrowcolor\": \"#2a3f5f\", \"arrowhead\": 0, \"arrowwidth\": 1}, \"coloraxis\": {\"colorbar\": {\"outlinewidth\": 0, \"ticks\": \"\"}}, \"colorscale\": {\"diverging\": [[0, \"#8e0152\"], [0.1, \"#c51b7d\"], [0.2, \"#de77ae\"], [0.3, \"#f1b6da\"], [0.4, \"#fde0ef\"], [0.5, \"#f7f7f7\"], [0.6, \"#e6f5d0\"], [0.7, \"#b8e186\"], [0.8, \"#7fbc41\"], [0.9, \"#4d9221\"], [1, \"#276419\"]], \"sequential\": [[0.0, \"#0d0887\"], [0.1111111111111111, \"#46039f\"], [0.2222222222222222, \"#7201a8\"], [0.3333333333333333, \"#9c179e\"], [0.4444444444444444, \"#bd3786\"], [0.5555555555555556, \"#d8576b\"], [0.6666666666666666, \"#ed7953\"], [0.7777777777777778, \"#fb9f3a\"], [0.8888888888888888, \"#fdca26\"], [1.0, \"#f0f921\"]], \"sequentialminus\": [[0.0, \"#0d0887\"], [0.1111111111111111, \"#46039f\"], [0.2222222222222222, \"#7201a8\"], [0.3333333333333333, \"#9c179e\"], [0.4444444444444444, \"#bd3786\"], [0.5555555555555556, \"#d8576b\"], [0.6666666666666666, \"#ed7953\"], [0.7777777777777778, \"#fb9f3a\"], [0.8888888888888888, \"#fdca26\"], [1.0, \"#f0f921\"]]}, \"colorway\": [\"#636efa\", \"#EF553B\", \"#00cc96\", \"#ab63fa\", \"#FFA15A\", \"#19d3f3\", \"#FF6692\", \"#B6E880\", \"#FF97FF\", \"#FECB52\"], \"font\": {\"color\": \"#2a3f5f\"}, \"geo\": {\"bgcolor\": \"white\", \"lakecolor\": \"white\", \"landcolor\": \"#E5ECF6\", \"showlakes\": true, \"showland\": true, \"subunitcolor\": \"white\"}, \"hoverlabel\": {\"align\": \"left\"}, \"hovermode\": \"closest\", \"mapbox\": {\"style\": \"light\"}, \"paper_bgcolor\": \"white\", \"plot_bgcolor\": \"#E5ECF6\", \"polar\": {\"angularaxis\": {\"gridcolor\": \"white\", \"linecolor\": \"white\", \"ticks\": \"\"}, \"bgcolor\": \"#E5ECF6\", \"radialaxis\": {\"gridcolor\": \"white\", \"linecolor\": \"white\", \"ticks\": \"\"}}, \"scene\": {\"xaxis\": {\"backgroundcolor\": \"#E5ECF6\", \"gridcolor\": \"white\", \"gridwidth\": 2, \"linecolor\": \"white\", \"showbackground\": true, \"ticks\": \"\", \"zerolinecolor\": \"white\"}, \"yaxis\": {\"backgroundcolor\": \"#E5ECF6\", \"gridcolor\": \"white\", \"gridwidth\": 2, \"linecolor\": \"white\", \"showbackground\": true, \"ticks\": \"\", \"zerolinecolor\": \"white\"}, \"zaxis\": {\"backgroundcolor\": \"#E5ECF6\", \"gridcolor\": \"white\", \"gridwidth\": 2, \"linecolor\": \"white\", \"showbackground\": true, \"ticks\": \"\", \"zerolinecolor\": \"white\"}}, \"shapedefaults\": {\"line\": {\"color\": \"#2a3f5f\"}}, \"ternary\": {\"aaxis\": {\"gridcolor\": \"white\", \"linecolor\": \"white\", \"ticks\": \"\"}, \"baxis\": {\"gridcolor\": \"white\", \"linecolor\": \"white\", \"ticks\": \"\"}, \"bgcolor\": \"#E5ECF6\", \"caxis\": {\"gridcolor\": \"white\", \"linecolor\": \"white\", \"ticks\": \"\"}}, \"title\": {\"x\": 0.05}, \"xaxis\": {\"automargin\": true, \"gridcolor\": \"white\", \"linecolor\": \"white\", \"ticks\": \"\", \"title\": {\"standoff\": 15}, \"zerolinecolor\": \"white\", \"zerolinewidth\": 2}, \"yaxis\": {\"automargin\": true, \"gridcolor\": \"white\", \"linecolor\": \"white\", \"ticks\": \"\", \"title\": {\"standoff\": 15}, \"zerolinecolor\": \"white\", \"zerolinewidth\": 2}}}, \"title\": {\"font\": {\"color\": \"#4D5663\"}}, \"xaxis\": {\"gridcolor\": \"#E1E5ED\", \"showgrid\": true, \"tickfont\": {\"color\": \"#4D5663\"}, \"title\": {\"font\": {\"color\": \"#4D5663\"}, \"text\": \"\"}, \"zerolinecolor\": \"#E1E5ED\"}, \"yaxis\": {\"gridcolor\": \"#E1E5ED\", \"showgrid\": true, \"tickfont\": {\"color\": \"#4D5663\"}, \"title\": {\"font\": {\"color\": \"#4D5663\"}, \"text\": \"\"}, \"zerolinecolor\": \"#E1E5ED\"}},\n",
              "                        {\"showLink\": true, \"linkText\": \"Export to plot.ly\", \"plotlyServerURL\": \"https://plot.ly\", \"responsive\": true}\n",
              "                    ).then(function(){\n",
              "                            \n",
              "var gd = document.getElementById('90488008-1e43-4a5c-ad00-dcb9313a25e2');\n",
              "var x = new MutationObserver(function (mutations, observer) {{\n",
              "        var display = window.getComputedStyle(gd).display;\n",
              "        if (!display || display === 'none') {{\n",
              "            console.log([gd, 'removed!']);\n",
              "            Plotly.purge(gd);\n",
              "            observer.disconnect();\n",
              "        }}\n",
              "}});\n",
              "\n",
              "// Listen for the removal of the full notebook cells\n",
              "var notebookContainer = gd.closest('#notebook-container');\n",
              "if (notebookContainer) {{\n",
              "    x.observe(notebookContainer, {childList: true});\n",
              "}}\n",
              "\n",
              "// Listen for the clearing of the current output cell\n",
              "var outputEl = gd.closest('.output');\n",
              "if (outputEl) {{\n",
              "    x.observe(outputEl, {childList: true});\n",
              "}}\n",
              "\n",
              "                        })\n",
              "                };\n",
              "                });\n",
              "            </script>\n",
              "        </div>"
            ],
            "application/vnd.plotly.v1+json": {
              "data": [
                {
                  "orientation": "v",
                  "y": [
                    0.033388217440508905,
                    -0.6964117620033113,
                    -1.1582806081079497,
                    -0.2561921110075144,
                    -0.9396395616723018,
                    -1.8710775986328148,
                    1.1381065930965866,
                    0.2836313998887739,
                    0.8372825848844795,
                    0.5352062157485056,
                    -0.10570195697932709,
                    1.3932461971675265,
                    -1.0203377791552646,
                    1.4054722978405614,
                    1.2599083999065768,
                    -0.8173466696833639,
                    0.749141786818367,
                    0.32314069513049737,
                    0.7835951532562746,
                    -0.770714323484931,
                    1.3378126523628584,
                    -0.11036438568990392,
                    -1.2305529427537507,
                    0.11815301833078981,
                    0.11468249633092606,
                    -1.5570788214620102,
                    0.3298883731176722,
                    -0.1670048980170897,
                    -0.44610787272009117,
                    -1.040410419879342,
                    -2.134223059509332,
                    1.2055267598805925,
                    0.7833271951513457,
                    -0.30517818327250934,
                    -1.054797078733294,
                    1.0339469118287643,
                    0.031724802569528074,
                    0.46524479084304915,
                    0.2696133157308018,
                    -1.9022090457341743,
                    -0.672553302714725,
                    -1.4538759223619475,
                    -0.8952596564969528,
                    -1.6090791774457278,
                    -0.9556876902032667,
                    -1.2883809167343472,
                    -1.013453792978003,
                    -0.6001203860131052,
                    -0.42238651267056765,
                    -0.9170182467887845,
                    -0.18415000223704875,
                    0.18274248152898628,
                    1.142934386894334,
                    0.6890288189881617,
                    0.5124153344064991,
                    0.9954018120132386,
                    -0.27710289787528714,
                    0.5618092295029821,
                    -1.5853615513089843,
                    -0.0157622538163842,
                    0.0034350917010841247,
                    -1.1545937310589027,
                    -0.9052719576531694,
                    -0.6408810782085186,
                    -1.0539102470766974,
                    -1.6088884404905042,
                    1.4254864256297581,
                    -0.381852587029767,
                    0.49973553564455736,
                    0.12058127493662403,
                    0.10141909915549104,
                    -2.23702939333417,
                    1.1966390259865207,
                    -1.0238163568433811,
                    0.5306379570018278,
                    1.4703548194163234,
                    -0.3706618777461258,
                    -0.4550084839216992,
                    0.08172360222080535,
                    0.6328493435423694,
                    -1.1647795582446374,
                    1.2494878059546373,
                    1.0678653724911056,
                    0.37109684888001876,
                    -0.21332835621154117,
                    -0.36165792593448076,
                    -0.5427678072839484,
                    -0.4522924354445968,
                    0.7548666787430129,
                    -0.18127561554144686,
                    0.18500763008449855,
                    0.4227463117416283,
                    0.09356699424783808,
                    0.5616913468969047,
                    -0.8108851809052096,
                    -0.06592248187876751,
                    0.9053101300097707,
                    1.1852123122865834,
                    1.7821500045599021,
                    1.6772169106987314
                  ],
                  "marker": {
                    "color": "rgba(255, 153, 51, 1.0)"
                  },
                  "line": {
                    "width": 1.3
                  },
                  "boxpoints": false,
                  "type": "box",
                  "name": "A"
                },
                {
                  "orientation": "v",
                  "y": [
                    -0.3185819437242191,
                    0.017143553003232212,
                    -1.161883283271516,
                    -0.6704437820758866,
                    -0.4752021049002068,
                    0.8818848095813414,
                    -1.6113668454298233,
                    -0.33827338930798506,
                    -1.22976132791649,
                    -1.1088957196694917,
                    -0.6591281589852449,
                    -0.9959336166710657,
                    0.9843663632768888,
                    -0.8954963504718098,
                    -0.9708364965136446,
                    -0.3456105679762152,
                    -0.5363379641406554,
                    -0.347986706152008,
                    -1.9772259945605442,
                    -1.3146882448697077,
                    1.382190391435313,
                    0.4345969579360139,
                    0.30113552461211096,
                    -0.8470311410792175,
                    0.3685426426850477,
                    0.5951448453513402,
                    0.17061591052139344,
                    0.17415532756605645,
                    0.2981196168572048,
                    0.4977249129616586,
                    0.33480901130394974,
                    0.1868880359802086,
                    -1.6650149993841277,
                    -0.6404910513353013,
                    -0.8824072467179087,
                    -0.553742729869468,
                    0.36036163241066343,
                    -2.275974570734227,
                    -1.5874012126450154,
                    1.3419821073368021,
                    -1.4171003468926828,
                    1.231652765552878,
                    -1.8453235220960005,
                    -0.7197969325839411,
                    1.3226340184457743,
                    0.20947818537722288,
                    0.29165688844925786,
                    0.5883754850166348,
                    0.3683509795965926,
                    -0.3339353731153345,
                    1.309887025504271,
                    0.31546723226620027,
                    1.3263631277316312,
                    -0.34567806682641433,
                    -0.19141808194686688,
                    -0.4713020694872677,
                    0.8852804183445554,
                    -0.8576319218947199,
                    -0.9145682759871094,
                    -1.4002022553453086,
                    -0.1835398022198471,
                    0.9597120405836465,
                    0.7459121859140037,
                    0.9582724578902626,
                    0.2515689421160934,
                    -0.38993360906100594,
                    -1.2295245875026266,
                    -0.6031951925607657,
                    -2.681150844317574,
                    0.08570599518645991,
                    -0.30239374308582356,
                    -0.17549857467971453,
                    -0.34269764974175787,
                    -0.6967515592890964,
                    -0.6517567157566919,
                    -0.7432742339004702,
                    0.9679312814459848,
                    -0.10389313558341703,
                    0.6858706396566807,
                    -0.3944155036832106,
                    0.301036982440157,
                    1.5086902264625675,
                    -0.7373137660036858,
                    -0.22448726844840527,
                    -0.22652852888373978,
                    -1.0077169954080438,
                    1.249022242931242,
                    -0.09106059301916564,
                    1.2227833371035044,
                    1.1059491261446488,
                    -0.8637469439487155,
                    2.124637526257138,
                    0.07570566559288731,
                    -0.652759552671152,
                    -0.35136007142557557,
                    -0.42327448382840327,
                    1.2267554224089194,
                    0.46971004043741227,
                    0.5654883626864355,
                    1.3099927206532345
                  ],
                  "marker": {
                    "color": "rgba(55, 128, 191, 1.0)"
                  },
                  "line": {
                    "width": 1.3
                  },
                  "boxpoints": false,
                  "type": "box",
                  "name": "B"
                },
                {
                  "orientation": "v",
                  "y": [
                    1.0182954809449183,
                    0.3794523439700212,
                    0.08190652367893733,
                    0.4060976395887609,
                    1.8822480524904268,
                    -1.1199277178957312,
                    0.7520408186784354,
                    -0.6331838831946867,
                    -0.17975714925589653,
                    0.20581278328232264,
                    -0.9206415216715144,
                    -0.158187219487602,
                    0.5919718158919391,
                    -0.6949331488381687,
                    0.9515420039403529,
                    -0.4494443621898676,
                    -0.9376624498873257,
                    1.215580228812475,
                    1.22299128467945,
                    -0.22091178080380783,
                    1.3001568912685888,
                    -0.18565026756375427,
                    0.6146907772970375,
                    -0.7808293908387653,
                    -0.9694216493104032,
                    0.256562999359,
                    -0.7079856269484804,
                    1.0305534613508498,
                    -0.2835192015206089,
                    0.7303941550936714,
                    0.16276808258431305,
                    -0.043310863923024814,
                    1.2348333984569575,
                    0.0007949050313371751,
                    -0.5246867788786806,
                    -1.1188409262101247,
                    -1.3402419478981256,
                    -0.07588887673591871,
                    -0.2720143665160607,
                    0.0958428080895275,
                    -0.6450366023567586,
                    0.15577856835919768,
                    -0.4360533301593279,
                    0.28282047647932523,
                    0.5202634100016091,
                    -0.040843513287435976,
                    -1.2779500861482962,
                    -0.7033696039532986,
                    -0.1299544172162236,
                    0.42500834327584436,
                    -2.1885844492814046,
                    -0.6862849450430499,
                    1.182500876411005,
                    -0.6959730281974437,
                    -0.8944211587337906,
                    -0.30903749460634994,
                    0.8720881224397372,
                    -0.7160874443335539,
                    0.5953442187035263,
                    0.03444748841613024,
                    -0.7903402084528796,
                    1.6461086977841073,
                    -0.7450716631544378,
                    -1.5138453680566872,
                    0.5864158277439976,
                    0.2044839284652703,
                    -0.37970068784926886,
                    -0.4930577907258506,
                    0.0014749123077378993,
                    1.8374982646911697,
                    -0.13669230541614008,
                    -0.1918502069627978,
                    0.4276938637716622,
                    0.44461120727908987,
                    -1.191864461171342,
                    0.34935090412853315,
                    -1.6960659723973335,
                    0.5628706907746021,
                    0.7957074439625802,
                    0.8319143980525842,
                    0.5628102050643603,
                    -1.2533344015247219,
                    1.462788980892577,
                    0.1903518081062495,
                    -0.4226318942957426,
                    0.8000540760912183,
                    0.7774041770151964,
                    0.21851412378817658,
                    -0.3872888987741951,
                    -0.38193190011498906,
                    -0.4588068675220083,
                    0.12212046334608344,
                    0.7342345571086851,
                    0.3989454139784152,
                    0.08242688746543864,
                    -0.0022928649831613942,
                    1.699568450254879,
                    -1.2052758012027767,
                    -0.6038212323418088,
                    0.6989754367807544
                  ],
                  "marker": {
                    "color": "rgba(50, 171, 96, 1.0)"
                  },
                  "line": {
                    "width": 1.3
                  },
                  "boxpoints": false,
                  "type": "box",
                  "name": "C"
                },
                {
                  "orientation": "v",
                  "y": [
                    -1.8571136111417104,
                    -1.2929803725979587,
                    0.20561240856564708,
                    -1.7826569545732074,
                    0.36893489693853987,
                    -2.290059244742498,
                    -0.1911249252271533,
                    0.5236185166727625,
                    0.5899488231677366,
                    -1.3241496820790173,
                    1.6861347434484786,
                    -0.4399057043982191,
                    -1.3669681004416905,
                    -0.9028743059237215,
                    -0.09325036085177456,
                    0.280789333174742,
                    -1.459304199149204,
                    -2.1884382975915995,
                    -0.528999666571028,
                    1.2437336136919452,
                    -0.020657057724462597,
                    -0.353872154266421,
                    -0.897993582574596,
                    -0.017025339970917843,
                    -0.20558985487071055,
                    0.6469397282058131,
                    0.9929278936820563,
                    -0.03562031828604396,
                    1.3188537541797127,
                    0.5294015240519836,
                    0.1788681022406548,
                    -2.7249712086013367,
                    -0.10469633823990536,
                    -0.3299367522259721,
                    -1.4903303039003206,
                    0.9689750855602837,
                    0.9984033659673972,
                    0.648012535372687,
                    -0.775307176022823,
                    -0.3652690937238262,
                    -0.41931483841559863,
                    0.5828936815594129,
                    0.7270952914903812,
                    -0.3856341136158816,
                    -0.8864597826318832,
                    1.10148403693856,
                    1.1956124718032188,
                    0.30048298039636223,
                    -0.4019068237328676,
                    2.5319740416688026,
                    2.14714538343826,
                    0.49743557883072675,
                    -0.8199651072805834,
                    0.006857191362686243,
                    -0.7690327399872606,
                    0.2172719785518792,
                    -0.2311323722336546,
                    -0.16489298283367107,
                    0.852171081358844,
                    0.7591667025255826,
                    0.13467105505109334,
                    -0.977029151573115,
                    0.763546288536521,
                    -1.3430638347662076,
                    -0.8952301949472096,
                    -2.284450645749927,
                    0.8237278053146003,
                    0.4897196387265957,
                    -0.09698778535217137,
                    0.3036876818094441,
                    2.572159295231823,
                    -1.3688632995193528,
                    0.3480995132046122,
                    -0.715482119345779,
                    -0.22407665777146912,
                    -2.8952030766110473,
                    1.1152970688875075,
                    -0.40533481928326837,
                    0.6155186509320042,
                    1.186699957812302,
                    -0.31501332318615505,
                    0.41068369321607523,
                    -0.7133845944974545,
                    -0.9166980916968319,
                    -0.9158836591238659,
                    -0.8768169082910535,
                    -0.6655457719648636,
                    1.522949002308957,
                    0.7635046451431491,
                    -0.9160553350563346,
                    0.9818650844125953,
                    0.9817757426707524,
                    1.4564042531030386,
                    0.7475502969248169,
                    -0.4367843500387564,
                    0.9813506593996986,
                    1.5849208046161924,
                    -0.22726933321225884,
                    -0.6490275283612017,
                    -0.6857300547884588
                  ],
                  "marker": {
                    "color": "rgba(128, 0, 128, 1.0)"
                  },
                  "line": {
                    "width": 1.3
                  },
                  "boxpoints": false,
                  "type": "box",
                  "name": "D"
                }
              ],
              "config": {
                "plotlyServerURL": "https://plot.ly",
                "linkText": "Export to plot.ly",
                "showLink": true
              },
              "layout": {
                "template": {
                  "layout": {
                    "shapedefaults": {
                      "line": {
                        "color": "#2a3f5f"
                      }
                    },
                    "polar": {
                      "radialaxis": {
                        "ticks": "",
                        "gridcolor": "white",
                        "linecolor": "white"
                      },
                      "bgcolor": "#E5ECF6",
                      "angularaxis": {
                        "ticks": "",
                        "gridcolor": "white",
                        "linecolor": "white"
                      }
                    },
                    "colorway": [
                      "#636efa",
                      "#EF553B",
                      "#00cc96",
                      "#ab63fa",
                      "#FFA15A",
                      "#19d3f3",
                      "#FF6692",
                      "#B6E880",
                      "#FF97FF",
                      "#FECB52"
                    ],
                    "xaxis": {
                      "automargin": true,
                      "title": {
                        "standoff": 15
                      },
                      "zerolinewidth": 2,
                      "ticks": "",
                      "zerolinecolor": "white",
                      "gridcolor": "white",
                      "linecolor": "white"
                    },
                    "colorscale": {
                      "diverging": [
                        [
                          0,
                          "#8e0152"
                        ],
                        [
                          0.1,
                          "#c51b7d"
                        ],
                        [
                          0.2,
                          "#de77ae"
                        ],
                        [
                          0.3,
                          "#f1b6da"
                        ],
                        [
                          0.4,
                          "#fde0ef"
                        ],
                        [
                          0.5,
                          "#f7f7f7"
                        ],
                        [
                          0.6,
                          "#e6f5d0"
                        ],
                        [
                          0.7,
                          "#b8e186"
                        ],
                        [
                          0.8,
                          "#7fbc41"
                        ],
                        [
                          0.9,
                          "#4d9221"
                        ],
                        [
                          1,
                          "#276419"
                        ]
                      ],
                      "sequential": [
                        [
                          0,
                          "#0d0887"
                        ],
                        [
                          0.1111111111111111,
                          "#46039f"
                        ],
                        [
                          0.2222222222222222,
                          "#7201a8"
                        ],
                        [
                          0.3333333333333333,
                          "#9c179e"
                        ],
                        [
                          0.4444444444444444,
                          "#bd3786"
                        ],
                        [
                          0.5555555555555556,
                          "#d8576b"
                        ],
                        [
                          0.6666666666666666,
                          "#ed7953"
                        ],
                        [
                          0.7777777777777778,
                          "#fb9f3a"
                        ],
                        [
                          0.8888888888888888,
                          "#fdca26"
                        ],
                        [
                          1,
                          "#f0f921"
                        ]
                      ],
                      "sequentialminus": [
                        [
                          0,
                          "#0d0887"
                        ],
                        [
                          0.1111111111111111,
                          "#46039f"
                        ],
                        [
                          0.2222222222222222,
                          "#7201a8"
                        ],
                        [
                          0.3333333333333333,
                          "#9c179e"
                        ],
                        [
                          0.4444444444444444,
                          "#bd3786"
                        ],
                        [
                          0.5555555555555556,
                          "#d8576b"
                        ],
                        [
                          0.6666666666666666,
                          "#ed7953"
                        ],
                        [
                          0.7777777777777778,
                          "#fb9f3a"
                        ],
                        [
                          0.8888888888888888,
                          "#fdca26"
                        ],
                        [
                          1,
                          "#f0f921"
                        ]
                      ]
                    },
                    "paper_bgcolor": "white",
                    "plot_bgcolor": "#E5ECF6",
                    "title": {
                      "x": 0.05
                    },
                    "scene": {
                      "zaxis": {
                        "backgroundcolor": "#E5ECF6",
                        "ticks": "",
                        "gridwidth": 2,
                        "showbackground": true,
                        "zerolinecolor": "white",
                        "gridcolor": "white",
                        "linecolor": "white"
                      },
                      "xaxis": {
                        "backgroundcolor": "#E5ECF6",
                        "ticks": "",
                        "gridwidth": 2,
                        "showbackground": true,
                        "zerolinecolor": "white",
                        "gridcolor": "white",
                        "linecolor": "white"
                      },
                      "yaxis": {
                        "backgroundcolor": "#E5ECF6",
                        "ticks": "",
                        "gridwidth": 2,
                        "showbackground": true,
                        "zerolinecolor": "white",
                        "gridcolor": "white",
                        "linecolor": "white"
                      }
                    },
                    "yaxis": {
                      "automargin": true,
                      "title": {
                        "standoff": 15
                      },
                      "zerolinewidth": 2,
                      "ticks": "",
                      "zerolinecolor": "white",
                      "gridcolor": "white",
                      "linecolor": "white"
                    },
                    "annotationdefaults": {
                      "arrowwidth": 1,
                      "arrowhead": 0,
                      "arrowcolor": "#2a3f5f"
                    },
                    "hoverlabel": {
                      "align": "left"
                    },
                    "ternary": {
                      "bgcolor": "#E5ECF6",
                      "baxis": {
                        "ticks": "",
                        "gridcolor": "white",
                        "linecolor": "white"
                      },
                      "caxis": {
                        "ticks": "",
                        "gridcolor": "white",
                        "linecolor": "white"
                      },
                      "aaxis": {
                        "ticks": "",
                        "gridcolor": "white",
                        "linecolor": "white"
                      }
                    },
                    "mapbox": {
                      "style": "light"
                    },
                    "hovermode": "closest",
                    "font": {
                      "color": "#2a3f5f"
                    },
                    "geo": {
                      "showland": true,
                      "landcolor": "#E5ECF6",
                      "showlakes": true,
                      "bgcolor": "white",
                      "subunitcolor": "white",
                      "lakecolor": "white"
                    },
                    "coloraxis": {
                      "colorbar": {
                        "outlinewidth": 0,
                        "ticks": ""
                      }
                    }
                  },
                  "data": {
                    "mesh3d": [
                      {
                        "colorbar": {
                          "outlinewidth": 0,
                          "ticks": ""
                        },
                        "type": "mesh3d"
                      }
                    ],
                    "scattercarpet": [
                      {
                        "marker": {
                          "colorbar": {
                            "outlinewidth": 0,
                            "ticks": ""
                          }
                        },
                        "type": "scattercarpet"
                      }
                    ],
                    "pie": [
                      {
                        "automargin": true,
                        "type": "pie"
                      }
                    ],
                    "surface": [
                      {
                        "colorbar": {
                          "outlinewidth": 0,
                          "ticks": ""
                        },
                        "type": "surface",
                        "colorscale": [
                          [
                            0,
                            "#0d0887"
                          ],
                          [
                            0.1111111111111111,
                            "#46039f"
                          ],
                          [
                            0.2222222222222222,
                            "#7201a8"
                          ],
                          [
                            0.3333333333333333,
                            "#9c179e"
                          ],
                          [
                            0.4444444444444444,
                            "#bd3786"
                          ],
                          [
                            0.5555555555555556,
                            "#d8576b"
                          ],
                          [
                            0.6666666666666666,
                            "#ed7953"
                          ],
                          [
                            0.7777777777777778,
                            "#fb9f3a"
                          ],
                          [
                            0.8888888888888888,
                            "#fdca26"
                          ],
                          [
                            1,
                            "#f0f921"
                          ]
                        ]
                      }
                    ],
                    "table": [
                      {
                        "header": {
                          "line": {
                            "color": "white"
                          },
                          "fill": {
                            "color": "#C8D4E3"
                          }
                        },
                        "cells": {
                          "line": {
                            "color": "white"
                          },
                          "fill": {
                            "color": "#EBF0F8"
                          }
                        },
                        "type": "table"
                      }
                    ],
                    "scatterpolargl": [
                      {
                        "marker": {
                          "colorbar": {
                            "outlinewidth": 0,
                            "ticks": ""
                          }
                        },
                        "type": "scatterpolargl"
                      }
                    ],
                    "contour": [
                      {
                        "colorbar": {
                          "outlinewidth": 0,
                          "ticks": ""
                        },
                        "type": "contour",
                        "colorscale": [
                          [
                            0,
                            "#0d0887"
                          ],
                          [
                            0.1111111111111111,
                            "#46039f"
                          ],
                          [
                            0.2222222222222222,
                            "#7201a8"
                          ],
                          [
                            0.3333333333333333,
                            "#9c179e"
                          ],
                          [
                            0.4444444444444444,
                            "#bd3786"
                          ],
                          [
                            0.5555555555555556,
                            "#d8576b"
                          ],
                          [
                            0.6666666666666666,
                            "#ed7953"
                          ],
                          [
                            0.7777777777777778,
                            "#fb9f3a"
                          ],
                          [
                            0.8888888888888888,
                            "#fdca26"
                          ],
                          [
                            1,
                            "#f0f921"
                          ]
                        ]
                      }
                    ],
                    "carpet": [
                      {
                        "type": "carpet",
                        "baxis": {
                          "minorgridcolor": "white",
                          "gridcolor": "white",
                          "linecolor": "white",
                          "endlinecolor": "#2a3f5f",
                          "startlinecolor": "#2a3f5f"
                        },
                        "aaxis": {
                          "minorgridcolor": "white",
                          "gridcolor": "white",
                          "linecolor": "white",
                          "endlinecolor": "#2a3f5f",
                          "startlinecolor": "#2a3f5f"
                        }
                      }
                    ],
                    "contourcarpet": [
                      {
                        "colorbar": {
                          "outlinewidth": 0,
                          "ticks": ""
                        },
                        "type": "contourcarpet"
                      }
                    ],
                    "heatmap": [
                      {
                        "colorbar": {
                          "outlinewidth": 0,
                          "ticks": ""
                        },
                        "type": "heatmap",
                        "colorscale": [
                          [
                            0,
                            "#0d0887"
                          ],
                          [
                            0.1111111111111111,
                            "#46039f"
                          ],
                          [
                            0.2222222222222222,
                            "#7201a8"
                          ],
                          [
                            0.3333333333333333,
                            "#9c179e"
                          ],
                          [
                            0.4444444444444444,
                            "#bd3786"
                          ],
                          [
                            0.5555555555555556,
                            "#d8576b"
                          ],
                          [
                            0.6666666666666666,
                            "#ed7953"
                          ],
                          [
                            0.7777777777777778,
                            "#fb9f3a"
                          ],
                          [
                            0.8888888888888888,
                            "#fdca26"
                          ],
                          [
                            1,
                            "#f0f921"
                          ]
                        ]
                      }
                    ],
                    "scattermapbox": [
                      {
                        "marker": {
                          "colorbar": {
                            "outlinewidth": 0,
                            "ticks": ""
                          }
                        },
                        "type": "scattermapbox"
                      }
                    ],
                    "scatter3d": [
                      {
                        "marker": {
                          "colorbar": {
                            "outlinewidth": 0,
                            "ticks": ""
                          }
                        },
                        "line": {
                          "colorbar": {
                            "outlinewidth": 0,
                            "ticks": ""
                          }
                        },
                        "type": "scatter3d"
                      }
                    ],
                    "scattergl": [
                      {
                        "marker": {
                          "colorbar": {
                            "outlinewidth": 0,
                            "ticks": ""
                          }
                        },
                        "type": "scattergl"
                      }
                    ],
                    "scatterternary": [
                      {
                        "marker": {
                          "colorbar": {
                            "outlinewidth": 0,
                            "ticks": ""
                          }
                        },
                        "type": "scatterternary"
                      }
                    ],
                    "histogram": [
                      {
                        "marker": {
                          "colorbar": {
                            "outlinewidth": 0,
                            "ticks": ""
                          }
                        },
                        "type": "histogram"
                      }
                    ],
                    "heatmapgl": [
                      {
                        "colorbar": {
                          "outlinewidth": 0,
                          "ticks": ""
                        },
                        "type": "heatmapgl",
                        "colorscale": [
                          [
                            0,
                            "#0d0887"
                          ],
                          [
                            0.1111111111111111,
                            "#46039f"
                          ],
                          [
                            0.2222222222222222,
                            "#7201a8"
                          ],
                          [
                            0.3333333333333333,
                            "#9c179e"
                          ],
                          [
                            0.4444444444444444,
                            "#bd3786"
                          ],
                          [
                            0.5555555555555556,
                            "#d8576b"
                          ],
                          [
                            0.6666666666666666,
                            "#ed7953"
                          ],
                          [
                            0.7777777777777778,
                            "#fb9f3a"
                          ],
                          [
                            0.8888888888888888,
                            "#fdca26"
                          ],
                          [
                            1,
                            "#f0f921"
                          ]
                        ]
                      }
                    ],
                    "scatterpolar": [
                      {
                        "marker": {
                          "colorbar": {
                            "outlinewidth": 0,
                            "ticks": ""
                          }
                        },
                        "type": "scatterpolar"
                      }
                    ],
                    "histogram2d": [
                      {
                        "colorbar": {
                          "outlinewidth": 0,
                          "ticks": ""
                        },
                        "type": "histogram2d",
                        "colorscale": [
                          [
                            0,
                            "#0d0887"
                          ],
                          [
                            0.1111111111111111,
                            "#46039f"
                          ],
                          [
                            0.2222222222222222,
                            "#7201a8"
                          ],
                          [
                            0.3333333333333333,
                            "#9c179e"
                          ],
                          [
                            0.4444444444444444,
                            "#bd3786"
                          ],
                          [
                            0.5555555555555556,
                            "#d8576b"
                          ],
                          [
                            0.6666666666666666,
                            "#ed7953"
                          ],
                          [
                            0.7777777777777778,
                            "#fb9f3a"
                          ],
                          [
                            0.8888888888888888,
                            "#fdca26"
                          ],
                          [
                            1,
                            "#f0f921"
                          ]
                        ]
                      }
                    ],
                    "scattergeo": [
                      {
                        "marker": {
                          "colorbar": {
                            "outlinewidth": 0,
                            "ticks": ""
                          }
                        },
                        "type": "scattergeo"
                      }
                    ],
                    "bar": [
                      {
                        "marker": {
                          "line": {
                            "color": "#E5ECF6",
                            "width": 0.5
                          }
                        },
                        "type": "bar",
                        "error_x": {
                          "color": "#2a3f5f"
                        },
                        "error_y": {
                          "color": "#2a3f5f"
                        }
                      }
                    ],
                    "choropleth": [
                      {
                        "colorbar": {
                          "outlinewidth": 0,
                          "ticks": ""
                        },
                        "type": "choropleth"
                      }
                    ],
                    "parcoords": [
                      {
                        "line": {
                          "colorbar": {
                            "outlinewidth": 0,
                            "ticks": ""
                          }
                        },
                        "type": "parcoords"
                      }
                    ],
                    "barpolar": [
                      {
                        "marker": {
                          "line": {
                            "color": "#E5ECF6",
                            "width": 0.5
                          }
                        },
                        "type": "barpolar"
                      }
                    ],
                    "histogram2dcontour": [
                      {
                        "colorbar": {
                          "outlinewidth": 0,
                          "ticks": ""
                        },
                        "type": "histogram2dcontour",
                        "colorscale": [
                          [
                            0,
                            "#0d0887"
                          ],
                          [
                            0.1111111111111111,
                            "#46039f"
                          ],
                          [
                            0.2222222222222222,
                            "#7201a8"
                          ],
                          [
                            0.3333333333333333,
                            "#9c179e"
                          ],
                          [
                            0.4444444444444444,
                            "#bd3786"
                          ],
                          [
                            0.5555555555555556,
                            "#d8576b"
                          ],
                          [
                            0.6666666666666666,
                            "#ed7953"
                          ],
                          [
                            0.7777777777777778,
                            "#fb9f3a"
                          ],
                          [
                            0.8888888888888888,
                            "#fdca26"
                          ],
                          [
                            1,
                            "#f0f921"
                          ]
                        ]
                      }
                    ],
                    "scatter": [
                      {
                        "marker": {
                          "colorbar": {
                            "outlinewidth": 0,
                            "ticks": ""
                          }
                        },
                        "type": "scatter"
                      }
                    ]
                  }
                },
                "title": {
                  "font": {
                    "color": "#4D5663"
                  }
                },
                "paper_bgcolor": "#F5F6F9",
                "plot_bgcolor": "#F5F6F9",
                "yaxis": {
                  "tickfont": {
                    "color": "#4D5663"
                  },
                  "zerolinecolor": "#E1E5ED",
                  "title": {
                    "text": "",
                    "font": {
                      "color": "#4D5663"
                    }
                  },
                  "gridcolor": "#E1E5ED",
                  "showgrid": true
                },
                "xaxis": {
                  "tickfont": {
                    "color": "#4D5663"
                  },
                  "zerolinecolor": "#E1E5ED",
                  "title": {
                    "text": "",
                    "font": {
                      "color": "#4D5663"
                    }
                  },
                  "gridcolor": "#E1E5ED",
                  "showgrid": true
                },
                "legend": {
                  "bgcolor": "#F5F6F9",
                  "font": {
                    "color": "#4D5663"
                  }
                }
              }
            }
          },
          "metadata": {
            "tags": []
          }
        }
      ]
    },
    {
      "cell_type": "markdown",
      "metadata": {
        "id": "CXt5vhO5YZlI",
        "colab_type": "text"
      },
      "source": [
        "## 3d Surface"
      ]
    },
    {
      "cell_type": "code",
      "metadata": {
        "id": "8g9W6xGgYZlJ",
        "colab_type": "code",
        "colab": {
          "base_uri": "https://localhost:8080/",
          "height": 542
        },
        "outputId": "bb984ead-5c31-485a-b22d-9512b34240d6"
      },
      "source": [
        "df3 = pd.DataFrame({'x':[1,2,3,4,5],'y':[10,20,30,20,10],'z':[5,4,3,2,1]})\n",
        "df3.iplot(kind='surface',colorscale='rdylbu')"
      ],
      "execution_count": 16,
      "outputs": [
        {
          "output_type": "display_data",
          "data": {
            "text/html": [
              "<div>\n",
              "        \n",
              "        \n",
              "            <div id=\"28760a56-98f4-4995-9083-7a187fa5a54b\" class=\"plotly-graph-div\" style=\"height:525px; width:100%;\"></div>\n",
              "            <script type=\"text/javascript\">\n",
              "                require([\"plotly\"], function(Plotly) {\n",
              "                    window.PLOTLYENV=window.PLOTLYENV || {};\n",
              "                    window.PLOTLYENV.BASE_URL='https://plot.ly';\n",
              "                    \n",
              "                if (document.getElementById(\"28760a56-98f4-4995-9083-7a187fa5a54b\")) {\n",
              "                    Plotly.newPlot(\n",
              "                        '28760a56-98f4-4995-9083-7a187fa5a54b',\n",
              "                        [{\"colorscale\": [[0.0, \"rgb(165,0,38)\"], [0.1, \"rgb(215,48,39)\"], [0.2, \"rgb(244,109,67)\"], [0.3, \"rgb(253,174,97)\"], [0.4, \"rgb(254,224,144)\"], [0.5, \"rgb(255,255,191)\"], [0.6, \"rgb(224,243,248)\"], [0.7, \"rgb(171,217,233)\"], [0.8, \"rgb(116,173,209)\"], [0.9, \"rgb(69,117,180)\"], [1.0, \"rgb(49,54,149)\"]], \"type\": \"surface\", \"x\": [0, 1, 2, 3, 4], \"y\": [\"x\", \"y\", \"z\"], \"z\": [[1, 2, 3, 4, 5], [10, 20, 30, 20, 10], [5, 4, 3, 2, 1]]}],\n",
              "                        {\"legend\": {\"bgcolor\": \"#F5F6F9\", \"font\": {\"color\": \"#4D5663\"}}, \"paper_bgcolor\": \"#F5F6F9\", \"plot_bgcolor\": \"#F5F6F9\", \"template\": {\"data\": {\"bar\": [{\"error_x\": {\"color\": \"#2a3f5f\"}, \"error_y\": {\"color\": \"#2a3f5f\"}, \"marker\": {\"line\": {\"color\": \"#E5ECF6\", \"width\": 0.5}}, \"type\": \"bar\"}], \"barpolar\": [{\"marker\": {\"line\": {\"color\": \"#E5ECF6\", \"width\": 0.5}}, \"type\": \"barpolar\"}], \"carpet\": [{\"aaxis\": {\"endlinecolor\": \"#2a3f5f\", \"gridcolor\": \"white\", \"linecolor\": \"white\", \"minorgridcolor\": \"white\", \"startlinecolor\": \"#2a3f5f\"}, \"baxis\": {\"endlinecolor\": \"#2a3f5f\", \"gridcolor\": \"white\", \"linecolor\": \"white\", \"minorgridcolor\": \"white\", \"startlinecolor\": \"#2a3f5f\"}, \"type\": \"carpet\"}], \"choropleth\": [{\"colorbar\": {\"outlinewidth\": 0, \"ticks\": \"\"}, \"type\": \"choropleth\"}], \"contour\": [{\"colorbar\": {\"outlinewidth\": 0, \"ticks\": \"\"}, \"colorscale\": [[0.0, \"#0d0887\"], [0.1111111111111111, \"#46039f\"], [0.2222222222222222, \"#7201a8\"], [0.3333333333333333, \"#9c179e\"], [0.4444444444444444, \"#bd3786\"], [0.5555555555555556, \"#d8576b\"], [0.6666666666666666, \"#ed7953\"], [0.7777777777777778, \"#fb9f3a\"], [0.8888888888888888, \"#fdca26\"], [1.0, \"#f0f921\"]], \"type\": \"contour\"}], \"contourcarpet\": [{\"colorbar\": {\"outlinewidth\": 0, \"ticks\": \"\"}, \"type\": \"contourcarpet\"}], \"heatmap\": [{\"colorbar\": {\"outlinewidth\": 0, \"ticks\": \"\"}, \"colorscale\": [[0.0, \"#0d0887\"], [0.1111111111111111, \"#46039f\"], [0.2222222222222222, \"#7201a8\"], [0.3333333333333333, \"#9c179e\"], [0.4444444444444444, \"#bd3786\"], [0.5555555555555556, \"#d8576b\"], [0.6666666666666666, \"#ed7953\"], [0.7777777777777778, \"#fb9f3a\"], [0.8888888888888888, \"#fdca26\"], [1.0, \"#f0f921\"]], \"type\": \"heatmap\"}], \"heatmapgl\": [{\"colorbar\": {\"outlinewidth\": 0, \"ticks\": \"\"}, \"colorscale\": [[0.0, \"#0d0887\"], [0.1111111111111111, \"#46039f\"], [0.2222222222222222, \"#7201a8\"], [0.3333333333333333, \"#9c179e\"], [0.4444444444444444, \"#bd3786\"], [0.5555555555555556, \"#d8576b\"], [0.6666666666666666, \"#ed7953\"], [0.7777777777777778, \"#fb9f3a\"], [0.8888888888888888, \"#fdca26\"], [1.0, \"#f0f921\"]], \"type\": \"heatmapgl\"}], \"histogram\": [{\"marker\": {\"colorbar\": {\"outlinewidth\": 0, \"ticks\": \"\"}}, \"type\": \"histogram\"}], \"histogram2d\": [{\"colorbar\": {\"outlinewidth\": 0, \"ticks\": \"\"}, \"colorscale\": [[0.0, \"#0d0887\"], [0.1111111111111111, \"#46039f\"], [0.2222222222222222, \"#7201a8\"], [0.3333333333333333, \"#9c179e\"], [0.4444444444444444, \"#bd3786\"], [0.5555555555555556, \"#d8576b\"], [0.6666666666666666, \"#ed7953\"], [0.7777777777777778, \"#fb9f3a\"], [0.8888888888888888, \"#fdca26\"], [1.0, \"#f0f921\"]], \"type\": \"histogram2d\"}], \"histogram2dcontour\": [{\"colorbar\": {\"outlinewidth\": 0, \"ticks\": \"\"}, \"colorscale\": [[0.0, \"#0d0887\"], [0.1111111111111111, \"#46039f\"], [0.2222222222222222, \"#7201a8\"], [0.3333333333333333, \"#9c179e\"], [0.4444444444444444, \"#bd3786\"], [0.5555555555555556, \"#d8576b\"], [0.6666666666666666, \"#ed7953\"], [0.7777777777777778, \"#fb9f3a\"], [0.8888888888888888, \"#fdca26\"], [1.0, \"#f0f921\"]], \"type\": \"histogram2dcontour\"}], \"mesh3d\": [{\"colorbar\": {\"outlinewidth\": 0, \"ticks\": \"\"}, \"type\": \"mesh3d\"}], \"parcoords\": [{\"line\": {\"colorbar\": {\"outlinewidth\": 0, \"ticks\": \"\"}}, \"type\": \"parcoords\"}], \"pie\": [{\"automargin\": true, \"type\": \"pie\"}], \"scatter\": [{\"marker\": {\"colorbar\": {\"outlinewidth\": 0, \"ticks\": \"\"}}, \"type\": \"scatter\"}], \"scatter3d\": [{\"line\": {\"colorbar\": {\"outlinewidth\": 0, \"ticks\": \"\"}}, \"marker\": {\"colorbar\": {\"outlinewidth\": 0, \"ticks\": \"\"}}, \"type\": \"scatter3d\"}], \"scattercarpet\": [{\"marker\": {\"colorbar\": {\"outlinewidth\": 0, \"ticks\": \"\"}}, \"type\": \"scattercarpet\"}], \"scattergeo\": [{\"marker\": {\"colorbar\": {\"outlinewidth\": 0, \"ticks\": \"\"}}, \"type\": \"scattergeo\"}], \"scattergl\": [{\"marker\": {\"colorbar\": {\"outlinewidth\": 0, \"ticks\": \"\"}}, \"type\": \"scattergl\"}], \"scattermapbox\": [{\"marker\": {\"colorbar\": {\"outlinewidth\": 0, \"ticks\": \"\"}}, \"type\": \"scattermapbox\"}], \"scatterpolar\": [{\"marker\": {\"colorbar\": {\"outlinewidth\": 0, \"ticks\": \"\"}}, \"type\": \"scatterpolar\"}], \"scatterpolargl\": [{\"marker\": {\"colorbar\": {\"outlinewidth\": 0, \"ticks\": \"\"}}, \"type\": \"scatterpolargl\"}], \"scatterternary\": [{\"marker\": {\"colorbar\": {\"outlinewidth\": 0, \"ticks\": \"\"}}, \"type\": \"scatterternary\"}], \"surface\": [{\"colorbar\": {\"outlinewidth\": 0, \"ticks\": \"\"}, \"colorscale\": [[0.0, \"#0d0887\"], [0.1111111111111111, \"#46039f\"], [0.2222222222222222, \"#7201a8\"], [0.3333333333333333, \"#9c179e\"], [0.4444444444444444, \"#bd3786\"], [0.5555555555555556, \"#d8576b\"], [0.6666666666666666, \"#ed7953\"], [0.7777777777777778, \"#fb9f3a\"], [0.8888888888888888, \"#fdca26\"], [1.0, \"#f0f921\"]], \"type\": \"surface\"}], \"table\": [{\"cells\": {\"fill\": {\"color\": \"#EBF0F8\"}, \"line\": {\"color\": \"white\"}}, \"header\": {\"fill\": {\"color\": \"#C8D4E3\"}, \"line\": {\"color\": \"white\"}}, \"type\": \"table\"}]}, \"layout\": {\"annotationdefaults\": {\"arrowcolor\": \"#2a3f5f\", \"arrowhead\": 0, \"arrowwidth\": 1}, \"coloraxis\": {\"colorbar\": {\"outlinewidth\": 0, \"ticks\": \"\"}}, \"colorscale\": {\"diverging\": [[0, \"#8e0152\"], [0.1, \"#c51b7d\"], [0.2, \"#de77ae\"], [0.3, \"#f1b6da\"], [0.4, \"#fde0ef\"], [0.5, \"#f7f7f7\"], [0.6, \"#e6f5d0\"], [0.7, \"#b8e186\"], [0.8, \"#7fbc41\"], [0.9, \"#4d9221\"], [1, \"#276419\"]], \"sequential\": [[0.0, \"#0d0887\"], [0.1111111111111111, \"#46039f\"], [0.2222222222222222, \"#7201a8\"], [0.3333333333333333, \"#9c179e\"], [0.4444444444444444, \"#bd3786\"], [0.5555555555555556, \"#d8576b\"], [0.6666666666666666, \"#ed7953\"], [0.7777777777777778, \"#fb9f3a\"], [0.8888888888888888, \"#fdca26\"], [1.0, \"#f0f921\"]], \"sequentialminus\": [[0.0, \"#0d0887\"], [0.1111111111111111, \"#46039f\"], [0.2222222222222222, \"#7201a8\"], [0.3333333333333333, \"#9c179e\"], [0.4444444444444444, \"#bd3786\"], [0.5555555555555556, \"#d8576b\"], [0.6666666666666666, \"#ed7953\"], [0.7777777777777778, \"#fb9f3a\"], [0.8888888888888888, \"#fdca26\"], [1.0, \"#f0f921\"]]}, \"colorway\": [\"#636efa\", \"#EF553B\", \"#00cc96\", \"#ab63fa\", \"#FFA15A\", \"#19d3f3\", \"#FF6692\", \"#B6E880\", \"#FF97FF\", \"#FECB52\"], \"font\": {\"color\": \"#2a3f5f\"}, \"geo\": {\"bgcolor\": \"white\", \"lakecolor\": \"white\", \"landcolor\": \"#E5ECF6\", \"showlakes\": true, \"showland\": true, \"subunitcolor\": \"white\"}, \"hoverlabel\": {\"align\": \"left\"}, \"hovermode\": \"closest\", \"mapbox\": {\"style\": \"light\"}, \"paper_bgcolor\": \"white\", \"plot_bgcolor\": \"#E5ECF6\", \"polar\": {\"angularaxis\": {\"gridcolor\": \"white\", \"linecolor\": \"white\", \"ticks\": \"\"}, \"bgcolor\": \"#E5ECF6\", \"radialaxis\": {\"gridcolor\": \"white\", \"linecolor\": \"white\", \"ticks\": \"\"}}, \"scene\": {\"xaxis\": {\"backgroundcolor\": \"#E5ECF6\", \"gridcolor\": \"white\", \"gridwidth\": 2, \"linecolor\": \"white\", \"showbackground\": true, \"ticks\": \"\", \"zerolinecolor\": \"white\"}, \"yaxis\": {\"backgroundcolor\": \"#E5ECF6\", \"gridcolor\": \"white\", \"gridwidth\": 2, \"linecolor\": \"white\", \"showbackground\": true, \"ticks\": \"\", \"zerolinecolor\": \"white\"}, \"zaxis\": {\"backgroundcolor\": \"#E5ECF6\", \"gridcolor\": \"white\", \"gridwidth\": 2, \"linecolor\": \"white\", \"showbackground\": true, \"ticks\": \"\", \"zerolinecolor\": \"white\"}}, \"shapedefaults\": {\"line\": {\"color\": \"#2a3f5f\"}}, \"ternary\": {\"aaxis\": {\"gridcolor\": \"white\", \"linecolor\": \"white\", \"ticks\": \"\"}, \"baxis\": {\"gridcolor\": \"white\", \"linecolor\": \"white\", \"ticks\": \"\"}, \"bgcolor\": \"#E5ECF6\", \"caxis\": {\"gridcolor\": \"white\", \"linecolor\": \"white\", \"ticks\": \"\"}}, \"title\": {\"x\": 0.05}, \"xaxis\": {\"automargin\": true, \"gridcolor\": \"white\", \"linecolor\": \"white\", \"ticks\": \"\", \"title\": {\"standoff\": 15}, \"zerolinecolor\": \"white\", \"zerolinewidth\": 2}, \"yaxis\": {\"automargin\": true, \"gridcolor\": \"white\", \"linecolor\": \"white\", \"ticks\": \"\", \"title\": {\"standoff\": 15}, \"zerolinecolor\": \"white\", \"zerolinewidth\": 2}}}, \"title\": {\"font\": {\"color\": \"#4D5663\"}}, \"xaxis\": {\"gridcolor\": \"#E1E5ED\", \"showgrid\": true, \"tickfont\": {\"color\": \"#4D5663\"}, \"title\": {\"font\": {\"color\": \"#4D5663\"}, \"text\": \"\"}, \"zerolinecolor\": \"#E1E5ED\"}, \"yaxis\": {\"gridcolor\": \"#E1E5ED\", \"showgrid\": true, \"tickfont\": {\"color\": \"#4D5663\"}, \"title\": {\"font\": {\"color\": \"#4D5663\"}, \"text\": \"\"}, \"zerolinecolor\": \"#E1E5ED\"}},\n",
              "                        {\"showLink\": true, \"linkText\": \"Export to plot.ly\", \"plotlyServerURL\": \"https://plot.ly\", \"responsive\": true}\n",
              "                    ).then(function(){\n",
              "                            \n",
              "var gd = document.getElementById('28760a56-98f4-4995-9083-7a187fa5a54b');\n",
              "var x = new MutationObserver(function (mutations, observer) {{\n",
              "        var display = window.getComputedStyle(gd).display;\n",
              "        if (!display || display === 'none') {{\n",
              "            console.log([gd, 'removed!']);\n",
              "            Plotly.purge(gd);\n",
              "            observer.disconnect();\n",
              "        }}\n",
              "}});\n",
              "\n",
              "// Listen for the removal of the full notebook cells\n",
              "var notebookContainer = gd.closest('#notebook-container');\n",
              "if (notebookContainer) {{\n",
              "    x.observe(notebookContainer, {childList: true});\n",
              "}}\n",
              "\n",
              "// Listen for the clearing of the current output cell\n",
              "var outputEl = gd.closest('.output');\n",
              "if (outputEl) {{\n",
              "    x.observe(outputEl, {childList: true});\n",
              "}}\n",
              "\n",
              "                        })\n",
              "                };\n",
              "                });\n",
              "            </script>\n",
              "        </div>"
            ],
            "application/vnd.plotly.v1+json": {
              "data": [
                {
                  "y": [
                    "x",
                    "y",
                    "z"
                  ],
                  "x": [
                    0,
                    1,
                    2,
                    3,
                    4
                  ],
                  "z": [
                    [
                      1,
                      2,
                      3,
                      4,
                      5
                    ],
                    [
                      10,
                      20,
                      30,
                      20,
                      10
                    ],
                    [
                      5,
                      4,
                      3,
                      2,
                      1
                    ]
                  ],
                  "type": "surface",
                  "colorscale": [
                    [
                      0,
                      "rgb(165,0,38)"
                    ],
                    [
                      0.1,
                      "rgb(215,48,39)"
                    ],
                    [
                      0.2,
                      "rgb(244,109,67)"
                    ],
                    [
                      0.3,
                      "rgb(253,174,97)"
                    ],
                    [
                      0.4,
                      "rgb(254,224,144)"
                    ],
                    [
                      0.5,
                      "rgb(255,255,191)"
                    ],
                    [
                      0.6,
                      "rgb(224,243,248)"
                    ],
                    [
                      0.7,
                      "rgb(171,217,233)"
                    ],
                    [
                      0.8,
                      "rgb(116,173,209)"
                    ],
                    [
                      0.9,
                      "rgb(69,117,180)"
                    ],
                    [
                      1,
                      "rgb(49,54,149)"
                    ]
                  ]
                }
              ],
              "config": {
                "plotlyServerURL": "https://plot.ly",
                "linkText": "Export to plot.ly",
                "showLink": true
              },
              "layout": {
                "template": {
                  "layout": {
                    "shapedefaults": {
                      "line": {
                        "color": "#2a3f5f"
                      }
                    },
                    "polar": {
                      "radialaxis": {
                        "ticks": "",
                        "gridcolor": "white",
                        "linecolor": "white"
                      },
                      "bgcolor": "#E5ECF6",
                      "angularaxis": {
                        "ticks": "",
                        "gridcolor": "white",
                        "linecolor": "white"
                      }
                    },
                    "colorway": [
                      "#636efa",
                      "#EF553B",
                      "#00cc96",
                      "#ab63fa",
                      "#FFA15A",
                      "#19d3f3",
                      "#FF6692",
                      "#B6E880",
                      "#FF97FF",
                      "#FECB52"
                    ],
                    "xaxis": {
                      "automargin": true,
                      "title": {
                        "standoff": 15
                      },
                      "zerolinewidth": 2,
                      "ticks": "",
                      "zerolinecolor": "white",
                      "gridcolor": "white",
                      "linecolor": "white"
                    },
                    "colorscale": {
                      "diverging": [
                        [
                          0,
                          "#8e0152"
                        ],
                        [
                          0.1,
                          "#c51b7d"
                        ],
                        [
                          0.2,
                          "#de77ae"
                        ],
                        [
                          0.3,
                          "#f1b6da"
                        ],
                        [
                          0.4,
                          "#fde0ef"
                        ],
                        [
                          0.5,
                          "#f7f7f7"
                        ],
                        [
                          0.6,
                          "#e6f5d0"
                        ],
                        [
                          0.7,
                          "#b8e186"
                        ],
                        [
                          0.8,
                          "#7fbc41"
                        ],
                        [
                          0.9,
                          "#4d9221"
                        ],
                        [
                          1,
                          "#276419"
                        ]
                      ],
                      "sequential": [
                        [
                          0,
                          "#0d0887"
                        ],
                        [
                          0.1111111111111111,
                          "#46039f"
                        ],
                        [
                          0.2222222222222222,
                          "#7201a8"
                        ],
                        [
                          0.3333333333333333,
                          "#9c179e"
                        ],
                        [
                          0.4444444444444444,
                          "#bd3786"
                        ],
                        [
                          0.5555555555555556,
                          "#d8576b"
                        ],
                        [
                          0.6666666666666666,
                          "#ed7953"
                        ],
                        [
                          0.7777777777777778,
                          "#fb9f3a"
                        ],
                        [
                          0.8888888888888888,
                          "#fdca26"
                        ],
                        [
                          1,
                          "#f0f921"
                        ]
                      ],
                      "sequentialminus": [
                        [
                          0,
                          "#0d0887"
                        ],
                        [
                          0.1111111111111111,
                          "#46039f"
                        ],
                        [
                          0.2222222222222222,
                          "#7201a8"
                        ],
                        [
                          0.3333333333333333,
                          "#9c179e"
                        ],
                        [
                          0.4444444444444444,
                          "#bd3786"
                        ],
                        [
                          0.5555555555555556,
                          "#d8576b"
                        ],
                        [
                          0.6666666666666666,
                          "#ed7953"
                        ],
                        [
                          0.7777777777777778,
                          "#fb9f3a"
                        ],
                        [
                          0.8888888888888888,
                          "#fdca26"
                        ],
                        [
                          1,
                          "#f0f921"
                        ]
                      ]
                    },
                    "paper_bgcolor": "white",
                    "plot_bgcolor": "#E5ECF6",
                    "title": {
                      "x": 0.05
                    },
                    "scene": {
                      "zaxis": {
                        "backgroundcolor": "#E5ECF6",
                        "ticks": "",
                        "gridwidth": 2,
                        "showbackground": true,
                        "zerolinecolor": "white",
                        "gridcolor": "white",
                        "linecolor": "white"
                      },
                      "xaxis": {
                        "backgroundcolor": "#E5ECF6",
                        "ticks": "",
                        "gridwidth": 2,
                        "showbackground": true,
                        "zerolinecolor": "white",
                        "gridcolor": "white",
                        "linecolor": "white"
                      },
                      "yaxis": {
                        "backgroundcolor": "#E5ECF6",
                        "ticks": "",
                        "gridwidth": 2,
                        "showbackground": true,
                        "zerolinecolor": "white",
                        "gridcolor": "white",
                        "linecolor": "white"
                      }
                    },
                    "yaxis": {
                      "automargin": true,
                      "title": {
                        "standoff": 15
                      },
                      "zerolinewidth": 2,
                      "ticks": "",
                      "zerolinecolor": "white",
                      "gridcolor": "white",
                      "linecolor": "white"
                    },
                    "annotationdefaults": {
                      "arrowwidth": 1,
                      "arrowhead": 0,
                      "arrowcolor": "#2a3f5f"
                    },
                    "hoverlabel": {
                      "align": "left"
                    },
                    "ternary": {
                      "bgcolor": "#E5ECF6",
                      "baxis": {
                        "ticks": "",
                        "gridcolor": "white",
                        "linecolor": "white"
                      },
                      "caxis": {
                        "ticks": "",
                        "gridcolor": "white",
                        "linecolor": "white"
                      },
                      "aaxis": {
                        "ticks": "",
                        "gridcolor": "white",
                        "linecolor": "white"
                      }
                    },
                    "mapbox": {
                      "style": "light"
                    },
                    "hovermode": "closest",
                    "font": {
                      "color": "#2a3f5f"
                    },
                    "geo": {
                      "showland": true,
                      "landcolor": "#E5ECF6",
                      "showlakes": true,
                      "bgcolor": "white",
                      "subunitcolor": "white",
                      "lakecolor": "white"
                    },
                    "coloraxis": {
                      "colorbar": {
                        "outlinewidth": 0,
                        "ticks": ""
                      }
                    }
                  },
                  "data": {
                    "mesh3d": [
                      {
                        "colorbar": {
                          "outlinewidth": 0,
                          "ticks": ""
                        },
                        "type": "mesh3d"
                      }
                    ],
                    "scattercarpet": [
                      {
                        "marker": {
                          "colorbar": {
                            "outlinewidth": 0,
                            "ticks": ""
                          }
                        },
                        "type": "scattercarpet"
                      }
                    ],
                    "pie": [
                      {
                        "automargin": true,
                        "type": "pie"
                      }
                    ],
                    "surface": [
                      {
                        "colorbar": {
                          "outlinewidth": 0,
                          "ticks": ""
                        },
                        "type": "surface",
                        "colorscale": [
                          [
                            0,
                            "#0d0887"
                          ],
                          [
                            0.1111111111111111,
                            "#46039f"
                          ],
                          [
                            0.2222222222222222,
                            "#7201a8"
                          ],
                          [
                            0.3333333333333333,
                            "#9c179e"
                          ],
                          [
                            0.4444444444444444,
                            "#bd3786"
                          ],
                          [
                            0.5555555555555556,
                            "#d8576b"
                          ],
                          [
                            0.6666666666666666,
                            "#ed7953"
                          ],
                          [
                            0.7777777777777778,
                            "#fb9f3a"
                          ],
                          [
                            0.8888888888888888,
                            "#fdca26"
                          ],
                          [
                            1,
                            "#f0f921"
                          ]
                        ]
                      }
                    ],
                    "table": [
                      {
                        "header": {
                          "line": {
                            "color": "white"
                          },
                          "fill": {
                            "color": "#C8D4E3"
                          }
                        },
                        "cells": {
                          "line": {
                            "color": "white"
                          },
                          "fill": {
                            "color": "#EBF0F8"
                          }
                        },
                        "type": "table"
                      }
                    ],
                    "scatterpolargl": [
                      {
                        "marker": {
                          "colorbar": {
                            "outlinewidth": 0,
                            "ticks": ""
                          }
                        },
                        "type": "scatterpolargl"
                      }
                    ],
                    "contour": [
                      {
                        "colorbar": {
                          "outlinewidth": 0,
                          "ticks": ""
                        },
                        "type": "contour",
                        "colorscale": [
                          [
                            0,
                            "#0d0887"
                          ],
                          [
                            0.1111111111111111,
                            "#46039f"
                          ],
                          [
                            0.2222222222222222,
                            "#7201a8"
                          ],
                          [
                            0.3333333333333333,
                            "#9c179e"
                          ],
                          [
                            0.4444444444444444,
                            "#bd3786"
                          ],
                          [
                            0.5555555555555556,
                            "#d8576b"
                          ],
                          [
                            0.6666666666666666,
                            "#ed7953"
                          ],
                          [
                            0.7777777777777778,
                            "#fb9f3a"
                          ],
                          [
                            0.8888888888888888,
                            "#fdca26"
                          ],
                          [
                            1,
                            "#f0f921"
                          ]
                        ]
                      }
                    ],
                    "carpet": [
                      {
                        "type": "carpet",
                        "baxis": {
                          "minorgridcolor": "white",
                          "gridcolor": "white",
                          "linecolor": "white",
                          "endlinecolor": "#2a3f5f",
                          "startlinecolor": "#2a3f5f"
                        },
                        "aaxis": {
                          "minorgridcolor": "white",
                          "gridcolor": "white",
                          "linecolor": "white",
                          "endlinecolor": "#2a3f5f",
                          "startlinecolor": "#2a3f5f"
                        }
                      }
                    ],
                    "contourcarpet": [
                      {
                        "colorbar": {
                          "outlinewidth": 0,
                          "ticks": ""
                        },
                        "type": "contourcarpet"
                      }
                    ],
                    "heatmap": [
                      {
                        "colorbar": {
                          "outlinewidth": 0,
                          "ticks": ""
                        },
                        "type": "heatmap",
                        "colorscale": [
                          [
                            0,
                            "#0d0887"
                          ],
                          [
                            0.1111111111111111,
                            "#46039f"
                          ],
                          [
                            0.2222222222222222,
                            "#7201a8"
                          ],
                          [
                            0.3333333333333333,
                            "#9c179e"
                          ],
                          [
                            0.4444444444444444,
                            "#bd3786"
                          ],
                          [
                            0.5555555555555556,
                            "#d8576b"
                          ],
                          [
                            0.6666666666666666,
                            "#ed7953"
                          ],
                          [
                            0.7777777777777778,
                            "#fb9f3a"
                          ],
                          [
                            0.8888888888888888,
                            "#fdca26"
                          ],
                          [
                            1,
                            "#f0f921"
                          ]
                        ]
                      }
                    ],
                    "scattermapbox": [
                      {
                        "marker": {
                          "colorbar": {
                            "outlinewidth": 0,
                            "ticks": ""
                          }
                        },
                        "type": "scattermapbox"
                      }
                    ],
                    "scatter3d": [
                      {
                        "marker": {
                          "colorbar": {
                            "outlinewidth": 0,
                            "ticks": ""
                          }
                        },
                        "line": {
                          "colorbar": {
                            "outlinewidth": 0,
                            "ticks": ""
                          }
                        },
                        "type": "scatter3d"
                      }
                    ],
                    "scattergl": [
                      {
                        "marker": {
                          "colorbar": {
                            "outlinewidth": 0,
                            "ticks": ""
                          }
                        },
                        "type": "scattergl"
                      }
                    ],
                    "scatterternary": [
                      {
                        "marker": {
                          "colorbar": {
                            "outlinewidth": 0,
                            "ticks": ""
                          }
                        },
                        "type": "scatterternary"
                      }
                    ],
                    "histogram": [
                      {
                        "marker": {
                          "colorbar": {
                            "outlinewidth": 0,
                            "ticks": ""
                          }
                        },
                        "type": "histogram"
                      }
                    ],
                    "heatmapgl": [
                      {
                        "colorbar": {
                          "outlinewidth": 0,
                          "ticks": ""
                        },
                        "type": "heatmapgl",
                        "colorscale": [
                          [
                            0,
                            "#0d0887"
                          ],
                          [
                            0.1111111111111111,
                            "#46039f"
                          ],
                          [
                            0.2222222222222222,
                            "#7201a8"
                          ],
                          [
                            0.3333333333333333,
                            "#9c179e"
                          ],
                          [
                            0.4444444444444444,
                            "#bd3786"
                          ],
                          [
                            0.5555555555555556,
                            "#d8576b"
                          ],
                          [
                            0.6666666666666666,
                            "#ed7953"
                          ],
                          [
                            0.7777777777777778,
                            "#fb9f3a"
                          ],
                          [
                            0.8888888888888888,
                            "#fdca26"
                          ],
                          [
                            1,
                            "#f0f921"
                          ]
                        ]
                      }
                    ],
                    "scatterpolar": [
                      {
                        "marker": {
                          "colorbar": {
                            "outlinewidth": 0,
                            "ticks": ""
                          }
                        },
                        "type": "scatterpolar"
                      }
                    ],
                    "histogram2d": [
                      {
                        "colorbar": {
                          "outlinewidth": 0,
                          "ticks": ""
                        },
                        "type": "histogram2d",
                        "colorscale": [
                          [
                            0,
                            "#0d0887"
                          ],
                          [
                            0.1111111111111111,
                            "#46039f"
                          ],
                          [
                            0.2222222222222222,
                            "#7201a8"
                          ],
                          [
                            0.3333333333333333,
                            "#9c179e"
                          ],
                          [
                            0.4444444444444444,
                            "#bd3786"
                          ],
                          [
                            0.5555555555555556,
                            "#d8576b"
                          ],
                          [
                            0.6666666666666666,
                            "#ed7953"
                          ],
                          [
                            0.7777777777777778,
                            "#fb9f3a"
                          ],
                          [
                            0.8888888888888888,
                            "#fdca26"
                          ],
                          [
                            1,
                            "#f0f921"
                          ]
                        ]
                      }
                    ],
                    "scattergeo": [
                      {
                        "marker": {
                          "colorbar": {
                            "outlinewidth": 0,
                            "ticks": ""
                          }
                        },
                        "type": "scattergeo"
                      }
                    ],
                    "bar": [
                      {
                        "marker": {
                          "line": {
                            "color": "#E5ECF6",
                            "width": 0.5
                          }
                        },
                        "type": "bar",
                        "error_x": {
                          "color": "#2a3f5f"
                        },
                        "error_y": {
                          "color": "#2a3f5f"
                        }
                      }
                    ],
                    "choropleth": [
                      {
                        "colorbar": {
                          "outlinewidth": 0,
                          "ticks": ""
                        },
                        "type": "choropleth"
                      }
                    ],
                    "parcoords": [
                      {
                        "line": {
                          "colorbar": {
                            "outlinewidth": 0,
                            "ticks": ""
                          }
                        },
                        "type": "parcoords"
                      }
                    ],
                    "barpolar": [
                      {
                        "marker": {
                          "line": {
                            "color": "#E5ECF6",
                            "width": 0.5
                          }
                        },
                        "type": "barpolar"
                      }
                    ],
                    "histogram2dcontour": [
                      {
                        "colorbar": {
                          "outlinewidth": 0,
                          "ticks": ""
                        },
                        "type": "histogram2dcontour",
                        "colorscale": [
                          [
                            0,
                            "#0d0887"
                          ],
                          [
                            0.1111111111111111,
                            "#46039f"
                          ],
                          [
                            0.2222222222222222,
                            "#7201a8"
                          ],
                          [
                            0.3333333333333333,
                            "#9c179e"
                          ],
                          [
                            0.4444444444444444,
                            "#bd3786"
                          ],
                          [
                            0.5555555555555556,
                            "#d8576b"
                          ],
                          [
                            0.6666666666666666,
                            "#ed7953"
                          ],
                          [
                            0.7777777777777778,
                            "#fb9f3a"
                          ],
                          [
                            0.8888888888888888,
                            "#fdca26"
                          ],
                          [
                            1,
                            "#f0f921"
                          ]
                        ]
                      }
                    ],
                    "scatter": [
                      {
                        "marker": {
                          "colorbar": {
                            "outlinewidth": 0,
                            "ticks": ""
                          }
                        },
                        "type": "scatter"
                      }
                    ]
                  }
                },
                "title": {
                  "font": {
                    "color": "#4D5663"
                  }
                },
                "paper_bgcolor": "#F5F6F9",
                "plot_bgcolor": "#F5F6F9",
                "yaxis": {
                  "tickfont": {
                    "color": "#4D5663"
                  },
                  "zerolinecolor": "#E1E5ED",
                  "title": {
                    "text": "",
                    "font": {
                      "color": "#4D5663"
                    }
                  },
                  "gridcolor": "#E1E5ED",
                  "showgrid": true
                },
                "xaxis": {
                  "tickfont": {
                    "color": "#4D5663"
                  },
                  "zerolinecolor": "#E1E5ED",
                  "title": {
                    "text": "",
                    "font": {
                      "color": "#4D5663"
                    }
                  },
                  "gridcolor": "#E1E5ED",
                  "showgrid": true
                },
                "legend": {
                  "bgcolor": "#F5F6F9",
                  "font": {
                    "color": "#4D5663"
                  }
                }
              }
            }
          },
          "metadata": {
            "tags": []
          }
        }
      ]
    },
    {
      "cell_type": "markdown",
      "metadata": {
        "id": "v_q6OVN1YZlN",
        "colab_type": "text"
      },
      "source": [
        "## Spread"
      ]
    },
    {
      "cell_type": "code",
      "metadata": {
        "id": "J-QPAt8ZYZlO",
        "colab_type": "code",
        "colab": {
          "base_uri": "https://localhost:8080/",
          "height": 672
        },
        "outputId": "3cb32e83-8ad4-4895-ae04-19880545e69e"
      },
      "source": [
        "df[['A','B']].iplot(kind='spread')"
      ],
      "execution_count": 17,
      "outputs": [
        {
          "output_type": "stream",
          "text": [
            "/usr/local/lib/python3.6/dist-packages/cufflinks/plotlytools.py:849: FutureWarning:\n",
            "\n",
            "The pandas.np module is deprecated and will be removed from pandas in a future version. Import numpy directly instead\n",
            "\n",
            "/usr/local/lib/python3.6/dist-packages/cufflinks/plotlytools.py:850: FutureWarning:\n",
            "\n",
            "The pandas.np module is deprecated and will be removed from pandas in a future version. Import numpy directly instead\n",
            "\n"
          ],
          "name": "stderr"
        },
        {
          "output_type": "display_data",
          "data": {
            "text/html": [
              "<div>\n",
              "        \n",
              "        \n",
              "            <div id=\"d51b3305-7627-4c23-acee-722566b61bd3\" class=\"plotly-graph-div\" style=\"height:525px; width:100%;\"></div>\n",
              "            <script type=\"text/javascript\">\n",
              "                require([\"plotly\"], function(Plotly) {\n",
              "                    window.PLOTLYENV=window.PLOTLYENV || {};\n",
              "                    window.PLOTLYENV.BASE_URL='https://plot.ly';\n",
              "                    \n",
              "                if (document.getElementById(\"d51b3305-7627-4c23-acee-722566b61bd3\")) {\n",
              "                    Plotly.newPlot(\n",
              "                        'd51b3305-7627-4c23-acee-722566b61bd3',\n",
              "                        [{\"line\": {\"color\": \"rgba(255, 153, 51, 1.0)\", \"dash\": \"solid\", \"shape\": \"linear\", \"width\": 1.3}, \"mode\": \"lines\", \"name\": \"A\", \"text\": \"\", \"type\": \"scatter\", \"x\": [0, 1, 2, 3, 4, 5, 6, 7, 8, 9, 10, 11, 12, 13, 14, 15, 16, 17, 18, 19, 20, 21, 22, 23, 24, 25, 26, 27, 28, 29, 30, 31, 32, 33, 34, 35, 36, 37, 38, 39, 40, 41, 42, 43, 44, 45, 46, 47, 48, 49, 50, 51, 52, 53, 54, 55, 56, 57, 58, 59, 60, 61, 62, 63, 64, 65, 66, 67, 68, 69, 70, 71, 72, 73, 74, 75, 76, 77, 78, 79, 80, 81, 82, 83, 84, 85, 86, 87, 88, 89, 90, 91, 92, 93, 94, 95, 96, 97, 98, 99], \"y\": [0.033388217440508905, -0.6964117620033113, -1.1582806081079497, -0.2561921110075144, -0.9396395616723018, -1.8710775986328148, 1.1381065930965866, 0.2836313998887739, 0.8372825848844795, 0.5352062157485056, -0.10570195697932709, 1.3932461971675265, -1.0203377791552646, 1.4054722978405614, 1.2599083999065768, -0.8173466696833639, 0.749141786818367, 0.32314069513049737, 0.7835951532562746, -0.770714323484931, 1.3378126523628584, -0.11036438568990392, -1.2305529427537507, 0.11815301833078981, 0.11468249633092606, -1.5570788214620102, 0.3298883731176722, -0.1670048980170897, -0.44610787272009117, -1.040410419879342, -2.134223059509332, 1.2055267598805925, 0.7833271951513457, -0.30517818327250934, -1.054797078733294, 1.0339469118287643, 0.031724802569528074, 0.46524479084304915, 0.2696133157308018, -1.9022090457341743, -0.672553302714725, -1.4538759223619475, -0.8952596564969528, -1.6090791774457278, -0.9556876902032667, -1.2883809167343472, -1.013453792978003, -0.6001203860131052, -0.42238651267056765, -0.9170182467887845, -0.18415000223704875, 0.18274248152898628, 1.142934386894334, 0.6890288189881617, 0.5124153344064991, 0.9954018120132386, -0.27710289787528714, 0.5618092295029821, -1.5853615513089843, -0.0157622538163842, 0.0034350917010841247, -1.1545937310589027, -0.9052719576531694, -0.6408810782085186, -1.0539102470766974, -1.6088884404905042, 1.4254864256297581, -0.381852587029767, 0.49973553564455736, 0.12058127493662403, 0.10141909915549104, -2.23702939333417, 1.1966390259865207, -1.0238163568433811, 0.5306379570018278, 1.4703548194163234, -0.3706618777461258, -0.4550084839216992, 0.08172360222080535, 0.6328493435423694, -1.1647795582446374, 1.2494878059546373, 1.0678653724911056, 0.37109684888001876, -0.21332835621154117, -0.36165792593448076, -0.5427678072839484, -0.4522924354445968, 0.7548666787430129, -0.18127561554144686, 0.18500763008449855, 0.4227463117416283, 0.09356699424783808, 0.5616913468969047, -0.8108851809052096, -0.06592248187876751, 0.9053101300097707, 1.1852123122865834, 1.7821500045599021, 1.6772169106987314]}, {\"line\": {\"color\": \"rgba(55, 128, 191, 1.0)\", \"dash\": \"solid\", \"shape\": \"linear\", \"width\": 1.3}, \"mode\": \"lines\", \"name\": \"B\", \"text\": \"\", \"type\": \"scatter\", \"x\": [0, 1, 2, 3, 4, 5, 6, 7, 8, 9, 10, 11, 12, 13, 14, 15, 16, 17, 18, 19, 20, 21, 22, 23, 24, 25, 26, 27, 28, 29, 30, 31, 32, 33, 34, 35, 36, 37, 38, 39, 40, 41, 42, 43, 44, 45, 46, 47, 48, 49, 50, 51, 52, 53, 54, 55, 56, 57, 58, 59, 60, 61, 62, 63, 64, 65, 66, 67, 68, 69, 70, 71, 72, 73, 74, 75, 76, 77, 78, 79, 80, 81, 82, 83, 84, 85, 86, 87, 88, 89, 90, 91, 92, 93, 94, 95, 96, 97, 98, 99], \"y\": [-0.3185819437242191, 0.017143553003232212, -1.161883283271516, -0.6704437820758866, -0.4752021049002068, 0.8818848095813414, -1.6113668454298233, -0.33827338930798506, -1.22976132791649, -1.1088957196694917, -0.6591281589852449, -0.9959336166710657, 0.9843663632768888, -0.8954963504718098, -0.9708364965136446, -0.3456105679762152, -0.5363379641406554, -0.347986706152008, -1.9772259945605442, -1.3146882448697077, 1.382190391435313, 0.4345969579360139, 0.30113552461211096, -0.8470311410792175, 0.3685426426850477, 0.5951448453513402, 0.17061591052139344, 0.17415532756605645, 0.2981196168572048, 0.4977249129616586, 0.33480901130394974, 0.1868880359802086, -1.6650149993841277, -0.6404910513353013, -0.8824072467179087, -0.553742729869468, 0.36036163241066343, -2.275974570734227, -1.5874012126450154, 1.3419821073368021, -1.4171003468926828, 1.231652765552878, -1.8453235220960005, -0.7197969325839411, 1.3226340184457743, 0.20947818537722288, 0.29165688844925786, 0.5883754850166348, 0.3683509795965926, -0.3339353731153345, 1.309887025504271, 0.31546723226620027, 1.3263631277316312, -0.34567806682641433, -0.19141808194686688, -0.4713020694872677, 0.8852804183445554, -0.8576319218947199, -0.9145682759871094, -1.4002022553453086, -0.1835398022198471, 0.9597120405836465, 0.7459121859140037, 0.9582724578902626, 0.2515689421160934, -0.38993360906100594, -1.2295245875026266, -0.6031951925607657, -2.681150844317574, 0.08570599518645991, -0.30239374308582356, -0.17549857467971453, -0.34269764974175787, -0.6967515592890964, -0.6517567157566919, -0.7432742339004702, 0.9679312814459848, -0.10389313558341703, 0.6858706396566807, -0.3944155036832106, 0.301036982440157, 1.5086902264625675, -0.7373137660036858, -0.22448726844840527, -0.22652852888373978, -1.0077169954080438, 1.249022242931242, -0.09106059301916564, 1.2227833371035044, 1.1059491261446488, -0.8637469439487155, 2.124637526257138, 0.07570566559288731, -0.652759552671152, -0.35136007142557557, -0.42327448382840327, 1.2267554224089194, 0.46971004043741227, 0.5654883626864355, 1.3099927206532345]}, {\"connectgaps\": false, \"fill\": \"tozeroy\", \"line\": {\"color\": \"green\", \"dash\": \"solid\", \"shape\": \"linear\", \"width\": 0.5}, \"mode\": \"lines\", \"name\": \"Spread\", \"showlegend\": false, \"type\": \"scatter\", \"x\": [0, 1, 2, 3, 4, 5, 6, 7, 8, 9, 10, 11, 12, 13, 14, 15, 16, 17, 18, 19, 20, 21, 22, 23, 24, 25, 26, 27, 28, 29, 30, 31, 32, 33, 34, 35, 36, 37, 38, 39, 40, 41, 42, 43, 44, 45, 46, 47, 48, 49, 50, 51, 52, 53, 54, 55, 56, 57, 58, 59, 60, 61, 62, 63, 64, 65, 66, 67, 68, 69, 70, 71, 72, 73, 74, 75, 76, 77, 78, 79, 80, 81, 82, 83, 84, 85, 86, 87, 88, 89, 90, 91, 92, 93, 94, 95, 96, 97, 98, 99], \"xaxis\": \"x2\", \"y\": [0.351970161164728, \"\", 0.0036026751635662713, 0.41425167106837224, \"\", \"\", 2.74947343852641, 0.621904789196759, 2.0670439128009694, 1.6441019354179973, 0.5534262020059179, 2.3891798138385925, \"\", 2.300968648312371, 2.2307448964202212, \"\", 1.2854797509590223, 0.6711274012825054, 2.7608211478168188, 0.5439739213847767, \"\", \"\", \"\", 0.9651841594100073, \"\", \"\", 0.15927246259627878, \"\", \"\", \"\", \"\", 1.018638723900384, 2.4483421945354733, 0.3353128680627919, \"\", 1.5876896416982325, \"\", 2.741219361577276, 1.8570145283758173, \"\", 0.7445470441779578, \"\", 0.9500638655990477, \"\", \"\", \"\", \"\", \"\", \"\", \"\", \"\", \"\", \"\", 1.034706885814576, 0.7038334163533659, 1.4667038815005062, \"\", 1.4194411513977019, \"\", 1.3844400015289244, 0.18697489392093122, \"\", \"\", \"\", \"\", \"\", 2.655011013132385, 0.22134260553099872, 3.180886379962131, 0.03487527975016412, 0.4038128422413146, \"\", 1.5393366757282787, \"\", 1.1823946727585197, 2.2136290533167937, \"\", \"\", \"\", 1.02726484722558, \"\", \"\", 1.8051791384947915, 0.595584117328424, 0.013200172672198612, 0.6460590694735631, \"\", \"\", \"\", \"\", 1.048754574033214, \"\", 0.01786132865495077, 1.2144508995680567, \"\", 0.3573520019496358, \"\", 0.7155022718491711, 1.2166616418734666, 0.3672241900454969], \"yaxis\": \"y2\"}, {\"connectgaps\": false, \"fill\": \"tozeroy\", \"line\": {\"color\": \"red\", \"dash\": \"solid\", \"shape\": \"linear\", \"width\": 0.5}, \"mode\": \"lines\", \"name\": \"Spread\", \"showlegend\": false, \"type\": \"scatter\", \"x\": [0, 1, 2, 3, 4, 5, 6, 7, 8, 9, 10, 11, 12, 13, 14, 15, 16, 17, 18, 19, 20, 21, 22, 23, 24, 25, 26, 27, 28, 29, 30, 31, 32, 33, 34, 35, 36, 37, 38, 39, 40, 41, 42, 43, 44, 45, 46, 47, 48, 49, 50, 51, 52, 53, 54, 55, 56, 57, 58, 59, 60, 61, 62, 63, 64, 65, 66, 67, 68, 69, 70, 71, 72, 73, 74, 75, 76, 77, 78, 79, 80, 81, 82, 83, 84, 85, 86, 87, 88, 89, 90, 91, 92, 93, 94, 95, 96, 97, 98, 99], \"xaxis\": \"x2\", \"y\": [\"\", -0.7135553150065436, \"\", \"\", -0.46443745677209497, -2.752962408214156, \"\", \"\", \"\", \"\", \"\", \"\", -2.0047041424321534, \"\", \"\", -0.4717361017071487, \"\", \"\", \"\", \"\", -0.04437773907245468, -0.5449613436259177, -1.5316884673658617, \"\", -0.2538601463541217, -2.1522236668133505, \"\", -0.3411602255831462, -0.744227489577296, -1.5381353328410006, -2.469032070813282, \"\", \"\", \"\", -0.17238983201538538, \"\", -0.32863682984113535, \"\", \"\", -3.244191153070976, \"\", -2.6855286879148252, \"\", -0.8892822448617868, -2.278321708649041, -1.4978591021115701, -1.3051106814272608, -1.18849587102974, -0.7907374922671602, -0.58308287367345, -1.4940370277413197, -0.132724750737214, -0.1834287408372972, \"\", \"\", \"\", -1.1623833162198425, \"\", -0.6707932753218748, \"\", \"\", -2.1143057716425493, -1.651184143567173, -1.5991535360987812, -1.3054791891927908, -1.2189548314294982, \"\", \"\", \"\", \"\", \"\", -2.061530818654455, \"\", -0.32706479755428475, \"\", \"\", -1.3385931591921105, -0.3511153483382822, -0.6041470374358754, \"\", -1.4658165406847945, -0.2592024205079302, \"\", \"\", \"\", \"\", -1.7917900502151904, -0.36123184242543116, -0.46791665836049146, -1.2872247416860956, \"\", -1.7018912145155098, \"\", \"\", -0.459525109479634, \"\", -0.32144529239914876, \"\", \"\", \"\"], \"yaxis\": \"y2\"}],\n",
              "                        {\"hovermode\": \"x\", \"legend\": {\"bgcolor\": \"#F5F6F9\", \"font\": {\"color\": \"#4D5663\"}}, \"paper_bgcolor\": \"#F5F6F9\", \"plot_bgcolor\": \"#F5F6F9\", \"template\": {\"data\": {\"bar\": [{\"error_x\": {\"color\": \"#2a3f5f\"}, \"error_y\": {\"color\": \"#2a3f5f\"}, \"marker\": {\"line\": {\"color\": \"#E5ECF6\", \"width\": 0.5}}, \"type\": \"bar\"}], \"barpolar\": [{\"marker\": {\"line\": {\"color\": \"#E5ECF6\", \"width\": 0.5}}, \"type\": \"barpolar\"}], \"carpet\": [{\"aaxis\": {\"endlinecolor\": \"#2a3f5f\", \"gridcolor\": \"white\", \"linecolor\": \"white\", \"minorgridcolor\": \"white\", \"startlinecolor\": \"#2a3f5f\"}, \"baxis\": {\"endlinecolor\": \"#2a3f5f\", \"gridcolor\": \"white\", \"linecolor\": \"white\", \"minorgridcolor\": \"white\", \"startlinecolor\": \"#2a3f5f\"}, \"type\": \"carpet\"}], \"choropleth\": [{\"colorbar\": {\"outlinewidth\": 0, \"ticks\": \"\"}, \"type\": \"choropleth\"}], \"contour\": [{\"colorbar\": {\"outlinewidth\": 0, \"ticks\": \"\"}, \"colorscale\": [[0.0, \"#0d0887\"], [0.1111111111111111, \"#46039f\"], [0.2222222222222222, \"#7201a8\"], [0.3333333333333333, \"#9c179e\"], [0.4444444444444444, \"#bd3786\"], [0.5555555555555556, \"#d8576b\"], [0.6666666666666666, \"#ed7953\"], [0.7777777777777778, \"#fb9f3a\"], [0.8888888888888888, \"#fdca26\"], [1.0, \"#f0f921\"]], \"type\": \"contour\"}], \"contourcarpet\": [{\"colorbar\": {\"outlinewidth\": 0, \"ticks\": \"\"}, \"type\": \"contourcarpet\"}], \"heatmap\": [{\"colorbar\": {\"outlinewidth\": 0, \"ticks\": \"\"}, \"colorscale\": [[0.0, \"#0d0887\"], [0.1111111111111111, \"#46039f\"], [0.2222222222222222, \"#7201a8\"], [0.3333333333333333, \"#9c179e\"], [0.4444444444444444, \"#bd3786\"], [0.5555555555555556, \"#d8576b\"], [0.6666666666666666, \"#ed7953\"], [0.7777777777777778, \"#fb9f3a\"], [0.8888888888888888, \"#fdca26\"], [1.0, \"#f0f921\"]], \"type\": \"heatmap\"}], \"heatmapgl\": [{\"colorbar\": {\"outlinewidth\": 0, \"ticks\": \"\"}, \"colorscale\": [[0.0, \"#0d0887\"], [0.1111111111111111, \"#46039f\"], [0.2222222222222222, \"#7201a8\"], [0.3333333333333333, \"#9c179e\"], [0.4444444444444444, \"#bd3786\"], [0.5555555555555556, \"#d8576b\"], [0.6666666666666666, \"#ed7953\"], [0.7777777777777778, \"#fb9f3a\"], [0.8888888888888888, \"#fdca26\"], [1.0, \"#f0f921\"]], \"type\": \"heatmapgl\"}], \"histogram\": [{\"marker\": {\"colorbar\": {\"outlinewidth\": 0, \"ticks\": \"\"}}, \"type\": \"histogram\"}], \"histogram2d\": [{\"colorbar\": {\"outlinewidth\": 0, \"ticks\": \"\"}, \"colorscale\": [[0.0, \"#0d0887\"], [0.1111111111111111, \"#46039f\"], [0.2222222222222222, \"#7201a8\"], [0.3333333333333333, \"#9c179e\"], [0.4444444444444444, \"#bd3786\"], [0.5555555555555556, \"#d8576b\"], [0.6666666666666666, \"#ed7953\"], [0.7777777777777778, \"#fb9f3a\"], [0.8888888888888888, \"#fdca26\"], [1.0, \"#f0f921\"]], \"type\": \"histogram2d\"}], \"histogram2dcontour\": [{\"colorbar\": {\"outlinewidth\": 0, \"ticks\": \"\"}, \"colorscale\": [[0.0, \"#0d0887\"], [0.1111111111111111, \"#46039f\"], [0.2222222222222222, \"#7201a8\"], [0.3333333333333333, \"#9c179e\"], [0.4444444444444444, \"#bd3786\"], [0.5555555555555556, \"#d8576b\"], [0.6666666666666666, \"#ed7953\"], [0.7777777777777778, \"#fb9f3a\"], [0.8888888888888888, \"#fdca26\"], [1.0, \"#f0f921\"]], \"type\": \"histogram2dcontour\"}], \"mesh3d\": [{\"colorbar\": {\"outlinewidth\": 0, \"ticks\": \"\"}, \"type\": \"mesh3d\"}], \"parcoords\": [{\"line\": {\"colorbar\": {\"outlinewidth\": 0, \"ticks\": \"\"}}, \"type\": \"parcoords\"}], \"pie\": [{\"automargin\": true, \"type\": \"pie\"}], \"scatter\": [{\"marker\": {\"colorbar\": {\"outlinewidth\": 0, \"ticks\": \"\"}}, \"type\": \"scatter\"}], \"scatter3d\": [{\"line\": {\"colorbar\": {\"outlinewidth\": 0, \"ticks\": \"\"}}, \"marker\": {\"colorbar\": {\"outlinewidth\": 0, \"ticks\": \"\"}}, \"type\": \"scatter3d\"}], \"scattercarpet\": [{\"marker\": {\"colorbar\": {\"outlinewidth\": 0, \"ticks\": \"\"}}, \"type\": \"scattercarpet\"}], \"scattergeo\": [{\"marker\": {\"colorbar\": {\"outlinewidth\": 0, \"ticks\": \"\"}}, \"type\": \"scattergeo\"}], \"scattergl\": [{\"marker\": {\"colorbar\": {\"outlinewidth\": 0, \"ticks\": \"\"}}, \"type\": \"scattergl\"}], \"scattermapbox\": [{\"marker\": {\"colorbar\": {\"outlinewidth\": 0, \"ticks\": \"\"}}, \"type\": \"scattermapbox\"}], \"scatterpolar\": [{\"marker\": {\"colorbar\": {\"outlinewidth\": 0, \"ticks\": \"\"}}, \"type\": \"scatterpolar\"}], \"scatterpolargl\": [{\"marker\": {\"colorbar\": {\"outlinewidth\": 0, \"ticks\": \"\"}}, \"type\": \"scatterpolargl\"}], \"scatterternary\": [{\"marker\": {\"colorbar\": {\"outlinewidth\": 0, \"ticks\": \"\"}}, \"type\": \"scatterternary\"}], \"surface\": [{\"colorbar\": {\"outlinewidth\": 0, \"ticks\": \"\"}, \"colorscale\": [[0.0, \"#0d0887\"], [0.1111111111111111, \"#46039f\"], [0.2222222222222222, \"#7201a8\"], [0.3333333333333333, \"#9c179e\"], [0.4444444444444444, \"#bd3786\"], [0.5555555555555556, \"#d8576b\"], [0.6666666666666666, \"#ed7953\"], [0.7777777777777778, \"#fb9f3a\"], [0.8888888888888888, \"#fdca26\"], [1.0, \"#f0f921\"]], \"type\": \"surface\"}], \"table\": [{\"cells\": {\"fill\": {\"color\": \"#EBF0F8\"}, \"line\": {\"color\": \"white\"}}, \"header\": {\"fill\": {\"color\": \"#C8D4E3\"}, \"line\": {\"color\": \"white\"}}, \"type\": \"table\"}]}, \"layout\": {\"annotationdefaults\": {\"arrowcolor\": \"#2a3f5f\", \"arrowhead\": 0, \"arrowwidth\": 1}, \"coloraxis\": {\"colorbar\": {\"outlinewidth\": 0, \"ticks\": \"\"}}, \"colorscale\": {\"diverging\": [[0, \"#8e0152\"], [0.1, \"#c51b7d\"], [0.2, \"#de77ae\"], [0.3, \"#f1b6da\"], [0.4, \"#fde0ef\"], [0.5, \"#f7f7f7\"], [0.6, \"#e6f5d0\"], [0.7, \"#b8e186\"], [0.8, \"#7fbc41\"], [0.9, \"#4d9221\"], [1, \"#276419\"]], \"sequential\": [[0.0, \"#0d0887\"], [0.1111111111111111, \"#46039f\"], [0.2222222222222222, \"#7201a8\"], [0.3333333333333333, \"#9c179e\"], [0.4444444444444444, \"#bd3786\"], [0.5555555555555556, \"#d8576b\"], [0.6666666666666666, \"#ed7953\"], [0.7777777777777778, \"#fb9f3a\"], [0.8888888888888888, \"#fdca26\"], [1.0, \"#f0f921\"]], \"sequentialminus\": [[0.0, \"#0d0887\"], [0.1111111111111111, \"#46039f\"], [0.2222222222222222, \"#7201a8\"], [0.3333333333333333, \"#9c179e\"], [0.4444444444444444, \"#bd3786\"], [0.5555555555555556, \"#d8576b\"], [0.6666666666666666, \"#ed7953\"], [0.7777777777777778, \"#fb9f3a\"], [0.8888888888888888, \"#fdca26\"], [1.0, \"#f0f921\"]]}, \"colorway\": [\"#636efa\", \"#EF553B\", \"#00cc96\", \"#ab63fa\", \"#FFA15A\", \"#19d3f3\", \"#FF6692\", \"#B6E880\", \"#FF97FF\", \"#FECB52\"], \"font\": {\"color\": \"#2a3f5f\"}, \"geo\": {\"bgcolor\": \"white\", \"lakecolor\": \"white\", \"landcolor\": \"#E5ECF6\", \"showlakes\": true, \"showland\": true, \"subunitcolor\": \"white\"}, \"hoverlabel\": {\"align\": \"left\"}, \"hovermode\": \"closest\", \"mapbox\": {\"style\": \"light\"}, \"paper_bgcolor\": \"white\", \"plot_bgcolor\": \"#E5ECF6\", \"polar\": {\"angularaxis\": {\"gridcolor\": \"white\", \"linecolor\": \"white\", \"ticks\": \"\"}, \"bgcolor\": \"#E5ECF6\", \"radialaxis\": {\"gridcolor\": \"white\", \"linecolor\": \"white\", \"ticks\": \"\"}}, \"scene\": {\"xaxis\": {\"backgroundcolor\": \"#E5ECF6\", \"gridcolor\": \"white\", \"gridwidth\": 2, \"linecolor\": \"white\", \"showbackground\": true, \"ticks\": \"\", \"zerolinecolor\": \"white\"}, \"yaxis\": {\"backgroundcolor\": \"#E5ECF6\", \"gridcolor\": \"white\", \"gridwidth\": 2, \"linecolor\": \"white\", \"showbackground\": true, \"ticks\": \"\", \"zerolinecolor\": \"white\"}, \"zaxis\": {\"backgroundcolor\": \"#E5ECF6\", \"gridcolor\": \"white\", \"gridwidth\": 2, \"linecolor\": \"white\", \"showbackground\": true, \"ticks\": \"\", \"zerolinecolor\": \"white\"}}, \"shapedefaults\": {\"line\": {\"color\": \"#2a3f5f\"}}, \"ternary\": {\"aaxis\": {\"gridcolor\": \"white\", \"linecolor\": \"white\", \"ticks\": \"\"}, \"baxis\": {\"gridcolor\": \"white\", \"linecolor\": \"white\", \"ticks\": \"\"}, \"bgcolor\": \"#E5ECF6\", \"caxis\": {\"gridcolor\": \"white\", \"linecolor\": \"white\", \"ticks\": \"\"}}, \"title\": {\"x\": 0.05}, \"xaxis\": {\"automargin\": true, \"gridcolor\": \"white\", \"linecolor\": \"white\", \"ticks\": \"\", \"title\": {\"standoff\": 15}, \"zerolinecolor\": \"white\", \"zerolinewidth\": 2}, \"yaxis\": {\"automargin\": true, \"gridcolor\": \"white\", \"linecolor\": \"white\", \"ticks\": \"\", \"title\": {\"standoff\": 15}, \"zerolinecolor\": \"white\", \"zerolinewidth\": 2}}}, \"title\": {\"font\": {\"color\": \"#4D5663\"}}, \"xaxis\": {\"gridcolor\": \"#E1E5ED\", \"showgrid\": true, \"tickfont\": {\"color\": \"#4D5663\"}, \"title\": {\"font\": {\"color\": \"#4D5663\"}, \"text\": \"\"}, \"zerolinecolor\": \"#E1E5ED\"}, \"xaxis2\": {\"anchor\": \"y2\", \"gridcolor\": \"#E1E5ED\", \"showgrid\": true, \"showticklabels\": false, \"tickfont\": {\"color\": \"#4D5663\"}, \"title\": {\"font\": {\"color\": \"#4D5663\"}, \"text\": \"\"}, \"zerolinecolor\": \"#E1E5ED\"}, \"yaxis\": {\"domain\": [0.3, 1], \"gridcolor\": \"#E1E5ED\", \"showgrid\": true, \"tickfont\": {\"color\": \"#4D5663\"}, \"title\": {\"font\": {\"color\": \"#4D5663\"}, \"text\": \"\"}, \"zerolinecolor\": \"#E1E5ED\"}, \"yaxis2\": {\"domain\": [0, 0.25], \"gridcolor\": \"#E1E5ED\", \"showgrid\": true, \"tickfont\": {\"color\": \"#4D5663\"}, \"title\": {\"font\": {\"color\": \"#4D5663\"}, \"text\": \"Spread\"}, \"zerolinecolor\": \"#E1E5ED\"}},\n",
              "                        {\"showLink\": true, \"linkText\": \"Export to plot.ly\", \"plotlyServerURL\": \"https://plot.ly\", \"responsive\": true}\n",
              "                    ).then(function(){\n",
              "                            \n",
              "var gd = document.getElementById('d51b3305-7627-4c23-acee-722566b61bd3');\n",
              "var x = new MutationObserver(function (mutations, observer) {{\n",
              "        var display = window.getComputedStyle(gd).display;\n",
              "        if (!display || display === 'none') {{\n",
              "            console.log([gd, 'removed!']);\n",
              "            Plotly.purge(gd);\n",
              "            observer.disconnect();\n",
              "        }}\n",
              "}});\n",
              "\n",
              "// Listen for the removal of the full notebook cells\n",
              "var notebookContainer = gd.closest('#notebook-container');\n",
              "if (notebookContainer) {{\n",
              "    x.observe(notebookContainer, {childList: true});\n",
              "}}\n",
              "\n",
              "// Listen for the clearing of the current output cell\n",
              "var outputEl = gd.closest('.output');\n",
              "if (outputEl) {{\n",
              "    x.observe(outputEl, {childList: true});\n",
              "}}\n",
              "\n",
              "                        })\n",
              "                };\n",
              "                });\n",
              "            </script>\n",
              "        </div>"
            ],
            "application/vnd.plotly.v1+json": {
              "data": [
                {
                  "name": "A",
                  "text": "",
                  "mode": "lines",
                  "y": [
                    0.033388217440508905,
                    -0.6964117620033113,
                    -1.1582806081079497,
                    -0.2561921110075144,
                    -0.9396395616723018,
                    -1.8710775986328148,
                    1.1381065930965866,
                    0.2836313998887739,
                    0.8372825848844795,
                    0.5352062157485056,
                    -0.10570195697932709,
                    1.3932461971675265,
                    -1.0203377791552646,
                    1.4054722978405614,
                    1.2599083999065768,
                    -0.8173466696833639,
                    0.749141786818367,
                    0.32314069513049737,
                    0.7835951532562746,
                    -0.770714323484931,
                    1.3378126523628584,
                    -0.11036438568990392,
                    -1.2305529427537507,
                    0.11815301833078981,
                    0.11468249633092606,
                    -1.5570788214620102,
                    0.3298883731176722,
                    -0.1670048980170897,
                    -0.44610787272009117,
                    -1.040410419879342,
                    -2.134223059509332,
                    1.2055267598805925,
                    0.7833271951513457,
                    -0.30517818327250934,
                    -1.054797078733294,
                    1.0339469118287643,
                    0.031724802569528074,
                    0.46524479084304915,
                    0.2696133157308018,
                    -1.9022090457341743,
                    -0.672553302714725,
                    -1.4538759223619475,
                    -0.8952596564969528,
                    -1.6090791774457278,
                    -0.9556876902032667,
                    -1.2883809167343472,
                    -1.013453792978003,
                    -0.6001203860131052,
                    -0.42238651267056765,
                    -0.9170182467887845,
                    -0.18415000223704875,
                    0.18274248152898628,
                    1.142934386894334,
                    0.6890288189881617,
                    0.5124153344064991,
                    0.9954018120132386,
                    -0.27710289787528714,
                    0.5618092295029821,
                    -1.5853615513089843,
                    -0.0157622538163842,
                    0.0034350917010841247,
                    -1.1545937310589027,
                    -0.9052719576531694,
                    -0.6408810782085186,
                    -1.0539102470766974,
                    -1.6088884404905042,
                    1.4254864256297581,
                    -0.381852587029767,
                    0.49973553564455736,
                    0.12058127493662403,
                    0.10141909915549104,
                    -2.23702939333417,
                    1.1966390259865207,
                    -1.0238163568433811,
                    0.5306379570018278,
                    1.4703548194163234,
                    -0.3706618777461258,
                    -0.4550084839216992,
                    0.08172360222080535,
                    0.6328493435423694,
                    -1.1647795582446374,
                    1.2494878059546373,
                    1.0678653724911056,
                    0.37109684888001876,
                    -0.21332835621154117,
                    -0.36165792593448076,
                    -0.5427678072839484,
                    -0.4522924354445968,
                    0.7548666787430129,
                    -0.18127561554144686,
                    0.18500763008449855,
                    0.4227463117416283,
                    0.09356699424783808,
                    0.5616913468969047,
                    -0.8108851809052096,
                    -0.06592248187876751,
                    0.9053101300097707,
                    1.1852123122865834,
                    1.7821500045599021,
                    1.6772169106987314
                  ],
                  "x": [
                    0,
                    1,
                    2,
                    3,
                    4,
                    5,
                    6,
                    7,
                    8,
                    9,
                    10,
                    11,
                    12,
                    13,
                    14,
                    15,
                    16,
                    17,
                    18,
                    19,
                    20,
                    21,
                    22,
                    23,
                    24,
                    25,
                    26,
                    27,
                    28,
                    29,
                    30,
                    31,
                    32,
                    33,
                    34,
                    35,
                    36,
                    37,
                    38,
                    39,
                    40,
                    41,
                    42,
                    43,
                    44,
                    45,
                    46,
                    47,
                    48,
                    49,
                    50,
                    51,
                    52,
                    53,
                    54,
                    55,
                    56,
                    57,
                    58,
                    59,
                    60,
                    61,
                    62,
                    63,
                    64,
                    65,
                    66,
                    67,
                    68,
                    69,
                    70,
                    71,
                    72,
                    73,
                    74,
                    75,
                    76,
                    77,
                    78,
                    79,
                    80,
                    81,
                    82,
                    83,
                    84,
                    85,
                    86,
                    87,
                    88,
                    89,
                    90,
                    91,
                    92,
                    93,
                    94,
                    95,
                    96,
                    97,
                    98,
                    99
                  ],
                  "line": {
                    "color": "rgba(255, 153, 51, 1.0)",
                    "dash": "solid",
                    "shape": "linear",
                    "width": 1.3
                  },
                  "type": "scatter"
                },
                {
                  "name": "B",
                  "text": "",
                  "mode": "lines",
                  "y": [
                    -0.3185819437242191,
                    0.017143553003232212,
                    -1.161883283271516,
                    -0.6704437820758866,
                    -0.4752021049002068,
                    0.8818848095813414,
                    -1.6113668454298233,
                    -0.33827338930798506,
                    -1.22976132791649,
                    -1.1088957196694917,
                    -0.6591281589852449,
                    -0.9959336166710657,
                    0.9843663632768888,
                    -0.8954963504718098,
                    -0.9708364965136446,
                    -0.3456105679762152,
                    -0.5363379641406554,
                    -0.347986706152008,
                    -1.9772259945605442,
                    -1.3146882448697077,
                    1.382190391435313,
                    0.4345969579360139,
                    0.30113552461211096,
                    -0.8470311410792175,
                    0.3685426426850477,
                    0.5951448453513402,
                    0.17061591052139344,
                    0.17415532756605645,
                    0.2981196168572048,
                    0.4977249129616586,
                    0.33480901130394974,
                    0.1868880359802086,
                    -1.6650149993841277,
                    -0.6404910513353013,
                    -0.8824072467179087,
                    -0.553742729869468,
                    0.36036163241066343,
                    -2.275974570734227,
                    -1.5874012126450154,
                    1.3419821073368021,
                    -1.4171003468926828,
                    1.231652765552878,
                    -1.8453235220960005,
                    -0.7197969325839411,
                    1.3226340184457743,
                    0.20947818537722288,
                    0.29165688844925786,
                    0.5883754850166348,
                    0.3683509795965926,
                    -0.3339353731153345,
                    1.309887025504271,
                    0.31546723226620027,
                    1.3263631277316312,
                    -0.34567806682641433,
                    -0.19141808194686688,
                    -0.4713020694872677,
                    0.8852804183445554,
                    -0.8576319218947199,
                    -0.9145682759871094,
                    -1.4002022553453086,
                    -0.1835398022198471,
                    0.9597120405836465,
                    0.7459121859140037,
                    0.9582724578902626,
                    0.2515689421160934,
                    -0.38993360906100594,
                    -1.2295245875026266,
                    -0.6031951925607657,
                    -2.681150844317574,
                    0.08570599518645991,
                    -0.30239374308582356,
                    -0.17549857467971453,
                    -0.34269764974175787,
                    -0.6967515592890964,
                    -0.6517567157566919,
                    -0.7432742339004702,
                    0.9679312814459848,
                    -0.10389313558341703,
                    0.6858706396566807,
                    -0.3944155036832106,
                    0.301036982440157,
                    1.5086902264625675,
                    -0.7373137660036858,
                    -0.22448726844840527,
                    -0.22652852888373978,
                    -1.0077169954080438,
                    1.249022242931242,
                    -0.09106059301916564,
                    1.2227833371035044,
                    1.1059491261446488,
                    -0.8637469439487155,
                    2.124637526257138,
                    0.07570566559288731,
                    -0.652759552671152,
                    -0.35136007142557557,
                    -0.42327448382840327,
                    1.2267554224089194,
                    0.46971004043741227,
                    0.5654883626864355,
                    1.3099927206532345
                  ],
                  "x": [
                    0,
                    1,
                    2,
                    3,
                    4,
                    5,
                    6,
                    7,
                    8,
                    9,
                    10,
                    11,
                    12,
                    13,
                    14,
                    15,
                    16,
                    17,
                    18,
                    19,
                    20,
                    21,
                    22,
                    23,
                    24,
                    25,
                    26,
                    27,
                    28,
                    29,
                    30,
                    31,
                    32,
                    33,
                    34,
                    35,
                    36,
                    37,
                    38,
                    39,
                    40,
                    41,
                    42,
                    43,
                    44,
                    45,
                    46,
                    47,
                    48,
                    49,
                    50,
                    51,
                    52,
                    53,
                    54,
                    55,
                    56,
                    57,
                    58,
                    59,
                    60,
                    61,
                    62,
                    63,
                    64,
                    65,
                    66,
                    67,
                    68,
                    69,
                    70,
                    71,
                    72,
                    73,
                    74,
                    75,
                    76,
                    77,
                    78,
                    79,
                    80,
                    81,
                    82,
                    83,
                    84,
                    85,
                    86,
                    87,
                    88,
                    89,
                    90,
                    91,
                    92,
                    93,
                    94,
                    95,
                    96,
                    97,
                    98,
                    99
                  ],
                  "line": {
                    "color": "rgba(55, 128, 191, 1.0)",
                    "dash": "solid",
                    "shape": "linear",
                    "width": 1.3
                  },
                  "type": "scatter"
                },
                {
                  "showlegend": false,
                  "name": "Spread",
                  "yaxis": "y2",
                  "connectgaps": false,
                  "mode": "lines",
                  "xaxis": "x2",
                  "y": [
                    0.351970161164728,
                    "",
                    0.0036026751635662713,
                    0.41425167106837224,
                    "",
                    "",
                    2.74947343852641,
                    0.621904789196759,
                    2.0670439128009694,
                    1.6441019354179973,
                    0.5534262020059179,
                    2.3891798138385925,
                    "",
                    2.300968648312371,
                    2.2307448964202212,
                    "",
                    1.2854797509590223,
                    0.6711274012825054,
                    2.7608211478168188,
                    0.5439739213847767,
                    "",
                    "",
                    "",
                    0.9651841594100073,
                    "",
                    "",
                    0.15927246259627878,
                    "",
                    "",
                    "",
                    "",
                    1.018638723900384,
                    2.4483421945354733,
                    0.3353128680627919,
                    "",
                    1.5876896416982325,
                    "",
                    2.741219361577276,
                    1.8570145283758173,
                    "",
                    0.7445470441779578,
                    "",
                    0.9500638655990477,
                    "",
                    "",
                    "",
                    "",
                    "",
                    "",
                    "",
                    "",
                    "",
                    "",
                    1.034706885814576,
                    0.7038334163533659,
                    1.4667038815005062,
                    "",
                    1.4194411513977019,
                    "",
                    1.3844400015289244,
                    0.18697489392093122,
                    "",
                    "",
                    "",
                    "",
                    "",
                    2.655011013132385,
                    0.22134260553099872,
                    3.180886379962131,
                    0.03487527975016412,
                    0.4038128422413146,
                    "",
                    1.5393366757282787,
                    "",
                    1.1823946727585197,
                    2.2136290533167937,
                    "",
                    "",
                    "",
                    1.02726484722558,
                    "",
                    "",
                    1.8051791384947915,
                    0.595584117328424,
                    0.013200172672198612,
                    0.6460590694735631,
                    "",
                    "",
                    "",
                    "",
                    1.048754574033214,
                    "",
                    0.01786132865495077,
                    1.2144508995680567,
                    "",
                    0.3573520019496358,
                    "",
                    0.7155022718491711,
                    1.2166616418734666,
                    0.3672241900454969
                  ],
                  "x": [
                    0,
                    1,
                    2,
                    3,
                    4,
                    5,
                    6,
                    7,
                    8,
                    9,
                    10,
                    11,
                    12,
                    13,
                    14,
                    15,
                    16,
                    17,
                    18,
                    19,
                    20,
                    21,
                    22,
                    23,
                    24,
                    25,
                    26,
                    27,
                    28,
                    29,
                    30,
                    31,
                    32,
                    33,
                    34,
                    35,
                    36,
                    37,
                    38,
                    39,
                    40,
                    41,
                    42,
                    43,
                    44,
                    45,
                    46,
                    47,
                    48,
                    49,
                    50,
                    51,
                    52,
                    53,
                    54,
                    55,
                    56,
                    57,
                    58,
                    59,
                    60,
                    61,
                    62,
                    63,
                    64,
                    65,
                    66,
                    67,
                    68,
                    69,
                    70,
                    71,
                    72,
                    73,
                    74,
                    75,
                    76,
                    77,
                    78,
                    79,
                    80,
                    81,
                    82,
                    83,
                    84,
                    85,
                    86,
                    87,
                    88,
                    89,
                    90,
                    91,
                    92,
                    93,
                    94,
                    95,
                    96,
                    97,
                    98,
                    99
                  ],
                  "line": {
                    "color": "green",
                    "dash": "solid",
                    "shape": "linear",
                    "width": 0.5
                  },
                  "type": "scatter",
                  "fill": "tozeroy"
                },
                {
                  "showlegend": false,
                  "name": "Spread",
                  "yaxis": "y2",
                  "connectgaps": false,
                  "mode": "lines",
                  "xaxis": "x2",
                  "y": [
                    "",
                    -0.7135553150065436,
                    "",
                    "",
                    -0.46443745677209497,
                    -2.752962408214156,
                    "",
                    "",
                    "",
                    "",
                    "",
                    "",
                    -2.0047041424321534,
                    "",
                    "",
                    -0.4717361017071487,
                    "",
                    "",
                    "",
                    "",
                    -0.04437773907245468,
                    -0.5449613436259177,
                    -1.5316884673658617,
                    "",
                    -0.2538601463541217,
                    -2.1522236668133505,
                    "",
                    -0.3411602255831462,
                    -0.744227489577296,
                    -1.5381353328410006,
                    -2.469032070813282,
                    "",
                    "",
                    "",
                    -0.17238983201538538,
                    "",
                    -0.32863682984113535,
                    "",
                    "",
                    -3.244191153070976,
                    "",
                    -2.6855286879148252,
                    "",
                    -0.8892822448617868,
                    -2.278321708649041,
                    -1.4978591021115701,
                    -1.3051106814272608,
                    -1.18849587102974,
                    -0.7907374922671602,
                    -0.58308287367345,
                    -1.4940370277413197,
                    -0.132724750737214,
                    -0.1834287408372972,
                    "",
                    "",
                    "",
                    -1.1623833162198425,
                    "",
                    -0.6707932753218748,
                    "",
                    "",
                    -2.1143057716425493,
                    -1.651184143567173,
                    -1.5991535360987812,
                    -1.3054791891927908,
                    -1.2189548314294982,
                    "",
                    "",
                    "",
                    "",
                    "",
                    -2.061530818654455,
                    "",
                    -0.32706479755428475,
                    "",
                    "",
                    -1.3385931591921105,
                    -0.3511153483382822,
                    -0.6041470374358754,
                    "",
                    -1.4658165406847945,
                    -0.2592024205079302,
                    "",
                    "",
                    "",
                    "",
                    -1.7917900502151904,
                    -0.36123184242543116,
                    -0.46791665836049146,
                    -1.2872247416860956,
                    "",
                    -1.7018912145155098,
                    "",
                    "",
                    -0.459525109479634,
                    "",
                    -0.32144529239914876,
                    "",
                    "",
                    ""
                  ],
                  "x": [
                    0,
                    1,
                    2,
                    3,
                    4,
                    5,
                    6,
                    7,
                    8,
                    9,
                    10,
                    11,
                    12,
                    13,
                    14,
                    15,
                    16,
                    17,
                    18,
                    19,
                    20,
                    21,
                    22,
                    23,
                    24,
                    25,
                    26,
                    27,
                    28,
                    29,
                    30,
                    31,
                    32,
                    33,
                    34,
                    35,
                    36,
                    37,
                    38,
                    39,
                    40,
                    41,
                    42,
                    43,
                    44,
                    45,
                    46,
                    47,
                    48,
                    49,
                    50,
                    51,
                    52,
                    53,
                    54,
                    55,
                    56,
                    57,
                    58,
                    59,
                    60,
                    61,
                    62,
                    63,
                    64,
                    65,
                    66,
                    67,
                    68,
                    69,
                    70,
                    71,
                    72,
                    73,
                    74,
                    75,
                    76,
                    77,
                    78,
                    79,
                    80,
                    81,
                    82,
                    83,
                    84,
                    85,
                    86,
                    87,
                    88,
                    89,
                    90,
                    91,
                    92,
                    93,
                    94,
                    95,
                    96,
                    97,
                    98,
                    99
                  ],
                  "line": {
                    "color": "red",
                    "dash": "solid",
                    "shape": "linear",
                    "width": 0.5
                  },
                  "type": "scatter",
                  "fill": "tozeroy"
                }
              ],
              "config": {
                "plotlyServerURL": "https://plot.ly",
                "linkText": "Export to plot.ly",
                "showLink": true
              },
              "layout": {
                "xaxis": {
                  "tickfont": {
                    "color": "#4D5663"
                  },
                  "zerolinecolor": "#E1E5ED",
                  "title": {
                    "text": "",
                    "font": {
                      "color": "#4D5663"
                    }
                  },
                  "gridcolor": "#E1E5ED",
                  "showgrid": true
                },
                "title": {
                  "font": {
                    "color": "#4D5663"
                  }
                },
                "paper_bgcolor": "#F5F6F9",
                "plot_bgcolor": "#F5F6F9",
                "yaxis": {
                  "tickfont": {
                    "color": "#4D5663"
                  },
                  "domain": [
                    0.3,
                    1
                  ],
                  "title": {
                    "text": "",
                    "font": {
                      "color": "#4D5663"
                    }
                  },
                  "showgrid": true,
                  "zerolinecolor": "#E1E5ED",
                  "gridcolor": "#E1E5ED"
                },
                "xaxis2": {
                  "tickfont": {
                    "color": "#4D5663"
                  },
                  "showticklabels": false,
                  "title": {
                    "text": "",
                    "font": {
                      "color": "#4D5663"
                    }
                  },
                  "showgrid": true,
                  "zerolinecolor": "#E1E5ED",
                  "gridcolor": "#E1E5ED",
                  "anchor": "y2"
                },
                "yaxis2": {
                  "tickfont": {
                    "color": "#4D5663"
                  },
                  "domain": [
                    0,
                    0.25
                  ],
                  "title": {
                    "text": "Spread",
                    "font": {
                      "color": "#4D5663"
                    }
                  },
                  "showgrid": true,
                  "zerolinecolor": "#E1E5ED",
                  "gridcolor": "#E1E5ED"
                },
                "template": {
                  "layout": {
                    "shapedefaults": {
                      "line": {
                        "color": "#2a3f5f"
                      }
                    },
                    "polar": {
                      "radialaxis": {
                        "ticks": "",
                        "gridcolor": "white",
                        "linecolor": "white"
                      },
                      "bgcolor": "#E5ECF6",
                      "angularaxis": {
                        "ticks": "",
                        "gridcolor": "white",
                        "linecolor": "white"
                      }
                    },
                    "colorway": [
                      "#636efa",
                      "#EF553B",
                      "#00cc96",
                      "#ab63fa",
                      "#FFA15A",
                      "#19d3f3",
                      "#FF6692",
                      "#B6E880",
                      "#FF97FF",
                      "#FECB52"
                    ],
                    "xaxis": {
                      "automargin": true,
                      "title": {
                        "standoff": 15
                      },
                      "zerolinewidth": 2,
                      "ticks": "",
                      "zerolinecolor": "white",
                      "gridcolor": "white",
                      "linecolor": "white"
                    },
                    "colorscale": {
                      "diverging": [
                        [
                          0,
                          "#8e0152"
                        ],
                        [
                          0.1,
                          "#c51b7d"
                        ],
                        [
                          0.2,
                          "#de77ae"
                        ],
                        [
                          0.3,
                          "#f1b6da"
                        ],
                        [
                          0.4,
                          "#fde0ef"
                        ],
                        [
                          0.5,
                          "#f7f7f7"
                        ],
                        [
                          0.6,
                          "#e6f5d0"
                        ],
                        [
                          0.7,
                          "#b8e186"
                        ],
                        [
                          0.8,
                          "#7fbc41"
                        ],
                        [
                          0.9,
                          "#4d9221"
                        ],
                        [
                          1,
                          "#276419"
                        ]
                      ],
                      "sequential": [
                        [
                          0,
                          "#0d0887"
                        ],
                        [
                          0.1111111111111111,
                          "#46039f"
                        ],
                        [
                          0.2222222222222222,
                          "#7201a8"
                        ],
                        [
                          0.3333333333333333,
                          "#9c179e"
                        ],
                        [
                          0.4444444444444444,
                          "#bd3786"
                        ],
                        [
                          0.5555555555555556,
                          "#d8576b"
                        ],
                        [
                          0.6666666666666666,
                          "#ed7953"
                        ],
                        [
                          0.7777777777777778,
                          "#fb9f3a"
                        ],
                        [
                          0.8888888888888888,
                          "#fdca26"
                        ],
                        [
                          1,
                          "#f0f921"
                        ]
                      ],
                      "sequentialminus": [
                        [
                          0,
                          "#0d0887"
                        ],
                        [
                          0.1111111111111111,
                          "#46039f"
                        ],
                        [
                          0.2222222222222222,
                          "#7201a8"
                        ],
                        [
                          0.3333333333333333,
                          "#9c179e"
                        ],
                        [
                          0.4444444444444444,
                          "#bd3786"
                        ],
                        [
                          0.5555555555555556,
                          "#d8576b"
                        ],
                        [
                          0.6666666666666666,
                          "#ed7953"
                        ],
                        [
                          0.7777777777777778,
                          "#fb9f3a"
                        ],
                        [
                          0.8888888888888888,
                          "#fdca26"
                        ],
                        [
                          1,
                          "#f0f921"
                        ]
                      ]
                    },
                    "paper_bgcolor": "white",
                    "plot_bgcolor": "#E5ECF6",
                    "title": {
                      "x": 0.05
                    },
                    "scene": {
                      "zaxis": {
                        "backgroundcolor": "#E5ECF6",
                        "ticks": "",
                        "gridwidth": 2,
                        "showbackground": true,
                        "zerolinecolor": "white",
                        "gridcolor": "white",
                        "linecolor": "white"
                      },
                      "xaxis": {
                        "backgroundcolor": "#E5ECF6",
                        "ticks": "",
                        "gridwidth": 2,
                        "showbackground": true,
                        "zerolinecolor": "white",
                        "gridcolor": "white",
                        "linecolor": "white"
                      },
                      "yaxis": {
                        "backgroundcolor": "#E5ECF6",
                        "ticks": "",
                        "gridwidth": 2,
                        "showbackground": true,
                        "zerolinecolor": "white",
                        "gridcolor": "white",
                        "linecolor": "white"
                      }
                    },
                    "yaxis": {
                      "automargin": true,
                      "title": {
                        "standoff": 15
                      },
                      "zerolinewidth": 2,
                      "ticks": "",
                      "zerolinecolor": "white",
                      "gridcolor": "white",
                      "linecolor": "white"
                    },
                    "annotationdefaults": {
                      "arrowwidth": 1,
                      "arrowhead": 0,
                      "arrowcolor": "#2a3f5f"
                    },
                    "hoverlabel": {
                      "align": "left"
                    },
                    "ternary": {
                      "bgcolor": "#E5ECF6",
                      "baxis": {
                        "ticks": "",
                        "gridcolor": "white",
                        "linecolor": "white"
                      },
                      "caxis": {
                        "ticks": "",
                        "gridcolor": "white",
                        "linecolor": "white"
                      },
                      "aaxis": {
                        "ticks": "",
                        "gridcolor": "white",
                        "linecolor": "white"
                      }
                    },
                    "mapbox": {
                      "style": "light"
                    },
                    "hovermode": "closest",
                    "font": {
                      "color": "#2a3f5f"
                    },
                    "geo": {
                      "showland": true,
                      "landcolor": "#E5ECF6",
                      "showlakes": true,
                      "bgcolor": "white",
                      "subunitcolor": "white",
                      "lakecolor": "white"
                    },
                    "coloraxis": {
                      "colorbar": {
                        "outlinewidth": 0,
                        "ticks": ""
                      }
                    }
                  },
                  "data": {
                    "mesh3d": [
                      {
                        "colorbar": {
                          "outlinewidth": 0,
                          "ticks": ""
                        },
                        "type": "mesh3d"
                      }
                    ],
                    "scattercarpet": [
                      {
                        "marker": {
                          "colorbar": {
                            "outlinewidth": 0,
                            "ticks": ""
                          }
                        },
                        "type": "scattercarpet"
                      }
                    ],
                    "pie": [
                      {
                        "automargin": true,
                        "type": "pie"
                      }
                    ],
                    "surface": [
                      {
                        "colorbar": {
                          "outlinewidth": 0,
                          "ticks": ""
                        },
                        "type": "surface",
                        "colorscale": [
                          [
                            0,
                            "#0d0887"
                          ],
                          [
                            0.1111111111111111,
                            "#46039f"
                          ],
                          [
                            0.2222222222222222,
                            "#7201a8"
                          ],
                          [
                            0.3333333333333333,
                            "#9c179e"
                          ],
                          [
                            0.4444444444444444,
                            "#bd3786"
                          ],
                          [
                            0.5555555555555556,
                            "#d8576b"
                          ],
                          [
                            0.6666666666666666,
                            "#ed7953"
                          ],
                          [
                            0.7777777777777778,
                            "#fb9f3a"
                          ],
                          [
                            0.8888888888888888,
                            "#fdca26"
                          ],
                          [
                            1,
                            "#f0f921"
                          ]
                        ]
                      }
                    ],
                    "table": [
                      {
                        "header": {
                          "line": {
                            "color": "white"
                          },
                          "fill": {
                            "color": "#C8D4E3"
                          }
                        },
                        "cells": {
                          "line": {
                            "color": "white"
                          },
                          "fill": {
                            "color": "#EBF0F8"
                          }
                        },
                        "type": "table"
                      }
                    ],
                    "scatterpolargl": [
                      {
                        "marker": {
                          "colorbar": {
                            "outlinewidth": 0,
                            "ticks": ""
                          }
                        },
                        "type": "scatterpolargl"
                      }
                    ],
                    "contour": [
                      {
                        "colorbar": {
                          "outlinewidth": 0,
                          "ticks": ""
                        },
                        "type": "contour",
                        "colorscale": [
                          [
                            0,
                            "#0d0887"
                          ],
                          [
                            0.1111111111111111,
                            "#46039f"
                          ],
                          [
                            0.2222222222222222,
                            "#7201a8"
                          ],
                          [
                            0.3333333333333333,
                            "#9c179e"
                          ],
                          [
                            0.4444444444444444,
                            "#bd3786"
                          ],
                          [
                            0.5555555555555556,
                            "#d8576b"
                          ],
                          [
                            0.6666666666666666,
                            "#ed7953"
                          ],
                          [
                            0.7777777777777778,
                            "#fb9f3a"
                          ],
                          [
                            0.8888888888888888,
                            "#fdca26"
                          ],
                          [
                            1,
                            "#f0f921"
                          ]
                        ]
                      }
                    ],
                    "carpet": [
                      {
                        "type": "carpet",
                        "baxis": {
                          "minorgridcolor": "white",
                          "gridcolor": "white",
                          "linecolor": "white",
                          "endlinecolor": "#2a3f5f",
                          "startlinecolor": "#2a3f5f"
                        },
                        "aaxis": {
                          "minorgridcolor": "white",
                          "gridcolor": "white",
                          "linecolor": "white",
                          "endlinecolor": "#2a3f5f",
                          "startlinecolor": "#2a3f5f"
                        }
                      }
                    ],
                    "contourcarpet": [
                      {
                        "colorbar": {
                          "outlinewidth": 0,
                          "ticks": ""
                        },
                        "type": "contourcarpet"
                      }
                    ],
                    "heatmap": [
                      {
                        "colorbar": {
                          "outlinewidth": 0,
                          "ticks": ""
                        },
                        "type": "heatmap",
                        "colorscale": [
                          [
                            0,
                            "#0d0887"
                          ],
                          [
                            0.1111111111111111,
                            "#46039f"
                          ],
                          [
                            0.2222222222222222,
                            "#7201a8"
                          ],
                          [
                            0.3333333333333333,
                            "#9c179e"
                          ],
                          [
                            0.4444444444444444,
                            "#bd3786"
                          ],
                          [
                            0.5555555555555556,
                            "#d8576b"
                          ],
                          [
                            0.6666666666666666,
                            "#ed7953"
                          ],
                          [
                            0.7777777777777778,
                            "#fb9f3a"
                          ],
                          [
                            0.8888888888888888,
                            "#fdca26"
                          ],
                          [
                            1,
                            "#f0f921"
                          ]
                        ]
                      }
                    ],
                    "scattermapbox": [
                      {
                        "marker": {
                          "colorbar": {
                            "outlinewidth": 0,
                            "ticks": ""
                          }
                        },
                        "type": "scattermapbox"
                      }
                    ],
                    "scatter3d": [
                      {
                        "marker": {
                          "colorbar": {
                            "outlinewidth": 0,
                            "ticks": ""
                          }
                        },
                        "line": {
                          "colorbar": {
                            "outlinewidth": 0,
                            "ticks": ""
                          }
                        },
                        "type": "scatter3d"
                      }
                    ],
                    "scattergl": [
                      {
                        "marker": {
                          "colorbar": {
                            "outlinewidth": 0,
                            "ticks": ""
                          }
                        },
                        "type": "scattergl"
                      }
                    ],
                    "scatterternary": [
                      {
                        "marker": {
                          "colorbar": {
                            "outlinewidth": 0,
                            "ticks": ""
                          }
                        },
                        "type": "scatterternary"
                      }
                    ],
                    "histogram": [
                      {
                        "marker": {
                          "colorbar": {
                            "outlinewidth": 0,
                            "ticks": ""
                          }
                        },
                        "type": "histogram"
                      }
                    ],
                    "heatmapgl": [
                      {
                        "colorbar": {
                          "outlinewidth": 0,
                          "ticks": ""
                        },
                        "type": "heatmapgl",
                        "colorscale": [
                          [
                            0,
                            "#0d0887"
                          ],
                          [
                            0.1111111111111111,
                            "#46039f"
                          ],
                          [
                            0.2222222222222222,
                            "#7201a8"
                          ],
                          [
                            0.3333333333333333,
                            "#9c179e"
                          ],
                          [
                            0.4444444444444444,
                            "#bd3786"
                          ],
                          [
                            0.5555555555555556,
                            "#d8576b"
                          ],
                          [
                            0.6666666666666666,
                            "#ed7953"
                          ],
                          [
                            0.7777777777777778,
                            "#fb9f3a"
                          ],
                          [
                            0.8888888888888888,
                            "#fdca26"
                          ],
                          [
                            1,
                            "#f0f921"
                          ]
                        ]
                      }
                    ],
                    "scatterpolar": [
                      {
                        "marker": {
                          "colorbar": {
                            "outlinewidth": 0,
                            "ticks": ""
                          }
                        },
                        "type": "scatterpolar"
                      }
                    ],
                    "histogram2d": [
                      {
                        "colorbar": {
                          "outlinewidth": 0,
                          "ticks": ""
                        },
                        "type": "histogram2d",
                        "colorscale": [
                          [
                            0,
                            "#0d0887"
                          ],
                          [
                            0.1111111111111111,
                            "#46039f"
                          ],
                          [
                            0.2222222222222222,
                            "#7201a8"
                          ],
                          [
                            0.3333333333333333,
                            "#9c179e"
                          ],
                          [
                            0.4444444444444444,
                            "#bd3786"
                          ],
                          [
                            0.5555555555555556,
                            "#d8576b"
                          ],
                          [
                            0.6666666666666666,
                            "#ed7953"
                          ],
                          [
                            0.7777777777777778,
                            "#fb9f3a"
                          ],
                          [
                            0.8888888888888888,
                            "#fdca26"
                          ],
                          [
                            1,
                            "#f0f921"
                          ]
                        ]
                      }
                    ],
                    "scattergeo": [
                      {
                        "marker": {
                          "colorbar": {
                            "outlinewidth": 0,
                            "ticks": ""
                          }
                        },
                        "type": "scattergeo"
                      }
                    ],
                    "bar": [
                      {
                        "marker": {
                          "line": {
                            "color": "#E5ECF6",
                            "width": 0.5
                          }
                        },
                        "type": "bar",
                        "error_x": {
                          "color": "#2a3f5f"
                        },
                        "error_y": {
                          "color": "#2a3f5f"
                        }
                      }
                    ],
                    "choropleth": [
                      {
                        "colorbar": {
                          "outlinewidth": 0,
                          "ticks": ""
                        },
                        "type": "choropleth"
                      }
                    ],
                    "parcoords": [
                      {
                        "line": {
                          "colorbar": {
                            "outlinewidth": 0,
                            "ticks": ""
                          }
                        },
                        "type": "parcoords"
                      }
                    ],
                    "barpolar": [
                      {
                        "marker": {
                          "line": {
                            "color": "#E5ECF6",
                            "width": 0.5
                          }
                        },
                        "type": "barpolar"
                      }
                    ],
                    "histogram2dcontour": [
                      {
                        "colorbar": {
                          "outlinewidth": 0,
                          "ticks": ""
                        },
                        "type": "histogram2dcontour",
                        "colorscale": [
                          [
                            0,
                            "#0d0887"
                          ],
                          [
                            0.1111111111111111,
                            "#46039f"
                          ],
                          [
                            0.2222222222222222,
                            "#7201a8"
                          ],
                          [
                            0.3333333333333333,
                            "#9c179e"
                          ],
                          [
                            0.4444444444444444,
                            "#bd3786"
                          ],
                          [
                            0.5555555555555556,
                            "#d8576b"
                          ],
                          [
                            0.6666666666666666,
                            "#ed7953"
                          ],
                          [
                            0.7777777777777778,
                            "#fb9f3a"
                          ],
                          [
                            0.8888888888888888,
                            "#fdca26"
                          ],
                          [
                            1,
                            "#f0f921"
                          ]
                        ]
                      }
                    ],
                    "scatter": [
                      {
                        "marker": {
                          "colorbar": {
                            "outlinewidth": 0,
                            "ticks": ""
                          }
                        },
                        "type": "scatter"
                      }
                    ]
                  }
                },
                "hovermode": "x",
                "legend": {
                  "bgcolor": "#F5F6F9",
                  "font": {
                    "color": "#4D5663"
                  }
                }
              }
            }
          },
          "metadata": {
            "tags": []
          }
        }
      ]
    },
    {
      "cell_type": "markdown",
      "metadata": {
        "id": "uzPXiukwYZlR",
        "colab_type": "text"
      },
      "source": [
        "## histogram"
      ]
    },
    {
      "cell_type": "code",
      "metadata": {
        "id": "q6h0oHHaYZlS",
        "colab_type": "code",
        "colab": {
          "base_uri": "https://localhost:8080/",
          "height": 542
        },
        "outputId": "fb7004a3-c409-440d-f1cf-c75b150134d6"
      },
      "source": [
        "df['A'].iplot(kind='hist',bins=25)"
      ],
      "execution_count": 18,
      "outputs": [
        {
          "output_type": "display_data",
          "data": {
            "text/html": [
              "<div>\n",
              "        \n",
              "        \n",
              "            <div id=\"7f02e9f3-4978-4a7f-b74e-886331a56cff\" class=\"plotly-graph-div\" style=\"height:525px; width:100%;\"></div>\n",
              "            <script type=\"text/javascript\">\n",
              "                require([\"plotly\"], function(Plotly) {\n",
              "                    window.PLOTLYENV=window.PLOTLYENV || {};\n",
              "                    window.PLOTLYENV.BASE_URL='https://plot.ly';\n",
              "                    \n",
              "                if (document.getElementById(\"7f02e9f3-4978-4a7f-b74e-886331a56cff\")) {\n",
              "                    Plotly.newPlot(\n",
              "                        '7f02e9f3-4978-4a7f-b74e-886331a56cff',\n",
              "                        [{\"histfunc\": \"count\", \"histnorm\": \"\", \"marker\": {\"color\": \"rgba(255, 153, 51, 1.0)\", \"line\": {\"color\": \"#4D5663\", \"width\": 1.3}}, \"name\": \"A\", \"nbinsx\": 25, \"opacity\": 0.8, \"orientation\": \"v\", \"type\": \"histogram\", \"x\": [0.033388217440508905, -0.6964117620033113, -1.1582806081079497, -0.2561921110075144, -0.9396395616723018, -1.8710775986328148, 1.1381065930965866, 0.2836313998887739, 0.8372825848844795, 0.5352062157485056, -0.10570195697932709, 1.3932461971675265, -1.0203377791552646, 1.4054722978405614, 1.2599083999065768, -0.8173466696833639, 0.749141786818367, 0.32314069513049737, 0.7835951532562746, -0.770714323484931, 1.3378126523628584, -0.11036438568990392, -1.2305529427537507, 0.11815301833078981, 0.11468249633092606, -1.5570788214620102, 0.3298883731176722, -0.1670048980170897, -0.44610787272009117, -1.040410419879342, -2.134223059509332, 1.2055267598805925, 0.7833271951513457, -0.30517818327250934, -1.054797078733294, 1.0339469118287643, 0.031724802569528074, 0.46524479084304915, 0.2696133157308018, -1.9022090457341743, -0.672553302714725, -1.4538759223619475, -0.8952596564969528, -1.6090791774457278, -0.9556876902032667, -1.2883809167343472, -1.013453792978003, -0.6001203860131052, -0.42238651267056765, -0.9170182467887845, -0.18415000223704875, 0.18274248152898628, 1.142934386894334, 0.6890288189881617, 0.5124153344064991, 0.9954018120132386, -0.27710289787528714, 0.5618092295029821, -1.5853615513089843, -0.0157622538163842, 0.0034350917010841247, -1.1545937310589027, -0.9052719576531694, -0.6408810782085186, -1.0539102470766974, -1.6088884404905042, 1.4254864256297581, -0.381852587029767, 0.49973553564455736, 0.12058127493662403, 0.10141909915549104, -2.23702939333417, 1.1966390259865207, -1.0238163568433811, 0.5306379570018278, 1.4703548194163234, -0.3706618777461258, -0.4550084839216992, 0.08172360222080535, 0.6328493435423694, -1.1647795582446374, 1.2494878059546373, 1.0678653724911056, 0.37109684888001876, -0.21332835621154117, -0.36165792593448076, -0.5427678072839484, -0.4522924354445968, 0.7548666787430129, -0.18127561554144686, 0.18500763008449855, 0.4227463117416283, 0.09356699424783808, 0.5616913468969047, -0.8108851809052096, -0.06592248187876751, 0.9053101300097707, 1.1852123122865834, 1.7821500045599021, 1.6772169106987314]}],\n",
              "                        {\"barmode\": \"overlay\", \"legend\": {\"bgcolor\": \"#F5F6F9\", \"font\": {\"color\": \"#4D5663\"}}, \"paper_bgcolor\": \"#F5F6F9\", \"plot_bgcolor\": \"#F5F6F9\", \"template\": {\"data\": {\"bar\": [{\"error_x\": {\"color\": \"#2a3f5f\"}, \"error_y\": {\"color\": \"#2a3f5f\"}, \"marker\": {\"line\": {\"color\": \"#E5ECF6\", \"width\": 0.5}}, \"type\": \"bar\"}], \"barpolar\": [{\"marker\": {\"line\": {\"color\": \"#E5ECF6\", \"width\": 0.5}}, \"type\": \"barpolar\"}], \"carpet\": [{\"aaxis\": {\"endlinecolor\": \"#2a3f5f\", \"gridcolor\": \"white\", \"linecolor\": \"white\", \"minorgridcolor\": \"white\", \"startlinecolor\": \"#2a3f5f\"}, \"baxis\": {\"endlinecolor\": \"#2a3f5f\", \"gridcolor\": \"white\", \"linecolor\": \"white\", \"minorgridcolor\": \"white\", \"startlinecolor\": \"#2a3f5f\"}, \"type\": \"carpet\"}], \"choropleth\": [{\"colorbar\": {\"outlinewidth\": 0, \"ticks\": \"\"}, \"type\": \"choropleth\"}], \"contour\": [{\"colorbar\": {\"outlinewidth\": 0, \"ticks\": \"\"}, \"colorscale\": [[0.0, \"#0d0887\"], [0.1111111111111111, \"#46039f\"], [0.2222222222222222, \"#7201a8\"], [0.3333333333333333, \"#9c179e\"], [0.4444444444444444, \"#bd3786\"], [0.5555555555555556, \"#d8576b\"], [0.6666666666666666, \"#ed7953\"], [0.7777777777777778, \"#fb9f3a\"], [0.8888888888888888, \"#fdca26\"], [1.0, \"#f0f921\"]], \"type\": \"contour\"}], \"contourcarpet\": [{\"colorbar\": {\"outlinewidth\": 0, \"ticks\": \"\"}, \"type\": \"contourcarpet\"}], \"heatmap\": [{\"colorbar\": {\"outlinewidth\": 0, \"ticks\": \"\"}, \"colorscale\": [[0.0, \"#0d0887\"], [0.1111111111111111, \"#46039f\"], [0.2222222222222222, \"#7201a8\"], [0.3333333333333333, \"#9c179e\"], [0.4444444444444444, \"#bd3786\"], [0.5555555555555556, \"#d8576b\"], [0.6666666666666666, \"#ed7953\"], [0.7777777777777778, \"#fb9f3a\"], [0.8888888888888888, \"#fdca26\"], [1.0, \"#f0f921\"]], \"type\": \"heatmap\"}], \"heatmapgl\": [{\"colorbar\": {\"outlinewidth\": 0, \"ticks\": \"\"}, \"colorscale\": [[0.0, \"#0d0887\"], [0.1111111111111111, \"#46039f\"], [0.2222222222222222, \"#7201a8\"], [0.3333333333333333, \"#9c179e\"], [0.4444444444444444, \"#bd3786\"], [0.5555555555555556, \"#d8576b\"], [0.6666666666666666, \"#ed7953\"], [0.7777777777777778, \"#fb9f3a\"], [0.8888888888888888, \"#fdca26\"], [1.0, \"#f0f921\"]], \"type\": \"heatmapgl\"}], \"histogram\": [{\"marker\": {\"colorbar\": {\"outlinewidth\": 0, \"ticks\": \"\"}}, \"type\": \"histogram\"}], \"histogram2d\": [{\"colorbar\": {\"outlinewidth\": 0, \"ticks\": \"\"}, \"colorscale\": [[0.0, \"#0d0887\"], [0.1111111111111111, \"#46039f\"], [0.2222222222222222, \"#7201a8\"], [0.3333333333333333, \"#9c179e\"], [0.4444444444444444, \"#bd3786\"], [0.5555555555555556, \"#d8576b\"], [0.6666666666666666, \"#ed7953\"], [0.7777777777777778, \"#fb9f3a\"], [0.8888888888888888, \"#fdca26\"], [1.0, \"#f0f921\"]], \"type\": \"histogram2d\"}], \"histogram2dcontour\": [{\"colorbar\": {\"outlinewidth\": 0, \"ticks\": \"\"}, \"colorscale\": [[0.0, \"#0d0887\"], [0.1111111111111111, \"#46039f\"], [0.2222222222222222, \"#7201a8\"], [0.3333333333333333, \"#9c179e\"], [0.4444444444444444, \"#bd3786\"], [0.5555555555555556, \"#d8576b\"], [0.6666666666666666, \"#ed7953\"], [0.7777777777777778, \"#fb9f3a\"], [0.8888888888888888, \"#fdca26\"], [1.0, \"#f0f921\"]], \"type\": \"histogram2dcontour\"}], \"mesh3d\": [{\"colorbar\": {\"outlinewidth\": 0, \"ticks\": \"\"}, \"type\": \"mesh3d\"}], \"parcoords\": [{\"line\": {\"colorbar\": {\"outlinewidth\": 0, \"ticks\": \"\"}}, \"type\": \"parcoords\"}], \"pie\": [{\"automargin\": true, \"type\": \"pie\"}], \"scatter\": [{\"marker\": {\"colorbar\": {\"outlinewidth\": 0, \"ticks\": \"\"}}, \"type\": \"scatter\"}], \"scatter3d\": [{\"line\": {\"colorbar\": {\"outlinewidth\": 0, \"ticks\": \"\"}}, \"marker\": {\"colorbar\": {\"outlinewidth\": 0, \"ticks\": \"\"}}, \"type\": \"scatter3d\"}], \"scattercarpet\": [{\"marker\": {\"colorbar\": {\"outlinewidth\": 0, \"ticks\": \"\"}}, \"type\": \"scattercarpet\"}], \"scattergeo\": [{\"marker\": {\"colorbar\": {\"outlinewidth\": 0, \"ticks\": \"\"}}, \"type\": \"scattergeo\"}], \"scattergl\": [{\"marker\": {\"colorbar\": {\"outlinewidth\": 0, \"ticks\": \"\"}}, \"type\": \"scattergl\"}], \"scattermapbox\": [{\"marker\": {\"colorbar\": {\"outlinewidth\": 0, \"ticks\": \"\"}}, \"type\": \"scattermapbox\"}], \"scatterpolar\": [{\"marker\": {\"colorbar\": {\"outlinewidth\": 0, \"ticks\": \"\"}}, \"type\": \"scatterpolar\"}], \"scatterpolargl\": [{\"marker\": {\"colorbar\": {\"outlinewidth\": 0, \"ticks\": \"\"}}, \"type\": \"scatterpolargl\"}], \"scatterternary\": [{\"marker\": {\"colorbar\": {\"outlinewidth\": 0, \"ticks\": \"\"}}, \"type\": \"scatterternary\"}], \"surface\": [{\"colorbar\": {\"outlinewidth\": 0, \"ticks\": \"\"}, \"colorscale\": [[0.0, \"#0d0887\"], [0.1111111111111111, \"#46039f\"], [0.2222222222222222, \"#7201a8\"], [0.3333333333333333, \"#9c179e\"], [0.4444444444444444, \"#bd3786\"], [0.5555555555555556, \"#d8576b\"], [0.6666666666666666, \"#ed7953\"], [0.7777777777777778, \"#fb9f3a\"], [0.8888888888888888, \"#fdca26\"], [1.0, \"#f0f921\"]], \"type\": \"surface\"}], \"table\": [{\"cells\": {\"fill\": {\"color\": \"#EBF0F8\"}, \"line\": {\"color\": \"white\"}}, \"header\": {\"fill\": {\"color\": \"#C8D4E3\"}, \"line\": {\"color\": \"white\"}}, \"type\": \"table\"}]}, \"layout\": {\"annotationdefaults\": {\"arrowcolor\": \"#2a3f5f\", \"arrowhead\": 0, \"arrowwidth\": 1}, \"coloraxis\": {\"colorbar\": {\"outlinewidth\": 0, \"ticks\": \"\"}}, \"colorscale\": {\"diverging\": [[0, \"#8e0152\"], [0.1, \"#c51b7d\"], [0.2, \"#de77ae\"], [0.3, \"#f1b6da\"], [0.4, \"#fde0ef\"], [0.5, \"#f7f7f7\"], [0.6, \"#e6f5d0\"], [0.7, \"#b8e186\"], [0.8, \"#7fbc41\"], [0.9, \"#4d9221\"], [1, \"#276419\"]], \"sequential\": [[0.0, \"#0d0887\"], [0.1111111111111111, \"#46039f\"], [0.2222222222222222, \"#7201a8\"], [0.3333333333333333, \"#9c179e\"], [0.4444444444444444, \"#bd3786\"], [0.5555555555555556, \"#d8576b\"], [0.6666666666666666, \"#ed7953\"], [0.7777777777777778, \"#fb9f3a\"], [0.8888888888888888, \"#fdca26\"], [1.0, \"#f0f921\"]], \"sequentialminus\": [[0.0, \"#0d0887\"], [0.1111111111111111, \"#46039f\"], [0.2222222222222222, \"#7201a8\"], [0.3333333333333333, \"#9c179e\"], [0.4444444444444444, \"#bd3786\"], [0.5555555555555556, \"#d8576b\"], [0.6666666666666666, \"#ed7953\"], [0.7777777777777778, \"#fb9f3a\"], [0.8888888888888888, \"#fdca26\"], [1.0, \"#f0f921\"]]}, \"colorway\": [\"#636efa\", \"#EF553B\", \"#00cc96\", \"#ab63fa\", \"#FFA15A\", \"#19d3f3\", \"#FF6692\", \"#B6E880\", \"#FF97FF\", \"#FECB52\"], \"font\": {\"color\": \"#2a3f5f\"}, \"geo\": {\"bgcolor\": \"white\", \"lakecolor\": \"white\", \"landcolor\": \"#E5ECF6\", \"showlakes\": true, \"showland\": true, \"subunitcolor\": \"white\"}, \"hoverlabel\": {\"align\": \"left\"}, \"hovermode\": \"closest\", \"mapbox\": {\"style\": \"light\"}, \"paper_bgcolor\": \"white\", \"plot_bgcolor\": \"#E5ECF6\", \"polar\": {\"angularaxis\": {\"gridcolor\": \"white\", \"linecolor\": \"white\", \"ticks\": \"\"}, \"bgcolor\": \"#E5ECF6\", \"radialaxis\": {\"gridcolor\": \"white\", \"linecolor\": \"white\", \"ticks\": \"\"}}, \"scene\": {\"xaxis\": {\"backgroundcolor\": \"#E5ECF6\", \"gridcolor\": \"white\", \"gridwidth\": 2, \"linecolor\": \"white\", \"showbackground\": true, \"ticks\": \"\", \"zerolinecolor\": \"white\"}, \"yaxis\": {\"backgroundcolor\": \"#E5ECF6\", \"gridcolor\": \"white\", \"gridwidth\": 2, \"linecolor\": \"white\", \"showbackground\": true, \"ticks\": \"\", \"zerolinecolor\": \"white\"}, \"zaxis\": {\"backgroundcolor\": \"#E5ECF6\", \"gridcolor\": \"white\", \"gridwidth\": 2, \"linecolor\": \"white\", \"showbackground\": true, \"ticks\": \"\", \"zerolinecolor\": \"white\"}}, \"shapedefaults\": {\"line\": {\"color\": \"#2a3f5f\"}}, \"ternary\": {\"aaxis\": {\"gridcolor\": \"white\", \"linecolor\": \"white\", \"ticks\": \"\"}, \"baxis\": {\"gridcolor\": \"white\", \"linecolor\": \"white\", \"ticks\": \"\"}, \"bgcolor\": \"#E5ECF6\", \"caxis\": {\"gridcolor\": \"white\", \"linecolor\": \"white\", \"ticks\": \"\"}}, \"title\": {\"x\": 0.05}, \"xaxis\": {\"automargin\": true, \"gridcolor\": \"white\", \"linecolor\": \"white\", \"ticks\": \"\", \"title\": {\"standoff\": 15}, \"zerolinecolor\": \"white\", \"zerolinewidth\": 2}, \"yaxis\": {\"automargin\": true, \"gridcolor\": \"white\", \"linecolor\": \"white\", \"ticks\": \"\", \"title\": {\"standoff\": 15}, \"zerolinecolor\": \"white\", \"zerolinewidth\": 2}}}, \"title\": {\"font\": {\"color\": \"#4D5663\"}}, \"xaxis\": {\"gridcolor\": \"#E1E5ED\", \"showgrid\": true, \"tickfont\": {\"color\": \"#4D5663\"}, \"title\": {\"font\": {\"color\": \"#4D5663\"}, \"text\": \"\"}, \"zerolinecolor\": \"#E1E5ED\"}, \"yaxis\": {\"gridcolor\": \"#E1E5ED\", \"showgrid\": true, \"tickfont\": {\"color\": \"#4D5663\"}, \"title\": {\"font\": {\"color\": \"#4D5663\"}, \"text\": \"\"}, \"zerolinecolor\": \"#E1E5ED\"}},\n",
              "                        {\"showLink\": true, \"linkText\": \"Export to plot.ly\", \"plotlyServerURL\": \"https://plot.ly\", \"responsive\": true}\n",
              "                    ).then(function(){\n",
              "                            \n",
              "var gd = document.getElementById('7f02e9f3-4978-4a7f-b74e-886331a56cff');\n",
              "var x = new MutationObserver(function (mutations, observer) {{\n",
              "        var display = window.getComputedStyle(gd).display;\n",
              "        if (!display || display === 'none') {{\n",
              "            console.log([gd, 'removed!']);\n",
              "            Plotly.purge(gd);\n",
              "            observer.disconnect();\n",
              "        }}\n",
              "}});\n",
              "\n",
              "// Listen for the removal of the full notebook cells\n",
              "var notebookContainer = gd.closest('#notebook-container');\n",
              "if (notebookContainer) {{\n",
              "    x.observe(notebookContainer, {childList: true});\n",
              "}}\n",
              "\n",
              "// Listen for the clearing of the current output cell\n",
              "var outputEl = gd.closest('.output');\n",
              "if (outputEl) {{\n",
              "    x.observe(outputEl, {childList: true});\n",
              "}}\n",
              "\n",
              "                        })\n",
              "                };\n",
              "                });\n",
              "            </script>\n",
              "        </div>"
            ],
            "application/vnd.plotly.v1+json": {
              "data": [
                {
                  "opacity": 0.8,
                  "name": "A",
                  "histnorm": "",
                  "nbinsx": 25,
                  "histfunc": "count",
                  "marker": {
                    "color": "rgba(255, 153, 51, 1.0)",
                    "line": {
                      "color": "#4D5663",
                      "width": 1.3
                    }
                  },
                  "x": [
                    0.033388217440508905,
                    -0.6964117620033113,
                    -1.1582806081079497,
                    -0.2561921110075144,
                    -0.9396395616723018,
                    -1.8710775986328148,
                    1.1381065930965866,
                    0.2836313998887739,
                    0.8372825848844795,
                    0.5352062157485056,
                    -0.10570195697932709,
                    1.3932461971675265,
                    -1.0203377791552646,
                    1.4054722978405614,
                    1.2599083999065768,
                    -0.8173466696833639,
                    0.749141786818367,
                    0.32314069513049737,
                    0.7835951532562746,
                    -0.770714323484931,
                    1.3378126523628584,
                    -0.11036438568990392,
                    -1.2305529427537507,
                    0.11815301833078981,
                    0.11468249633092606,
                    -1.5570788214620102,
                    0.3298883731176722,
                    -0.1670048980170897,
                    -0.44610787272009117,
                    -1.040410419879342,
                    -2.134223059509332,
                    1.2055267598805925,
                    0.7833271951513457,
                    -0.30517818327250934,
                    -1.054797078733294,
                    1.0339469118287643,
                    0.031724802569528074,
                    0.46524479084304915,
                    0.2696133157308018,
                    -1.9022090457341743,
                    -0.672553302714725,
                    -1.4538759223619475,
                    -0.8952596564969528,
                    -1.6090791774457278,
                    -0.9556876902032667,
                    -1.2883809167343472,
                    -1.013453792978003,
                    -0.6001203860131052,
                    -0.42238651267056765,
                    -0.9170182467887845,
                    -0.18415000223704875,
                    0.18274248152898628,
                    1.142934386894334,
                    0.6890288189881617,
                    0.5124153344064991,
                    0.9954018120132386,
                    -0.27710289787528714,
                    0.5618092295029821,
                    -1.5853615513089843,
                    -0.0157622538163842,
                    0.0034350917010841247,
                    -1.1545937310589027,
                    -0.9052719576531694,
                    -0.6408810782085186,
                    -1.0539102470766974,
                    -1.6088884404905042,
                    1.4254864256297581,
                    -0.381852587029767,
                    0.49973553564455736,
                    0.12058127493662403,
                    0.10141909915549104,
                    -2.23702939333417,
                    1.1966390259865207,
                    -1.0238163568433811,
                    0.5306379570018278,
                    1.4703548194163234,
                    -0.3706618777461258,
                    -0.4550084839216992,
                    0.08172360222080535,
                    0.6328493435423694,
                    -1.1647795582446374,
                    1.2494878059546373,
                    1.0678653724911056,
                    0.37109684888001876,
                    -0.21332835621154117,
                    -0.36165792593448076,
                    -0.5427678072839484,
                    -0.4522924354445968,
                    0.7548666787430129,
                    -0.18127561554144686,
                    0.18500763008449855,
                    0.4227463117416283,
                    0.09356699424783808,
                    0.5616913468969047,
                    -0.8108851809052096,
                    -0.06592248187876751,
                    0.9053101300097707,
                    1.1852123122865834,
                    1.7821500045599021,
                    1.6772169106987314
                  ],
                  "type": "histogram",
                  "orientation": "v"
                }
              ],
              "config": {
                "plotlyServerURL": "https://plot.ly",
                "linkText": "Export to plot.ly",
                "showLink": true
              },
              "layout": {
                "xaxis": {
                  "tickfont": {
                    "color": "#4D5663"
                  },
                  "zerolinecolor": "#E1E5ED",
                  "title": {
                    "text": "",
                    "font": {
                      "color": "#4D5663"
                    }
                  },
                  "gridcolor": "#E1E5ED",
                  "showgrid": true
                },
                "title": {
                  "font": {
                    "color": "#4D5663"
                  }
                },
                "paper_bgcolor": "#F5F6F9",
                "plot_bgcolor": "#F5F6F9",
                "yaxis": {
                  "tickfont": {
                    "color": "#4D5663"
                  },
                  "zerolinecolor": "#E1E5ED",
                  "title": {
                    "text": "",
                    "font": {
                      "color": "#4D5663"
                    }
                  },
                  "gridcolor": "#E1E5ED",
                  "showgrid": true
                },
                "barmode": "overlay",
                "template": {
                  "layout": {
                    "shapedefaults": {
                      "line": {
                        "color": "#2a3f5f"
                      }
                    },
                    "polar": {
                      "radialaxis": {
                        "ticks": "",
                        "gridcolor": "white",
                        "linecolor": "white"
                      },
                      "bgcolor": "#E5ECF6",
                      "angularaxis": {
                        "ticks": "",
                        "gridcolor": "white",
                        "linecolor": "white"
                      }
                    },
                    "colorway": [
                      "#636efa",
                      "#EF553B",
                      "#00cc96",
                      "#ab63fa",
                      "#FFA15A",
                      "#19d3f3",
                      "#FF6692",
                      "#B6E880",
                      "#FF97FF",
                      "#FECB52"
                    ],
                    "xaxis": {
                      "automargin": true,
                      "title": {
                        "standoff": 15
                      },
                      "zerolinewidth": 2,
                      "ticks": "",
                      "zerolinecolor": "white",
                      "gridcolor": "white",
                      "linecolor": "white"
                    },
                    "colorscale": {
                      "diverging": [
                        [
                          0,
                          "#8e0152"
                        ],
                        [
                          0.1,
                          "#c51b7d"
                        ],
                        [
                          0.2,
                          "#de77ae"
                        ],
                        [
                          0.3,
                          "#f1b6da"
                        ],
                        [
                          0.4,
                          "#fde0ef"
                        ],
                        [
                          0.5,
                          "#f7f7f7"
                        ],
                        [
                          0.6,
                          "#e6f5d0"
                        ],
                        [
                          0.7,
                          "#b8e186"
                        ],
                        [
                          0.8,
                          "#7fbc41"
                        ],
                        [
                          0.9,
                          "#4d9221"
                        ],
                        [
                          1,
                          "#276419"
                        ]
                      ],
                      "sequential": [
                        [
                          0,
                          "#0d0887"
                        ],
                        [
                          0.1111111111111111,
                          "#46039f"
                        ],
                        [
                          0.2222222222222222,
                          "#7201a8"
                        ],
                        [
                          0.3333333333333333,
                          "#9c179e"
                        ],
                        [
                          0.4444444444444444,
                          "#bd3786"
                        ],
                        [
                          0.5555555555555556,
                          "#d8576b"
                        ],
                        [
                          0.6666666666666666,
                          "#ed7953"
                        ],
                        [
                          0.7777777777777778,
                          "#fb9f3a"
                        ],
                        [
                          0.8888888888888888,
                          "#fdca26"
                        ],
                        [
                          1,
                          "#f0f921"
                        ]
                      ],
                      "sequentialminus": [
                        [
                          0,
                          "#0d0887"
                        ],
                        [
                          0.1111111111111111,
                          "#46039f"
                        ],
                        [
                          0.2222222222222222,
                          "#7201a8"
                        ],
                        [
                          0.3333333333333333,
                          "#9c179e"
                        ],
                        [
                          0.4444444444444444,
                          "#bd3786"
                        ],
                        [
                          0.5555555555555556,
                          "#d8576b"
                        ],
                        [
                          0.6666666666666666,
                          "#ed7953"
                        ],
                        [
                          0.7777777777777778,
                          "#fb9f3a"
                        ],
                        [
                          0.8888888888888888,
                          "#fdca26"
                        ],
                        [
                          1,
                          "#f0f921"
                        ]
                      ]
                    },
                    "paper_bgcolor": "white",
                    "plot_bgcolor": "#E5ECF6",
                    "title": {
                      "x": 0.05
                    },
                    "scene": {
                      "zaxis": {
                        "backgroundcolor": "#E5ECF6",
                        "ticks": "",
                        "gridwidth": 2,
                        "showbackground": true,
                        "zerolinecolor": "white",
                        "gridcolor": "white",
                        "linecolor": "white"
                      },
                      "xaxis": {
                        "backgroundcolor": "#E5ECF6",
                        "ticks": "",
                        "gridwidth": 2,
                        "showbackground": true,
                        "zerolinecolor": "white",
                        "gridcolor": "white",
                        "linecolor": "white"
                      },
                      "yaxis": {
                        "backgroundcolor": "#E5ECF6",
                        "ticks": "",
                        "gridwidth": 2,
                        "showbackground": true,
                        "zerolinecolor": "white",
                        "gridcolor": "white",
                        "linecolor": "white"
                      }
                    },
                    "yaxis": {
                      "automargin": true,
                      "title": {
                        "standoff": 15
                      },
                      "zerolinewidth": 2,
                      "ticks": "",
                      "zerolinecolor": "white",
                      "gridcolor": "white",
                      "linecolor": "white"
                    },
                    "annotationdefaults": {
                      "arrowwidth": 1,
                      "arrowhead": 0,
                      "arrowcolor": "#2a3f5f"
                    },
                    "hoverlabel": {
                      "align": "left"
                    },
                    "ternary": {
                      "bgcolor": "#E5ECF6",
                      "baxis": {
                        "ticks": "",
                        "gridcolor": "white",
                        "linecolor": "white"
                      },
                      "caxis": {
                        "ticks": "",
                        "gridcolor": "white",
                        "linecolor": "white"
                      },
                      "aaxis": {
                        "ticks": "",
                        "gridcolor": "white",
                        "linecolor": "white"
                      }
                    },
                    "mapbox": {
                      "style": "light"
                    },
                    "hovermode": "closest",
                    "font": {
                      "color": "#2a3f5f"
                    },
                    "geo": {
                      "showland": true,
                      "landcolor": "#E5ECF6",
                      "showlakes": true,
                      "bgcolor": "white",
                      "subunitcolor": "white",
                      "lakecolor": "white"
                    },
                    "coloraxis": {
                      "colorbar": {
                        "outlinewidth": 0,
                        "ticks": ""
                      }
                    }
                  },
                  "data": {
                    "mesh3d": [
                      {
                        "colorbar": {
                          "outlinewidth": 0,
                          "ticks": ""
                        },
                        "type": "mesh3d"
                      }
                    ],
                    "scattercarpet": [
                      {
                        "marker": {
                          "colorbar": {
                            "outlinewidth": 0,
                            "ticks": ""
                          }
                        },
                        "type": "scattercarpet"
                      }
                    ],
                    "pie": [
                      {
                        "automargin": true,
                        "type": "pie"
                      }
                    ],
                    "surface": [
                      {
                        "colorbar": {
                          "outlinewidth": 0,
                          "ticks": ""
                        },
                        "type": "surface",
                        "colorscale": [
                          [
                            0,
                            "#0d0887"
                          ],
                          [
                            0.1111111111111111,
                            "#46039f"
                          ],
                          [
                            0.2222222222222222,
                            "#7201a8"
                          ],
                          [
                            0.3333333333333333,
                            "#9c179e"
                          ],
                          [
                            0.4444444444444444,
                            "#bd3786"
                          ],
                          [
                            0.5555555555555556,
                            "#d8576b"
                          ],
                          [
                            0.6666666666666666,
                            "#ed7953"
                          ],
                          [
                            0.7777777777777778,
                            "#fb9f3a"
                          ],
                          [
                            0.8888888888888888,
                            "#fdca26"
                          ],
                          [
                            1,
                            "#f0f921"
                          ]
                        ]
                      }
                    ],
                    "table": [
                      {
                        "header": {
                          "line": {
                            "color": "white"
                          },
                          "fill": {
                            "color": "#C8D4E3"
                          }
                        },
                        "cells": {
                          "line": {
                            "color": "white"
                          },
                          "fill": {
                            "color": "#EBF0F8"
                          }
                        },
                        "type": "table"
                      }
                    ],
                    "scatterpolargl": [
                      {
                        "marker": {
                          "colorbar": {
                            "outlinewidth": 0,
                            "ticks": ""
                          }
                        },
                        "type": "scatterpolargl"
                      }
                    ],
                    "contour": [
                      {
                        "colorbar": {
                          "outlinewidth": 0,
                          "ticks": ""
                        },
                        "type": "contour",
                        "colorscale": [
                          [
                            0,
                            "#0d0887"
                          ],
                          [
                            0.1111111111111111,
                            "#46039f"
                          ],
                          [
                            0.2222222222222222,
                            "#7201a8"
                          ],
                          [
                            0.3333333333333333,
                            "#9c179e"
                          ],
                          [
                            0.4444444444444444,
                            "#bd3786"
                          ],
                          [
                            0.5555555555555556,
                            "#d8576b"
                          ],
                          [
                            0.6666666666666666,
                            "#ed7953"
                          ],
                          [
                            0.7777777777777778,
                            "#fb9f3a"
                          ],
                          [
                            0.8888888888888888,
                            "#fdca26"
                          ],
                          [
                            1,
                            "#f0f921"
                          ]
                        ]
                      }
                    ],
                    "carpet": [
                      {
                        "type": "carpet",
                        "baxis": {
                          "minorgridcolor": "white",
                          "gridcolor": "white",
                          "linecolor": "white",
                          "endlinecolor": "#2a3f5f",
                          "startlinecolor": "#2a3f5f"
                        },
                        "aaxis": {
                          "minorgridcolor": "white",
                          "gridcolor": "white",
                          "linecolor": "white",
                          "endlinecolor": "#2a3f5f",
                          "startlinecolor": "#2a3f5f"
                        }
                      }
                    ],
                    "contourcarpet": [
                      {
                        "colorbar": {
                          "outlinewidth": 0,
                          "ticks": ""
                        },
                        "type": "contourcarpet"
                      }
                    ],
                    "heatmap": [
                      {
                        "colorbar": {
                          "outlinewidth": 0,
                          "ticks": ""
                        },
                        "type": "heatmap",
                        "colorscale": [
                          [
                            0,
                            "#0d0887"
                          ],
                          [
                            0.1111111111111111,
                            "#46039f"
                          ],
                          [
                            0.2222222222222222,
                            "#7201a8"
                          ],
                          [
                            0.3333333333333333,
                            "#9c179e"
                          ],
                          [
                            0.4444444444444444,
                            "#bd3786"
                          ],
                          [
                            0.5555555555555556,
                            "#d8576b"
                          ],
                          [
                            0.6666666666666666,
                            "#ed7953"
                          ],
                          [
                            0.7777777777777778,
                            "#fb9f3a"
                          ],
                          [
                            0.8888888888888888,
                            "#fdca26"
                          ],
                          [
                            1,
                            "#f0f921"
                          ]
                        ]
                      }
                    ],
                    "scattermapbox": [
                      {
                        "marker": {
                          "colorbar": {
                            "outlinewidth": 0,
                            "ticks": ""
                          }
                        },
                        "type": "scattermapbox"
                      }
                    ],
                    "scatter3d": [
                      {
                        "marker": {
                          "colorbar": {
                            "outlinewidth": 0,
                            "ticks": ""
                          }
                        },
                        "line": {
                          "colorbar": {
                            "outlinewidth": 0,
                            "ticks": ""
                          }
                        },
                        "type": "scatter3d"
                      }
                    ],
                    "scattergl": [
                      {
                        "marker": {
                          "colorbar": {
                            "outlinewidth": 0,
                            "ticks": ""
                          }
                        },
                        "type": "scattergl"
                      }
                    ],
                    "scatterternary": [
                      {
                        "marker": {
                          "colorbar": {
                            "outlinewidth": 0,
                            "ticks": ""
                          }
                        },
                        "type": "scatterternary"
                      }
                    ],
                    "histogram": [
                      {
                        "marker": {
                          "colorbar": {
                            "outlinewidth": 0,
                            "ticks": ""
                          }
                        },
                        "type": "histogram"
                      }
                    ],
                    "heatmapgl": [
                      {
                        "colorbar": {
                          "outlinewidth": 0,
                          "ticks": ""
                        },
                        "type": "heatmapgl",
                        "colorscale": [
                          [
                            0,
                            "#0d0887"
                          ],
                          [
                            0.1111111111111111,
                            "#46039f"
                          ],
                          [
                            0.2222222222222222,
                            "#7201a8"
                          ],
                          [
                            0.3333333333333333,
                            "#9c179e"
                          ],
                          [
                            0.4444444444444444,
                            "#bd3786"
                          ],
                          [
                            0.5555555555555556,
                            "#d8576b"
                          ],
                          [
                            0.6666666666666666,
                            "#ed7953"
                          ],
                          [
                            0.7777777777777778,
                            "#fb9f3a"
                          ],
                          [
                            0.8888888888888888,
                            "#fdca26"
                          ],
                          [
                            1,
                            "#f0f921"
                          ]
                        ]
                      }
                    ],
                    "scatterpolar": [
                      {
                        "marker": {
                          "colorbar": {
                            "outlinewidth": 0,
                            "ticks": ""
                          }
                        },
                        "type": "scatterpolar"
                      }
                    ],
                    "histogram2d": [
                      {
                        "colorbar": {
                          "outlinewidth": 0,
                          "ticks": ""
                        },
                        "type": "histogram2d",
                        "colorscale": [
                          [
                            0,
                            "#0d0887"
                          ],
                          [
                            0.1111111111111111,
                            "#46039f"
                          ],
                          [
                            0.2222222222222222,
                            "#7201a8"
                          ],
                          [
                            0.3333333333333333,
                            "#9c179e"
                          ],
                          [
                            0.4444444444444444,
                            "#bd3786"
                          ],
                          [
                            0.5555555555555556,
                            "#d8576b"
                          ],
                          [
                            0.6666666666666666,
                            "#ed7953"
                          ],
                          [
                            0.7777777777777778,
                            "#fb9f3a"
                          ],
                          [
                            0.8888888888888888,
                            "#fdca26"
                          ],
                          [
                            1,
                            "#f0f921"
                          ]
                        ]
                      }
                    ],
                    "scattergeo": [
                      {
                        "marker": {
                          "colorbar": {
                            "outlinewidth": 0,
                            "ticks": ""
                          }
                        },
                        "type": "scattergeo"
                      }
                    ],
                    "bar": [
                      {
                        "marker": {
                          "line": {
                            "color": "#E5ECF6",
                            "width": 0.5
                          }
                        },
                        "type": "bar",
                        "error_x": {
                          "color": "#2a3f5f"
                        },
                        "error_y": {
                          "color": "#2a3f5f"
                        }
                      }
                    ],
                    "choropleth": [
                      {
                        "colorbar": {
                          "outlinewidth": 0,
                          "ticks": ""
                        },
                        "type": "choropleth"
                      }
                    ],
                    "parcoords": [
                      {
                        "line": {
                          "colorbar": {
                            "outlinewidth": 0,
                            "ticks": ""
                          }
                        },
                        "type": "parcoords"
                      }
                    ],
                    "barpolar": [
                      {
                        "marker": {
                          "line": {
                            "color": "#E5ECF6",
                            "width": 0.5
                          }
                        },
                        "type": "barpolar"
                      }
                    ],
                    "histogram2dcontour": [
                      {
                        "colorbar": {
                          "outlinewidth": 0,
                          "ticks": ""
                        },
                        "type": "histogram2dcontour",
                        "colorscale": [
                          [
                            0,
                            "#0d0887"
                          ],
                          [
                            0.1111111111111111,
                            "#46039f"
                          ],
                          [
                            0.2222222222222222,
                            "#7201a8"
                          ],
                          [
                            0.3333333333333333,
                            "#9c179e"
                          ],
                          [
                            0.4444444444444444,
                            "#bd3786"
                          ],
                          [
                            0.5555555555555556,
                            "#d8576b"
                          ],
                          [
                            0.6666666666666666,
                            "#ed7953"
                          ],
                          [
                            0.7777777777777778,
                            "#fb9f3a"
                          ],
                          [
                            0.8888888888888888,
                            "#fdca26"
                          ],
                          [
                            1,
                            "#f0f921"
                          ]
                        ]
                      }
                    ],
                    "scatter": [
                      {
                        "marker": {
                          "colorbar": {
                            "outlinewidth": 0,
                            "ticks": ""
                          }
                        },
                        "type": "scatter"
                      }
                    ]
                  }
                },
                "legend": {
                  "bgcolor": "#F5F6F9",
                  "font": {
                    "color": "#4D5663"
                  }
                }
              }
            }
          },
          "metadata": {
            "tags": []
          }
        }
      ]
    },
    {
      "cell_type": "code",
      "metadata": {
        "id": "tBRVYLBYYZlY",
        "colab_type": "code",
        "colab": {
          "base_uri": "https://localhost:8080/",
          "height": 542
        },
        "outputId": "90f18b29-21d2-4109-a7bb-86a23b2f2bee"
      },
      "source": [
        "df.iplot(kind='bubble',x='A',y='B',size='C')"
      ],
      "execution_count": 19,
      "outputs": [
        {
          "output_type": "display_data",
          "data": {
            "text/html": [
              "<div>\n",
              "        \n",
              "        \n",
              "            <div id=\"1ad1303b-f56a-4b0a-b4d7-a559e0c8ce88\" class=\"plotly-graph-div\" style=\"height:525px; width:100%;\"></div>\n",
              "            <script type=\"text/javascript\">\n",
              "                require([\"plotly\"], function(Plotly) {\n",
              "                    window.PLOTLYENV=window.PLOTLYENV || {};\n",
              "                    window.PLOTLYENV.BASE_URL='https://plot.ly';\n",
              "                    \n",
              "                if (document.getElementById(\"1ad1303b-f56a-4b0a-b4d7-a559e0c8ce88\")) {\n",
              "                    Plotly.newPlot(\n",
              "                        '1ad1303b-f56a-4b0a-b4d7-a559e0c8ce88',\n",
              "                        [{\"marker\": {\"color\": [\"rgb(255, 153, 51)\", \"rgb(55, 128, 191)\", \"rgb(50, 171, 96)\", \"rgb(128, 0, 128)\", \"rgb(219, 64, 82)\", \"rgb(0, 128, 128)\", \"rgb(255, 255, 51)\", \"rgb(128, 128, 0)\", \"rgb(251, 128, 114)\", \"rgb(128, 177, 211)\"], \"line\": {\"width\": 1.3}, \"size\": [90, 75, 67, 75, 112, 38, 84, 50, 61, 70, 43, 61, 80, 48, 89, 54, 42, 95, 95, 60, 97, 61, 80, 46, 41, 72, 48, 91, 58, 83, 69, 64, 96, 65, 52, 38, 32, 63, 59, 68, 49, 69, 55, 72, 78, 64, 34, 48, 62, 76, 12, 48, 94, 48, 43, 58, 87, 48, 80, 66, 46, 106, 47, 28, 80, 70, 56, 53, 65, 110, 62, 61, 76, 76, 36, 74, 24, 79, 85, 86, 79, 34, 101, 70, 55, 85, 84, 71, 56, 56, 54, 68, 83, 75, 67, 65, 107, 36, 50, 82], \"symbol\": \"circle\"}, \"mode\": \"markers\", \"text\": \"\", \"type\": \"scatter\", \"x\": [0.033388217440508905, -0.6964117620033113, -1.1582806081079497, -0.2561921110075144, -0.9396395616723018, -1.8710775986328148, 1.1381065930965866, 0.2836313998887739, 0.8372825848844795, 0.5352062157485056, -0.10570195697932709, 1.3932461971675265, -1.0203377791552646, 1.4054722978405614, 1.2599083999065768, -0.8173466696833639, 0.749141786818367, 0.32314069513049737, 0.7835951532562746, -0.770714323484931, 1.3378126523628584, -0.11036438568990392, -1.2305529427537507, 0.11815301833078981, 0.11468249633092606, -1.5570788214620102, 0.3298883731176722, -0.1670048980170897, -0.44610787272009117, -1.040410419879342, -2.134223059509332, 1.2055267598805925, 0.7833271951513457, -0.30517818327250934, -1.054797078733294, 1.0339469118287643, 0.031724802569528074, 0.46524479084304915, 0.2696133157308018, -1.9022090457341743, -0.672553302714725, -1.4538759223619475, -0.8952596564969528, -1.6090791774457278, -0.9556876902032667, -1.2883809167343472, -1.013453792978003, -0.6001203860131052, -0.42238651267056765, -0.9170182467887845, -0.18415000223704875, 0.18274248152898628, 1.142934386894334, 0.6890288189881617, 0.5124153344064991, 0.9954018120132386, -0.27710289787528714, 0.5618092295029821, -1.5853615513089843, -0.0157622538163842, 0.0034350917010841247, -1.1545937310589027, -0.9052719576531694, -0.6408810782085186, -1.0539102470766974, -1.6088884404905042, 1.4254864256297581, -0.381852587029767, 0.49973553564455736, 0.12058127493662403, 0.10141909915549104, -2.23702939333417, 1.1966390259865207, -1.0238163568433811, 0.5306379570018278, 1.4703548194163234, -0.3706618777461258, -0.4550084839216992, 0.08172360222080535, 0.6328493435423694, -1.1647795582446374, 1.2494878059546373, 1.0678653724911056, 0.37109684888001876, -0.21332835621154117, -0.36165792593448076, -0.5427678072839484, -0.4522924354445968, 0.7548666787430129, -0.18127561554144686, 0.18500763008449855, 0.4227463117416283, 0.09356699424783808, 0.5616913468969047, -0.8108851809052096, -0.06592248187876751, 0.9053101300097707, 1.1852123122865834, 1.7821500045599021, 1.6772169106987314], \"y\": [-0.3185819437242191, 0.017143553003232212, -1.161883283271516, -0.6704437820758866, -0.4752021049002068, 0.8818848095813414, -1.6113668454298233, -0.33827338930798506, -1.22976132791649, -1.1088957196694917, -0.6591281589852449, -0.9959336166710657, 0.9843663632768888, -0.8954963504718098, -0.9708364965136446, -0.3456105679762152, -0.5363379641406554, -0.347986706152008, -1.9772259945605442, -1.3146882448697077, 1.382190391435313, 0.4345969579360139, 0.30113552461211096, -0.8470311410792175, 0.3685426426850477, 0.5951448453513402, 0.17061591052139344, 0.17415532756605645, 0.2981196168572048, 0.4977249129616586, 0.33480901130394974, 0.1868880359802086, -1.6650149993841277, -0.6404910513353013, -0.8824072467179087, -0.553742729869468, 0.36036163241066343, -2.275974570734227, -1.5874012126450154, 1.3419821073368021, -1.4171003468926828, 1.231652765552878, -1.8453235220960005, -0.7197969325839411, 1.3226340184457743, 0.20947818537722288, 0.29165688844925786, 0.5883754850166348, 0.3683509795965926, -0.3339353731153345, 1.309887025504271, 0.31546723226620027, 1.3263631277316312, -0.34567806682641433, -0.19141808194686688, -0.4713020694872677, 0.8852804183445554, -0.8576319218947199, -0.9145682759871094, -1.4002022553453086, -0.1835398022198471, 0.9597120405836465, 0.7459121859140037, 0.9582724578902626, 0.2515689421160934, -0.38993360906100594, -1.2295245875026266, -0.6031951925607657, -2.681150844317574, 0.08570599518645991, -0.30239374308582356, -0.17549857467971453, -0.34269764974175787, -0.6967515592890964, -0.6517567157566919, -0.7432742339004702, 0.9679312814459848, -0.10389313558341703, 0.6858706396566807, -0.3944155036832106, 0.301036982440157, 1.5086902264625675, -0.7373137660036858, -0.22448726844840527, -0.22652852888373978, -1.0077169954080438, 1.249022242931242, -0.09106059301916564, 1.2227833371035044, 1.1059491261446488, -0.8637469439487155, 2.124637526257138, 0.07570566559288731, -0.652759552671152, -0.35136007142557557, -0.42327448382840327, 1.2267554224089194, 0.46971004043741227, 0.5654883626864355, 1.3099927206532345]}],\n",
              "                        {\"legend\": {\"bgcolor\": \"#F5F6F9\", \"font\": {\"color\": \"#4D5663\"}}, \"paper_bgcolor\": \"#F5F6F9\", \"plot_bgcolor\": \"#F5F6F9\", \"template\": {\"data\": {\"bar\": [{\"error_x\": {\"color\": \"#2a3f5f\"}, \"error_y\": {\"color\": \"#2a3f5f\"}, \"marker\": {\"line\": {\"color\": \"#E5ECF6\", \"width\": 0.5}}, \"type\": \"bar\"}], \"barpolar\": [{\"marker\": {\"line\": {\"color\": \"#E5ECF6\", \"width\": 0.5}}, \"type\": \"barpolar\"}], \"carpet\": [{\"aaxis\": {\"endlinecolor\": \"#2a3f5f\", \"gridcolor\": \"white\", \"linecolor\": \"white\", \"minorgridcolor\": \"white\", \"startlinecolor\": \"#2a3f5f\"}, \"baxis\": {\"endlinecolor\": \"#2a3f5f\", \"gridcolor\": \"white\", \"linecolor\": \"white\", \"minorgridcolor\": \"white\", \"startlinecolor\": \"#2a3f5f\"}, \"type\": \"carpet\"}], \"choropleth\": [{\"colorbar\": {\"outlinewidth\": 0, \"ticks\": \"\"}, \"type\": \"choropleth\"}], \"contour\": [{\"colorbar\": {\"outlinewidth\": 0, \"ticks\": \"\"}, \"colorscale\": [[0.0, \"#0d0887\"], [0.1111111111111111, \"#46039f\"], [0.2222222222222222, \"#7201a8\"], [0.3333333333333333, \"#9c179e\"], [0.4444444444444444, \"#bd3786\"], [0.5555555555555556, \"#d8576b\"], [0.6666666666666666, \"#ed7953\"], [0.7777777777777778, \"#fb9f3a\"], [0.8888888888888888, \"#fdca26\"], [1.0, \"#f0f921\"]], \"type\": \"contour\"}], \"contourcarpet\": [{\"colorbar\": {\"outlinewidth\": 0, \"ticks\": \"\"}, \"type\": \"contourcarpet\"}], \"heatmap\": [{\"colorbar\": {\"outlinewidth\": 0, \"ticks\": \"\"}, \"colorscale\": [[0.0, \"#0d0887\"], [0.1111111111111111, \"#46039f\"], [0.2222222222222222, \"#7201a8\"], [0.3333333333333333, \"#9c179e\"], [0.4444444444444444, \"#bd3786\"], [0.5555555555555556, \"#d8576b\"], [0.6666666666666666, \"#ed7953\"], [0.7777777777777778, \"#fb9f3a\"], [0.8888888888888888, \"#fdca26\"], [1.0, \"#f0f921\"]], \"type\": \"heatmap\"}], \"heatmapgl\": [{\"colorbar\": {\"outlinewidth\": 0, \"ticks\": \"\"}, \"colorscale\": [[0.0, \"#0d0887\"], [0.1111111111111111, \"#46039f\"], [0.2222222222222222, \"#7201a8\"], [0.3333333333333333, \"#9c179e\"], [0.4444444444444444, \"#bd3786\"], [0.5555555555555556, \"#d8576b\"], [0.6666666666666666, \"#ed7953\"], [0.7777777777777778, \"#fb9f3a\"], [0.8888888888888888, \"#fdca26\"], [1.0, \"#f0f921\"]], \"type\": \"heatmapgl\"}], \"histogram\": [{\"marker\": {\"colorbar\": {\"outlinewidth\": 0, \"ticks\": \"\"}}, \"type\": \"histogram\"}], \"histogram2d\": [{\"colorbar\": {\"outlinewidth\": 0, \"ticks\": \"\"}, \"colorscale\": [[0.0, \"#0d0887\"], [0.1111111111111111, \"#46039f\"], [0.2222222222222222, \"#7201a8\"], [0.3333333333333333, \"#9c179e\"], [0.4444444444444444, \"#bd3786\"], [0.5555555555555556, \"#d8576b\"], [0.6666666666666666, \"#ed7953\"], [0.7777777777777778, \"#fb9f3a\"], [0.8888888888888888, \"#fdca26\"], [1.0, \"#f0f921\"]], \"type\": \"histogram2d\"}], \"histogram2dcontour\": [{\"colorbar\": {\"outlinewidth\": 0, \"ticks\": \"\"}, \"colorscale\": [[0.0, \"#0d0887\"], [0.1111111111111111, \"#46039f\"], [0.2222222222222222, \"#7201a8\"], [0.3333333333333333, \"#9c179e\"], [0.4444444444444444, \"#bd3786\"], [0.5555555555555556, \"#d8576b\"], [0.6666666666666666, \"#ed7953\"], [0.7777777777777778, \"#fb9f3a\"], [0.8888888888888888, \"#fdca26\"], [1.0, \"#f0f921\"]], \"type\": \"histogram2dcontour\"}], \"mesh3d\": [{\"colorbar\": {\"outlinewidth\": 0, \"ticks\": \"\"}, \"type\": \"mesh3d\"}], \"parcoords\": [{\"line\": {\"colorbar\": {\"outlinewidth\": 0, \"ticks\": \"\"}}, \"type\": \"parcoords\"}], \"pie\": [{\"automargin\": true, \"type\": \"pie\"}], \"scatter\": [{\"marker\": {\"colorbar\": {\"outlinewidth\": 0, \"ticks\": \"\"}}, \"type\": \"scatter\"}], \"scatter3d\": [{\"line\": {\"colorbar\": {\"outlinewidth\": 0, \"ticks\": \"\"}}, \"marker\": {\"colorbar\": {\"outlinewidth\": 0, \"ticks\": \"\"}}, \"type\": \"scatter3d\"}], \"scattercarpet\": [{\"marker\": {\"colorbar\": {\"outlinewidth\": 0, \"ticks\": \"\"}}, \"type\": \"scattercarpet\"}], \"scattergeo\": [{\"marker\": {\"colorbar\": {\"outlinewidth\": 0, \"ticks\": \"\"}}, \"type\": \"scattergeo\"}], \"scattergl\": [{\"marker\": {\"colorbar\": {\"outlinewidth\": 0, \"ticks\": \"\"}}, \"type\": \"scattergl\"}], \"scattermapbox\": [{\"marker\": {\"colorbar\": {\"outlinewidth\": 0, \"ticks\": \"\"}}, \"type\": \"scattermapbox\"}], \"scatterpolar\": [{\"marker\": {\"colorbar\": {\"outlinewidth\": 0, \"ticks\": \"\"}}, \"type\": \"scatterpolar\"}], \"scatterpolargl\": [{\"marker\": {\"colorbar\": {\"outlinewidth\": 0, \"ticks\": \"\"}}, \"type\": \"scatterpolargl\"}], \"scatterternary\": [{\"marker\": {\"colorbar\": {\"outlinewidth\": 0, \"ticks\": \"\"}}, \"type\": \"scatterternary\"}], \"surface\": [{\"colorbar\": {\"outlinewidth\": 0, \"ticks\": \"\"}, \"colorscale\": [[0.0, \"#0d0887\"], [0.1111111111111111, \"#46039f\"], [0.2222222222222222, \"#7201a8\"], [0.3333333333333333, \"#9c179e\"], [0.4444444444444444, \"#bd3786\"], [0.5555555555555556, \"#d8576b\"], [0.6666666666666666, \"#ed7953\"], [0.7777777777777778, \"#fb9f3a\"], [0.8888888888888888, \"#fdca26\"], [1.0, \"#f0f921\"]], \"type\": \"surface\"}], \"table\": [{\"cells\": {\"fill\": {\"color\": \"#EBF0F8\"}, \"line\": {\"color\": \"white\"}}, \"header\": {\"fill\": {\"color\": \"#C8D4E3\"}, \"line\": {\"color\": \"white\"}}, \"type\": \"table\"}]}, \"layout\": {\"annotationdefaults\": {\"arrowcolor\": \"#2a3f5f\", \"arrowhead\": 0, \"arrowwidth\": 1}, \"coloraxis\": {\"colorbar\": {\"outlinewidth\": 0, \"ticks\": \"\"}}, \"colorscale\": {\"diverging\": [[0, \"#8e0152\"], [0.1, \"#c51b7d\"], [0.2, \"#de77ae\"], [0.3, \"#f1b6da\"], [0.4, \"#fde0ef\"], [0.5, \"#f7f7f7\"], [0.6, \"#e6f5d0\"], [0.7, \"#b8e186\"], [0.8, \"#7fbc41\"], [0.9, \"#4d9221\"], [1, \"#276419\"]], \"sequential\": [[0.0, \"#0d0887\"], [0.1111111111111111, \"#46039f\"], [0.2222222222222222, \"#7201a8\"], [0.3333333333333333, \"#9c179e\"], [0.4444444444444444, \"#bd3786\"], [0.5555555555555556, \"#d8576b\"], [0.6666666666666666, \"#ed7953\"], [0.7777777777777778, \"#fb9f3a\"], [0.8888888888888888, \"#fdca26\"], [1.0, \"#f0f921\"]], \"sequentialminus\": [[0.0, \"#0d0887\"], [0.1111111111111111, \"#46039f\"], [0.2222222222222222, \"#7201a8\"], [0.3333333333333333, \"#9c179e\"], [0.4444444444444444, \"#bd3786\"], [0.5555555555555556, \"#d8576b\"], [0.6666666666666666, \"#ed7953\"], [0.7777777777777778, \"#fb9f3a\"], [0.8888888888888888, \"#fdca26\"], [1.0, \"#f0f921\"]]}, \"colorway\": [\"#636efa\", \"#EF553B\", \"#00cc96\", \"#ab63fa\", \"#FFA15A\", \"#19d3f3\", \"#FF6692\", \"#B6E880\", \"#FF97FF\", \"#FECB52\"], \"font\": {\"color\": \"#2a3f5f\"}, \"geo\": {\"bgcolor\": \"white\", \"lakecolor\": \"white\", \"landcolor\": \"#E5ECF6\", \"showlakes\": true, \"showland\": true, \"subunitcolor\": \"white\"}, \"hoverlabel\": {\"align\": \"left\"}, \"hovermode\": \"closest\", \"mapbox\": {\"style\": \"light\"}, \"paper_bgcolor\": \"white\", \"plot_bgcolor\": \"#E5ECF6\", \"polar\": {\"angularaxis\": {\"gridcolor\": \"white\", \"linecolor\": \"white\", \"ticks\": \"\"}, \"bgcolor\": \"#E5ECF6\", \"radialaxis\": {\"gridcolor\": \"white\", \"linecolor\": \"white\", \"ticks\": \"\"}}, \"scene\": {\"xaxis\": {\"backgroundcolor\": \"#E5ECF6\", \"gridcolor\": \"white\", \"gridwidth\": 2, \"linecolor\": \"white\", \"showbackground\": true, \"ticks\": \"\", \"zerolinecolor\": \"white\"}, \"yaxis\": {\"backgroundcolor\": \"#E5ECF6\", \"gridcolor\": \"white\", \"gridwidth\": 2, \"linecolor\": \"white\", \"showbackground\": true, \"ticks\": \"\", \"zerolinecolor\": \"white\"}, \"zaxis\": {\"backgroundcolor\": \"#E5ECF6\", \"gridcolor\": \"white\", \"gridwidth\": 2, \"linecolor\": \"white\", \"showbackground\": true, \"ticks\": \"\", \"zerolinecolor\": \"white\"}}, \"shapedefaults\": {\"line\": {\"color\": \"#2a3f5f\"}}, \"ternary\": {\"aaxis\": {\"gridcolor\": \"white\", \"linecolor\": \"white\", \"ticks\": \"\"}, \"baxis\": {\"gridcolor\": \"white\", \"linecolor\": \"white\", \"ticks\": \"\"}, \"bgcolor\": \"#E5ECF6\", \"caxis\": {\"gridcolor\": \"white\", \"linecolor\": \"white\", \"ticks\": \"\"}}, \"title\": {\"x\": 0.05}, \"xaxis\": {\"automargin\": true, \"gridcolor\": \"white\", \"linecolor\": \"white\", \"ticks\": \"\", \"title\": {\"standoff\": 15}, \"zerolinecolor\": \"white\", \"zerolinewidth\": 2}, \"yaxis\": {\"automargin\": true, \"gridcolor\": \"white\", \"linecolor\": \"white\", \"ticks\": \"\", \"title\": {\"standoff\": 15}, \"zerolinecolor\": \"white\", \"zerolinewidth\": 2}}}, \"title\": {\"font\": {\"color\": \"#4D5663\"}}, \"xaxis\": {\"gridcolor\": \"#E1E5ED\", \"showgrid\": true, \"tickfont\": {\"color\": \"#4D5663\"}, \"title\": {\"font\": {\"color\": \"#4D5663\"}, \"text\": \"\"}, \"zerolinecolor\": \"#E1E5ED\"}, \"yaxis\": {\"gridcolor\": \"#E1E5ED\", \"showgrid\": true, \"tickfont\": {\"color\": \"#4D5663\"}, \"title\": {\"font\": {\"color\": \"#4D5663\"}, \"text\": \"\"}, \"zerolinecolor\": \"#E1E5ED\"}},\n",
              "                        {\"showLink\": true, \"linkText\": \"Export to plot.ly\", \"plotlyServerURL\": \"https://plot.ly\", \"responsive\": true}\n",
              "                    ).then(function(){\n",
              "                            \n",
              "var gd = document.getElementById('1ad1303b-f56a-4b0a-b4d7-a559e0c8ce88');\n",
              "var x = new MutationObserver(function (mutations, observer) {{\n",
              "        var display = window.getComputedStyle(gd).display;\n",
              "        if (!display || display === 'none') {{\n",
              "            console.log([gd, 'removed!']);\n",
              "            Plotly.purge(gd);\n",
              "            observer.disconnect();\n",
              "        }}\n",
              "}});\n",
              "\n",
              "// Listen for the removal of the full notebook cells\n",
              "var notebookContainer = gd.closest('#notebook-container');\n",
              "if (notebookContainer) {{\n",
              "    x.observe(notebookContainer, {childList: true});\n",
              "}}\n",
              "\n",
              "// Listen for the clearing of the current output cell\n",
              "var outputEl = gd.closest('.output');\n",
              "if (outputEl) {{\n",
              "    x.observe(outputEl, {childList: true});\n",
              "}}\n",
              "\n",
              "                        })\n",
              "                };\n",
              "                });\n",
              "            </script>\n",
              "        </div>"
            ],
            "application/vnd.plotly.v1+json": {
              "data": [
                {
                  "text": "",
                  "y": [
                    -0.3185819437242191,
                    0.017143553003232212,
                    -1.161883283271516,
                    -0.6704437820758866,
                    -0.4752021049002068,
                    0.8818848095813414,
                    -1.6113668454298233,
                    -0.33827338930798506,
                    -1.22976132791649,
                    -1.1088957196694917,
                    -0.6591281589852449,
                    -0.9959336166710657,
                    0.9843663632768888,
                    -0.8954963504718098,
                    -0.9708364965136446,
                    -0.3456105679762152,
                    -0.5363379641406554,
                    -0.347986706152008,
                    -1.9772259945605442,
                    -1.3146882448697077,
                    1.382190391435313,
                    0.4345969579360139,
                    0.30113552461211096,
                    -0.8470311410792175,
                    0.3685426426850477,
                    0.5951448453513402,
                    0.17061591052139344,
                    0.17415532756605645,
                    0.2981196168572048,
                    0.4977249129616586,
                    0.33480901130394974,
                    0.1868880359802086,
                    -1.6650149993841277,
                    -0.6404910513353013,
                    -0.8824072467179087,
                    -0.553742729869468,
                    0.36036163241066343,
                    -2.275974570734227,
                    -1.5874012126450154,
                    1.3419821073368021,
                    -1.4171003468926828,
                    1.231652765552878,
                    -1.8453235220960005,
                    -0.7197969325839411,
                    1.3226340184457743,
                    0.20947818537722288,
                    0.29165688844925786,
                    0.5883754850166348,
                    0.3683509795965926,
                    -0.3339353731153345,
                    1.309887025504271,
                    0.31546723226620027,
                    1.3263631277316312,
                    -0.34567806682641433,
                    -0.19141808194686688,
                    -0.4713020694872677,
                    0.8852804183445554,
                    -0.8576319218947199,
                    -0.9145682759871094,
                    -1.4002022553453086,
                    -0.1835398022198471,
                    0.9597120405836465,
                    0.7459121859140037,
                    0.9582724578902626,
                    0.2515689421160934,
                    -0.38993360906100594,
                    -1.2295245875026266,
                    -0.6031951925607657,
                    -2.681150844317574,
                    0.08570599518645991,
                    -0.30239374308582356,
                    -0.17549857467971453,
                    -0.34269764974175787,
                    -0.6967515592890964,
                    -0.6517567157566919,
                    -0.7432742339004702,
                    0.9679312814459848,
                    -0.10389313558341703,
                    0.6858706396566807,
                    -0.3944155036832106,
                    0.301036982440157,
                    1.5086902264625675,
                    -0.7373137660036858,
                    -0.22448726844840527,
                    -0.22652852888373978,
                    -1.0077169954080438,
                    1.249022242931242,
                    -0.09106059301916564,
                    1.2227833371035044,
                    1.1059491261446488,
                    -0.8637469439487155,
                    2.124637526257138,
                    0.07570566559288731,
                    -0.652759552671152,
                    -0.35136007142557557,
                    -0.42327448382840327,
                    1.2267554224089194,
                    0.46971004043741227,
                    0.5654883626864355,
                    1.3099927206532345
                  ],
                  "mode": "markers",
                  "marker": {
                    "color": [
                      "rgb(255, 153, 51)",
                      "rgb(55, 128, 191)",
                      "rgb(50, 171, 96)",
                      "rgb(128, 0, 128)",
                      "rgb(219, 64, 82)",
                      "rgb(0, 128, 128)",
                      "rgb(255, 255, 51)",
                      "rgb(128, 128, 0)",
                      "rgb(251, 128, 114)",
                      "rgb(128, 177, 211)"
                    ],
                    "line": {
                      "width": 1.3
                    },
                    "symbol": "circle",
                    "size": [
                      90,
                      75,
                      67,
                      75,
                      112,
                      38,
                      84,
                      50,
                      61,
                      70,
                      43,
                      61,
                      80,
                      48,
                      89,
                      54,
                      42,
                      95,
                      95,
                      60,
                      97,
                      61,
                      80,
                      46,
                      41,
                      72,
                      48,
                      91,
                      58,
                      83,
                      69,
                      64,
                      96,
                      65,
                      52,
                      38,
                      32,
                      63,
                      59,
                      68,
                      49,
                      69,
                      55,
                      72,
                      78,
                      64,
                      34,
                      48,
                      62,
                      76,
                      12,
                      48,
                      94,
                      48,
                      43,
                      58,
                      87,
                      48,
                      80,
                      66,
                      46,
                      106,
                      47,
                      28,
                      80,
                      70,
                      56,
                      53,
                      65,
                      110,
                      62,
                      61,
                      76,
                      76,
                      36,
                      74,
                      24,
                      79,
                      85,
                      86,
                      79,
                      34,
                      101,
                      70,
                      55,
                      85,
                      84,
                      71,
                      56,
                      56,
                      54,
                      68,
                      83,
                      75,
                      67,
                      65,
                      107,
                      36,
                      50,
                      82
                    ]
                  },
                  "x": [
                    0.033388217440508905,
                    -0.6964117620033113,
                    -1.1582806081079497,
                    -0.2561921110075144,
                    -0.9396395616723018,
                    -1.8710775986328148,
                    1.1381065930965866,
                    0.2836313998887739,
                    0.8372825848844795,
                    0.5352062157485056,
                    -0.10570195697932709,
                    1.3932461971675265,
                    -1.0203377791552646,
                    1.4054722978405614,
                    1.2599083999065768,
                    -0.8173466696833639,
                    0.749141786818367,
                    0.32314069513049737,
                    0.7835951532562746,
                    -0.770714323484931,
                    1.3378126523628584,
                    -0.11036438568990392,
                    -1.2305529427537507,
                    0.11815301833078981,
                    0.11468249633092606,
                    -1.5570788214620102,
                    0.3298883731176722,
                    -0.1670048980170897,
                    -0.44610787272009117,
                    -1.040410419879342,
                    -2.134223059509332,
                    1.2055267598805925,
                    0.7833271951513457,
                    -0.30517818327250934,
                    -1.054797078733294,
                    1.0339469118287643,
                    0.031724802569528074,
                    0.46524479084304915,
                    0.2696133157308018,
                    -1.9022090457341743,
                    -0.672553302714725,
                    -1.4538759223619475,
                    -0.8952596564969528,
                    -1.6090791774457278,
                    -0.9556876902032667,
                    -1.2883809167343472,
                    -1.013453792978003,
                    -0.6001203860131052,
                    -0.42238651267056765,
                    -0.9170182467887845,
                    -0.18415000223704875,
                    0.18274248152898628,
                    1.142934386894334,
                    0.6890288189881617,
                    0.5124153344064991,
                    0.9954018120132386,
                    -0.27710289787528714,
                    0.5618092295029821,
                    -1.5853615513089843,
                    -0.0157622538163842,
                    0.0034350917010841247,
                    -1.1545937310589027,
                    -0.9052719576531694,
                    -0.6408810782085186,
                    -1.0539102470766974,
                    -1.6088884404905042,
                    1.4254864256297581,
                    -0.381852587029767,
                    0.49973553564455736,
                    0.12058127493662403,
                    0.10141909915549104,
                    -2.23702939333417,
                    1.1966390259865207,
                    -1.0238163568433811,
                    0.5306379570018278,
                    1.4703548194163234,
                    -0.3706618777461258,
                    -0.4550084839216992,
                    0.08172360222080535,
                    0.6328493435423694,
                    -1.1647795582446374,
                    1.2494878059546373,
                    1.0678653724911056,
                    0.37109684888001876,
                    -0.21332835621154117,
                    -0.36165792593448076,
                    -0.5427678072839484,
                    -0.4522924354445968,
                    0.7548666787430129,
                    -0.18127561554144686,
                    0.18500763008449855,
                    0.4227463117416283,
                    0.09356699424783808,
                    0.5616913468969047,
                    -0.8108851809052096,
                    -0.06592248187876751,
                    0.9053101300097707,
                    1.1852123122865834,
                    1.7821500045599021,
                    1.6772169106987314
                  ],
                  "type": "scatter"
                }
              ],
              "config": {
                "plotlyServerURL": "https://plot.ly",
                "linkText": "Export to plot.ly",
                "showLink": true
              },
              "layout": {
                "template": {
                  "layout": {
                    "shapedefaults": {
                      "line": {
                        "color": "#2a3f5f"
                      }
                    },
                    "polar": {
                      "radialaxis": {
                        "ticks": "",
                        "gridcolor": "white",
                        "linecolor": "white"
                      },
                      "bgcolor": "#E5ECF6",
                      "angularaxis": {
                        "ticks": "",
                        "gridcolor": "white",
                        "linecolor": "white"
                      }
                    },
                    "colorway": [
                      "#636efa",
                      "#EF553B",
                      "#00cc96",
                      "#ab63fa",
                      "#FFA15A",
                      "#19d3f3",
                      "#FF6692",
                      "#B6E880",
                      "#FF97FF",
                      "#FECB52"
                    ],
                    "xaxis": {
                      "automargin": true,
                      "title": {
                        "standoff": 15
                      },
                      "zerolinewidth": 2,
                      "ticks": "",
                      "zerolinecolor": "white",
                      "gridcolor": "white",
                      "linecolor": "white"
                    },
                    "colorscale": {
                      "diverging": [
                        [
                          0,
                          "#8e0152"
                        ],
                        [
                          0.1,
                          "#c51b7d"
                        ],
                        [
                          0.2,
                          "#de77ae"
                        ],
                        [
                          0.3,
                          "#f1b6da"
                        ],
                        [
                          0.4,
                          "#fde0ef"
                        ],
                        [
                          0.5,
                          "#f7f7f7"
                        ],
                        [
                          0.6,
                          "#e6f5d0"
                        ],
                        [
                          0.7,
                          "#b8e186"
                        ],
                        [
                          0.8,
                          "#7fbc41"
                        ],
                        [
                          0.9,
                          "#4d9221"
                        ],
                        [
                          1,
                          "#276419"
                        ]
                      ],
                      "sequential": [
                        [
                          0,
                          "#0d0887"
                        ],
                        [
                          0.1111111111111111,
                          "#46039f"
                        ],
                        [
                          0.2222222222222222,
                          "#7201a8"
                        ],
                        [
                          0.3333333333333333,
                          "#9c179e"
                        ],
                        [
                          0.4444444444444444,
                          "#bd3786"
                        ],
                        [
                          0.5555555555555556,
                          "#d8576b"
                        ],
                        [
                          0.6666666666666666,
                          "#ed7953"
                        ],
                        [
                          0.7777777777777778,
                          "#fb9f3a"
                        ],
                        [
                          0.8888888888888888,
                          "#fdca26"
                        ],
                        [
                          1,
                          "#f0f921"
                        ]
                      ],
                      "sequentialminus": [
                        [
                          0,
                          "#0d0887"
                        ],
                        [
                          0.1111111111111111,
                          "#46039f"
                        ],
                        [
                          0.2222222222222222,
                          "#7201a8"
                        ],
                        [
                          0.3333333333333333,
                          "#9c179e"
                        ],
                        [
                          0.4444444444444444,
                          "#bd3786"
                        ],
                        [
                          0.5555555555555556,
                          "#d8576b"
                        ],
                        [
                          0.6666666666666666,
                          "#ed7953"
                        ],
                        [
                          0.7777777777777778,
                          "#fb9f3a"
                        ],
                        [
                          0.8888888888888888,
                          "#fdca26"
                        ],
                        [
                          1,
                          "#f0f921"
                        ]
                      ]
                    },
                    "paper_bgcolor": "white",
                    "plot_bgcolor": "#E5ECF6",
                    "title": {
                      "x": 0.05
                    },
                    "scene": {
                      "zaxis": {
                        "backgroundcolor": "#E5ECF6",
                        "ticks": "",
                        "gridwidth": 2,
                        "showbackground": true,
                        "zerolinecolor": "white",
                        "gridcolor": "white",
                        "linecolor": "white"
                      },
                      "xaxis": {
                        "backgroundcolor": "#E5ECF6",
                        "ticks": "",
                        "gridwidth": 2,
                        "showbackground": true,
                        "zerolinecolor": "white",
                        "gridcolor": "white",
                        "linecolor": "white"
                      },
                      "yaxis": {
                        "backgroundcolor": "#E5ECF6",
                        "ticks": "",
                        "gridwidth": 2,
                        "showbackground": true,
                        "zerolinecolor": "white",
                        "gridcolor": "white",
                        "linecolor": "white"
                      }
                    },
                    "yaxis": {
                      "automargin": true,
                      "title": {
                        "standoff": 15
                      },
                      "zerolinewidth": 2,
                      "ticks": "",
                      "zerolinecolor": "white",
                      "gridcolor": "white",
                      "linecolor": "white"
                    },
                    "annotationdefaults": {
                      "arrowwidth": 1,
                      "arrowhead": 0,
                      "arrowcolor": "#2a3f5f"
                    },
                    "hoverlabel": {
                      "align": "left"
                    },
                    "ternary": {
                      "bgcolor": "#E5ECF6",
                      "baxis": {
                        "ticks": "",
                        "gridcolor": "white",
                        "linecolor": "white"
                      },
                      "caxis": {
                        "ticks": "",
                        "gridcolor": "white",
                        "linecolor": "white"
                      },
                      "aaxis": {
                        "ticks": "",
                        "gridcolor": "white",
                        "linecolor": "white"
                      }
                    },
                    "mapbox": {
                      "style": "light"
                    },
                    "hovermode": "closest",
                    "font": {
                      "color": "#2a3f5f"
                    },
                    "geo": {
                      "showland": true,
                      "landcolor": "#E5ECF6",
                      "showlakes": true,
                      "bgcolor": "white",
                      "subunitcolor": "white",
                      "lakecolor": "white"
                    },
                    "coloraxis": {
                      "colorbar": {
                        "outlinewidth": 0,
                        "ticks": ""
                      }
                    }
                  },
                  "data": {
                    "mesh3d": [
                      {
                        "colorbar": {
                          "outlinewidth": 0,
                          "ticks": ""
                        },
                        "type": "mesh3d"
                      }
                    ],
                    "scattercarpet": [
                      {
                        "marker": {
                          "colorbar": {
                            "outlinewidth": 0,
                            "ticks": ""
                          }
                        },
                        "type": "scattercarpet"
                      }
                    ],
                    "pie": [
                      {
                        "automargin": true,
                        "type": "pie"
                      }
                    ],
                    "surface": [
                      {
                        "colorbar": {
                          "outlinewidth": 0,
                          "ticks": ""
                        },
                        "type": "surface",
                        "colorscale": [
                          [
                            0,
                            "#0d0887"
                          ],
                          [
                            0.1111111111111111,
                            "#46039f"
                          ],
                          [
                            0.2222222222222222,
                            "#7201a8"
                          ],
                          [
                            0.3333333333333333,
                            "#9c179e"
                          ],
                          [
                            0.4444444444444444,
                            "#bd3786"
                          ],
                          [
                            0.5555555555555556,
                            "#d8576b"
                          ],
                          [
                            0.6666666666666666,
                            "#ed7953"
                          ],
                          [
                            0.7777777777777778,
                            "#fb9f3a"
                          ],
                          [
                            0.8888888888888888,
                            "#fdca26"
                          ],
                          [
                            1,
                            "#f0f921"
                          ]
                        ]
                      }
                    ],
                    "table": [
                      {
                        "header": {
                          "line": {
                            "color": "white"
                          },
                          "fill": {
                            "color": "#C8D4E3"
                          }
                        },
                        "cells": {
                          "line": {
                            "color": "white"
                          },
                          "fill": {
                            "color": "#EBF0F8"
                          }
                        },
                        "type": "table"
                      }
                    ],
                    "scatterpolargl": [
                      {
                        "marker": {
                          "colorbar": {
                            "outlinewidth": 0,
                            "ticks": ""
                          }
                        },
                        "type": "scatterpolargl"
                      }
                    ],
                    "contour": [
                      {
                        "colorbar": {
                          "outlinewidth": 0,
                          "ticks": ""
                        },
                        "type": "contour",
                        "colorscale": [
                          [
                            0,
                            "#0d0887"
                          ],
                          [
                            0.1111111111111111,
                            "#46039f"
                          ],
                          [
                            0.2222222222222222,
                            "#7201a8"
                          ],
                          [
                            0.3333333333333333,
                            "#9c179e"
                          ],
                          [
                            0.4444444444444444,
                            "#bd3786"
                          ],
                          [
                            0.5555555555555556,
                            "#d8576b"
                          ],
                          [
                            0.6666666666666666,
                            "#ed7953"
                          ],
                          [
                            0.7777777777777778,
                            "#fb9f3a"
                          ],
                          [
                            0.8888888888888888,
                            "#fdca26"
                          ],
                          [
                            1,
                            "#f0f921"
                          ]
                        ]
                      }
                    ],
                    "carpet": [
                      {
                        "type": "carpet",
                        "baxis": {
                          "minorgridcolor": "white",
                          "gridcolor": "white",
                          "linecolor": "white",
                          "endlinecolor": "#2a3f5f",
                          "startlinecolor": "#2a3f5f"
                        },
                        "aaxis": {
                          "minorgridcolor": "white",
                          "gridcolor": "white",
                          "linecolor": "white",
                          "endlinecolor": "#2a3f5f",
                          "startlinecolor": "#2a3f5f"
                        }
                      }
                    ],
                    "contourcarpet": [
                      {
                        "colorbar": {
                          "outlinewidth": 0,
                          "ticks": ""
                        },
                        "type": "contourcarpet"
                      }
                    ],
                    "heatmap": [
                      {
                        "colorbar": {
                          "outlinewidth": 0,
                          "ticks": ""
                        },
                        "type": "heatmap",
                        "colorscale": [
                          [
                            0,
                            "#0d0887"
                          ],
                          [
                            0.1111111111111111,
                            "#46039f"
                          ],
                          [
                            0.2222222222222222,
                            "#7201a8"
                          ],
                          [
                            0.3333333333333333,
                            "#9c179e"
                          ],
                          [
                            0.4444444444444444,
                            "#bd3786"
                          ],
                          [
                            0.5555555555555556,
                            "#d8576b"
                          ],
                          [
                            0.6666666666666666,
                            "#ed7953"
                          ],
                          [
                            0.7777777777777778,
                            "#fb9f3a"
                          ],
                          [
                            0.8888888888888888,
                            "#fdca26"
                          ],
                          [
                            1,
                            "#f0f921"
                          ]
                        ]
                      }
                    ],
                    "scattermapbox": [
                      {
                        "marker": {
                          "colorbar": {
                            "outlinewidth": 0,
                            "ticks": ""
                          }
                        },
                        "type": "scattermapbox"
                      }
                    ],
                    "scatter3d": [
                      {
                        "marker": {
                          "colorbar": {
                            "outlinewidth": 0,
                            "ticks": ""
                          }
                        },
                        "line": {
                          "colorbar": {
                            "outlinewidth": 0,
                            "ticks": ""
                          }
                        },
                        "type": "scatter3d"
                      }
                    ],
                    "scattergl": [
                      {
                        "marker": {
                          "colorbar": {
                            "outlinewidth": 0,
                            "ticks": ""
                          }
                        },
                        "type": "scattergl"
                      }
                    ],
                    "scatterternary": [
                      {
                        "marker": {
                          "colorbar": {
                            "outlinewidth": 0,
                            "ticks": ""
                          }
                        },
                        "type": "scatterternary"
                      }
                    ],
                    "histogram": [
                      {
                        "marker": {
                          "colorbar": {
                            "outlinewidth": 0,
                            "ticks": ""
                          }
                        },
                        "type": "histogram"
                      }
                    ],
                    "heatmapgl": [
                      {
                        "colorbar": {
                          "outlinewidth": 0,
                          "ticks": ""
                        },
                        "type": "heatmapgl",
                        "colorscale": [
                          [
                            0,
                            "#0d0887"
                          ],
                          [
                            0.1111111111111111,
                            "#46039f"
                          ],
                          [
                            0.2222222222222222,
                            "#7201a8"
                          ],
                          [
                            0.3333333333333333,
                            "#9c179e"
                          ],
                          [
                            0.4444444444444444,
                            "#bd3786"
                          ],
                          [
                            0.5555555555555556,
                            "#d8576b"
                          ],
                          [
                            0.6666666666666666,
                            "#ed7953"
                          ],
                          [
                            0.7777777777777778,
                            "#fb9f3a"
                          ],
                          [
                            0.8888888888888888,
                            "#fdca26"
                          ],
                          [
                            1,
                            "#f0f921"
                          ]
                        ]
                      }
                    ],
                    "scatterpolar": [
                      {
                        "marker": {
                          "colorbar": {
                            "outlinewidth": 0,
                            "ticks": ""
                          }
                        },
                        "type": "scatterpolar"
                      }
                    ],
                    "histogram2d": [
                      {
                        "colorbar": {
                          "outlinewidth": 0,
                          "ticks": ""
                        },
                        "type": "histogram2d",
                        "colorscale": [
                          [
                            0,
                            "#0d0887"
                          ],
                          [
                            0.1111111111111111,
                            "#46039f"
                          ],
                          [
                            0.2222222222222222,
                            "#7201a8"
                          ],
                          [
                            0.3333333333333333,
                            "#9c179e"
                          ],
                          [
                            0.4444444444444444,
                            "#bd3786"
                          ],
                          [
                            0.5555555555555556,
                            "#d8576b"
                          ],
                          [
                            0.6666666666666666,
                            "#ed7953"
                          ],
                          [
                            0.7777777777777778,
                            "#fb9f3a"
                          ],
                          [
                            0.8888888888888888,
                            "#fdca26"
                          ],
                          [
                            1,
                            "#f0f921"
                          ]
                        ]
                      }
                    ],
                    "scattergeo": [
                      {
                        "marker": {
                          "colorbar": {
                            "outlinewidth": 0,
                            "ticks": ""
                          }
                        },
                        "type": "scattergeo"
                      }
                    ],
                    "bar": [
                      {
                        "marker": {
                          "line": {
                            "color": "#E5ECF6",
                            "width": 0.5
                          }
                        },
                        "type": "bar",
                        "error_x": {
                          "color": "#2a3f5f"
                        },
                        "error_y": {
                          "color": "#2a3f5f"
                        }
                      }
                    ],
                    "choropleth": [
                      {
                        "colorbar": {
                          "outlinewidth": 0,
                          "ticks": ""
                        },
                        "type": "choropleth"
                      }
                    ],
                    "parcoords": [
                      {
                        "line": {
                          "colorbar": {
                            "outlinewidth": 0,
                            "ticks": ""
                          }
                        },
                        "type": "parcoords"
                      }
                    ],
                    "barpolar": [
                      {
                        "marker": {
                          "line": {
                            "color": "#E5ECF6",
                            "width": 0.5
                          }
                        },
                        "type": "barpolar"
                      }
                    ],
                    "histogram2dcontour": [
                      {
                        "colorbar": {
                          "outlinewidth": 0,
                          "ticks": ""
                        },
                        "type": "histogram2dcontour",
                        "colorscale": [
                          [
                            0,
                            "#0d0887"
                          ],
                          [
                            0.1111111111111111,
                            "#46039f"
                          ],
                          [
                            0.2222222222222222,
                            "#7201a8"
                          ],
                          [
                            0.3333333333333333,
                            "#9c179e"
                          ],
                          [
                            0.4444444444444444,
                            "#bd3786"
                          ],
                          [
                            0.5555555555555556,
                            "#d8576b"
                          ],
                          [
                            0.6666666666666666,
                            "#ed7953"
                          ],
                          [
                            0.7777777777777778,
                            "#fb9f3a"
                          ],
                          [
                            0.8888888888888888,
                            "#fdca26"
                          ],
                          [
                            1,
                            "#f0f921"
                          ]
                        ]
                      }
                    ],
                    "scatter": [
                      {
                        "marker": {
                          "colorbar": {
                            "outlinewidth": 0,
                            "ticks": ""
                          }
                        },
                        "type": "scatter"
                      }
                    ]
                  }
                },
                "title": {
                  "font": {
                    "color": "#4D5663"
                  }
                },
                "paper_bgcolor": "#F5F6F9",
                "plot_bgcolor": "#F5F6F9",
                "yaxis": {
                  "tickfont": {
                    "color": "#4D5663"
                  },
                  "zerolinecolor": "#E1E5ED",
                  "title": {
                    "text": "",
                    "font": {
                      "color": "#4D5663"
                    }
                  },
                  "gridcolor": "#E1E5ED",
                  "showgrid": true
                },
                "xaxis": {
                  "tickfont": {
                    "color": "#4D5663"
                  },
                  "zerolinecolor": "#E1E5ED",
                  "title": {
                    "text": "",
                    "font": {
                      "color": "#4D5663"
                    }
                  },
                  "gridcolor": "#E1E5ED",
                  "showgrid": true
                },
                "legend": {
                  "bgcolor": "#F5F6F9",
                  "font": {
                    "color": "#4D5663"
                  }
                }
              }
            }
          },
          "metadata": {
            "tags": []
          }
        }
      ]
    },
    {
      "cell_type": "markdown",
      "metadata": {
        "id": "h7arFNjnYZlc",
        "colab_type": "text"
      },
      "source": [
        "## scatter_matrix()\n",
        "\n",
        "Similar to sns.pairplot()"
      ]
    },
    {
      "cell_type": "code",
      "metadata": {
        "id": "asHJjKOBYZld",
        "colab_type": "code",
        "colab": {
          "base_uri": "https://localhost:8080/",
          "height": 542
        },
        "outputId": "6f7dd207-440f-4223-cdc6-5d0494f8ffe3"
      },
      "source": [
        "df.scatter_matrix()"
      ],
      "execution_count": 20,
      "outputs": [
        {
          "output_type": "display_data",
          "data": {
            "text/html": [
              "<div>\n",
              "        \n",
              "        \n",
              "            <div id=\"8258aa57-327f-4f62-b629-b056549abb84\" class=\"plotly-graph-div\" style=\"height:525px; width:100%;\"></div>\n",
              "            <script type=\"text/javascript\">\n",
              "                require([\"plotly\"], function(Plotly) {\n",
              "                    window.PLOTLYENV=window.PLOTLYENV || {};\n",
              "                    window.PLOTLYENV.BASE_URL='https://plot.ly';\n",
              "                    \n",
              "                if (document.getElementById(\"8258aa57-327f-4f62-b629-b056549abb84\")) {\n",
              "                    Plotly.newPlot(\n",
              "                        '8258aa57-327f-4f62-b629-b056549abb84',\n",
              "                        [{\"histfunc\": \"count\", \"histnorm\": \"\", \"marker\": {\"color\": \"rgba(255, 153, 51, 1.0)\", \"line\": {\"color\": \"#4D5663\", \"width\": 1.3}}, \"name\": \"A\", \"nbinsx\": 10, \"opacity\": 0.8, \"orientation\": \"v\", \"type\": \"histogram\", \"x\": [0.033388217440508905, -0.6964117620033113, -1.1582806081079497, -0.2561921110075144, -0.9396395616723018, -1.8710775986328148, 1.1381065930965866, 0.2836313998887739, 0.8372825848844795, 0.5352062157485056, -0.10570195697932709, 1.3932461971675265, -1.0203377791552646, 1.4054722978405614, 1.2599083999065768, -0.8173466696833639, 0.749141786818367, 0.32314069513049737, 0.7835951532562746, -0.770714323484931, 1.3378126523628584, -0.11036438568990392, -1.2305529427537507, 0.11815301833078981, 0.11468249633092606, -1.5570788214620102, 0.3298883731176722, -0.1670048980170897, -0.44610787272009117, -1.040410419879342, -2.134223059509332, 1.2055267598805925, 0.7833271951513457, -0.30517818327250934, -1.054797078733294, 1.0339469118287643, 0.031724802569528074, 0.46524479084304915, 0.2696133157308018, -1.9022090457341743, -0.672553302714725, -1.4538759223619475, -0.8952596564969528, -1.6090791774457278, -0.9556876902032667, -1.2883809167343472, -1.013453792978003, -0.6001203860131052, -0.42238651267056765, -0.9170182467887845, -0.18415000223704875, 0.18274248152898628, 1.142934386894334, 0.6890288189881617, 0.5124153344064991, 0.9954018120132386, -0.27710289787528714, 0.5618092295029821, -1.5853615513089843, -0.0157622538163842, 0.0034350917010841247, -1.1545937310589027, -0.9052719576531694, -0.6408810782085186, -1.0539102470766974, -1.6088884404905042, 1.4254864256297581, -0.381852587029767, 0.49973553564455736, 0.12058127493662403, 0.10141909915549104, -2.23702939333417, 1.1966390259865207, -1.0238163568433811, 0.5306379570018278, 1.4703548194163234, -0.3706618777461258, -0.4550084839216992, 0.08172360222080535, 0.6328493435423694, -1.1647795582446374, 1.2494878059546373, 1.0678653724911056, 0.37109684888001876, -0.21332835621154117, -0.36165792593448076, -0.5427678072839484, -0.4522924354445968, 0.7548666787430129, -0.18127561554144686, 0.18500763008449855, 0.4227463117416283, 0.09356699424783808, 0.5616913468969047, -0.8108851809052096, -0.06592248187876751, 0.9053101300097707, 1.1852123122865834, 1.7821500045599021, 1.6772169106987314], \"xaxis\": \"x\", \"yaxis\": \"y\"}, {\"line\": {\"color\": \"rgba(128, 128, 128, 1.0)\", \"dash\": \"solid\", \"shape\": \"linear\", \"width\": 1.3}, \"marker\": {\"size\": 2, \"symbol\": \"circle\"}, \"mode\": \"markers\", \"name\": \"A\", \"text\": \"\", \"type\": \"scatter\", \"x\": [-0.3185819437242191, 0.017143553003232212, -1.161883283271516, -0.6704437820758866, -0.4752021049002068, 0.8818848095813414, -1.6113668454298233, -0.33827338930798506, -1.22976132791649, -1.1088957196694917, -0.6591281589852449, -0.9959336166710657, 0.9843663632768888, -0.8954963504718098, -0.9708364965136446, -0.3456105679762152, -0.5363379641406554, -0.347986706152008, -1.9772259945605442, -1.3146882448697077, 1.382190391435313, 0.4345969579360139, 0.30113552461211096, -0.8470311410792175, 0.3685426426850477, 0.5951448453513402, 0.17061591052139344, 0.17415532756605645, 0.2981196168572048, 0.4977249129616586, 0.33480901130394974, 0.1868880359802086, -1.6650149993841277, -0.6404910513353013, -0.8824072467179087, -0.553742729869468, 0.36036163241066343, -2.275974570734227, -1.5874012126450154, 1.3419821073368021, -1.4171003468926828, 1.231652765552878, -1.8453235220960005, -0.7197969325839411, 1.3226340184457743, 0.20947818537722288, 0.29165688844925786, 0.5883754850166348, 0.3683509795965926, -0.3339353731153345, 1.309887025504271, 0.31546723226620027, 1.3263631277316312, -0.34567806682641433, -0.19141808194686688, -0.4713020694872677, 0.8852804183445554, -0.8576319218947199, -0.9145682759871094, -1.4002022553453086, -0.1835398022198471, 0.9597120405836465, 0.7459121859140037, 0.9582724578902626, 0.2515689421160934, -0.38993360906100594, -1.2295245875026266, -0.6031951925607657, -2.681150844317574, 0.08570599518645991, -0.30239374308582356, -0.17549857467971453, -0.34269764974175787, -0.6967515592890964, -0.6517567157566919, -0.7432742339004702, 0.9679312814459848, -0.10389313558341703, 0.6858706396566807, -0.3944155036832106, 0.301036982440157, 1.5086902264625675, -0.7373137660036858, -0.22448726844840527, -0.22652852888373978, -1.0077169954080438, 1.249022242931242, -0.09106059301916564, 1.2227833371035044, 1.1059491261446488, -0.8637469439487155, 2.124637526257138, 0.07570566559288731, -0.652759552671152, -0.35136007142557557, -0.42327448382840327, 1.2267554224089194, 0.46971004043741227, 0.5654883626864355, 1.3099927206532345], \"xaxis\": \"x2\", \"y\": [0.033388217440508905, -0.6964117620033113, -1.1582806081079497, -0.2561921110075144, -0.9396395616723018, -1.8710775986328148, 1.1381065930965866, 0.2836313998887739, 0.8372825848844795, 0.5352062157485056, -0.10570195697932709, 1.3932461971675265, -1.0203377791552646, 1.4054722978405614, 1.2599083999065768, -0.8173466696833639, 0.749141786818367, 0.32314069513049737, 0.7835951532562746, -0.770714323484931, 1.3378126523628584, -0.11036438568990392, -1.2305529427537507, 0.11815301833078981, 0.11468249633092606, -1.5570788214620102, 0.3298883731176722, -0.1670048980170897, -0.44610787272009117, -1.040410419879342, -2.134223059509332, 1.2055267598805925, 0.7833271951513457, -0.30517818327250934, -1.054797078733294, 1.0339469118287643, 0.031724802569528074, 0.46524479084304915, 0.2696133157308018, -1.9022090457341743, -0.672553302714725, -1.4538759223619475, -0.8952596564969528, -1.6090791774457278, -0.9556876902032667, -1.2883809167343472, -1.013453792978003, -0.6001203860131052, -0.42238651267056765, -0.9170182467887845, -0.18415000223704875, 0.18274248152898628, 1.142934386894334, 0.6890288189881617, 0.5124153344064991, 0.9954018120132386, -0.27710289787528714, 0.5618092295029821, -1.5853615513089843, -0.0157622538163842, 0.0034350917010841247, -1.1545937310589027, -0.9052719576531694, -0.6408810782085186, -1.0539102470766974, -1.6088884404905042, 1.4254864256297581, -0.381852587029767, 0.49973553564455736, 0.12058127493662403, 0.10141909915549104, -2.23702939333417, 1.1966390259865207, -1.0238163568433811, 0.5306379570018278, 1.4703548194163234, -0.3706618777461258, -0.4550084839216992, 0.08172360222080535, 0.6328493435423694, -1.1647795582446374, 1.2494878059546373, 1.0678653724911056, 0.37109684888001876, -0.21332835621154117, -0.36165792593448076, -0.5427678072839484, -0.4522924354445968, 0.7548666787430129, -0.18127561554144686, 0.18500763008449855, 0.4227463117416283, 0.09356699424783808, 0.5616913468969047, -0.8108851809052096, -0.06592248187876751, 0.9053101300097707, 1.1852123122865834, 1.7821500045599021, 1.6772169106987314], \"yaxis\": \"y2\"}, {\"line\": {\"color\": \"rgba(128, 128, 128, 1.0)\", \"dash\": \"solid\", \"shape\": \"linear\", \"width\": 1.3}, \"marker\": {\"size\": 2, \"symbol\": \"circle\"}, \"mode\": \"markers\", \"name\": \"A\", \"text\": \"\", \"type\": \"scatter\", \"x\": [1.0182954809449183, 0.3794523439700212, 0.08190652367893733, 0.4060976395887609, 1.8822480524904268, -1.1199277178957312, 0.7520408186784354, -0.6331838831946867, -0.17975714925589653, 0.20581278328232264, -0.9206415216715144, -0.158187219487602, 0.5919718158919391, -0.6949331488381687, 0.9515420039403529, -0.4494443621898676, -0.9376624498873257, 1.215580228812475, 1.22299128467945, -0.22091178080380783, 1.3001568912685888, -0.18565026756375427, 0.6146907772970375, -0.7808293908387653, -0.9694216493104032, 0.256562999359, -0.7079856269484804, 1.0305534613508498, -0.2835192015206089, 0.7303941550936714, 0.16276808258431305, -0.043310863923024814, 1.2348333984569575, 0.0007949050313371751, -0.5246867788786806, -1.1188409262101247, -1.3402419478981256, -0.07588887673591871, -0.2720143665160607, 0.0958428080895275, -0.6450366023567586, 0.15577856835919768, -0.4360533301593279, 0.28282047647932523, 0.5202634100016091, -0.040843513287435976, -1.2779500861482962, -0.7033696039532986, -0.1299544172162236, 0.42500834327584436, -2.1885844492814046, -0.6862849450430499, 1.182500876411005, -0.6959730281974437, -0.8944211587337906, -0.30903749460634994, 0.8720881224397372, -0.7160874443335539, 0.5953442187035263, 0.03444748841613024, -0.7903402084528796, 1.6461086977841073, -0.7450716631544378, -1.5138453680566872, 0.5864158277439976, 0.2044839284652703, -0.37970068784926886, -0.4930577907258506, 0.0014749123077378993, 1.8374982646911697, -0.13669230541614008, -0.1918502069627978, 0.4276938637716622, 0.44461120727908987, -1.191864461171342, 0.34935090412853315, -1.6960659723973335, 0.5628706907746021, 0.7957074439625802, 0.8319143980525842, 0.5628102050643603, -1.2533344015247219, 1.462788980892577, 0.1903518081062495, -0.4226318942957426, 0.8000540760912183, 0.7774041770151964, 0.21851412378817658, -0.3872888987741951, -0.38193190011498906, -0.4588068675220083, 0.12212046334608344, 0.7342345571086851, 0.3989454139784152, 0.08242688746543864, -0.0022928649831613942, 1.699568450254879, -1.2052758012027767, -0.6038212323418088, 0.6989754367807544], \"xaxis\": \"x3\", \"y\": [0.033388217440508905, -0.6964117620033113, -1.1582806081079497, -0.2561921110075144, -0.9396395616723018, -1.8710775986328148, 1.1381065930965866, 0.2836313998887739, 0.8372825848844795, 0.5352062157485056, -0.10570195697932709, 1.3932461971675265, -1.0203377791552646, 1.4054722978405614, 1.2599083999065768, -0.8173466696833639, 0.749141786818367, 0.32314069513049737, 0.7835951532562746, -0.770714323484931, 1.3378126523628584, -0.11036438568990392, -1.2305529427537507, 0.11815301833078981, 0.11468249633092606, -1.5570788214620102, 0.3298883731176722, -0.1670048980170897, -0.44610787272009117, -1.040410419879342, -2.134223059509332, 1.2055267598805925, 0.7833271951513457, -0.30517818327250934, -1.054797078733294, 1.0339469118287643, 0.031724802569528074, 0.46524479084304915, 0.2696133157308018, -1.9022090457341743, -0.672553302714725, -1.4538759223619475, -0.8952596564969528, -1.6090791774457278, -0.9556876902032667, -1.2883809167343472, -1.013453792978003, -0.6001203860131052, -0.42238651267056765, -0.9170182467887845, -0.18415000223704875, 0.18274248152898628, 1.142934386894334, 0.6890288189881617, 0.5124153344064991, 0.9954018120132386, -0.27710289787528714, 0.5618092295029821, -1.5853615513089843, -0.0157622538163842, 0.0034350917010841247, -1.1545937310589027, -0.9052719576531694, -0.6408810782085186, -1.0539102470766974, -1.6088884404905042, 1.4254864256297581, -0.381852587029767, 0.49973553564455736, 0.12058127493662403, 0.10141909915549104, -2.23702939333417, 1.1966390259865207, -1.0238163568433811, 0.5306379570018278, 1.4703548194163234, -0.3706618777461258, -0.4550084839216992, 0.08172360222080535, 0.6328493435423694, -1.1647795582446374, 1.2494878059546373, 1.0678653724911056, 0.37109684888001876, -0.21332835621154117, -0.36165792593448076, -0.5427678072839484, -0.4522924354445968, 0.7548666787430129, -0.18127561554144686, 0.18500763008449855, 0.4227463117416283, 0.09356699424783808, 0.5616913468969047, -0.8108851809052096, -0.06592248187876751, 0.9053101300097707, 1.1852123122865834, 1.7821500045599021, 1.6772169106987314], \"yaxis\": \"y3\"}, {\"line\": {\"color\": \"rgba(128, 128, 128, 1.0)\", \"dash\": \"solid\", \"shape\": \"linear\", \"width\": 1.3}, \"marker\": {\"size\": 2, \"symbol\": \"circle\"}, \"mode\": \"markers\", \"name\": \"A\", \"text\": \"\", \"type\": \"scatter\", \"x\": [-1.8571136111417104, -1.2929803725979587, 0.20561240856564708, -1.7826569545732074, 0.36893489693853987, -2.290059244742498, -0.1911249252271533, 0.5236185166727625, 0.5899488231677366, -1.3241496820790173, 1.6861347434484786, -0.4399057043982191, -1.3669681004416905, -0.9028743059237215, -0.09325036085177456, 0.280789333174742, -1.459304199149204, -2.1884382975915995, -0.528999666571028, 1.2437336136919452, -0.020657057724462597, -0.353872154266421, -0.897993582574596, -0.017025339970917843, -0.20558985487071055, 0.6469397282058131, 0.9929278936820563, -0.03562031828604396, 1.3188537541797127, 0.5294015240519836, 0.1788681022406548, -2.7249712086013367, -0.10469633823990536, -0.3299367522259721, -1.4903303039003206, 0.9689750855602837, 0.9984033659673972, 0.648012535372687, -0.775307176022823, -0.3652690937238262, -0.41931483841559863, 0.5828936815594129, 0.7270952914903812, -0.3856341136158816, -0.8864597826318832, 1.10148403693856, 1.1956124718032188, 0.30048298039636223, -0.4019068237328676, 2.5319740416688026, 2.14714538343826, 0.49743557883072675, -0.8199651072805834, 0.006857191362686243, -0.7690327399872606, 0.2172719785518792, -0.2311323722336546, -0.16489298283367107, 0.852171081358844, 0.7591667025255826, 0.13467105505109334, -0.977029151573115, 0.763546288536521, -1.3430638347662076, -0.8952301949472096, -2.284450645749927, 0.8237278053146003, 0.4897196387265957, -0.09698778535217137, 0.3036876818094441, 2.572159295231823, -1.3688632995193528, 0.3480995132046122, -0.715482119345779, -0.22407665777146912, -2.8952030766110473, 1.1152970688875075, -0.40533481928326837, 0.6155186509320042, 1.186699957812302, -0.31501332318615505, 0.41068369321607523, -0.7133845944974545, -0.9166980916968319, -0.9158836591238659, -0.8768169082910535, -0.6655457719648636, 1.522949002308957, 0.7635046451431491, -0.9160553350563346, 0.9818650844125953, 0.9817757426707524, 1.4564042531030386, 0.7475502969248169, -0.4367843500387564, 0.9813506593996986, 1.5849208046161924, -0.22726933321225884, -0.6490275283612017, -0.6857300547884588], \"xaxis\": \"x4\", \"y\": [0.033388217440508905, -0.6964117620033113, -1.1582806081079497, -0.2561921110075144, -0.9396395616723018, -1.8710775986328148, 1.1381065930965866, 0.2836313998887739, 0.8372825848844795, 0.5352062157485056, -0.10570195697932709, 1.3932461971675265, -1.0203377791552646, 1.4054722978405614, 1.2599083999065768, -0.8173466696833639, 0.749141786818367, 0.32314069513049737, 0.7835951532562746, -0.770714323484931, 1.3378126523628584, -0.11036438568990392, -1.2305529427537507, 0.11815301833078981, 0.11468249633092606, -1.5570788214620102, 0.3298883731176722, -0.1670048980170897, -0.44610787272009117, -1.040410419879342, -2.134223059509332, 1.2055267598805925, 0.7833271951513457, -0.30517818327250934, -1.054797078733294, 1.0339469118287643, 0.031724802569528074, 0.46524479084304915, 0.2696133157308018, -1.9022090457341743, -0.672553302714725, -1.4538759223619475, -0.8952596564969528, -1.6090791774457278, -0.9556876902032667, -1.2883809167343472, -1.013453792978003, -0.6001203860131052, -0.42238651267056765, -0.9170182467887845, -0.18415000223704875, 0.18274248152898628, 1.142934386894334, 0.6890288189881617, 0.5124153344064991, 0.9954018120132386, -0.27710289787528714, 0.5618092295029821, -1.5853615513089843, -0.0157622538163842, 0.0034350917010841247, -1.1545937310589027, -0.9052719576531694, -0.6408810782085186, -1.0539102470766974, -1.6088884404905042, 1.4254864256297581, -0.381852587029767, 0.49973553564455736, 0.12058127493662403, 0.10141909915549104, -2.23702939333417, 1.1966390259865207, -1.0238163568433811, 0.5306379570018278, 1.4703548194163234, -0.3706618777461258, -0.4550084839216992, 0.08172360222080535, 0.6328493435423694, -1.1647795582446374, 1.2494878059546373, 1.0678653724911056, 0.37109684888001876, -0.21332835621154117, -0.36165792593448076, -0.5427678072839484, -0.4522924354445968, 0.7548666787430129, -0.18127561554144686, 0.18500763008449855, 0.4227463117416283, 0.09356699424783808, 0.5616913468969047, -0.8108851809052096, -0.06592248187876751, 0.9053101300097707, 1.1852123122865834, 1.7821500045599021, 1.6772169106987314], \"yaxis\": \"y4\"}, {\"line\": {\"color\": \"rgba(128, 128, 128, 1.0)\", \"dash\": \"solid\", \"shape\": \"linear\", \"width\": 1.3}, \"marker\": {\"size\": 2, \"symbol\": \"circle\"}, \"mode\": \"markers\", \"name\": \"B\", \"text\": \"\", \"type\": \"scatter\", \"x\": [0.033388217440508905, -0.6964117620033113, -1.1582806081079497, -0.2561921110075144, -0.9396395616723018, -1.8710775986328148, 1.1381065930965866, 0.2836313998887739, 0.8372825848844795, 0.5352062157485056, -0.10570195697932709, 1.3932461971675265, -1.0203377791552646, 1.4054722978405614, 1.2599083999065768, -0.8173466696833639, 0.749141786818367, 0.32314069513049737, 0.7835951532562746, -0.770714323484931, 1.3378126523628584, -0.11036438568990392, -1.2305529427537507, 0.11815301833078981, 0.11468249633092606, -1.5570788214620102, 0.3298883731176722, -0.1670048980170897, -0.44610787272009117, -1.040410419879342, -2.134223059509332, 1.2055267598805925, 0.7833271951513457, -0.30517818327250934, -1.054797078733294, 1.0339469118287643, 0.031724802569528074, 0.46524479084304915, 0.2696133157308018, -1.9022090457341743, -0.672553302714725, -1.4538759223619475, -0.8952596564969528, -1.6090791774457278, -0.9556876902032667, -1.2883809167343472, -1.013453792978003, -0.6001203860131052, -0.42238651267056765, -0.9170182467887845, -0.18415000223704875, 0.18274248152898628, 1.142934386894334, 0.6890288189881617, 0.5124153344064991, 0.9954018120132386, -0.27710289787528714, 0.5618092295029821, -1.5853615513089843, -0.0157622538163842, 0.0034350917010841247, -1.1545937310589027, -0.9052719576531694, -0.6408810782085186, -1.0539102470766974, -1.6088884404905042, 1.4254864256297581, -0.381852587029767, 0.49973553564455736, 0.12058127493662403, 0.10141909915549104, -2.23702939333417, 1.1966390259865207, -1.0238163568433811, 0.5306379570018278, 1.4703548194163234, -0.3706618777461258, -0.4550084839216992, 0.08172360222080535, 0.6328493435423694, -1.1647795582446374, 1.2494878059546373, 1.0678653724911056, 0.37109684888001876, -0.21332835621154117, -0.36165792593448076, -0.5427678072839484, -0.4522924354445968, 0.7548666787430129, -0.18127561554144686, 0.18500763008449855, 0.4227463117416283, 0.09356699424783808, 0.5616913468969047, -0.8108851809052096, -0.06592248187876751, 0.9053101300097707, 1.1852123122865834, 1.7821500045599021, 1.6772169106987314], \"xaxis\": \"x5\", \"y\": [-0.3185819437242191, 0.017143553003232212, -1.161883283271516, -0.6704437820758866, -0.4752021049002068, 0.8818848095813414, -1.6113668454298233, -0.33827338930798506, -1.22976132791649, -1.1088957196694917, -0.6591281589852449, -0.9959336166710657, 0.9843663632768888, -0.8954963504718098, -0.9708364965136446, -0.3456105679762152, -0.5363379641406554, -0.347986706152008, -1.9772259945605442, -1.3146882448697077, 1.382190391435313, 0.4345969579360139, 0.30113552461211096, -0.8470311410792175, 0.3685426426850477, 0.5951448453513402, 0.17061591052139344, 0.17415532756605645, 0.2981196168572048, 0.4977249129616586, 0.33480901130394974, 0.1868880359802086, -1.6650149993841277, -0.6404910513353013, -0.8824072467179087, -0.553742729869468, 0.36036163241066343, -2.275974570734227, -1.5874012126450154, 1.3419821073368021, -1.4171003468926828, 1.231652765552878, -1.8453235220960005, -0.7197969325839411, 1.3226340184457743, 0.20947818537722288, 0.29165688844925786, 0.5883754850166348, 0.3683509795965926, -0.3339353731153345, 1.309887025504271, 0.31546723226620027, 1.3263631277316312, -0.34567806682641433, -0.19141808194686688, -0.4713020694872677, 0.8852804183445554, -0.8576319218947199, -0.9145682759871094, -1.4002022553453086, -0.1835398022198471, 0.9597120405836465, 0.7459121859140037, 0.9582724578902626, 0.2515689421160934, -0.38993360906100594, -1.2295245875026266, -0.6031951925607657, -2.681150844317574, 0.08570599518645991, -0.30239374308582356, -0.17549857467971453, -0.34269764974175787, -0.6967515592890964, -0.6517567157566919, -0.7432742339004702, 0.9679312814459848, -0.10389313558341703, 0.6858706396566807, -0.3944155036832106, 0.301036982440157, 1.5086902264625675, -0.7373137660036858, -0.22448726844840527, -0.22652852888373978, -1.0077169954080438, 1.249022242931242, -0.09106059301916564, 1.2227833371035044, 1.1059491261446488, -0.8637469439487155, 2.124637526257138, 0.07570566559288731, -0.652759552671152, -0.35136007142557557, -0.42327448382840327, 1.2267554224089194, 0.46971004043741227, 0.5654883626864355, 1.3099927206532345], \"yaxis\": \"y5\"}, {\"histfunc\": \"count\", \"histnorm\": \"\", \"marker\": {\"color\": \"rgba(55, 128, 191, 1.0)\", \"line\": {\"color\": \"#4D5663\", \"width\": 1.3}}, \"name\": \"B\", \"nbinsx\": 10, \"opacity\": 0.8, \"orientation\": \"v\", \"type\": \"histogram\", \"x\": [-0.3185819437242191, 0.017143553003232212, -1.161883283271516, -0.6704437820758866, -0.4752021049002068, 0.8818848095813414, -1.6113668454298233, -0.33827338930798506, -1.22976132791649, -1.1088957196694917, -0.6591281589852449, -0.9959336166710657, 0.9843663632768888, -0.8954963504718098, -0.9708364965136446, -0.3456105679762152, -0.5363379641406554, -0.347986706152008, -1.9772259945605442, -1.3146882448697077, 1.382190391435313, 0.4345969579360139, 0.30113552461211096, -0.8470311410792175, 0.3685426426850477, 0.5951448453513402, 0.17061591052139344, 0.17415532756605645, 0.2981196168572048, 0.4977249129616586, 0.33480901130394974, 0.1868880359802086, -1.6650149993841277, -0.6404910513353013, -0.8824072467179087, -0.553742729869468, 0.36036163241066343, -2.275974570734227, -1.5874012126450154, 1.3419821073368021, -1.4171003468926828, 1.231652765552878, -1.8453235220960005, -0.7197969325839411, 1.3226340184457743, 0.20947818537722288, 0.29165688844925786, 0.5883754850166348, 0.3683509795965926, -0.3339353731153345, 1.309887025504271, 0.31546723226620027, 1.3263631277316312, -0.34567806682641433, -0.19141808194686688, -0.4713020694872677, 0.8852804183445554, -0.8576319218947199, -0.9145682759871094, -1.4002022553453086, -0.1835398022198471, 0.9597120405836465, 0.7459121859140037, 0.9582724578902626, 0.2515689421160934, -0.38993360906100594, -1.2295245875026266, -0.6031951925607657, -2.681150844317574, 0.08570599518645991, -0.30239374308582356, -0.17549857467971453, -0.34269764974175787, -0.6967515592890964, -0.6517567157566919, -0.7432742339004702, 0.9679312814459848, -0.10389313558341703, 0.6858706396566807, -0.3944155036832106, 0.301036982440157, 1.5086902264625675, -0.7373137660036858, -0.22448726844840527, -0.22652852888373978, -1.0077169954080438, 1.249022242931242, -0.09106059301916564, 1.2227833371035044, 1.1059491261446488, -0.8637469439487155, 2.124637526257138, 0.07570566559288731, -0.652759552671152, -0.35136007142557557, -0.42327448382840327, 1.2267554224089194, 0.46971004043741227, 0.5654883626864355, 1.3099927206532345], \"xaxis\": \"x6\", \"yaxis\": \"y6\"}, {\"line\": {\"color\": \"rgba(128, 128, 128, 1.0)\", \"dash\": \"solid\", \"shape\": \"linear\", \"width\": 1.3}, \"marker\": {\"size\": 2, \"symbol\": \"circle\"}, \"mode\": \"markers\", \"name\": \"B\", \"text\": \"\", \"type\": \"scatter\", \"x\": [1.0182954809449183, 0.3794523439700212, 0.08190652367893733, 0.4060976395887609, 1.8822480524904268, -1.1199277178957312, 0.7520408186784354, -0.6331838831946867, -0.17975714925589653, 0.20581278328232264, -0.9206415216715144, -0.158187219487602, 0.5919718158919391, -0.6949331488381687, 0.9515420039403529, -0.4494443621898676, -0.9376624498873257, 1.215580228812475, 1.22299128467945, -0.22091178080380783, 1.3001568912685888, -0.18565026756375427, 0.6146907772970375, -0.7808293908387653, -0.9694216493104032, 0.256562999359, -0.7079856269484804, 1.0305534613508498, -0.2835192015206089, 0.7303941550936714, 0.16276808258431305, -0.043310863923024814, 1.2348333984569575, 0.0007949050313371751, -0.5246867788786806, -1.1188409262101247, -1.3402419478981256, -0.07588887673591871, -0.2720143665160607, 0.0958428080895275, -0.6450366023567586, 0.15577856835919768, -0.4360533301593279, 0.28282047647932523, 0.5202634100016091, -0.040843513287435976, -1.2779500861482962, -0.7033696039532986, -0.1299544172162236, 0.42500834327584436, -2.1885844492814046, -0.6862849450430499, 1.182500876411005, -0.6959730281974437, -0.8944211587337906, -0.30903749460634994, 0.8720881224397372, -0.7160874443335539, 0.5953442187035263, 0.03444748841613024, -0.7903402084528796, 1.6461086977841073, -0.7450716631544378, -1.5138453680566872, 0.5864158277439976, 0.2044839284652703, -0.37970068784926886, -0.4930577907258506, 0.0014749123077378993, 1.8374982646911697, -0.13669230541614008, -0.1918502069627978, 0.4276938637716622, 0.44461120727908987, -1.191864461171342, 0.34935090412853315, -1.6960659723973335, 0.5628706907746021, 0.7957074439625802, 0.8319143980525842, 0.5628102050643603, -1.2533344015247219, 1.462788980892577, 0.1903518081062495, -0.4226318942957426, 0.8000540760912183, 0.7774041770151964, 0.21851412378817658, -0.3872888987741951, -0.38193190011498906, -0.4588068675220083, 0.12212046334608344, 0.7342345571086851, 0.3989454139784152, 0.08242688746543864, -0.0022928649831613942, 1.699568450254879, -1.2052758012027767, -0.6038212323418088, 0.6989754367807544], \"xaxis\": \"x7\", \"y\": [-0.3185819437242191, 0.017143553003232212, -1.161883283271516, -0.6704437820758866, -0.4752021049002068, 0.8818848095813414, -1.6113668454298233, -0.33827338930798506, -1.22976132791649, -1.1088957196694917, -0.6591281589852449, -0.9959336166710657, 0.9843663632768888, -0.8954963504718098, -0.9708364965136446, -0.3456105679762152, -0.5363379641406554, -0.347986706152008, -1.9772259945605442, -1.3146882448697077, 1.382190391435313, 0.4345969579360139, 0.30113552461211096, -0.8470311410792175, 0.3685426426850477, 0.5951448453513402, 0.17061591052139344, 0.17415532756605645, 0.2981196168572048, 0.4977249129616586, 0.33480901130394974, 0.1868880359802086, -1.6650149993841277, -0.6404910513353013, -0.8824072467179087, -0.553742729869468, 0.36036163241066343, -2.275974570734227, -1.5874012126450154, 1.3419821073368021, -1.4171003468926828, 1.231652765552878, -1.8453235220960005, -0.7197969325839411, 1.3226340184457743, 0.20947818537722288, 0.29165688844925786, 0.5883754850166348, 0.3683509795965926, -0.3339353731153345, 1.309887025504271, 0.31546723226620027, 1.3263631277316312, -0.34567806682641433, -0.19141808194686688, -0.4713020694872677, 0.8852804183445554, -0.8576319218947199, -0.9145682759871094, -1.4002022553453086, -0.1835398022198471, 0.9597120405836465, 0.7459121859140037, 0.9582724578902626, 0.2515689421160934, -0.38993360906100594, -1.2295245875026266, -0.6031951925607657, -2.681150844317574, 0.08570599518645991, -0.30239374308582356, -0.17549857467971453, -0.34269764974175787, -0.6967515592890964, -0.6517567157566919, -0.7432742339004702, 0.9679312814459848, -0.10389313558341703, 0.6858706396566807, -0.3944155036832106, 0.301036982440157, 1.5086902264625675, -0.7373137660036858, -0.22448726844840527, -0.22652852888373978, -1.0077169954080438, 1.249022242931242, -0.09106059301916564, 1.2227833371035044, 1.1059491261446488, -0.8637469439487155, 2.124637526257138, 0.07570566559288731, -0.652759552671152, -0.35136007142557557, -0.42327448382840327, 1.2267554224089194, 0.46971004043741227, 0.5654883626864355, 1.3099927206532345], \"yaxis\": \"y7\"}, {\"line\": {\"color\": \"rgba(128, 128, 128, 1.0)\", \"dash\": \"solid\", \"shape\": \"linear\", \"width\": 1.3}, \"marker\": {\"size\": 2, \"symbol\": \"circle\"}, \"mode\": \"markers\", \"name\": \"B\", \"text\": \"\", \"type\": \"scatter\", \"x\": [-1.8571136111417104, -1.2929803725979587, 0.20561240856564708, -1.7826569545732074, 0.36893489693853987, -2.290059244742498, -0.1911249252271533, 0.5236185166727625, 0.5899488231677366, -1.3241496820790173, 1.6861347434484786, -0.4399057043982191, -1.3669681004416905, -0.9028743059237215, -0.09325036085177456, 0.280789333174742, -1.459304199149204, -2.1884382975915995, -0.528999666571028, 1.2437336136919452, -0.020657057724462597, -0.353872154266421, -0.897993582574596, -0.017025339970917843, -0.20558985487071055, 0.6469397282058131, 0.9929278936820563, -0.03562031828604396, 1.3188537541797127, 0.5294015240519836, 0.1788681022406548, -2.7249712086013367, -0.10469633823990536, -0.3299367522259721, -1.4903303039003206, 0.9689750855602837, 0.9984033659673972, 0.648012535372687, -0.775307176022823, -0.3652690937238262, -0.41931483841559863, 0.5828936815594129, 0.7270952914903812, -0.3856341136158816, -0.8864597826318832, 1.10148403693856, 1.1956124718032188, 0.30048298039636223, -0.4019068237328676, 2.5319740416688026, 2.14714538343826, 0.49743557883072675, -0.8199651072805834, 0.006857191362686243, -0.7690327399872606, 0.2172719785518792, -0.2311323722336546, -0.16489298283367107, 0.852171081358844, 0.7591667025255826, 0.13467105505109334, -0.977029151573115, 0.763546288536521, -1.3430638347662076, -0.8952301949472096, -2.284450645749927, 0.8237278053146003, 0.4897196387265957, -0.09698778535217137, 0.3036876818094441, 2.572159295231823, -1.3688632995193528, 0.3480995132046122, -0.715482119345779, -0.22407665777146912, -2.8952030766110473, 1.1152970688875075, -0.40533481928326837, 0.6155186509320042, 1.186699957812302, -0.31501332318615505, 0.41068369321607523, -0.7133845944974545, -0.9166980916968319, -0.9158836591238659, -0.8768169082910535, -0.6655457719648636, 1.522949002308957, 0.7635046451431491, -0.9160553350563346, 0.9818650844125953, 0.9817757426707524, 1.4564042531030386, 0.7475502969248169, -0.4367843500387564, 0.9813506593996986, 1.5849208046161924, -0.22726933321225884, -0.6490275283612017, -0.6857300547884588], \"xaxis\": \"x8\", \"y\": [-0.3185819437242191, 0.017143553003232212, -1.161883283271516, -0.6704437820758866, -0.4752021049002068, 0.8818848095813414, -1.6113668454298233, -0.33827338930798506, -1.22976132791649, -1.1088957196694917, -0.6591281589852449, -0.9959336166710657, 0.9843663632768888, -0.8954963504718098, -0.9708364965136446, -0.3456105679762152, -0.5363379641406554, -0.347986706152008, -1.9772259945605442, -1.3146882448697077, 1.382190391435313, 0.4345969579360139, 0.30113552461211096, -0.8470311410792175, 0.3685426426850477, 0.5951448453513402, 0.17061591052139344, 0.17415532756605645, 0.2981196168572048, 0.4977249129616586, 0.33480901130394974, 0.1868880359802086, -1.6650149993841277, -0.6404910513353013, -0.8824072467179087, -0.553742729869468, 0.36036163241066343, -2.275974570734227, -1.5874012126450154, 1.3419821073368021, -1.4171003468926828, 1.231652765552878, -1.8453235220960005, -0.7197969325839411, 1.3226340184457743, 0.20947818537722288, 0.29165688844925786, 0.5883754850166348, 0.3683509795965926, -0.3339353731153345, 1.309887025504271, 0.31546723226620027, 1.3263631277316312, -0.34567806682641433, -0.19141808194686688, -0.4713020694872677, 0.8852804183445554, -0.8576319218947199, -0.9145682759871094, -1.4002022553453086, -0.1835398022198471, 0.9597120405836465, 0.7459121859140037, 0.9582724578902626, 0.2515689421160934, -0.38993360906100594, -1.2295245875026266, -0.6031951925607657, -2.681150844317574, 0.08570599518645991, -0.30239374308582356, -0.17549857467971453, -0.34269764974175787, -0.6967515592890964, -0.6517567157566919, -0.7432742339004702, 0.9679312814459848, -0.10389313558341703, 0.6858706396566807, -0.3944155036832106, 0.301036982440157, 1.5086902264625675, -0.7373137660036858, -0.22448726844840527, -0.22652852888373978, -1.0077169954080438, 1.249022242931242, -0.09106059301916564, 1.2227833371035044, 1.1059491261446488, -0.8637469439487155, 2.124637526257138, 0.07570566559288731, -0.652759552671152, -0.35136007142557557, -0.42327448382840327, 1.2267554224089194, 0.46971004043741227, 0.5654883626864355, 1.3099927206532345], \"yaxis\": \"y8\"}, {\"line\": {\"color\": \"rgba(128, 128, 128, 1.0)\", \"dash\": \"solid\", \"shape\": \"linear\", \"width\": 1.3}, \"marker\": {\"size\": 2, \"symbol\": \"circle\"}, \"mode\": \"markers\", \"name\": \"C\", \"text\": \"\", \"type\": \"scatter\", \"x\": [0.033388217440508905, -0.6964117620033113, -1.1582806081079497, -0.2561921110075144, -0.9396395616723018, -1.8710775986328148, 1.1381065930965866, 0.2836313998887739, 0.8372825848844795, 0.5352062157485056, -0.10570195697932709, 1.3932461971675265, -1.0203377791552646, 1.4054722978405614, 1.2599083999065768, -0.8173466696833639, 0.749141786818367, 0.32314069513049737, 0.7835951532562746, -0.770714323484931, 1.3378126523628584, -0.11036438568990392, -1.2305529427537507, 0.11815301833078981, 0.11468249633092606, -1.5570788214620102, 0.3298883731176722, -0.1670048980170897, -0.44610787272009117, -1.040410419879342, -2.134223059509332, 1.2055267598805925, 0.7833271951513457, -0.30517818327250934, -1.054797078733294, 1.0339469118287643, 0.031724802569528074, 0.46524479084304915, 0.2696133157308018, -1.9022090457341743, -0.672553302714725, -1.4538759223619475, -0.8952596564969528, -1.6090791774457278, -0.9556876902032667, -1.2883809167343472, -1.013453792978003, -0.6001203860131052, -0.42238651267056765, -0.9170182467887845, -0.18415000223704875, 0.18274248152898628, 1.142934386894334, 0.6890288189881617, 0.5124153344064991, 0.9954018120132386, -0.27710289787528714, 0.5618092295029821, -1.5853615513089843, -0.0157622538163842, 0.0034350917010841247, -1.1545937310589027, -0.9052719576531694, -0.6408810782085186, -1.0539102470766974, -1.6088884404905042, 1.4254864256297581, -0.381852587029767, 0.49973553564455736, 0.12058127493662403, 0.10141909915549104, -2.23702939333417, 1.1966390259865207, -1.0238163568433811, 0.5306379570018278, 1.4703548194163234, -0.3706618777461258, -0.4550084839216992, 0.08172360222080535, 0.6328493435423694, -1.1647795582446374, 1.2494878059546373, 1.0678653724911056, 0.37109684888001876, -0.21332835621154117, -0.36165792593448076, -0.5427678072839484, -0.4522924354445968, 0.7548666787430129, -0.18127561554144686, 0.18500763008449855, 0.4227463117416283, 0.09356699424783808, 0.5616913468969047, -0.8108851809052096, -0.06592248187876751, 0.9053101300097707, 1.1852123122865834, 1.7821500045599021, 1.6772169106987314], \"xaxis\": \"x9\", \"y\": [1.0182954809449183, 0.3794523439700212, 0.08190652367893733, 0.4060976395887609, 1.8822480524904268, -1.1199277178957312, 0.7520408186784354, -0.6331838831946867, -0.17975714925589653, 0.20581278328232264, -0.9206415216715144, -0.158187219487602, 0.5919718158919391, -0.6949331488381687, 0.9515420039403529, -0.4494443621898676, -0.9376624498873257, 1.215580228812475, 1.22299128467945, -0.22091178080380783, 1.3001568912685888, -0.18565026756375427, 0.6146907772970375, -0.7808293908387653, -0.9694216493104032, 0.256562999359, -0.7079856269484804, 1.0305534613508498, -0.2835192015206089, 0.7303941550936714, 0.16276808258431305, -0.043310863923024814, 1.2348333984569575, 0.0007949050313371751, -0.5246867788786806, -1.1188409262101247, -1.3402419478981256, -0.07588887673591871, -0.2720143665160607, 0.0958428080895275, -0.6450366023567586, 0.15577856835919768, -0.4360533301593279, 0.28282047647932523, 0.5202634100016091, -0.040843513287435976, -1.2779500861482962, -0.7033696039532986, -0.1299544172162236, 0.42500834327584436, -2.1885844492814046, -0.6862849450430499, 1.182500876411005, -0.6959730281974437, -0.8944211587337906, -0.30903749460634994, 0.8720881224397372, -0.7160874443335539, 0.5953442187035263, 0.03444748841613024, -0.7903402084528796, 1.6461086977841073, -0.7450716631544378, -1.5138453680566872, 0.5864158277439976, 0.2044839284652703, -0.37970068784926886, -0.4930577907258506, 0.0014749123077378993, 1.8374982646911697, -0.13669230541614008, -0.1918502069627978, 0.4276938637716622, 0.44461120727908987, -1.191864461171342, 0.34935090412853315, -1.6960659723973335, 0.5628706907746021, 0.7957074439625802, 0.8319143980525842, 0.5628102050643603, -1.2533344015247219, 1.462788980892577, 0.1903518081062495, -0.4226318942957426, 0.8000540760912183, 0.7774041770151964, 0.21851412378817658, -0.3872888987741951, -0.38193190011498906, -0.4588068675220083, 0.12212046334608344, 0.7342345571086851, 0.3989454139784152, 0.08242688746543864, -0.0022928649831613942, 1.699568450254879, -1.2052758012027767, -0.6038212323418088, 0.6989754367807544], \"yaxis\": \"y9\"}, {\"line\": {\"color\": \"rgba(128, 128, 128, 1.0)\", \"dash\": \"solid\", \"shape\": \"linear\", \"width\": 1.3}, \"marker\": {\"size\": 2, \"symbol\": \"circle\"}, \"mode\": \"markers\", \"name\": \"C\", \"text\": \"\", \"type\": \"scatter\", \"x\": [-0.3185819437242191, 0.017143553003232212, -1.161883283271516, -0.6704437820758866, -0.4752021049002068, 0.8818848095813414, -1.6113668454298233, -0.33827338930798506, -1.22976132791649, -1.1088957196694917, -0.6591281589852449, -0.9959336166710657, 0.9843663632768888, -0.8954963504718098, -0.9708364965136446, -0.3456105679762152, -0.5363379641406554, -0.347986706152008, -1.9772259945605442, -1.3146882448697077, 1.382190391435313, 0.4345969579360139, 0.30113552461211096, -0.8470311410792175, 0.3685426426850477, 0.5951448453513402, 0.17061591052139344, 0.17415532756605645, 0.2981196168572048, 0.4977249129616586, 0.33480901130394974, 0.1868880359802086, -1.6650149993841277, -0.6404910513353013, -0.8824072467179087, -0.553742729869468, 0.36036163241066343, -2.275974570734227, -1.5874012126450154, 1.3419821073368021, -1.4171003468926828, 1.231652765552878, -1.8453235220960005, -0.7197969325839411, 1.3226340184457743, 0.20947818537722288, 0.29165688844925786, 0.5883754850166348, 0.3683509795965926, -0.3339353731153345, 1.309887025504271, 0.31546723226620027, 1.3263631277316312, -0.34567806682641433, -0.19141808194686688, -0.4713020694872677, 0.8852804183445554, -0.8576319218947199, -0.9145682759871094, -1.4002022553453086, -0.1835398022198471, 0.9597120405836465, 0.7459121859140037, 0.9582724578902626, 0.2515689421160934, -0.38993360906100594, -1.2295245875026266, -0.6031951925607657, -2.681150844317574, 0.08570599518645991, -0.30239374308582356, -0.17549857467971453, -0.34269764974175787, -0.6967515592890964, -0.6517567157566919, -0.7432742339004702, 0.9679312814459848, -0.10389313558341703, 0.6858706396566807, -0.3944155036832106, 0.301036982440157, 1.5086902264625675, -0.7373137660036858, -0.22448726844840527, -0.22652852888373978, -1.0077169954080438, 1.249022242931242, -0.09106059301916564, 1.2227833371035044, 1.1059491261446488, -0.8637469439487155, 2.124637526257138, 0.07570566559288731, -0.652759552671152, -0.35136007142557557, -0.42327448382840327, 1.2267554224089194, 0.46971004043741227, 0.5654883626864355, 1.3099927206532345], \"xaxis\": \"x10\", \"y\": [1.0182954809449183, 0.3794523439700212, 0.08190652367893733, 0.4060976395887609, 1.8822480524904268, -1.1199277178957312, 0.7520408186784354, -0.6331838831946867, -0.17975714925589653, 0.20581278328232264, -0.9206415216715144, -0.158187219487602, 0.5919718158919391, -0.6949331488381687, 0.9515420039403529, -0.4494443621898676, -0.9376624498873257, 1.215580228812475, 1.22299128467945, -0.22091178080380783, 1.3001568912685888, -0.18565026756375427, 0.6146907772970375, -0.7808293908387653, -0.9694216493104032, 0.256562999359, -0.7079856269484804, 1.0305534613508498, -0.2835192015206089, 0.7303941550936714, 0.16276808258431305, -0.043310863923024814, 1.2348333984569575, 0.0007949050313371751, -0.5246867788786806, -1.1188409262101247, -1.3402419478981256, -0.07588887673591871, -0.2720143665160607, 0.0958428080895275, -0.6450366023567586, 0.15577856835919768, -0.4360533301593279, 0.28282047647932523, 0.5202634100016091, -0.040843513287435976, -1.2779500861482962, -0.7033696039532986, -0.1299544172162236, 0.42500834327584436, -2.1885844492814046, -0.6862849450430499, 1.182500876411005, -0.6959730281974437, -0.8944211587337906, -0.30903749460634994, 0.8720881224397372, -0.7160874443335539, 0.5953442187035263, 0.03444748841613024, -0.7903402084528796, 1.6461086977841073, -0.7450716631544378, -1.5138453680566872, 0.5864158277439976, 0.2044839284652703, -0.37970068784926886, -0.4930577907258506, 0.0014749123077378993, 1.8374982646911697, -0.13669230541614008, -0.1918502069627978, 0.4276938637716622, 0.44461120727908987, -1.191864461171342, 0.34935090412853315, -1.6960659723973335, 0.5628706907746021, 0.7957074439625802, 0.8319143980525842, 0.5628102050643603, -1.2533344015247219, 1.462788980892577, 0.1903518081062495, -0.4226318942957426, 0.8000540760912183, 0.7774041770151964, 0.21851412378817658, -0.3872888987741951, -0.38193190011498906, -0.4588068675220083, 0.12212046334608344, 0.7342345571086851, 0.3989454139784152, 0.08242688746543864, -0.0022928649831613942, 1.699568450254879, -1.2052758012027767, -0.6038212323418088, 0.6989754367807544], \"yaxis\": \"y10\"}, {\"histfunc\": \"count\", \"histnorm\": \"\", \"marker\": {\"color\": \"rgba(50, 171, 96, 1.0)\", \"line\": {\"color\": \"#4D5663\", \"width\": 1.3}}, \"name\": \"C\", \"nbinsx\": 10, \"opacity\": 0.8, \"orientation\": \"v\", \"type\": \"histogram\", \"x\": [1.0182954809449183, 0.3794523439700212, 0.08190652367893733, 0.4060976395887609, 1.8822480524904268, -1.1199277178957312, 0.7520408186784354, -0.6331838831946867, -0.17975714925589653, 0.20581278328232264, -0.9206415216715144, -0.158187219487602, 0.5919718158919391, -0.6949331488381687, 0.9515420039403529, -0.4494443621898676, -0.9376624498873257, 1.215580228812475, 1.22299128467945, -0.22091178080380783, 1.3001568912685888, -0.18565026756375427, 0.6146907772970375, -0.7808293908387653, -0.9694216493104032, 0.256562999359, -0.7079856269484804, 1.0305534613508498, -0.2835192015206089, 0.7303941550936714, 0.16276808258431305, -0.043310863923024814, 1.2348333984569575, 0.0007949050313371751, -0.5246867788786806, -1.1188409262101247, -1.3402419478981256, -0.07588887673591871, -0.2720143665160607, 0.0958428080895275, -0.6450366023567586, 0.15577856835919768, -0.4360533301593279, 0.28282047647932523, 0.5202634100016091, -0.040843513287435976, -1.2779500861482962, -0.7033696039532986, -0.1299544172162236, 0.42500834327584436, -2.1885844492814046, -0.6862849450430499, 1.182500876411005, -0.6959730281974437, -0.8944211587337906, -0.30903749460634994, 0.8720881224397372, -0.7160874443335539, 0.5953442187035263, 0.03444748841613024, -0.7903402084528796, 1.6461086977841073, -0.7450716631544378, -1.5138453680566872, 0.5864158277439976, 0.2044839284652703, -0.37970068784926886, -0.4930577907258506, 0.0014749123077378993, 1.8374982646911697, -0.13669230541614008, -0.1918502069627978, 0.4276938637716622, 0.44461120727908987, -1.191864461171342, 0.34935090412853315, -1.6960659723973335, 0.5628706907746021, 0.7957074439625802, 0.8319143980525842, 0.5628102050643603, -1.2533344015247219, 1.462788980892577, 0.1903518081062495, -0.4226318942957426, 0.8000540760912183, 0.7774041770151964, 0.21851412378817658, -0.3872888987741951, -0.38193190011498906, -0.4588068675220083, 0.12212046334608344, 0.7342345571086851, 0.3989454139784152, 0.08242688746543864, -0.0022928649831613942, 1.699568450254879, -1.2052758012027767, -0.6038212323418088, 0.6989754367807544], \"xaxis\": \"x11\", \"yaxis\": \"y11\"}, {\"line\": {\"color\": \"rgba(128, 128, 128, 1.0)\", \"dash\": \"solid\", \"shape\": \"linear\", \"width\": 1.3}, \"marker\": {\"size\": 2, \"symbol\": \"circle\"}, \"mode\": \"markers\", \"name\": \"C\", \"text\": \"\", \"type\": \"scatter\", \"x\": [-1.8571136111417104, -1.2929803725979587, 0.20561240856564708, -1.7826569545732074, 0.36893489693853987, -2.290059244742498, -0.1911249252271533, 0.5236185166727625, 0.5899488231677366, -1.3241496820790173, 1.6861347434484786, -0.4399057043982191, -1.3669681004416905, -0.9028743059237215, -0.09325036085177456, 0.280789333174742, -1.459304199149204, -2.1884382975915995, -0.528999666571028, 1.2437336136919452, -0.020657057724462597, -0.353872154266421, -0.897993582574596, -0.017025339970917843, -0.20558985487071055, 0.6469397282058131, 0.9929278936820563, -0.03562031828604396, 1.3188537541797127, 0.5294015240519836, 0.1788681022406548, -2.7249712086013367, -0.10469633823990536, -0.3299367522259721, -1.4903303039003206, 0.9689750855602837, 0.9984033659673972, 0.648012535372687, -0.775307176022823, -0.3652690937238262, -0.41931483841559863, 0.5828936815594129, 0.7270952914903812, -0.3856341136158816, -0.8864597826318832, 1.10148403693856, 1.1956124718032188, 0.30048298039636223, -0.4019068237328676, 2.5319740416688026, 2.14714538343826, 0.49743557883072675, -0.8199651072805834, 0.006857191362686243, -0.7690327399872606, 0.2172719785518792, -0.2311323722336546, -0.16489298283367107, 0.852171081358844, 0.7591667025255826, 0.13467105505109334, -0.977029151573115, 0.763546288536521, -1.3430638347662076, -0.8952301949472096, -2.284450645749927, 0.8237278053146003, 0.4897196387265957, -0.09698778535217137, 0.3036876818094441, 2.572159295231823, -1.3688632995193528, 0.3480995132046122, -0.715482119345779, -0.22407665777146912, -2.8952030766110473, 1.1152970688875075, -0.40533481928326837, 0.6155186509320042, 1.186699957812302, -0.31501332318615505, 0.41068369321607523, -0.7133845944974545, -0.9166980916968319, -0.9158836591238659, -0.8768169082910535, -0.6655457719648636, 1.522949002308957, 0.7635046451431491, -0.9160553350563346, 0.9818650844125953, 0.9817757426707524, 1.4564042531030386, 0.7475502969248169, -0.4367843500387564, 0.9813506593996986, 1.5849208046161924, -0.22726933321225884, -0.6490275283612017, -0.6857300547884588], \"xaxis\": \"x12\", \"y\": [1.0182954809449183, 0.3794523439700212, 0.08190652367893733, 0.4060976395887609, 1.8822480524904268, -1.1199277178957312, 0.7520408186784354, -0.6331838831946867, -0.17975714925589653, 0.20581278328232264, -0.9206415216715144, -0.158187219487602, 0.5919718158919391, -0.6949331488381687, 0.9515420039403529, -0.4494443621898676, -0.9376624498873257, 1.215580228812475, 1.22299128467945, -0.22091178080380783, 1.3001568912685888, -0.18565026756375427, 0.6146907772970375, -0.7808293908387653, -0.9694216493104032, 0.256562999359, -0.7079856269484804, 1.0305534613508498, -0.2835192015206089, 0.7303941550936714, 0.16276808258431305, -0.043310863923024814, 1.2348333984569575, 0.0007949050313371751, -0.5246867788786806, -1.1188409262101247, -1.3402419478981256, -0.07588887673591871, -0.2720143665160607, 0.0958428080895275, -0.6450366023567586, 0.15577856835919768, -0.4360533301593279, 0.28282047647932523, 0.5202634100016091, -0.040843513287435976, -1.2779500861482962, -0.7033696039532986, -0.1299544172162236, 0.42500834327584436, -2.1885844492814046, -0.6862849450430499, 1.182500876411005, -0.6959730281974437, -0.8944211587337906, -0.30903749460634994, 0.8720881224397372, -0.7160874443335539, 0.5953442187035263, 0.03444748841613024, -0.7903402084528796, 1.6461086977841073, -0.7450716631544378, -1.5138453680566872, 0.5864158277439976, 0.2044839284652703, -0.37970068784926886, -0.4930577907258506, 0.0014749123077378993, 1.8374982646911697, -0.13669230541614008, -0.1918502069627978, 0.4276938637716622, 0.44461120727908987, -1.191864461171342, 0.34935090412853315, -1.6960659723973335, 0.5628706907746021, 0.7957074439625802, 0.8319143980525842, 0.5628102050643603, -1.2533344015247219, 1.462788980892577, 0.1903518081062495, -0.4226318942957426, 0.8000540760912183, 0.7774041770151964, 0.21851412378817658, -0.3872888987741951, -0.38193190011498906, -0.4588068675220083, 0.12212046334608344, 0.7342345571086851, 0.3989454139784152, 0.08242688746543864, -0.0022928649831613942, 1.699568450254879, -1.2052758012027767, -0.6038212323418088, 0.6989754367807544], \"yaxis\": \"y12\"}, {\"line\": {\"color\": \"rgba(128, 128, 128, 1.0)\", \"dash\": \"solid\", \"shape\": \"linear\", \"width\": 1.3}, \"marker\": {\"size\": 2, \"symbol\": \"circle\"}, \"mode\": \"markers\", \"name\": \"D\", \"text\": \"\", \"type\": \"scatter\", \"x\": [0.033388217440508905, -0.6964117620033113, -1.1582806081079497, -0.2561921110075144, -0.9396395616723018, -1.8710775986328148, 1.1381065930965866, 0.2836313998887739, 0.8372825848844795, 0.5352062157485056, -0.10570195697932709, 1.3932461971675265, -1.0203377791552646, 1.4054722978405614, 1.2599083999065768, -0.8173466696833639, 0.749141786818367, 0.32314069513049737, 0.7835951532562746, -0.770714323484931, 1.3378126523628584, -0.11036438568990392, -1.2305529427537507, 0.11815301833078981, 0.11468249633092606, -1.5570788214620102, 0.3298883731176722, -0.1670048980170897, -0.44610787272009117, -1.040410419879342, -2.134223059509332, 1.2055267598805925, 0.7833271951513457, -0.30517818327250934, -1.054797078733294, 1.0339469118287643, 0.031724802569528074, 0.46524479084304915, 0.2696133157308018, -1.9022090457341743, -0.672553302714725, -1.4538759223619475, -0.8952596564969528, -1.6090791774457278, -0.9556876902032667, -1.2883809167343472, -1.013453792978003, -0.6001203860131052, -0.42238651267056765, -0.9170182467887845, -0.18415000223704875, 0.18274248152898628, 1.142934386894334, 0.6890288189881617, 0.5124153344064991, 0.9954018120132386, -0.27710289787528714, 0.5618092295029821, -1.5853615513089843, -0.0157622538163842, 0.0034350917010841247, -1.1545937310589027, -0.9052719576531694, -0.6408810782085186, -1.0539102470766974, -1.6088884404905042, 1.4254864256297581, -0.381852587029767, 0.49973553564455736, 0.12058127493662403, 0.10141909915549104, -2.23702939333417, 1.1966390259865207, -1.0238163568433811, 0.5306379570018278, 1.4703548194163234, -0.3706618777461258, -0.4550084839216992, 0.08172360222080535, 0.6328493435423694, -1.1647795582446374, 1.2494878059546373, 1.0678653724911056, 0.37109684888001876, -0.21332835621154117, -0.36165792593448076, -0.5427678072839484, -0.4522924354445968, 0.7548666787430129, -0.18127561554144686, 0.18500763008449855, 0.4227463117416283, 0.09356699424783808, 0.5616913468969047, -0.8108851809052096, -0.06592248187876751, 0.9053101300097707, 1.1852123122865834, 1.7821500045599021, 1.6772169106987314], \"xaxis\": \"x13\", \"y\": [-1.8571136111417104, -1.2929803725979587, 0.20561240856564708, -1.7826569545732074, 0.36893489693853987, -2.290059244742498, -0.1911249252271533, 0.5236185166727625, 0.5899488231677366, -1.3241496820790173, 1.6861347434484786, -0.4399057043982191, -1.3669681004416905, -0.9028743059237215, -0.09325036085177456, 0.280789333174742, -1.459304199149204, -2.1884382975915995, -0.528999666571028, 1.2437336136919452, -0.020657057724462597, -0.353872154266421, -0.897993582574596, -0.017025339970917843, -0.20558985487071055, 0.6469397282058131, 0.9929278936820563, -0.03562031828604396, 1.3188537541797127, 0.5294015240519836, 0.1788681022406548, -2.7249712086013367, -0.10469633823990536, -0.3299367522259721, -1.4903303039003206, 0.9689750855602837, 0.9984033659673972, 0.648012535372687, -0.775307176022823, -0.3652690937238262, -0.41931483841559863, 0.5828936815594129, 0.7270952914903812, -0.3856341136158816, -0.8864597826318832, 1.10148403693856, 1.1956124718032188, 0.30048298039636223, -0.4019068237328676, 2.5319740416688026, 2.14714538343826, 0.49743557883072675, -0.8199651072805834, 0.006857191362686243, -0.7690327399872606, 0.2172719785518792, -0.2311323722336546, -0.16489298283367107, 0.852171081358844, 0.7591667025255826, 0.13467105505109334, -0.977029151573115, 0.763546288536521, -1.3430638347662076, -0.8952301949472096, -2.284450645749927, 0.8237278053146003, 0.4897196387265957, -0.09698778535217137, 0.3036876818094441, 2.572159295231823, -1.3688632995193528, 0.3480995132046122, -0.715482119345779, -0.22407665777146912, -2.8952030766110473, 1.1152970688875075, -0.40533481928326837, 0.6155186509320042, 1.186699957812302, -0.31501332318615505, 0.41068369321607523, -0.7133845944974545, -0.9166980916968319, -0.9158836591238659, -0.8768169082910535, -0.6655457719648636, 1.522949002308957, 0.7635046451431491, -0.9160553350563346, 0.9818650844125953, 0.9817757426707524, 1.4564042531030386, 0.7475502969248169, -0.4367843500387564, 0.9813506593996986, 1.5849208046161924, -0.22726933321225884, -0.6490275283612017, -0.6857300547884588], \"yaxis\": \"y13\"}, {\"line\": {\"color\": \"rgba(128, 128, 128, 1.0)\", \"dash\": \"solid\", \"shape\": \"linear\", \"width\": 1.3}, \"marker\": {\"size\": 2, \"symbol\": \"circle\"}, \"mode\": \"markers\", \"name\": \"D\", \"text\": \"\", \"type\": \"scatter\", \"x\": [-0.3185819437242191, 0.017143553003232212, -1.161883283271516, -0.6704437820758866, -0.4752021049002068, 0.8818848095813414, -1.6113668454298233, -0.33827338930798506, -1.22976132791649, -1.1088957196694917, -0.6591281589852449, -0.9959336166710657, 0.9843663632768888, -0.8954963504718098, -0.9708364965136446, -0.3456105679762152, -0.5363379641406554, -0.347986706152008, -1.9772259945605442, -1.3146882448697077, 1.382190391435313, 0.4345969579360139, 0.30113552461211096, -0.8470311410792175, 0.3685426426850477, 0.5951448453513402, 0.17061591052139344, 0.17415532756605645, 0.2981196168572048, 0.4977249129616586, 0.33480901130394974, 0.1868880359802086, -1.6650149993841277, -0.6404910513353013, -0.8824072467179087, -0.553742729869468, 0.36036163241066343, -2.275974570734227, -1.5874012126450154, 1.3419821073368021, -1.4171003468926828, 1.231652765552878, -1.8453235220960005, -0.7197969325839411, 1.3226340184457743, 0.20947818537722288, 0.29165688844925786, 0.5883754850166348, 0.3683509795965926, -0.3339353731153345, 1.309887025504271, 0.31546723226620027, 1.3263631277316312, -0.34567806682641433, -0.19141808194686688, -0.4713020694872677, 0.8852804183445554, -0.8576319218947199, -0.9145682759871094, -1.4002022553453086, -0.1835398022198471, 0.9597120405836465, 0.7459121859140037, 0.9582724578902626, 0.2515689421160934, -0.38993360906100594, -1.2295245875026266, -0.6031951925607657, -2.681150844317574, 0.08570599518645991, -0.30239374308582356, -0.17549857467971453, -0.34269764974175787, -0.6967515592890964, -0.6517567157566919, -0.7432742339004702, 0.9679312814459848, -0.10389313558341703, 0.6858706396566807, -0.3944155036832106, 0.301036982440157, 1.5086902264625675, -0.7373137660036858, -0.22448726844840527, -0.22652852888373978, -1.0077169954080438, 1.249022242931242, -0.09106059301916564, 1.2227833371035044, 1.1059491261446488, -0.8637469439487155, 2.124637526257138, 0.07570566559288731, -0.652759552671152, -0.35136007142557557, -0.42327448382840327, 1.2267554224089194, 0.46971004043741227, 0.5654883626864355, 1.3099927206532345], \"xaxis\": \"x14\", \"y\": [-1.8571136111417104, -1.2929803725979587, 0.20561240856564708, -1.7826569545732074, 0.36893489693853987, -2.290059244742498, -0.1911249252271533, 0.5236185166727625, 0.5899488231677366, -1.3241496820790173, 1.6861347434484786, -0.4399057043982191, -1.3669681004416905, -0.9028743059237215, -0.09325036085177456, 0.280789333174742, -1.459304199149204, -2.1884382975915995, -0.528999666571028, 1.2437336136919452, -0.020657057724462597, -0.353872154266421, -0.897993582574596, -0.017025339970917843, -0.20558985487071055, 0.6469397282058131, 0.9929278936820563, -0.03562031828604396, 1.3188537541797127, 0.5294015240519836, 0.1788681022406548, -2.7249712086013367, -0.10469633823990536, -0.3299367522259721, -1.4903303039003206, 0.9689750855602837, 0.9984033659673972, 0.648012535372687, -0.775307176022823, -0.3652690937238262, -0.41931483841559863, 0.5828936815594129, 0.7270952914903812, -0.3856341136158816, -0.8864597826318832, 1.10148403693856, 1.1956124718032188, 0.30048298039636223, -0.4019068237328676, 2.5319740416688026, 2.14714538343826, 0.49743557883072675, -0.8199651072805834, 0.006857191362686243, -0.7690327399872606, 0.2172719785518792, -0.2311323722336546, -0.16489298283367107, 0.852171081358844, 0.7591667025255826, 0.13467105505109334, -0.977029151573115, 0.763546288536521, -1.3430638347662076, -0.8952301949472096, -2.284450645749927, 0.8237278053146003, 0.4897196387265957, -0.09698778535217137, 0.3036876818094441, 2.572159295231823, -1.3688632995193528, 0.3480995132046122, -0.715482119345779, -0.22407665777146912, -2.8952030766110473, 1.1152970688875075, -0.40533481928326837, 0.6155186509320042, 1.186699957812302, -0.31501332318615505, 0.41068369321607523, -0.7133845944974545, -0.9166980916968319, -0.9158836591238659, -0.8768169082910535, -0.6655457719648636, 1.522949002308957, 0.7635046451431491, -0.9160553350563346, 0.9818650844125953, 0.9817757426707524, 1.4564042531030386, 0.7475502969248169, -0.4367843500387564, 0.9813506593996986, 1.5849208046161924, -0.22726933321225884, -0.6490275283612017, -0.6857300547884588], \"yaxis\": \"y14\"}, {\"line\": {\"color\": \"rgba(128, 128, 128, 1.0)\", \"dash\": \"solid\", \"shape\": \"linear\", \"width\": 1.3}, \"marker\": {\"size\": 2, \"symbol\": \"circle\"}, \"mode\": \"markers\", \"name\": \"D\", \"text\": \"\", \"type\": \"scatter\", \"x\": [1.0182954809449183, 0.3794523439700212, 0.08190652367893733, 0.4060976395887609, 1.8822480524904268, -1.1199277178957312, 0.7520408186784354, -0.6331838831946867, -0.17975714925589653, 0.20581278328232264, -0.9206415216715144, -0.158187219487602, 0.5919718158919391, -0.6949331488381687, 0.9515420039403529, -0.4494443621898676, -0.9376624498873257, 1.215580228812475, 1.22299128467945, -0.22091178080380783, 1.3001568912685888, -0.18565026756375427, 0.6146907772970375, -0.7808293908387653, -0.9694216493104032, 0.256562999359, -0.7079856269484804, 1.0305534613508498, -0.2835192015206089, 0.7303941550936714, 0.16276808258431305, -0.043310863923024814, 1.2348333984569575, 0.0007949050313371751, -0.5246867788786806, -1.1188409262101247, -1.3402419478981256, -0.07588887673591871, -0.2720143665160607, 0.0958428080895275, -0.6450366023567586, 0.15577856835919768, -0.4360533301593279, 0.28282047647932523, 0.5202634100016091, -0.040843513287435976, -1.2779500861482962, -0.7033696039532986, -0.1299544172162236, 0.42500834327584436, -2.1885844492814046, -0.6862849450430499, 1.182500876411005, -0.6959730281974437, -0.8944211587337906, -0.30903749460634994, 0.8720881224397372, -0.7160874443335539, 0.5953442187035263, 0.03444748841613024, -0.7903402084528796, 1.6461086977841073, -0.7450716631544378, -1.5138453680566872, 0.5864158277439976, 0.2044839284652703, -0.37970068784926886, -0.4930577907258506, 0.0014749123077378993, 1.8374982646911697, -0.13669230541614008, -0.1918502069627978, 0.4276938637716622, 0.44461120727908987, -1.191864461171342, 0.34935090412853315, -1.6960659723973335, 0.5628706907746021, 0.7957074439625802, 0.8319143980525842, 0.5628102050643603, -1.2533344015247219, 1.462788980892577, 0.1903518081062495, -0.4226318942957426, 0.8000540760912183, 0.7774041770151964, 0.21851412378817658, -0.3872888987741951, -0.38193190011498906, -0.4588068675220083, 0.12212046334608344, 0.7342345571086851, 0.3989454139784152, 0.08242688746543864, -0.0022928649831613942, 1.699568450254879, -1.2052758012027767, -0.6038212323418088, 0.6989754367807544], \"xaxis\": \"x15\", \"y\": [-1.8571136111417104, -1.2929803725979587, 0.20561240856564708, -1.7826569545732074, 0.36893489693853987, -2.290059244742498, -0.1911249252271533, 0.5236185166727625, 0.5899488231677366, -1.3241496820790173, 1.6861347434484786, -0.4399057043982191, -1.3669681004416905, -0.9028743059237215, -0.09325036085177456, 0.280789333174742, -1.459304199149204, -2.1884382975915995, -0.528999666571028, 1.2437336136919452, -0.020657057724462597, -0.353872154266421, -0.897993582574596, -0.017025339970917843, -0.20558985487071055, 0.6469397282058131, 0.9929278936820563, -0.03562031828604396, 1.3188537541797127, 0.5294015240519836, 0.1788681022406548, -2.7249712086013367, -0.10469633823990536, -0.3299367522259721, -1.4903303039003206, 0.9689750855602837, 0.9984033659673972, 0.648012535372687, -0.775307176022823, -0.3652690937238262, -0.41931483841559863, 0.5828936815594129, 0.7270952914903812, -0.3856341136158816, -0.8864597826318832, 1.10148403693856, 1.1956124718032188, 0.30048298039636223, -0.4019068237328676, 2.5319740416688026, 2.14714538343826, 0.49743557883072675, -0.8199651072805834, 0.006857191362686243, -0.7690327399872606, 0.2172719785518792, -0.2311323722336546, -0.16489298283367107, 0.852171081358844, 0.7591667025255826, 0.13467105505109334, -0.977029151573115, 0.763546288536521, -1.3430638347662076, -0.8952301949472096, -2.284450645749927, 0.8237278053146003, 0.4897196387265957, -0.09698778535217137, 0.3036876818094441, 2.572159295231823, -1.3688632995193528, 0.3480995132046122, -0.715482119345779, -0.22407665777146912, -2.8952030766110473, 1.1152970688875075, -0.40533481928326837, 0.6155186509320042, 1.186699957812302, -0.31501332318615505, 0.41068369321607523, -0.7133845944974545, -0.9166980916968319, -0.9158836591238659, -0.8768169082910535, -0.6655457719648636, 1.522949002308957, 0.7635046451431491, -0.9160553350563346, 0.9818650844125953, 0.9817757426707524, 1.4564042531030386, 0.7475502969248169, -0.4367843500387564, 0.9813506593996986, 1.5849208046161924, -0.22726933321225884, -0.6490275283612017, -0.6857300547884588], \"yaxis\": \"y15\"}, {\"histfunc\": \"count\", \"histnorm\": \"\", \"marker\": {\"color\": \"rgba(128, 0, 128, 1.0)\", \"line\": {\"color\": \"#4D5663\", \"width\": 1.3}}, \"name\": \"D\", \"nbinsx\": 10, \"opacity\": 0.8, \"orientation\": \"v\", \"type\": \"histogram\", \"x\": [-1.8571136111417104, -1.2929803725979587, 0.20561240856564708, -1.7826569545732074, 0.36893489693853987, -2.290059244742498, -0.1911249252271533, 0.5236185166727625, 0.5899488231677366, -1.3241496820790173, 1.6861347434484786, -0.4399057043982191, -1.3669681004416905, -0.9028743059237215, -0.09325036085177456, 0.280789333174742, -1.459304199149204, -2.1884382975915995, -0.528999666571028, 1.2437336136919452, -0.020657057724462597, -0.353872154266421, -0.897993582574596, -0.017025339970917843, -0.20558985487071055, 0.6469397282058131, 0.9929278936820563, -0.03562031828604396, 1.3188537541797127, 0.5294015240519836, 0.1788681022406548, -2.7249712086013367, -0.10469633823990536, -0.3299367522259721, -1.4903303039003206, 0.9689750855602837, 0.9984033659673972, 0.648012535372687, -0.775307176022823, -0.3652690937238262, -0.41931483841559863, 0.5828936815594129, 0.7270952914903812, -0.3856341136158816, -0.8864597826318832, 1.10148403693856, 1.1956124718032188, 0.30048298039636223, -0.4019068237328676, 2.5319740416688026, 2.14714538343826, 0.49743557883072675, -0.8199651072805834, 0.006857191362686243, -0.7690327399872606, 0.2172719785518792, -0.2311323722336546, -0.16489298283367107, 0.852171081358844, 0.7591667025255826, 0.13467105505109334, -0.977029151573115, 0.763546288536521, -1.3430638347662076, -0.8952301949472096, -2.284450645749927, 0.8237278053146003, 0.4897196387265957, -0.09698778535217137, 0.3036876818094441, 2.572159295231823, -1.3688632995193528, 0.3480995132046122, -0.715482119345779, -0.22407665777146912, -2.8952030766110473, 1.1152970688875075, -0.40533481928326837, 0.6155186509320042, 1.186699957812302, -0.31501332318615505, 0.41068369321607523, -0.7133845944974545, -0.9166980916968319, -0.9158836591238659, -0.8768169082910535, -0.6655457719648636, 1.522949002308957, 0.7635046451431491, -0.9160553350563346, 0.9818650844125953, 0.9817757426707524, 1.4564042531030386, 0.7475502969248169, -0.4367843500387564, 0.9813506593996986, 1.5849208046161924, -0.22726933321225884, -0.6490275283612017, -0.6857300547884588], \"xaxis\": \"x16\", \"yaxis\": \"y16\"}],\n",
              "                        {\"bargap\": 0.02, \"legend\": {\"bgcolor\": \"#F5F6F9\", \"font\": {\"color\": \"#4D5663\"}}, \"paper_bgcolor\": \"#F5F6F9\", \"plot_bgcolor\": \"#F5F6F9\", \"showlegend\": false, \"template\": {\"data\": {\"bar\": [{\"error_x\": {\"color\": \"#2a3f5f\"}, \"error_y\": {\"color\": \"#2a3f5f\"}, \"marker\": {\"line\": {\"color\": \"#E5ECF6\", \"width\": 0.5}}, \"type\": \"bar\"}], \"barpolar\": [{\"marker\": {\"line\": {\"color\": \"#E5ECF6\", \"width\": 0.5}}, \"type\": \"barpolar\"}], \"carpet\": [{\"aaxis\": {\"endlinecolor\": \"#2a3f5f\", \"gridcolor\": \"white\", \"linecolor\": \"white\", \"minorgridcolor\": \"white\", \"startlinecolor\": \"#2a3f5f\"}, \"baxis\": {\"endlinecolor\": \"#2a3f5f\", \"gridcolor\": \"white\", \"linecolor\": \"white\", \"minorgridcolor\": \"white\", \"startlinecolor\": \"#2a3f5f\"}, \"type\": \"carpet\"}], \"choropleth\": [{\"colorbar\": {\"outlinewidth\": 0, \"ticks\": \"\"}, \"type\": \"choropleth\"}], \"contour\": [{\"colorbar\": {\"outlinewidth\": 0, \"ticks\": \"\"}, \"colorscale\": [[0.0, \"#0d0887\"], [0.1111111111111111, \"#46039f\"], [0.2222222222222222, \"#7201a8\"], [0.3333333333333333, \"#9c179e\"], [0.4444444444444444, \"#bd3786\"], [0.5555555555555556, \"#d8576b\"], [0.6666666666666666, \"#ed7953\"], [0.7777777777777778, \"#fb9f3a\"], [0.8888888888888888, \"#fdca26\"], [1.0, \"#f0f921\"]], \"type\": \"contour\"}], \"contourcarpet\": [{\"colorbar\": {\"outlinewidth\": 0, \"ticks\": \"\"}, \"type\": \"contourcarpet\"}], \"heatmap\": [{\"colorbar\": {\"outlinewidth\": 0, \"ticks\": \"\"}, \"colorscale\": [[0.0, \"#0d0887\"], [0.1111111111111111, \"#46039f\"], [0.2222222222222222, \"#7201a8\"], [0.3333333333333333, \"#9c179e\"], [0.4444444444444444, \"#bd3786\"], [0.5555555555555556, \"#d8576b\"], [0.6666666666666666, \"#ed7953\"], [0.7777777777777778, \"#fb9f3a\"], [0.8888888888888888, \"#fdca26\"], [1.0, \"#f0f921\"]], \"type\": \"heatmap\"}], \"heatmapgl\": [{\"colorbar\": {\"outlinewidth\": 0, \"ticks\": \"\"}, \"colorscale\": [[0.0, \"#0d0887\"], [0.1111111111111111, \"#46039f\"], [0.2222222222222222, \"#7201a8\"], [0.3333333333333333, \"#9c179e\"], [0.4444444444444444, \"#bd3786\"], [0.5555555555555556, \"#d8576b\"], [0.6666666666666666, \"#ed7953\"], [0.7777777777777778, \"#fb9f3a\"], [0.8888888888888888, \"#fdca26\"], [1.0, \"#f0f921\"]], \"type\": \"heatmapgl\"}], \"histogram\": [{\"marker\": {\"colorbar\": {\"outlinewidth\": 0, \"ticks\": \"\"}}, \"type\": \"histogram\"}], \"histogram2d\": [{\"colorbar\": {\"outlinewidth\": 0, \"ticks\": \"\"}, \"colorscale\": [[0.0, \"#0d0887\"], [0.1111111111111111, \"#46039f\"], [0.2222222222222222, \"#7201a8\"], [0.3333333333333333, \"#9c179e\"], [0.4444444444444444, \"#bd3786\"], [0.5555555555555556, \"#d8576b\"], [0.6666666666666666, \"#ed7953\"], [0.7777777777777778, \"#fb9f3a\"], [0.8888888888888888, \"#fdca26\"], [1.0, \"#f0f921\"]], \"type\": \"histogram2d\"}], \"histogram2dcontour\": [{\"colorbar\": {\"outlinewidth\": 0, \"ticks\": \"\"}, \"colorscale\": [[0.0, \"#0d0887\"], [0.1111111111111111, \"#46039f\"], [0.2222222222222222, \"#7201a8\"], [0.3333333333333333, \"#9c179e\"], [0.4444444444444444, \"#bd3786\"], [0.5555555555555556, \"#d8576b\"], [0.6666666666666666, \"#ed7953\"], [0.7777777777777778, \"#fb9f3a\"], [0.8888888888888888, \"#fdca26\"], [1.0, \"#f0f921\"]], \"type\": \"histogram2dcontour\"}], \"mesh3d\": [{\"colorbar\": {\"outlinewidth\": 0, \"ticks\": \"\"}, \"type\": \"mesh3d\"}], \"parcoords\": [{\"line\": {\"colorbar\": {\"outlinewidth\": 0, \"ticks\": \"\"}}, \"type\": \"parcoords\"}], \"pie\": [{\"automargin\": true, \"type\": \"pie\"}], \"scatter\": [{\"marker\": {\"colorbar\": {\"outlinewidth\": 0, \"ticks\": \"\"}}, \"type\": \"scatter\"}], \"scatter3d\": [{\"line\": {\"colorbar\": {\"outlinewidth\": 0, \"ticks\": \"\"}}, \"marker\": {\"colorbar\": {\"outlinewidth\": 0, \"ticks\": \"\"}}, \"type\": \"scatter3d\"}], \"scattercarpet\": [{\"marker\": {\"colorbar\": {\"outlinewidth\": 0, \"ticks\": \"\"}}, \"type\": \"scattercarpet\"}], \"scattergeo\": [{\"marker\": {\"colorbar\": {\"outlinewidth\": 0, \"ticks\": \"\"}}, \"type\": \"scattergeo\"}], \"scattergl\": [{\"marker\": {\"colorbar\": {\"outlinewidth\": 0, \"ticks\": \"\"}}, \"type\": \"scattergl\"}], \"scattermapbox\": [{\"marker\": {\"colorbar\": {\"outlinewidth\": 0, \"ticks\": \"\"}}, \"type\": \"scattermapbox\"}], \"scatterpolar\": [{\"marker\": {\"colorbar\": {\"outlinewidth\": 0, \"ticks\": \"\"}}, \"type\": \"scatterpolar\"}], \"scatterpolargl\": [{\"marker\": {\"colorbar\": {\"outlinewidth\": 0, \"ticks\": \"\"}}, \"type\": \"scatterpolargl\"}], \"scatterternary\": [{\"marker\": {\"colorbar\": {\"outlinewidth\": 0, \"ticks\": \"\"}}, \"type\": \"scatterternary\"}], \"surface\": [{\"colorbar\": {\"outlinewidth\": 0, \"ticks\": \"\"}, \"colorscale\": [[0.0, \"#0d0887\"], [0.1111111111111111, \"#46039f\"], [0.2222222222222222, \"#7201a8\"], [0.3333333333333333, \"#9c179e\"], [0.4444444444444444, \"#bd3786\"], [0.5555555555555556, \"#d8576b\"], [0.6666666666666666, \"#ed7953\"], [0.7777777777777778, \"#fb9f3a\"], [0.8888888888888888, \"#fdca26\"], [1.0, \"#f0f921\"]], \"type\": \"surface\"}], \"table\": [{\"cells\": {\"fill\": {\"color\": \"#EBF0F8\"}, \"line\": {\"color\": \"white\"}}, \"header\": {\"fill\": {\"color\": \"#C8D4E3\"}, \"line\": {\"color\": \"white\"}}, \"type\": \"table\"}]}, \"layout\": {\"annotationdefaults\": {\"arrowcolor\": \"#2a3f5f\", \"arrowhead\": 0, \"arrowwidth\": 1}, \"coloraxis\": {\"colorbar\": {\"outlinewidth\": 0, \"ticks\": \"\"}}, \"colorscale\": {\"diverging\": [[0, \"#8e0152\"], [0.1, \"#c51b7d\"], [0.2, \"#de77ae\"], [0.3, \"#f1b6da\"], [0.4, \"#fde0ef\"], [0.5, \"#f7f7f7\"], [0.6, \"#e6f5d0\"], [0.7, \"#b8e186\"], [0.8, \"#7fbc41\"], [0.9, \"#4d9221\"], [1, \"#276419\"]], \"sequential\": [[0.0, \"#0d0887\"], [0.1111111111111111, \"#46039f\"], [0.2222222222222222, \"#7201a8\"], [0.3333333333333333, \"#9c179e\"], [0.4444444444444444, \"#bd3786\"], [0.5555555555555556, \"#d8576b\"], [0.6666666666666666, \"#ed7953\"], [0.7777777777777778, \"#fb9f3a\"], [0.8888888888888888, \"#fdca26\"], [1.0, \"#f0f921\"]], \"sequentialminus\": [[0.0, \"#0d0887\"], [0.1111111111111111, \"#46039f\"], [0.2222222222222222, \"#7201a8\"], [0.3333333333333333, \"#9c179e\"], [0.4444444444444444, \"#bd3786\"], [0.5555555555555556, \"#d8576b\"], [0.6666666666666666, \"#ed7953\"], [0.7777777777777778, \"#fb9f3a\"], [0.8888888888888888, \"#fdca26\"], [1.0, \"#f0f921\"]]}, \"colorway\": [\"#636efa\", \"#EF553B\", \"#00cc96\", \"#ab63fa\", \"#FFA15A\", \"#19d3f3\", \"#FF6692\", \"#B6E880\", \"#FF97FF\", \"#FECB52\"], \"font\": {\"color\": \"#2a3f5f\"}, \"geo\": {\"bgcolor\": \"white\", \"lakecolor\": \"white\", \"landcolor\": \"#E5ECF6\", \"showlakes\": true, \"showland\": true, \"subunitcolor\": \"white\"}, \"hoverlabel\": {\"align\": \"left\"}, \"hovermode\": \"closest\", \"mapbox\": {\"style\": \"light\"}, \"paper_bgcolor\": \"white\", \"plot_bgcolor\": \"#E5ECF6\", \"polar\": {\"angularaxis\": {\"gridcolor\": \"white\", \"linecolor\": \"white\", \"ticks\": \"\"}, \"bgcolor\": \"#E5ECF6\", \"radialaxis\": {\"gridcolor\": \"white\", \"linecolor\": \"white\", \"ticks\": \"\"}}, \"scene\": {\"xaxis\": {\"backgroundcolor\": \"#E5ECF6\", \"gridcolor\": \"white\", \"gridwidth\": 2, \"linecolor\": \"white\", \"showbackground\": true, \"ticks\": \"\", \"zerolinecolor\": \"white\"}, \"yaxis\": {\"backgroundcolor\": \"#E5ECF6\", \"gridcolor\": \"white\", \"gridwidth\": 2, \"linecolor\": \"white\", \"showbackground\": true, \"ticks\": \"\", \"zerolinecolor\": \"white\"}, \"zaxis\": {\"backgroundcolor\": \"#E5ECF6\", \"gridcolor\": \"white\", \"gridwidth\": 2, \"linecolor\": \"white\", \"showbackground\": true, \"ticks\": \"\", \"zerolinecolor\": \"white\"}}, \"shapedefaults\": {\"line\": {\"color\": \"#2a3f5f\"}}, \"ternary\": {\"aaxis\": {\"gridcolor\": \"white\", \"linecolor\": \"white\", \"ticks\": \"\"}, \"baxis\": {\"gridcolor\": \"white\", \"linecolor\": \"white\", \"ticks\": \"\"}, \"bgcolor\": \"#E5ECF6\", \"caxis\": {\"gridcolor\": \"white\", \"linecolor\": \"white\", \"ticks\": \"\"}}, \"title\": {\"x\": 0.05}, \"xaxis\": {\"automargin\": true, \"gridcolor\": \"white\", \"linecolor\": \"white\", \"ticks\": \"\", \"title\": {\"standoff\": 15}, \"zerolinecolor\": \"white\", \"zerolinewidth\": 2}, \"yaxis\": {\"automargin\": true, \"gridcolor\": \"white\", \"linecolor\": \"white\", \"ticks\": \"\", \"title\": {\"standoff\": 15}, \"zerolinecolor\": \"white\", \"zerolinewidth\": 2}}}, \"title\": {\"font\": {\"color\": \"#4D5663\"}}, \"xaxis\": {\"anchor\": \"y\", \"domain\": [0.0, 0.2125], \"gridcolor\": \"#E1E5ED\", \"showgrid\": false, \"tickfont\": {\"color\": \"#4D5663\"}, \"title\": {\"font\": {\"color\": \"#4D5663\"}, \"text\": \"\"}, \"zerolinecolor\": \"#E1E5ED\"}, \"xaxis10\": {\"anchor\": \"y10\", \"domain\": [0.2625, 0.475], \"gridcolor\": \"#E1E5ED\", \"showgrid\": false, \"tickfont\": {\"color\": \"#4D5663\"}, \"title\": {\"font\": {\"color\": \"#4D5663\"}, \"text\": \"\"}, \"zerolinecolor\": \"#E1E5ED\"}, \"xaxis11\": {\"anchor\": \"y11\", \"domain\": [0.525, 0.7375], \"gridcolor\": \"#E1E5ED\", \"showgrid\": false, \"tickfont\": {\"color\": \"#4D5663\"}, \"title\": {\"font\": {\"color\": \"#4D5663\"}, \"text\": \"\"}, \"zerolinecolor\": \"#E1E5ED\"}, \"xaxis12\": {\"anchor\": \"y12\", \"domain\": [0.7875, 1.0], \"gridcolor\": \"#E1E5ED\", \"showgrid\": false, \"tickfont\": {\"color\": \"#4D5663\"}, \"title\": {\"font\": {\"color\": \"#4D5663\"}, \"text\": \"\"}, \"zerolinecolor\": \"#E1E5ED\"}, \"xaxis13\": {\"anchor\": \"y13\", \"domain\": [0.0, 0.2125], \"gridcolor\": \"#E1E5ED\", \"showgrid\": false, \"tickfont\": {\"color\": \"#4D5663\"}, \"title\": {\"font\": {\"color\": \"#4D5663\"}, \"text\": \"\"}, \"zerolinecolor\": \"#E1E5ED\"}, \"xaxis14\": {\"anchor\": \"y14\", \"domain\": [0.2625, 0.475], \"gridcolor\": \"#E1E5ED\", \"showgrid\": false, \"tickfont\": {\"color\": \"#4D5663\"}, \"title\": {\"font\": {\"color\": \"#4D5663\"}, \"text\": \"\"}, \"zerolinecolor\": \"#E1E5ED\"}, \"xaxis15\": {\"anchor\": \"y15\", \"domain\": [0.525, 0.7375], \"gridcolor\": \"#E1E5ED\", \"showgrid\": false, \"tickfont\": {\"color\": \"#4D5663\"}, \"title\": {\"font\": {\"color\": \"#4D5663\"}, \"text\": \"\"}, \"zerolinecolor\": \"#E1E5ED\"}, \"xaxis16\": {\"anchor\": \"y16\", \"domain\": [0.7875, 1.0], \"gridcolor\": \"#E1E5ED\", \"showgrid\": false, \"tickfont\": {\"color\": \"#4D5663\"}, \"title\": {\"font\": {\"color\": \"#4D5663\"}, \"text\": \"\"}, \"zerolinecolor\": \"#E1E5ED\"}, \"xaxis2\": {\"anchor\": \"y2\", \"domain\": [0.2625, 0.475], \"gridcolor\": \"#E1E5ED\", \"showgrid\": false, \"tickfont\": {\"color\": \"#4D5663\"}, \"title\": {\"font\": {\"color\": \"#4D5663\"}, \"text\": \"\"}, \"zerolinecolor\": \"#E1E5ED\"}, \"xaxis3\": {\"anchor\": \"y3\", \"domain\": [0.525, 0.7375], \"gridcolor\": \"#E1E5ED\", \"showgrid\": false, \"tickfont\": {\"color\": \"#4D5663\"}, \"title\": {\"font\": {\"color\": \"#4D5663\"}, \"text\": \"\"}, \"zerolinecolor\": \"#E1E5ED\"}, \"xaxis4\": {\"anchor\": \"y4\", \"domain\": [0.7875, 1.0], \"gridcolor\": \"#E1E5ED\", \"showgrid\": false, \"tickfont\": {\"color\": \"#4D5663\"}, \"title\": {\"font\": {\"color\": \"#4D5663\"}, \"text\": \"\"}, \"zerolinecolor\": \"#E1E5ED\"}, \"xaxis5\": {\"anchor\": \"y5\", \"domain\": [0.0, 0.2125], \"gridcolor\": \"#E1E5ED\", \"showgrid\": false, \"tickfont\": {\"color\": \"#4D5663\"}, \"title\": {\"font\": {\"color\": \"#4D5663\"}, \"text\": \"\"}, \"zerolinecolor\": \"#E1E5ED\"}, \"xaxis6\": {\"anchor\": \"y6\", \"domain\": [0.2625, 0.475], \"gridcolor\": \"#E1E5ED\", \"showgrid\": false, \"tickfont\": {\"color\": \"#4D5663\"}, \"title\": {\"font\": {\"color\": \"#4D5663\"}, \"text\": \"\"}, \"zerolinecolor\": \"#E1E5ED\"}, \"xaxis7\": {\"anchor\": \"y7\", \"domain\": [0.525, 0.7375], \"gridcolor\": \"#E1E5ED\", \"showgrid\": false, \"tickfont\": {\"color\": \"#4D5663\"}, \"title\": {\"font\": {\"color\": \"#4D5663\"}, \"text\": \"\"}, \"zerolinecolor\": \"#E1E5ED\"}, \"xaxis8\": {\"anchor\": \"y8\", \"domain\": [0.7875, 1.0], \"gridcolor\": \"#E1E5ED\", \"showgrid\": false, \"tickfont\": {\"color\": \"#4D5663\"}, \"title\": {\"font\": {\"color\": \"#4D5663\"}, \"text\": \"\"}, \"zerolinecolor\": \"#E1E5ED\"}, \"xaxis9\": {\"anchor\": \"y9\", \"domain\": [0.0, 0.2125], \"gridcolor\": \"#E1E5ED\", \"showgrid\": false, \"tickfont\": {\"color\": \"#4D5663\"}, \"title\": {\"font\": {\"color\": \"#4D5663\"}, \"text\": \"\"}, \"zerolinecolor\": \"#E1E5ED\"}, \"yaxis\": {\"anchor\": \"x\", \"domain\": [0.8025, 1.0], \"gridcolor\": \"#E1E5ED\", \"showgrid\": false, \"tickfont\": {\"color\": \"#4D5663\"}, \"title\": {\"font\": {\"color\": \"#4D5663\"}, \"text\": \"\"}, \"zerolinecolor\": \"#E1E5ED\"}, \"yaxis10\": {\"anchor\": \"x10\", \"domain\": [0.2675, 0.465], \"gridcolor\": \"#E1E5ED\", \"showgrid\": false, \"tickfont\": {\"color\": \"#4D5663\"}, \"title\": {\"font\": {\"color\": \"#4D5663\"}, \"text\": \"\"}, \"zerolinecolor\": \"#E1E5ED\"}, \"yaxis11\": {\"anchor\": \"x11\", \"domain\": [0.2675, 0.465], \"gridcolor\": \"#E1E5ED\", \"showgrid\": false, \"tickfont\": {\"color\": \"#4D5663\"}, \"title\": {\"font\": {\"color\": \"#4D5663\"}, \"text\": \"\"}, \"zerolinecolor\": \"#E1E5ED\"}, \"yaxis12\": {\"anchor\": \"x12\", \"domain\": [0.2675, 0.465], \"gridcolor\": \"#E1E5ED\", \"showgrid\": false, \"tickfont\": {\"color\": \"#4D5663\"}, \"title\": {\"font\": {\"color\": \"#4D5663\"}, \"text\": \"\"}, \"zerolinecolor\": \"#E1E5ED\"}, \"yaxis13\": {\"anchor\": \"x13\", \"domain\": [0.0, 0.1975], \"gridcolor\": \"#E1E5ED\", \"showgrid\": false, \"tickfont\": {\"color\": \"#4D5663\"}, \"title\": {\"font\": {\"color\": \"#4D5663\"}, \"text\": \"\"}, \"zerolinecolor\": \"#E1E5ED\"}, \"yaxis14\": {\"anchor\": \"x14\", \"domain\": [0.0, 0.1975], \"gridcolor\": \"#E1E5ED\", \"showgrid\": false, \"tickfont\": {\"color\": \"#4D5663\"}, \"title\": {\"font\": {\"color\": \"#4D5663\"}, \"text\": \"\"}, \"zerolinecolor\": \"#E1E5ED\"}, \"yaxis15\": {\"anchor\": \"x15\", \"domain\": [0.0, 0.1975], \"gridcolor\": \"#E1E5ED\", \"showgrid\": false, \"tickfont\": {\"color\": \"#4D5663\"}, \"title\": {\"font\": {\"color\": \"#4D5663\"}, \"text\": \"\"}, \"zerolinecolor\": \"#E1E5ED\"}, \"yaxis16\": {\"anchor\": \"x16\", \"domain\": [0.0, 0.1975], \"gridcolor\": \"#E1E5ED\", \"showgrid\": false, \"tickfont\": {\"color\": \"#4D5663\"}, \"title\": {\"font\": {\"color\": \"#4D5663\"}, \"text\": \"\"}, \"zerolinecolor\": \"#E1E5ED\"}, \"yaxis2\": {\"anchor\": \"x2\", \"domain\": [0.8025, 1.0], \"gridcolor\": \"#E1E5ED\", \"showgrid\": false, \"tickfont\": {\"color\": \"#4D5663\"}, \"title\": {\"font\": {\"color\": \"#4D5663\"}, \"text\": \"\"}, \"zerolinecolor\": \"#E1E5ED\"}, \"yaxis3\": {\"anchor\": \"x3\", \"domain\": [0.8025, 1.0], \"gridcolor\": \"#E1E5ED\", \"showgrid\": false, \"tickfont\": {\"color\": \"#4D5663\"}, \"title\": {\"font\": {\"color\": \"#4D5663\"}, \"text\": \"\"}, \"zerolinecolor\": \"#E1E5ED\"}, \"yaxis4\": {\"anchor\": \"x4\", \"domain\": [0.8025, 1.0], \"gridcolor\": \"#E1E5ED\", \"showgrid\": false, \"tickfont\": {\"color\": \"#4D5663\"}, \"title\": {\"font\": {\"color\": \"#4D5663\"}, \"text\": \"\"}, \"zerolinecolor\": \"#E1E5ED\"}, \"yaxis5\": {\"anchor\": \"x5\", \"domain\": [0.535, 0.7325], \"gridcolor\": \"#E1E5ED\", \"showgrid\": false, \"tickfont\": {\"color\": \"#4D5663\"}, \"title\": {\"font\": {\"color\": \"#4D5663\"}, \"text\": \"\"}, \"zerolinecolor\": \"#E1E5ED\"}, \"yaxis6\": {\"anchor\": \"x6\", \"domain\": [0.535, 0.7325], \"gridcolor\": \"#E1E5ED\", \"showgrid\": false, \"tickfont\": {\"color\": \"#4D5663\"}, \"title\": {\"font\": {\"color\": \"#4D5663\"}, \"text\": \"\"}, \"zerolinecolor\": \"#E1E5ED\"}, \"yaxis7\": {\"anchor\": \"x7\", \"domain\": [0.535, 0.7325], \"gridcolor\": \"#E1E5ED\", \"showgrid\": false, \"tickfont\": {\"color\": \"#4D5663\"}, \"title\": {\"font\": {\"color\": \"#4D5663\"}, \"text\": \"\"}, \"zerolinecolor\": \"#E1E5ED\"}, \"yaxis8\": {\"anchor\": \"x8\", \"domain\": [0.535, 0.7325], \"gridcolor\": \"#E1E5ED\", \"showgrid\": false, \"tickfont\": {\"color\": \"#4D5663\"}, \"title\": {\"font\": {\"color\": \"#4D5663\"}, \"text\": \"\"}, \"zerolinecolor\": \"#E1E5ED\"}, \"yaxis9\": {\"anchor\": \"x9\", \"domain\": [0.2675, 0.465], \"gridcolor\": \"#E1E5ED\", \"showgrid\": false, \"tickfont\": {\"color\": \"#4D5663\"}, \"title\": {\"font\": {\"color\": \"#4D5663\"}, \"text\": \"\"}, \"zerolinecolor\": \"#E1E5ED\"}},\n",
              "                        {\"showLink\": true, \"linkText\": \"Export to plot.ly\", \"plotlyServerURL\": \"https://plot.ly\", \"responsive\": true}\n",
              "                    ).then(function(){\n",
              "                            \n",
              "var gd = document.getElementById('8258aa57-327f-4f62-b629-b056549abb84');\n",
              "var x = new MutationObserver(function (mutations, observer) {{\n",
              "        var display = window.getComputedStyle(gd).display;\n",
              "        if (!display || display === 'none') {{\n",
              "            console.log([gd, 'removed!']);\n",
              "            Plotly.purge(gd);\n",
              "            observer.disconnect();\n",
              "        }}\n",
              "}});\n",
              "\n",
              "// Listen for the removal of the full notebook cells\n",
              "var notebookContainer = gd.closest('#notebook-container');\n",
              "if (notebookContainer) {{\n",
              "    x.observe(notebookContainer, {childList: true});\n",
              "}}\n",
              "\n",
              "// Listen for the clearing of the current output cell\n",
              "var outputEl = gd.closest('.output');\n",
              "if (outputEl) {{\n",
              "    x.observe(outputEl, {childList: true});\n",
              "}}\n",
              "\n",
              "                        })\n",
              "                };\n",
              "                });\n",
              "            </script>\n",
              "        </div>"
            ],
            "application/vnd.plotly.v1+json": {
              "data": [
                {
                  "opacity": 0.8,
                  "name": "A",
                  "yaxis": "y",
                  "histnorm": "",
                  "xaxis": "x",
                  "nbinsx": 10,
                  "histfunc": "count",
                  "marker": {
                    "color": "rgba(255, 153, 51, 1.0)",
                    "line": {
                      "color": "#4D5663",
                      "width": 1.3
                    }
                  },
                  "x": [
                    0.033388217440508905,
                    -0.6964117620033113,
                    -1.1582806081079497,
                    -0.2561921110075144,
                    -0.9396395616723018,
                    -1.8710775986328148,
                    1.1381065930965866,
                    0.2836313998887739,
                    0.8372825848844795,
                    0.5352062157485056,
                    -0.10570195697932709,
                    1.3932461971675265,
                    -1.0203377791552646,
                    1.4054722978405614,
                    1.2599083999065768,
                    -0.8173466696833639,
                    0.749141786818367,
                    0.32314069513049737,
                    0.7835951532562746,
                    -0.770714323484931,
                    1.3378126523628584,
                    -0.11036438568990392,
                    -1.2305529427537507,
                    0.11815301833078981,
                    0.11468249633092606,
                    -1.5570788214620102,
                    0.3298883731176722,
                    -0.1670048980170897,
                    -0.44610787272009117,
                    -1.040410419879342,
                    -2.134223059509332,
                    1.2055267598805925,
                    0.7833271951513457,
                    -0.30517818327250934,
                    -1.054797078733294,
                    1.0339469118287643,
                    0.031724802569528074,
                    0.46524479084304915,
                    0.2696133157308018,
                    -1.9022090457341743,
                    -0.672553302714725,
                    -1.4538759223619475,
                    -0.8952596564969528,
                    -1.6090791774457278,
                    -0.9556876902032667,
                    -1.2883809167343472,
                    -1.013453792978003,
                    -0.6001203860131052,
                    -0.42238651267056765,
                    -0.9170182467887845,
                    -0.18415000223704875,
                    0.18274248152898628,
                    1.142934386894334,
                    0.6890288189881617,
                    0.5124153344064991,
                    0.9954018120132386,
                    -0.27710289787528714,
                    0.5618092295029821,
                    -1.5853615513089843,
                    -0.0157622538163842,
                    0.0034350917010841247,
                    -1.1545937310589027,
                    -0.9052719576531694,
                    -0.6408810782085186,
                    -1.0539102470766974,
                    -1.6088884404905042,
                    1.4254864256297581,
                    -0.381852587029767,
                    0.49973553564455736,
                    0.12058127493662403,
                    0.10141909915549104,
                    -2.23702939333417,
                    1.1966390259865207,
                    -1.0238163568433811,
                    0.5306379570018278,
                    1.4703548194163234,
                    -0.3706618777461258,
                    -0.4550084839216992,
                    0.08172360222080535,
                    0.6328493435423694,
                    -1.1647795582446374,
                    1.2494878059546373,
                    1.0678653724911056,
                    0.37109684888001876,
                    -0.21332835621154117,
                    -0.36165792593448076,
                    -0.5427678072839484,
                    -0.4522924354445968,
                    0.7548666787430129,
                    -0.18127561554144686,
                    0.18500763008449855,
                    0.4227463117416283,
                    0.09356699424783808,
                    0.5616913468969047,
                    -0.8108851809052096,
                    -0.06592248187876751,
                    0.9053101300097707,
                    1.1852123122865834,
                    1.7821500045599021,
                    1.6772169106987314
                  ],
                  "type": "histogram",
                  "orientation": "v"
                },
                {
                  "name": "A",
                  "yaxis": "y2",
                  "text": "",
                  "y": [
                    0.033388217440508905,
                    -0.6964117620033113,
                    -1.1582806081079497,
                    -0.2561921110075144,
                    -0.9396395616723018,
                    -1.8710775986328148,
                    1.1381065930965866,
                    0.2836313998887739,
                    0.8372825848844795,
                    0.5352062157485056,
                    -0.10570195697932709,
                    1.3932461971675265,
                    -1.0203377791552646,
                    1.4054722978405614,
                    1.2599083999065768,
                    -0.8173466696833639,
                    0.749141786818367,
                    0.32314069513049737,
                    0.7835951532562746,
                    -0.770714323484931,
                    1.3378126523628584,
                    -0.11036438568990392,
                    -1.2305529427537507,
                    0.11815301833078981,
                    0.11468249633092606,
                    -1.5570788214620102,
                    0.3298883731176722,
                    -0.1670048980170897,
                    -0.44610787272009117,
                    -1.040410419879342,
                    -2.134223059509332,
                    1.2055267598805925,
                    0.7833271951513457,
                    -0.30517818327250934,
                    -1.054797078733294,
                    1.0339469118287643,
                    0.031724802569528074,
                    0.46524479084304915,
                    0.2696133157308018,
                    -1.9022090457341743,
                    -0.672553302714725,
                    -1.4538759223619475,
                    -0.8952596564969528,
                    -1.6090791774457278,
                    -0.9556876902032667,
                    -1.2883809167343472,
                    -1.013453792978003,
                    -0.6001203860131052,
                    -0.42238651267056765,
                    -0.9170182467887845,
                    -0.18415000223704875,
                    0.18274248152898628,
                    1.142934386894334,
                    0.6890288189881617,
                    0.5124153344064991,
                    0.9954018120132386,
                    -0.27710289787528714,
                    0.5618092295029821,
                    -1.5853615513089843,
                    -0.0157622538163842,
                    0.0034350917010841247,
                    -1.1545937310589027,
                    -0.9052719576531694,
                    -0.6408810782085186,
                    -1.0539102470766974,
                    -1.6088884404905042,
                    1.4254864256297581,
                    -0.381852587029767,
                    0.49973553564455736,
                    0.12058127493662403,
                    0.10141909915549104,
                    -2.23702939333417,
                    1.1966390259865207,
                    -1.0238163568433811,
                    0.5306379570018278,
                    1.4703548194163234,
                    -0.3706618777461258,
                    -0.4550084839216992,
                    0.08172360222080535,
                    0.6328493435423694,
                    -1.1647795582446374,
                    1.2494878059546373,
                    1.0678653724911056,
                    0.37109684888001876,
                    -0.21332835621154117,
                    -0.36165792593448076,
                    -0.5427678072839484,
                    -0.4522924354445968,
                    0.7548666787430129,
                    -0.18127561554144686,
                    0.18500763008449855,
                    0.4227463117416283,
                    0.09356699424783808,
                    0.5616913468969047,
                    -0.8108851809052096,
                    -0.06592248187876751,
                    0.9053101300097707,
                    1.1852123122865834,
                    1.7821500045599021,
                    1.6772169106987314
                  ],
                  "mode": "markers",
                  "xaxis": "x2",
                  "marker": {
                    "symbol": "circle",
                    "size": 2
                  },
                  "x": [
                    -0.3185819437242191,
                    0.017143553003232212,
                    -1.161883283271516,
                    -0.6704437820758866,
                    -0.4752021049002068,
                    0.8818848095813414,
                    -1.6113668454298233,
                    -0.33827338930798506,
                    -1.22976132791649,
                    -1.1088957196694917,
                    -0.6591281589852449,
                    -0.9959336166710657,
                    0.9843663632768888,
                    -0.8954963504718098,
                    -0.9708364965136446,
                    -0.3456105679762152,
                    -0.5363379641406554,
                    -0.347986706152008,
                    -1.9772259945605442,
                    -1.3146882448697077,
                    1.382190391435313,
                    0.4345969579360139,
                    0.30113552461211096,
                    -0.8470311410792175,
                    0.3685426426850477,
                    0.5951448453513402,
                    0.17061591052139344,
                    0.17415532756605645,
                    0.2981196168572048,
                    0.4977249129616586,
                    0.33480901130394974,
                    0.1868880359802086,
                    -1.6650149993841277,
                    -0.6404910513353013,
                    -0.8824072467179087,
                    -0.553742729869468,
                    0.36036163241066343,
                    -2.275974570734227,
                    -1.5874012126450154,
                    1.3419821073368021,
                    -1.4171003468926828,
                    1.231652765552878,
                    -1.8453235220960005,
                    -0.7197969325839411,
                    1.3226340184457743,
                    0.20947818537722288,
                    0.29165688844925786,
                    0.5883754850166348,
                    0.3683509795965926,
                    -0.3339353731153345,
                    1.309887025504271,
                    0.31546723226620027,
                    1.3263631277316312,
                    -0.34567806682641433,
                    -0.19141808194686688,
                    -0.4713020694872677,
                    0.8852804183445554,
                    -0.8576319218947199,
                    -0.9145682759871094,
                    -1.4002022553453086,
                    -0.1835398022198471,
                    0.9597120405836465,
                    0.7459121859140037,
                    0.9582724578902626,
                    0.2515689421160934,
                    -0.38993360906100594,
                    -1.2295245875026266,
                    -0.6031951925607657,
                    -2.681150844317574,
                    0.08570599518645991,
                    -0.30239374308582356,
                    -0.17549857467971453,
                    -0.34269764974175787,
                    -0.6967515592890964,
                    -0.6517567157566919,
                    -0.7432742339004702,
                    0.9679312814459848,
                    -0.10389313558341703,
                    0.6858706396566807,
                    -0.3944155036832106,
                    0.301036982440157,
                    1.5086902264625675,
                    -0.7373137660036858,
                    -0.22448726844840527,
                    -0.22652852888373978,
                    -1.0077169954080438,
                    1.249022242931242,
                    -0.09106059301916564,
                    1.2227833371035044,
                    1.1059491261446488,
                    -0.8637469439487155,
                    2.124637526257138,
                    0.07570566559288731,
                    -0.652759552671152,
                    -0.35136007142557557,
                    -0.42327448382840327,
                    1.2267554224089194,
                    0.46971004043741227,
                    0.5654883626864355,
                    1.3099927206532345
                  ],
                  "line": {
                    "color": "rgba(128, 128, 128, 1.0)",
                    "dash": "solid",
                    "shape": "linear",
                    "width": 1.3
                  },
                  "type": "scatter"
                },
                {
                  "name": "A",
                  "yaxis": "y3",
                  "text": "",
                  "y": [
                    0.033388217440508905,
                    -0.6964117620033113,
                    -1.1582806081079497,
                    -0.2561921110075144,
                    -0.9396395616723018,
                    -1.8710775986328148,
                    1.1381065930965866,
                    0.2836313998887739,
                    0.8372825848844795,
                    0.5352062157485056,
                    -0.10570195697932709,
                    1.3932461971675265,
                    -1.0203377791552646,
                    1.4054722978405614,
                    1.2599083999065768,
                    -0.8173466696833639,
                    0.749141786818367,
                    0.32314069513049737,
                    0.7835951532562746,
                    -0.770714323484931,
                    1.3378126523628584,
                    -0.11036438568990392,
                    -1.2305529427537507,
                    0.11815301833078981,
                    0.11468249633092606,
                    -1.5570788214620102,
                    0.3298883731176722,
                    -0.1670048980170897,
                    -0.44610787272009117,
                    -1.040410419879342,
                    -2.134223059509332,
                    1.2055267598805925,
                    0.7833271951513457,
                    -0.30517818327250934,
                    -1.054797078733294,
                    1.0339469118287643,
                    0.031724802569528074,
                    0.46524479084304915,
                    0.2696133157308018,
                    -1.9022090457341743,
                    -0.672553302714725,
                    -1.4538759223619475,
                    -0.8952596564969528,
                    -1.6090791774457278,
                    -0.9556876902032667,
                    -1.2883809167343472,
                    -1.013453792978003,
                    -0.6001203860131052,
                    -0.42238651267056765,
                    -0.9170182467887845,
                    -0.18415000223704875,
                    0.18274248152898628,
                    1.142934386894334,
                    0.6890288189881617,
                    0.5124153344064991,
                    0.9954018120132386,
                    -0.27710289787528714,
                    0.5618092295029821,
                    -1.5853615513089843,
                    -0.0157622538163842,
                    0.0034350917010841247,
                    -1.1545937310589027,
                    -0.9052719576531694,
                    -0.6408810782085186,
                    -1.0539102470766974,
                    -1.6088884404905042,
                    1.4254864256297581,
                    -0.381852587029767,
                    0.49973553564455736,
                    0.12058127493662403,
                    0.10141909915549104,
                    -2.23702939333417,
                    1.1966390259865207,
                    -1.0238163568433811,
                    0.5306379570018278,
                    1.4703548194163234,
                    -0.3706618777461258,
                    -0.4550084839216992,
                    0.08172360222080535,
                    0.6328493435423694,
                    -1.1647795582446374,
                    1.2494878059546373,
                    1.0678653724911056,
                    0.37109684888001876,
                    -0.21332835621154117,
                    -0.36165792593448076,
                    -0.5427678072839484,
                    -0.4522924354445968,
                    0.7548666787430129,
                    -0.18127561554144686,
                    0.18500763008449855,
                    0.4227463117416283,
                    0.09356699424783808,
                    0.5616913468969047,
                    -0.8108851809052096,
                    -0.06592248187876751,
                    0.9053101300097707,
                    1.1852123122865834,
                    1.7821500045599021,
                    1.6772169106987314
                  ],
                  "mode": "markers",
                  "xaxis": "x3",
                  "marker": {
                    "symbol": "circle",
                    "size": 2
                  },
                  "x": [
                    1.0182954809449183,
                    0.3794523439700212,
                    0.08190652367893733,
                    0.4060976395887609,
                    1.8822480524904268,
                    -1.1199277178957312,
                    0.7520408186784354,
                    -0.6331838831946867,
                    -0.17975714925589653,
                    0.20581278328232264,
                    -0.9206415216715144,
                    -0.158187219487602,
                    0.5919718158919391,
                    -0.6949331488381687,
                    0.9515420039403529,
                    -0.4494443621898676,
                    -0.9376624498873257,
                    1.215580228812475,
                    1.22299128467945,
                    -0.22091178080380783,
                    1.3001568912685888,
                    -0.18565026756375427,
                    0.6146907772970375,
                    -0.7808293908387653,
                    -0.9694216493104032,
                    0.256562999359,
                    -0.7079856269484804,
                    1.0305534613508498,
                    -0.2835192015206089,
                    0.7303941550936714,
                    0.16276808258431305,
                    -0.043310863923024814,
                    1.2348333984569575,
                    0.0007949050313371751,
                    -0.5246867788786806,
                    -1.1188409262101247,
                    -1.3402419478981256,
                    -0.07588887673591871,
                    -0.2720143665160607,
                    0.0958428080895275,
                    -0.6450366023567586,
                    0.15577856835919768,
                    -0.4360533301593279,
                    0.28282047647932523,
                    0.5202634100016091,
                    -0.040843513287435976,
                    -1.2779500861482962,
                    -0.7033696039532986,
                    -0.1299544172162236,
                    0.42500834327584436,
                    -2.1885844492814046,
                    -0.6862849450430499,
                    1.182500876411005,
                    -0.6959730281974437,
                    -0.8944211587337906,
                    -0.30903749460634994,
                    0.8720881224397372,
                    -0.7160874443335539,
                    0.5953442187035263,
                    0.03444748841613024,
                    -0.7903402084528796,
                    1.6461086977841073,
                    -0.7450716631544378,
                    -1.5138453680566872,
                    0.5864158277439976,
                    0.2044839284652703,
                    -0.37970068784926886,
                    -0.4930577907258506,
                    0.0014749123077378993,
                    1.8374982646911697,
                    -0.13669230541614008,
                    -0.1918502069627978,
                    0.4276938637716622,
                    0.44461120727908987,
                    -1.191864461171342,
                    0.34935090412853315,
                    -1.6960659723973335,
                    0.5628706907746021,
                    0.7957074439625802,
                    0.8319143980525842,
                    0.5628102050643603,
                    -1.2533344015247219,
                    1.462788980892577,
                    0.1903518081062495,
                    -0.4226318942957426,
                    0.8000540760912183,
                    0.7774041770151964,
                    0.21851412378817658,
                    -0.3872888987741951,
                    -0.38193190011498906,
                    -0.4588068675220083,
                    0.12212046334608344,
                    0.7342345571086851,
                    0.3989454139784152,
                    0.08242688746543864,
                    -0.0022928649831613942,
                    1.699568450254879,
                    -1.2052758012027767,
                    -0.6038212323418088,
                    0.6989754367807544
                  ],
                  "line": {
                    "color": "rgba(128, 128, 128, 1.0)",
                    "dash": "solid",
                    "shape": "linear",
                    "width": 1.3
                  },
                  "type": "scatter"
                },
                {
                  "name": "A",
                  "yaxis": "y4",
                  "text": "",
                  "y": [
                    0.033388217440508905,
                    -0.6964117620033113,
                    -1.1582806081079497,
                    -0.2561921110075144,
                    -0.9396395616723018,
                    -1.8710775986328148,
                    1.1381065930965866,
                    0.2836313998887739,
                    0.8372825848844795,
                    0.5352062157485056,
                    -0.10570195697932709,
                    1.3932461971675265,
                    -1.0203377791552646,
                    1.4054722978405614,
                    1.2599083999065768,
                    -0.8173466696833639,
                    0.749141786818367,
                    0.32314069513049737,
                    0.7835951532562746,
                    -0.770714323484931,
                    1.3378126523628584,
                    -0.11036438568990392,
                    -1.2305529427537507,
                    0.11815301833078981,
                    0.11468249633092606,
                    -1.5570788214620102,
                    0.3298883731176722,
                    -0.1670048980170897,
                    -0.44610787272009117,
                    -1.040410419879342,
                    -2.134223059509332,
                    1.2055267598805925,
                    0.7833271951513457,
                    -0.30517818327250934,
                    -1.054797078733294,
                    1.0339469118287643,
                    0.031724802569528074,
                    0.46524479084304915,
                    0.2696133157308018,
                    -1.9022090457341743,
                    -0.672553302714725,
                    -1.4538759223619475,
                    -0.8952596564969528,
                    -1.6090791774457278,
                    -0.9556876902032667,
                    -1.2883809167343472,
                    -1.013453792978003,
                    -0.6001203860131052,
                    -0.42238651267056765,
                    -0.9170182467887845,
                    -0.18415000223704875,
                    0.18274248152898628,
                    1.142934386894334,
                    0.6890288189881617,
                    0.5124153344064991,
                    0.9954018120132386,
                    -0.27710289787528714,
                    0.5618092295029821,
                    -1.5853615513089843,
                    -0.0157622538163842,
                    0.0034350917010841247,
                    -1.1545937310589027,
                    -0.9052719576531694,
                    -0.6408810782085186,
                    -1.0539102470766974,
                    -1.6088884404905042,
                    1.4254864256297581,
                    -0.381852587029767,
                    0.49973553564455736,
                    0.12058127493662403,
                    0.10141909915549104,
                    -2.23702939333417,
                    1.1966390259865207,
                    -1.0238163568433811,
                    0.5306379570018278,
                    1.4703548194163234,
                    -0.3706618777461258,
                    -0.4550084839216992,
                    0.08172360222080535,
                    0.6328493435423694,
                    -1.1647795582446374,
                    1.2494878059546373,
                    1.0678653724911056,
                    0.37109684888001876,
                    -0.21332835621154117,
                    -0.36165792593448076,
                    -0.5427678072839484,
                    -0.4522924354445968,
                    0.7548666787430129,
                    -0.18127561554144686,
                    0.18500763008449855,
                    0.4227463117416283,
                    0.09356699424783808,
                    0.5616913468969047,
                    -0.8108851809052096,
                    -0.06592248187876751,
                    0.9053101300097707,
                    1.1852123122865834,
                    1.7821500045599021,
                    1.6772169106987314
                  ],
                  "mode": "markers",
                  "xaxis": "x4",
                  "marker": {
                    "symbol": "circle",
                    "size": 2
                  },
                  "x": [
                    -1.8571136111417104,
                    -1.2929803725979587,
                    0.20561240856564708,
                    -1.7826569545732074,
                    0.36893489693853987,
                    -2.290059244742498,
                    -0.1911249252271533,
                    0.5236185166727625,
                    0.5899488231677366,
                    -1.3241496820790173,
                    1.6861347434484786,
                    -0.4399057043982191,
                    -1.3669681004416905,
                    -0.9028743059237215,
                    -0.09325036085177456,
                    0.280789333174742,
                    -1.459304199149204,
                    -2.1884382975915995,
                    -0.528999666571028,
                    1.2437336136919452,
                    -0.020657057724462597,
                    -0.353872154266421,
                    -0.897993582574596,
                    -0.017025339970917843,
                    -0.20558985487071055,
                    0.6469397282058131,
                    0.9929278936820563,
                    -0.03562031828604396,
                    1.3188537541797127,
                    0.5294015240519836,
                    0.1788681022406548,
                    -2.7249712086013367,
                    -0.10469633823990536,
                    -0.3299367522259721,
                    -1.4903303039003206,
                    0.9689750855602837,
                    0.9984033659673972,
                    0.648012535372687,
                    -0.775307176022823,
                    -0.3652690937238262,
                    -0.41931483841559863,
                    0.5828936815594129,
                    0.7270952914903812,
                    -0.3856341136158816,
                    -0.8864597826318832,
                    1.10148403693856,
                    1.1956124718032188,
                    0.30048298039636223,
                    -0.4019068237328676,
                    2.5319740416688026,
                    2.14714538343826,
                    0.49743557883072675,
                    -0.8199651072805834,
                    0.006857191362686243,
                    -0.7690327399872606,
                    0.2172719785518792,
                    -0.2311323722336546,
                    -0.16489298283367107,
                    0.852171081358844,
                    0.7591667025255826,
                    0.13467105505109334,
                    -0.977029151573115,
                    0.763546288536521,
                    -1.3430638347662076,
                    -0.8952301949472096,
                    -2.284450645749927,
                    0.8237278053146003,
                    0.4897196387265957,
                    -0.09698778535217137,
                    0.3036876818094441,
                    2.572159295231823,
                    -1.3688632995193528,
                    0.3480995132046122,
                    -0.715482119345779,
                    -0.22407665777146912,
                    -2.8952030766110473,
                    1.1152970688875075,
                    -0.40533481928326837,
                    0.6155186509320042,
                    1.186699957812302,
                    -0.31501332318615505,
                    0.41068369321607523,
                    -0.7133845944974545,
                    -0.9166980916968319,
                    -0.9158836591238659,
                    -0.8768169082910535,
                    -0.6655457719648636,
                    1.522949002308957,
                    0.7635046451431491,
                    -0.9160553350563346,
                    0.9818650844125953,
                    0.9817757426707524,
                    1.4564042531030386,
                    0.7475502969248169,
                    -0.4367843500387564,
                    0.9813506593996986,
                    1.5849208046161924,
                    -0.22726933321225884,
                    -0.6490275283612017,
                    -0.6857300547884588
                  ],
                  "line": {
                    "color": "rgba(128, 128, 128, 1.0)",
                    "dash": "solid",
                    "shape": "linear",
                    "width": 1.3
                  },
                  "type": "scatter"
                },
                {
                  "name": "B",
                  "yaxis": "y5",
                  "text": "",
                  "y": [
                    -0.3185819437242191,
                    0.017143553003232212,
                    -1.161883283271516,
                    -0.6704437820758866,
                    -0.4752021049002068,
                    0.8818848095813414,
                    -1.6113668454298233,
                    -0.33827338930798506,
                    -1.22976132791649,
                    -1.1088957196694917,
                    -0.6591281589852449,
                    -0.9959336166710657,
                    0.9843663632768888,
                    -0.8954963504718098,
                    -0.9708364965136446,
                    -0.3456105679762152,
                    -0.5363379641406554,
                    -0.347986706152008,
                    -1.9772259945605442,
                    -1.3146882448697077,
                    1.382190391435313,
                    0.4345969579360139,
                    0.30113552461211096,
                    -0.8470311410792175,
                    0.3685426426850477,
                    0.5951448453513402,
                    0.17061591052139344,
                    0.17415532756605645,
                    0.2981196168572048,
                    0.4977249129616586,
                    0.33480901130394974,
                    0.1868880359802086,
                    -1.6650149993841277,
                    -0.6404910513353013,
                    -0.8824072467179087,
                    -0.553742729869468,
                    0.36036163241066343,
                    -2.275974570734227,
                    -1.5874012126450154,
                    1.3419821073368021,
                    -1.4171003468926828,
                    1.231652765552878,
                    -1.8453235220960005,
                    -0.7197969325839411,
                    1.3226340184457743,
                    0.20947818537722288,
                    0.29165688844925786,
                    0.5883754850166348,
                    0.3683509795965926,
                    -0.3339353731153345,
                    1.309887025504271,
                    0.31546723226620027,
                    1.3263631277316312,
                    -0.34567806682641433,
                    -0.19141808194686688,
                    -0.4713020694872677,
                    0.8852804183445554,
                    -0.8576319218947199,
                    -0.9145682759871094,
                    -1.4002022553453086,
                    -0.1835398022198471,
                    0.9597120405836465,
                    0.7459121859140037,
                    0.9582724578902626,
                    0.2515689421160934,
                    -0.38993360906100594,
                    -1.2295245875026266,
                    -0.6031951925607657,
                    -2.681150844317574,
                    0.08570599518645991,
                    -0.30239374308582356,
                    -0.17549857467971453,
                    -0.34269764974175787,
                    -0.6967515592890964,
                    -0.6517567157566919,
                    -0.7432742339004702,
                    0.9679312814459848,
                    -0.10389313558341703,
                    0.6858706396566807,
                    -0.3944155036832106,
                    0.301036982440157,
                    1.5086902264625675,
                    -0.7373137660036858,
                    -0.22448726844840527,
                    -0.22652852888373978,
                    -1.0077169954080438,
                    1.249022242931242,
                    -0.09106059301916564,
                    1.2227833371035044,
                    1.1059491261446488,
                    -0.8637469439487155,
                    2.124637526257138,
                    0.07570566559288731,
                    -0.652759552671152,
                    -0.35136007142557557,
                    -0.42327448382840327,
                    1.2267554224089194,
                    0.46971004043741227,
                    0.5654883626864355,
                    1.3099927206532345
                  ],
                  "mode": "markers",
                  "xaxis": "x5",
                  "marker": {
                    "symbol": "circle",
                    "size": 2
                  },
                  "x": [
                    0.033388217440508905,
                    -0.6964117620033113,
                    -1.1582806081079497,
                    -0.2561921110075144,
                    -0.9396395616723018,
                    -1.8710775986328148,
                    1.1381065930965866,
                    0.2836313998887739,
                    0.8372825848844795,
                    0.5352062157485056,
                    -0.10570195697932709,
                    1.3932461971675265,
                    -1.0203377791552646,
                    1.4054722978405614,
                    1.2599083999065768,
                    -0.8173466696833639,
                    0.749141786818367,
                    0.32314069513049737,
                    0.7835951532562746,
                    -0.770714323484931,
                    1.3378126523628584,
                    -0.11036438568990392,
                    -1.2305529427537507,
                    0.11815301833078981,
                    0.11468249633092606,
                    -1.5570788214620102,
                    0.3298883731176722,
                    -0.1670048980170897,
                    -0.44610787272009117,
                    -1.040410419879342,
                    -2.134223059509332,
                    1.2055267598805925,
                    0.7833271951513457,
                    -0.30517818327250934,
                    -1.054797078733294,
                    1.0339469118287643,
                    0.031724802569528074,
                    0.46524479084304915,
                    0.2696133157308018,
                    -1.9022090457341743,
                    -0.672553302714725,
                    -1.4538759223619475,
                    -0.8952596564969528,
                    -1.6090791774457278,
                    -0.9556876902032667,
                    -1.2883809167343472,
                    -1.013453792978003,
                    -0.6001203860131052,
                    -0.42238651267056765,
                    -0.9170182467887845,
                    -0.18415000223704875,
                    0.18274248152898628,
                    1.142934386894334,
                    0.6890288189881617,
                    0.5124153344064991,
                    0.9954018120132386,
                    -0.27710289787528714,
                    0.5618092295029821,
                    -1.5853615513089843,
                    -0.0157622538163842,
                    0.0034350917010841247,
                    -1.1545937310589027,
                    -0.9052719576531694,
                    -0.6408810782085186,
                    -1.0539102470766974,
                    -1.6088884404905042,
                    1.4254864256297581,
                    -0.381852587029767,
                    0.49973553564455736,
                    0.12058127493662403,
                    0.10141909915549104,
                    -2.23702939333417,
                    1.1966390259865207,
                    -1.0238163568433811,
                    0.5306379570018278,
                    1.4703548194163234,
                    -0.3706618777461258,
                    -0.4550084839216992,
                    0.08172360222080535,
                    0.6328493435423694,
                    -1.1647795582446374,
                    1.2494878059546373,
                    1.0678653724911056,
                    0.37109684888001876,
                    -0.21332835621154117,
                    -0.36165792593448076,
                    -0.5427678072839484,
                    -0.4522924354445968,
                    0.7548666787430129,
                    -0.18127561554144686,
                    0.18500763008449855,
                    0.4227463117416283,
                    0.09356699424783808,
                    0.5616913468969047,
                    -0.8108851809052096,
                    -0.06592248187876751,
                    0.9053101300097707,
                    1.1852123122865834,
                    1.7821500045599021,
                    1.6772169106987314
                  ],
                  "line": {
                    "color": "rgba(128, 128, 128, 1.0)",
                    "dash": "solid",
                    "shape": "linear",
                    "width": 1.3
                  },
                  "type": "scatter"
                },
                {
                  "opacity": 0.8,
                  "name": "B",
                  "yaxis": "y6",
                  "histnorm": "",
                  "xaxis": "x6",
                  "nbinsx": 10,
                  "histfunc": "count",
                  "marker": {
                    "color": "rgba(55, 128, 191, 1.0)",
                    "line": {
                      "color": "#4D5663",
                      "width": 1.3
                    }
                  },
                  "x": [
                    -0.3185819437242191,
                    0.017143553003232212,
                    -1.161883283271516,
                    -0.6704437820758866,
                    -0.4752021049002068,
                    0.8818848095813414,
                    -1.6113668454298233,
                    -0.33827338930798506,
                    -1.22976132791649,
                    -1.1088957196694917,
                    -0.6591281589852449,
                    -0.9959336166710657,
                    0.9843663632768888,
                    -0.8954963504718098,
                    -0.9708364965136446,
                    -0.3456105679762152,
                    -0.5363379641406554,
                    -0.347986706152008,
                    -1.9772259945605442,
                    -1.3146882448697077,
                    1.382190391435313,
                    0.4345969579360139,
                    0.30113552461211096,
                    -0.8470311410792175,
                    0.3685426426850477,
                    0.5951448453513402,
                    0.17061591052139344,
                    0.17415532756605645,
                    0.2981196168572048,
                    0.4977249129616586,
                    0.33480901130394974,
                    0.1868880359802086,
                    -1.6650149993841277,
                    -0.6404910513353013,
                    -0.8824072467179087,
                    -0.553742729869468,
                    0.36036163241066343,
                    -2.275974570734227,
                    -1.5874012126450154,
                    1.3419821073368021,
                    -1.4171003468926828,
                    1.231652765552878,
                    -1.8453235220960005,
                    -0.7197969325839411,
                    1.3226340184457743,
                    0.20947818537722288,
                    0.29165688844925786,
                    0.5883754850166348,
                    0.3683509795965926,
                    -0.3339353731153345,
                    1.309887025504271,
                    0.31546723226620027,
                    1.3263631277316312,
                    -0.34567806682641433,
                    -0.19141808194686688,
                    -0.4713020694872677,
                    0.8852804183445554,
                    -0.8576319218947199,
                    -0.9145682759871094,
                    -1.4002022553453086,
                    -0.1835398022198471,
                    0.9597120405836465,
                    0.7459121859140037,
                    0.9582724578902626,
                    0.2515689421160934,
                    -0.38993360906100594,
                    -1.2295245875026266,
                    -0.6031951925607657,
                    -2.681150844317574,
                    0.08570599518645991,
                    -0.30239374308582356,
                    -0.17549857467971453,
                    -0.34269764974175787,
                    -0.6967515592890964,
                    -0.6517567157566919,
                    -0.7432742339004702,
                    0.9679312814459848,
                    -0.10389313558341703,
                    0.6858706396566807,
                    -0.3944155036832106,
                    0.301036982440157,
                    1.5086902264625675,
                    -0.7373137660036858,
                    -0.22448726844840527,
                    -0.22652852888373978,
                    -1.0077169954080438,
                    1.249022242931242,
                    -0.09106059301916564,
                    1.2227833371035044,
                    1.1059491261446488,
                    -0.8637469439487155,
                    2.124637526257138,
                    0.07570566559288731,
                    -0.652759552671152,
                    -0.35136007142557557,
                    -0.42327448382840327,
                    1.2267554224089194,
                    0.46971004043741227,
                    0.5654883626864355,
                    1.3099927206532345
                  ],
                  "type": "histogram",
                  "orientation": "v"
                },
                {
                  "name": "B",
                  "yaxis": "y7",
                  "text": "",
                  "y": [
                    -0.3185819437242191,
                    0.017143553003232212,
                    -1.161883283271516,
                    -0.6704437820758866,
                    -0.4752021049002068,
                    0.8818848095813414,
                    -1.6113668454298233,
                    -0.33827338930798506,
                    -1.22976132791649,
                    -1.1088957196694917,
                    -0.6591281589852449,
                    -0.9959336166710657,
                    0.9843663632768888,
                    -0.8954963504718098,
                    -0.9708364965136446,
                    -0.3456105679762152,
                    -0.5363379641406554,
                    -0.347986706152008,
                    -1.9772259945605442,
                    -1.3146882448697077,
                    1.382190391435313,
                    0.4345969579360139,
                    0.30113552461211096,
                    -0.8470311410792175,
                    0.3685426426850477,
                    0.5951448453513402,
                    0.17061591052139344,
                    0.17415532756605645,
                    0.2981196168572048,
                    0.4977249129616586,
                    0.33480901130394974,
                    0.1868880359802086,
                    -1.6650149993841277,
                    -0.6404910513353013,
                    -0.8824072467179087,
                    -0.553742729869468,
                    0.36036163241066343,
                    -2.275974570734227,
                    -1.5874012126450154,
                    1.3419821073368021,
                    -1.4171003468926828,
                    1.231652765552878,
                    -1.8453235220960005,
                    -0.7197969325839411,
                    1.3226340184457743,
                    0.20947818537722288,
                    0.29165688844925786,
                    0.5883754850166348,
                    0.3683509795965926,
                    -0.3339353731153345,
                    1.309887025504271,
                    0.31546723226620027,
                    1.3263631277316312,
                    -0.34567806682641433,
                    -0.19141808194686688,
                    -0.4713020694872677,
                    0.8852804183445554,
                    -0.8576319218947199,
                    -0.9145682759871094,
                    -1.4002022553453086,
                    -0.1835398022198471,
                    0.9597120405836465,
                    0.7459121859140037,
                    0.9582724578902626,
                    0.2515689421160934,
                    -0.38993360906100594,
                    -1.2295245875026266,
                    -0.6031951925607657,
                    -2.681150844317574,
                    0.08570599518645991,
                    -0.30239374308582356,
                    -0.17549857467971453,
                    -0.34269764974175787,
                    -0.6967515592890964,
                    -0.6517567157566919,
                    -0.7432742339004702,
                    0.9679312814459848,
                    -0.10389313558341703,
                    0.6858706396566807,
                    -0.3944155036832106,
                    0.301036982440157,
                    1.5086902264625675,
                    -0.7373137660036858,
                    -0.22448726844840527,
                    -0.22652852888373978,
                    -1.0077169954080438,
                    1.249022242931242,
                    -0.09106059301916564,
                    1.2227833371035044,
                    1.1059491261446488,
                    -0.8637469439487155,
                    2.124637526257138,
                    0.07570566559288731,
                    -0.652759552671152,
                    -0.35136007142557557,
                    -0.42327448382840327,
                    1.2267554224089194,
                    0.46971004043741227,
                    0.5654883626864355,
                    1.3099927206532345
                  ],
                  "mode": "markers",
                  "xaxis": "x7",
                  "marker": {
                    "symbol": "circle",
                    "size": 2
                  },
                  "x": [
                    1.0182954809449183,
                    0.3794523439700212,
                    0.08190652367893733,
                    0.4060976395887609,
                    1.8822480524904268,
                    -1.1199277178957312,
                    0.7520408186784354,
                    -0.6331838831946867,
                    -0.17975714925589653,
                    0.20581278328232264,
                    -0.9206415216715144,
                    -0.158187219487602,
                    0.5919718158919391,
                    -0.6949331488381687,
                    0.9515420039403529,
                    -0.4494443621898676,
                    -0.9376624498873257,
                    1.215580228812475,
                    1.22299128467945,
                    -0.22091178080380783,
                    1.3001568912685888,
                    -0.18565026756375427,
                    0.6146907772970375,
                    -0.7808293908387653,
                    -0.9694216493104032,
                    0.256562999359,
                    -0.7079856269484804,
                    1.0305534613508498,
                    -0.2835192015206089,
                    0.7303941550936714,
                    0.16276808258431305,
                    -0.043310863923024814,
                    1.2348333984569575,
                    0.0007949050313371751,
                    -0.5246867788786806,
                    -1.1188409262101247,
                    -1.3402419478981256,
                    -0.07588887673591871,
                    -0.2720143665160607,
                    0.0958428080895275,
                    -0.6450366023567586,
                    0.15577856835919768,
                    -0.4360533301593279,
                    0.28282047647932523,
                    0.5202634100016091,
                    -0.040843513287435976,
                    -1.2779500861482962,
                    -0.7033696039532986,
                    -0.1299544172162236,
                    0.42500834327584436,
                    -2.1885844492814046,
                    -0.6862849450430499,
                    1.182500876411005,
                    -0.6959730281974437,
                    -0.8944211587337906,
                    -0.30903749460634994,
                    0.8720881224397372,
                    -0.7160874443335539,
                    0.5953442187035263,
                    0.03444748841613024,
                    -0.7903402084528796,
                    1.6461086977841073,
                    -0.7450716631544378,
                    -1.5138453680566872,
                    0.5864158277439976,
                    0.2044839284652703,
                    -0.37970068784926886,
                    -0.4930577907258506,
                    0.0014749123077378993,
                    1.8374982646911697,
                    -0.13669230541614008,
                    -0.1918502069627978,
                    0.4276938637716622,
                    0.44461120727908987,
                    -1.191864461171342,
                    0.34935090412853315,
                    -1.6960659723973335,
                    0.5628706907746021,
                    0.7957074439625802,
                    0.8319143980525842,
                    0.5628102050643603,
                    -1.2533344015247219,
                    1.462788980892577,
                    0.1903518081062495,
                    -0.4226318942957426,
                    0.8000540760912183,
                    0.7774041770151964,
                    0.21851412378817658,
                    -0.3872888987741951,
                    -0.38193190011498906,
                    -0.4588068675220083,
                    0.12212046334608344,
                    0.7342345571086851,
                    0.3989454139784152,
                    0.08242688746543864,
                    -0.0022928649831613942,
                    1.699568450254879,
                    -1.2052758012027767,
                    -0.6038212323418088,
                    0.6989754367807544
                  ],
                  "line": {
                    "color": "rgba(128, 128, 128, 1.0)",
                    "dash": "solid",
                    "shape": "linear",
                    "width": 1.3
                  },
                  "type": "scatter"
                },
                {
                  "name": "B",
                  "yaxis": "y8",
                  "text": "",
                  "y": [
                    -0.3185819437242191,
                    0.017143553003232212,
                    -1.161883283271516,
                    -0.6704437820758866,
                    -0.4752021049002068,
                    0.8818848095813414,
                    -1.6113668454298233,
                    -0.33827338930798506,
                    -1.22976132791649,
                    -1.1088957196694917,
                    -0.6591281589852449,
                    -0.9959336166710657,
                    0.9843663632768888,
                    -0.8954963504718098,
                    -0.9708364965136446,
                    -0.3456105679762152,
                    -0.5363379641406554,
                    -0.347986706152008,
                    -1.9772259945605442,
                    -1.3146882448697077,
                    1.382190391435313,
                    0.4345969579360139,
                    0.30113552461211096,
                    -0.8470311410792175,
                    0.3685426426850477,
                    0.5951448453513402,
                    0.17061591052139344,
                    0.17415532756605645,
                    0.2981196168572048,
                    0.4977249129616586,
                    0.33480901130394974,
                    0.1868880359802086,
                    -1.6650149993841277,
                    -0.6404910513353013,
                    -0.8824072467179087,
                    -0.553742729869468,
                    0.36036163241066343,
                    -2.275974570734227,
                    -1.5874012126450154,
                    1.3419821073368021,
                    -1.4171003468926828,
                    1.231652765552878,
                    -1.8453235220960005,
                    -0.7197969325839411,
                    1.3226340184457743,
                    0.20947818537722288,
                    0.29165688844925786,
                    0.5883754850166348,
                    0.3683509795965926,
                    -0.3339353731153345,
                    1.309887025504271,
                    0.31546723226620027,
                    1.3263631277316312,
                    -0.34567806682641433,
                    -0.19141808194686688,
                    -0.4713020694872677,
                    0.8852804183445554,
                    -0.8576319218947199,
                    -0.9145682759871094,
                    -1.4002022553453086,
                    -0.1835398022198471,
                    0.9597120405836465,
                    0.7459121859140037,
                    0.9582724578902626,
                    0.2515689421160934,
                    -0.38993360906100594,
                    -1.2295245875026266,
                    -0.6031951925607657,
                    -2.681150844317574,
                    0.08570599518645991,
                    -0.30239374308582356,
                    -0.17549857467971453,
                    -0.34269764974175787,
                    -0.6967515592890964,
                    -0.6517567157566919,
                    -0.7432742339004702,
                    0.9679312814459848,
                    -0.10389313558341703,
                    0.6858706396566807,
                    -0.3944155036832106,
                    0.301036982440157,
                    1.5086902264625675,
                    -0.7373137660036858,
                    -0.22448726844840527,
                    -0.22652852888373978,
                    -1.0077169954080438,
                    1.249022242931242,
                    -0.09106059301916564,
                    1.2227833371035044,
                    1.1059491261446488,
                    -0.8637469439487155,
                    2.124637526257138,
                    0.07570566559288731,
                    -0.652759552671152,
                    -0.35136007142557557,
                    -0.42327448382840327,
                    1.2267554224089194,
                    0.46971004043741227,
                    0.5654883626864355,
                    1.3099927206532345
                  ],
                  "mode": "markers",
                  "xaxis": "x8",
                  "marker": {
                    "symbol": "circle",
                    "size": 2
                  },
                  "x": [
                    -1.8571136111417104,
                    -1.2929803725979587,
                    0.20561240856564708,
                    -1.7826569545732074,
                    0.36893489693853987,
                    -2.290059244742498,
                    -0.1911249252271533,
                    0.5236185166727625,
                    0.5899488231677366,
                    -1.3241496820790173,
                    1.6861347434484786,
                    -0.4399057043982191,
                    -1.3669681004416905,
                    -0.9028743059237215,
                    -0.09325036085177456,
                    0.280789333174742,
                    -1.459304199149204,
                    -2.1884382975915995,
                    -0.528999666571028,
                    1.2437336136919452,
                    -0.020657057724462597,
                    -0.353872154266421,
                    -0.897993582574596,
                    -0.017025339970917843,
                    -0.20558985487071055,
                    0.6469397282058131,
                    0.9929278936820563,
                    -0.03562031828604396,
                    1.3188537541797127,
                    0.5294015240519836,
                    0.1788681022406548,
                    -2.7249712086013367,
                    -0.10469633823990536,
                    -0.3299367522259721,
                    -1.4903303039003206,
                    0.9689750855602837,
                    0.9984033659673972,
                    0.648012535372687,
                    -0.775307176022823,
                    -0.3652690937238262,
                    -0.41931483841559863,
                    0.5828936815594129,
                    0.7270952914903812,
                    -0.3856341136158816,
                    -0.8864597826318832,
                    1.10148403693856,
                    1.1956124718032188,
                    0.30048298039636223,
                    -0.4019068237328676,
                    2.5319740416688026,
                    2.14714538343826,
                    0.49743557883072675,
                    -0.8199651072805834,
                    0.006857191362686243,
                    -0.7690327399872606,
                    0.2172719785518792,
                    -0.2311323722336546,
                    -0.16489298283367107,
                    0.852171081358844,
                    0.7591667025255826,
                    0.13467105505109334,
                    -0.977029151573115,
                    0.763546288536521,
                    -1.3430638347662076,
                    -0.8952301949472096,
                    -2.284450645749927,
                    0.8237278053146003,
                    0.4897196387265957,
                    -0.09698778535217137,
                    0.3036876818094441,
                    2.572159295231823,
                    -1.3688632995193528,
                    0.3480995132046122,
                    -0.715482119345779,
                    -0.22407665777146912,
                    -2.8952030766110473,
                    1.1152970688875075,
                    -0.40533481928326837,
                    0.6155186509320042,
                    1.186699957812302,
                    -0.31501332318615505,
                    0.41068369321607523,
                    -0.7133845944974545,
                    -0.9166980916968319,
                    -0.9158836591238659,
                    -0.8768169082910535,
                    -0.6655457719648636,
                    1.522949002308957,
                    0.7635046451431491,
                    -0.9160553350563346,
                    0.9818650844125953,
                    0.9817757426707524,
                    1.4564042531030386,
                    0.7475502969248169,
                    -0.4367843500387564,
                    0.9813506593996986,
                    1.5849208046161924,
                    -0.22726933321225884,
                    -0.6490275283612017,
                    -0.6857300547884588
                  ],
                  "line": {
                    "color": "rgba(128, 128, 128, 1.0)",
                    "dash": "solid",
                    "shape": "linear",
                    "width": 1.3
                  },
                  "type": "scatter"
                },
                {
                  "name": "C",
                  "yaxis": "y9",
                  "text": "",
                  "y": [
                    1.0182954809449183,
                    0.3794523439700212,
                    0.08190652367893733,
                    0.4060976395887609,
                    1.8822480524904268,
                    -1.1199277178957312,
                    0.7520408186784354,
                    -0.6331838831946867,
                    -0.17975714925589653,
                    0.20581278328232264,
                    -0.9206415216715144,
                    -0.158187219487602,
                    0.5919718158919391,
                    -0.6949331488381687,
                    0.9515420039403529,
                    -0.4494443621898676,
                    -0.9376624498873257,
                    1.215580228812475,
                    1.22299128467945,
                    -0.22091178080380783,
                    1.3001568912685888,
                    -0.18565026756375427,
                    0.6146907772970375,
                    -0.7808293908387653,
                    -0.9694216493104032,
                    0.256562999359,
                    -0.7079856269484804,
                    1.0305534613508498,
                    -0.2835192015206089,
                    0.7303941550936714,
                    0.16276808258431305,
                    -0.043310863923024814,
                    1.2348333984569575,
                    0.0007949050313371751,
                    -0.5246867788786806,
                    -1.1188409262101247,
                    -1.3402419478981256,
                    -0.07588887673591871,
                    -0.2720143665160607,
                    0.0958428080895275,
                    -0.6450366023567586,
                    0.15577856835919768,
                    -0.4360533301593279,
                    0.28282047647932523,
                    0.5202634100016091,
                    -0.040843513287435976,
                    -1.2779500861482962,
                    -0.7033696039532986,
                    -0.1299544172162236,
                    0.42500834327584436,
                    -2.1885844492814046,
                    -0.6862849450430499,
                    1.182500876411005,
                    -0.6959730281974437,
                    -0.8944211587337906,
                    -0.30903749460634994,
                    0.8720881224397372,
                    -0.7160874443335539,
                    0.5953442187035263,
                    0.03444748841613024,
                    -0.7903402084528796,
                    1.6461086977841073,
                    -0.7450716631544378,
                    -1.5138453680566872,
                    0.5864158277439976,
                    0.2044839284652703,
                    -0.37970068784926886,
                    -0.4930577907258506,
                    0.0014749123077378993,
                    1.8374982646911697,
                    -0.13669230541614008,
                    -0.1918502069627978,
                    0.4276938637716622,
                    0.44461120727908987,
                    -1.191864461171342,
                    0.34935090412853315,
                    -1.6960659723973335,
                    0.5628706907746021,
                    0.7957074439625802,
                    0.8319143980525842,
                    0.5628102050643603,
                    -1.2533344015247219,
                    1.462788980892577,
                    0.1903518081062495,
                    -0.4226318942957426,
                    0.8000540760912183,
                    0.7774041770151964,
                    0.21851412378817658,
                    -0.3872888987741951,
                    -0.38193190011498906,
                    -0.4588068675220083,
                    0.12212046334608344,
                    0.7342345571086851,
                    0.3989454139784152,
                    0.08242688746543864,
                    -0.0022928649831613942,
                    1.699568450254879,
                    -1.2052758012027767,
                    -0.6038212323418088,
                    0.6989754367807544
                  ],
                  "mode": "markers",
                  "xaxis": "x9",
                  "marker": {
                    "symbol": "circle",
                    "size": 2
                  },
                  "x": [
                    0.033388217440508905,
                    -0.6964117620033113,
                    -1.1582806081079497,
                    -0.2561921110075144,
                    -0.9396395616723018,
                    -1.8710775986328148,
                    1.1381065930965866,
                    0.2836313998887739,
                    0.8372825848844795,
                    0.5352062157485056,
                    -0.10570195697932709,
                    1.3932461971675265,
                    -1.0203377791552646,
                    1.4054722978405614,
                    1.2599083999065768,
                    -0.8173466696833639,
                    0.749141786818367,
                    0.32314069513049737,
                    0.7835951532562746,
                    -0.770714323484931,
                    1.3378126523628584,
                    -0.11036438568990392,
                    -1.2305529427537507,
                    0.11815301833078981,
                    0.11468249633092606,
                    -1.5570788214620102,
                    0.3298883731176722,
                    -0.1670048980170897,
                    -0.44610787272009117,
                    -1.040410419879342,
                    -2.134223059509332,
                    1.2055267598805925,
                    0.7833271951513457,
                    -0.30517818327250934,
                    -1.054797078733294,
                    1.0339469118287643,
                    0.031724802569528074,
                    0.46524479084304915,
                    0.2696133157308018,
                    -1.9022090457341743,
                    -0.672553302714725,
                    -1.4538759223619475,
                    -0.8952596564969528,
                    -1.6090791774457278,
                    -0.9556876902032667,
                    -1.2883809167343472,
                    -1.013453792978003,
                    -0.6001203860131052,
                    -0.42238651267056765,
                    -0.9170182467887845,
                    -0.18415000223704875,
                    0.18274248152898628,
                    1.142934386894334,
                    0.6890288189881617,
                    0.5124153344064991,
                    0.9954018120132386,
                    -0.27710289787528714,
                    0.5618092295029821,
                    -1.5853615513089843,
                    -0.0157622538163842,
                    0.0034350917010841247,
                    -1.1545937310589027,
                    -0.9052719576531694,
                    -0.6408810782085186,
                    -1.0539102470766974,
                    -1.6088884404905042,
                    1.4254864256297581,
                    -0.381852587029767,
                    0.49973553564455736,
                    0.12058127493662403,
                    0.10141909915549104,
                    -2.23702939333417,
                    1.1966390259865207,
                    -1.0238163568433811,
                    0.5306379570018278,
                    1.4703548194163234,
                    -0.3706618777461258,
                    -0.4550084839216992,
                    0.08172360222080535,
                    0.6328493435423694,
                    -1.1647795582446374,
                    1.2494878059546373,
                    1.0678653724911056,
                    0.37109684888001876,
                    -0.21332835621154117,
                    -0.36165792593448076,
                    -0.5427678072839484,
                    -0.4522924354445968,
                    0.7548666787430129,
                    -0.18127561554144686,
                    0.18500763008449855,
                    0.4227463117416283,
                    0.09356699424783808,
                    0.5616913468969047,
                    -0.8108851809052096,
                    -0.06592248187876751,
                    0.9053101300097707,
                    1.1852123122865834,
                    1.7821500045599021,
                    1.6772169106987314
                  ],
                  "line": {
                    "color": "rgba(128, 128, 128, 1.0)",
                    "dash": "solid",
                    "shape": "linear",
                    "width": 1.3
                  },
                  "type": "scatter"
                },
                {
                  "name": "C",
                  "yaxis": "y10",
                  "text": "",
                  "y": [
                    1.0182954809449183,
                    0.3794523439700212,
                    0.08190652367893733,
                    0.4060976395887609,
                    1.8822480524904268,
                    -1.1199277178957312,
                    0.7520408186784354,
                    -0.6331838831946867,
                    -0.17975714925589653,
                    0.20581278328232264,
                    -0.9206415216715144,
                    -0.158187219487602,
                    0.5919718158919391,
                    -0.6949331488381687,
                    0.9515420039403529,
                    -0.4494443621898676,
                    -0.9376624498873257,
                    1.215580228812475,
                    1.22299128467945,
                    -0.22091178080380783,
                    1.3001568912685888,
                    -0.18565026756375427,
                    0.6146907772970375,
                    -0.7808293908387653,
                    -0.9694216493104032,
                    0.256562999359,
                    -0.7079856269484804,
                    1.0305534613508498,
                    -0.2835192015206089,
                    0.7303941550936714,
                    0.16276808258431305,
                    -0.043310863923024814,
                    1.2348333984569575,
                    0.0007949050313371751,
                    -0.5246867788786806,
                    -1.1188409262101247,
                    -1.3402419478981256,
                    -0.07588887673591871,
                    -0.2720143665160607,
                    0.0958428080895275,
                    -0.6450366023567586,
                    0.15577856835919768,
                    -0.4360533301593279,
                    0.28282047647932523,
                    0.5202634100016091,
                    -0.040843513287435976,
                    -1.2779500861482962,
                    -0.7033696039532986,
                    -0.1299544172162236,
                    0.42500834327584436,
                    -2.1885844492814046,
                    -0.6862849450430499,
                    1.182500876411005,
                    -0.6959730281974437,
                    -0.8944211587337906,
                    -0.30903749460634994,
                    0.8720881224397372,
                    -0.7160874443335539,
                    0.5953442187035263,
                    0.03444748841613024,
                    -0.7903402084528796,
                    1.6461086977841073,
                    -0.7450716631544378,
                    -1.5138453680566872,
                    0.5864158277439976,
                    0.2044839284652703,
                    -0.37970068784926886,
                    -0.4930577907258506,
                    0.0014749123077378993,
                    1.8374982646911697,
                    -0.13669230541614008,
                    -0.1918502069627978,
                    0.4276938637716622,
                    0.44461120727908987,
                    -1.191864461171342,
                    0.34935090412853315,
                    -1.6960659723973335,
                    0.5628706907746021,
                    0.7957074439625802,
                    0.8319143980525842,
                    0.5628102050643603,
                    -1.2533344015247219,
                    1.462788980892577,
                    0.1903518081062495,
                    -0.4226318942957426,
                    0.8000540760912183,
                    0.7774041770151964,
                    0.21851412378817658,
                    -0.3872888987741951,
                    -0.38193190011498906,
                    -0.4588068675220083,
                    0.12212046334608344,
                    0.7342345571086851,
                    0.3989454139784152,
                    0.08242688746543864,
                    -0.0022928649831613942,
                    1.699568450254879,
                    -1.2052758012027767,
                    -0.6038212323418088,
                    0.6989754367807544
                  ],
                  "mode": "markers",
                  "xaxis": "x10",
                  "marker": {
                    "symbol": "circle",
                    "size": 2
                  },
                  "x": [
                    -0.3185819437242191,
                    0.017143553003232212,
                    -1.161883283271516,
                    -0.6704437820758866,
                    -0.4752021049002068,
                    0.8818848095813414,
                    -1.6113668454298233,
                    -0.33827338930798506,
                    -1.22976132791649,
                    -1.1088957196694917,
                    -0.6591281589852449,
                    -0.9959336166710657,
                    0.9843663632768888,
                    -0.8954963504718098,
                    -0.9708364965136446,
                    -0.3456105679762152,
                    -0.5363379641406554,
                    -0.347986706152008,
                    -1.9772259945605442,
                    -1.3146882448697077,
                    1.382190391435313,
                    0.4345969579360139,
                    0.30113552461211096,
                    -0.8470311410792175,
                    0.3685426426850477,
                    0.5951448453513402,
                    0.17061591052139344,
                    0.17415532756605645,
                    0.2981196168572048,
                    0.4977249129616586,
                    0.33480901130394974,
                    0.1868880359802086,
                    -1.6650149993841277,
                    -0.6404910513353013,
                    -0.8824072467179087,
                    -0.553742729869468,
                    0.36036163241066343,
                    -2.275974570734227,
                    -1.5874012126450154,
                    1.3419821073368021,
                    -1.4171003468926828,
                    1.231652765552878,
                    -1.8453235220960005,
                    -0.7197969325839411,
                    1.3226340184457743,
                    0.20947818537722288,
                    0.29165688844925786,
                    0.5883754850166348,
                    0.3683509795965926,
                    -0.3339353731153345,
                    1.309887025504271,
                    0.31546723226620027,
                    1.3263631277316312,
                    -0.34567806682641433,
                    -0.19141808194686688,
                    -0.4713020694872677,
                    0.8852804183445554,
                    -0.8576319218947199,
                    -0.9145682759871094,
                    -1.4002022553453086,
                    -0.1835398022198471,
                    0.9597120405836465,
                    0.7459121859140037,
                    0.9582724578902626,
                    0.2515689421160934,
                    -0.38993360906100594,
                    -1.2295245875026266,
                    -0.6031951925607657,
                    -2.681150844317574,
                    0.08570599518645991,
                    -0.30239374308582356,
                    -0.17549857467971453,
                    -0.34269764974175787,
                    -0.6967515592890964,
                    -0.6517567157566919,
                    -0.7432742339004702,
                    0.9679312814459848,
                    -0.10389313558341703,
                    0.6858706396566807,
                    -0.3944155036832106,
                    0.301036982440157,
                    1.5086902264625675,
                    -0.7373137660036858,
                    -0.22448726844840527,
                    -0.22652852888373978,
                    -1.0077169954080438,
                    1.249022242931242,
                    -0.09106059301916564,
                    1.2227833371035044,
                    1.1059491261446488,
                    -0.8637469439487155,
                    2.124637526257138,
                    0.07570566559288731,
                    -0.652759552671152,
                    -0.35136007142557557,
                    -0.42327448382840327,
                    1.2267554224089194,
                    0.46971004043741227,
                    0.5654883626864355,
                    1.3099927206532345
                  ],
                  "line": {
                    "color": "rgba(128, 128, 128, 1.0)",
                    "dash": "solid",
                    "shape": "linear",
                    "width": 1.3
                  },
                  "type": "scatter"
                },
                {
                  "opacity": 0.8,
                  "name": "C",
                  "yaxis": "y11",
                  "histnorm": "",
                  "xaxis": "x11",
                  "nbinsx": 10,
                  "histfunc": "count",
                  "marker": {
                    "color": "rgba(50, 171, 96, 1.0)",
                    "line": {
                      "color": "#4D5663",
                      "width": 1.3
                    }
                  },
                  "x": [
                    1.0182954809449183,
                    0.3794523439700212,
                    0.08190652367893733,
                    0.4060976395887609,
                    1.8822480524904268,
                    -1.1199277178957312,
                    0.7520408186784354,
                    -0.6331838831946867,
                    -0.17975714925589653,
                    0.20581278328232264,
                    -0.9206415216715144,
                    -0.158187219487602,
                    0.5919718158919391,
                    -0.6949331488381687,
                    0.9515420039403529,
                    -0.4494443621898676,
                    -0.9376624498873257,
                    1.215580228812475,
                    1.22299128467945,
                    -0.22091178080380783,
                    1.3001568912685888,
                    -0.18565026756375427,
                    0.6146907772970375,
                    -0.7808293908387653,
                    -0.9694216493104032,
                    0.256562999359,
                    -0.7079856269484804,
                    1.0305534613508498,
                    -0.2835192015206089,
                    0.7303941550936714,
                    0.16276808258431305,
                    -0.043310863923024814,
                    1.2348333984569575,
                    0.0007949050313371751,
                    -0.5246867788786806,
                    -1.1188409262101247,
                    -1.3402419478981256,
                    -0.07588887673591871,
                    -0.2720143665160607,
                    0.0958428080895275,
                    -0.6450366023567586,
                    0.15577856835919768,
                    -0.4360533301593279,
                    0.28282047647932523,
                    0.5202634100016091,
                    -0.040843513287435976,
                    -1.2779500861482962,
                    -0.7033696039532986,
                    -0.1299544172162236,
                    0.42500834327584436,
                    -2.1885844492814046,
                    -0.6862849450430499,
                    1.182500876411005,
                    -0.6959730281974437,
                    -0.8944211587337906,
                    -0.30903749460634994,
                    0.8720881224397372,
                    -0.7160874443335539,
                    0.5953442187035263,
                    0.03444748841613024,
                    -0.7903402084528796,
                    1.6461086977841073,
                    -0.7450716631544378,
                    -1.5138453680566872,
                    0.5864158277439976,
                    0.2044839284652703,
                    -0.37970068784926886,
                    -0.4930577907258506,
                    0.0014749123077378993,
                    1.8374982646911697,
                    -0.13669230541614008,
                    -0.1918502069627978,
                    0.4276938637716622,
                    0.44461120727908987,
                    -1.191864461171342,
                    0.34935090412853315,
                    -1.6960659723973335,
                    0.5628706907746021,
                    0.7957074439625802,
                    0.8319143980525842,
                    0.5628102050643603,
                    -1.2533344015247219,
                    1.462788980892577,
                    0.1903518081062495,
                    -0.4226318942957426,
                    0.8000540760912183,
                    0.7774041770151964,
                    0.21851412378817658,
                    -0.3872888987741951,
                    -0.38193190011498906,
                    -0.4588068675220083,
                    0.12212046334608344,
                    0.7342345571086851,
                    0.3989454139784152,
                    0.08242688746543864,
                    -0.0022928649831613942,
                    1.699568450254879,
                    -1.2052758012027767,
                    -0.6038212323418088,
                    0.6989754367807544
                  ],
                  "type": "histogram",
                  "orientation": "v"
                },
                {
                  "name": "C",
                  "yaxis": "y12",
                  "text": "",
                  "y": [
                    1.0182954809449183,
                    0.3794523439700212,
                    0.08190652367893733,
                    0.4060976395887609,
                    1.8822480524904268,
                    -1.1199277178957312,
                    0.7520408186784354,
                    -0.6331838831946867,
                    -0.17975714925589653,
                    0.20581278328232264,
                    -0.9206415216715144,
                    -0.158187219487602,
                    0.5919718158919391,
                    -0.6949331488381687,
                    0.9515420039403529,
                    -0.4494443621898676,
                    -0.9376624498873257,
                    1.215580228812475,
                    1.22299128467945,
                    -0.22091178080380783,
                    1.3001568912685888,
                    -0.18565026756375427,
                    0.6146907772970375,
                    -0.7808293908387653,
                    -0.9694216493104032,
                    0.256562999359,
                    -0.7079856269484804,
                    1.0305534613508498,
                    -0.2835192015206089,
                    0.7303941550936714,
                    0.16276808258431305,
                    -0.043310863923024814,
                    1.2348333984569575,
                    0.0007949050313371751,
                    -0.5246867788786806,
                    -1.1188409262101247,
                    -1.3402419478981256,
                    -0.07588887673591871,
                    -0.2720143665160607,
                    0.0958428080895275,
                    -0.6450366023567586,
                    0.15577856835919768,
                    -0.4360533301593279,
                    0.28282047647932523,
                    0.5202634100016091,
                    -0.040843513287435976,
                    -1.2779500861482962,
                    -0.7033696039532986,
                    -0.1299544172162236,
                    0.42500834327584436,
                    -2.1885844492814046,
                    -0.6862849450430499,
                    1.182500876411005,
                    -0.6959730281974437,
                    -0.8944211587337906,
                    -0.30903749460634994,
                    0.8720881224397372,
                    -0.7160874443335539,
                    0.5953442187035263,
                    0.03444748841613024,
                    -0.7903402084528796,
                    1.6461086977841073,
                    -0.7450716631544378,
                    -1.5138453680566872,
                    0.5864158277439976,
                    0.2044839284652703,
                    -0.37970068784926886,
                    -0.4930577907258506,
                    0.0014749123077378993,
                    1.8374982646911697,
                    -0.13669230541614008,
                    -0.1918502069627978,
                    0.4276938637716622,
                    0.44461120727908987,
                    -1.191864461171342,
                    0.34935090412853315,
                    -1.6960659723973335,
                    0.5628706907746021,
                    0.7957074439625802,
                    0.8319143980525842,
                    0.5628102050643603,
                    -1.2533344015247219,
                    1.462788980892577,
                    0.1903518081062495,
                    -0.4226318942957426,
                    0.8000540760912183,
                    0.7774041770151964,
                    0.21851412378817658,
                    -0.3872888987741951,
                    -0.38193190011498906,
                    -0.4588068675220083,
                    0.12212046334608344,
                    0.7342345571086851,
                    0.3989454139784152,
                    0.08242688746543864,
                    -0.0022928649831613942,
                    1.699568450254879,
                    -1.2052758012027767,
                    -0.6038212323418088,
                    0.6989754367807544
                  ],
                  "mode": "markers",
                  "xaxis": "x12",
                  "marker": {
                    "symbol": "circle",
                    "size": 2
                  },
                  "x": [
                    -1.8571136111417104,
                    -1.2929803725979587,
                    0.20561240856564708,
                    -1.7826569545732074,
                    0.36893489693853987,
                    -2.290059244742498,
                    -0.1911249252271533,
                    0.5236185166727625,
                    0.5899488231677366,
                    -1.3241496820790173,
                    1.6861347434484786,
                    -0.4399057043982191,
                    -1.3669681004416905,
                    -0.9028743059237215,
                    -0.09325036085177456,
                    0.280789333174742,
                    -1.459304199149204,
                    -2.1884382975915995,
                    -0.528999666571028,
                    1.2437336136919452,
                    -0.020657057724462597,
                    -0.353872154266421,
                    -0.897993582574596,
                    -0.017025339970917843,
                    -0.20558985487071055,
                    0.6469397282058131,
                    0.9929278936820563,
                    -0.03562031828604396,
                    1.3188537541797127,
                    0.5294015240519836,
                    0.1788681022406548,
                    -2.7249712086013367,
                    -0.10469633823990536,
                    -0.3299367522259721,
                    -1.4903303039003206,
                    0.9689750855602837,
                    0.9984033659673972,
                    0.648012535372687,
                    -0.775307176022823,
                    -0.3652690937238262,
                    -0.41931483841559863,
                    0.5828936815594129,
                    0.7270952914903812,
                    -0.3856341136158816,
                    -0.8864597826318832,
                    1.10148403693856,
                    1.1956124718032188,
                    0.30048298039636223,
                    -0.4019068237328676,
                    2.5319740416688026,
                    2.14714538343826,
                    0.49743557883072675,
                    -0.8199651072805834,
                    0.006857191362686243,
                    -0.7690327399872606,
                    0.2172719785518792,
                    -0.2311323722336546,
                    -0.16489298283367107,
                    0.852171081358844,
                    0.7591667025255826,
                    0.13467105505109334,
                    -0.977029151573115,
                    0.763546288536521,
                    -1.3430638347662076,
                    -0.8952301949472096,
                    -2.284450645749927,
                    0.8237278053146003,
                    0.4897196387265957,
                    -0.09698778535217137,
                    0.3036876818094441,
                    2.572159295231823,
                    -1.3688632995193528,
                    0.3480995132046122,
                    -0.715482119345779,
                    -0.22407665777146912,
                    -2.8952030766110473,
                    1.1152970688875075,
                    -0.40533481928326837,
                    0.6155186509320042,
                    1.186699957812302,
                    -0.31501332318615505,
                    0.41068369321607523,
                    -0.7133845944974545,
                    -0.9166980916968319,
                    -0.9158836591238659,
                    -0.8768169082910535,
                    -0.6655457719648636,
                    1.522949002308957,
                    0.7635046451431491,
                    -0.9160553350563346,
                    0.9818650844125953,
                    0.9817757426707524,
                    1.4564042531030386,
                    0.7475502969248169,
                    -0.4367843500387564,
                    0.9813506593996986,
                    1.5849208046161924,
                    -0.22726933321225884,
                    -0.6490275283612017,
                    -0.6857300547884588
                  ],
                  "line": {
                    "color": "rgba(128, 128, 128, 1.0)",
                    "dash": "solid",
                    "shape": "linear",
                    "width": 1.3
                  },
                  "type": "scatter"
                },
                {
                  "name": "D",
                  "yaxis": "y13",
                  "text": "",
                  "y": [
                    -1.8571136111417104,
                    -1.2929803725979587,
                    0.20561240856564708,
                    -1.7826569545732074,
                    0.36893489693853987,
                    -2.290059244742498,
                    -0.1911249252271533,
                    0.5236185166727625,
                    0.5899488231677366,
                    -1.3241496820790173,
                    1.6861347434484786,
                    -0.4399057043982191,
                    -1.3669681004416905,
                    -0.9028743059237215,
                    -0.09325036085177456,
                    0.280789333174742,
                    -1.459304199149204,
                    -2.1884382975915995,
                    -0.528999666571028,
                    1.2437336136919452,
                    -0.020657057724462597,
                    -0.353872154266421,
                    -0.897993582574596,
                    -0.017025339970917843,
                    -0.20558985487071055,
                    0.6469397282058131,
                    0.9929278936820563,
                    -0.03562031828604396,
                    1.3188537541797127,
                    0.5294015240519836,
                    0.1788681022406548,
                    -2.7249712086013367,
                    -0.10469633823990536,
                    -0.3299367522259721,
                    -1.4903303039003206,
                    0.9689750855602837,
                    0.9984033659673972,
                    0.648012535372687,
                    -0.775307176022823,
                    -0.3652690937238262,
                    -0.41931483841559863,
                    0.5828936815594129,
                    0.7270952914903812,
                    -0.3856341136158816,
                    -0.8864597826318832,
                    1.10148403693856,
                    1.1956124718032188,
                    0.30048298039636223,
                    -0.4019068237328676,
                    2.5319740416688026,
                    2.14714538343826,
                    0.49743557883072675,
                    -0.8199651072805834,
                    0.006857191362686243,
                    -0.7690327399872606,
                    0.2172719785518792,
                    -0.2311323722336546,
                    -0.16489298283367107,
                    0.852171081358844,
                    0.7591667025255826,
                    0.13467105505109334,
                    -0.977029151573115,
                    0.763546288536521,
                    -1.3430638347662076,
                    -0.8952301949472096,
                    -2.284450645749927,
                    0.8237278053146003,
                    0.4897196387265957,
                    -0.09698778535217137,
                    0.3036876818094441,
                    2.572159295231823,
                    -1.3688632995193528,
                    0.3480995132046122,
                    -0.715482119345779,
                    -0.22407665777146912,
                    -2.8952030766110473,
                    1.1152970688875075,
                    -0.40533481928326837,
                    0.6155186509320042,
                    1.186699957812302,
                    -0.31501332318615505,
                    0.41068369321607523,
                    -0.7133845944974545,
                    -0.9166980916968319,
                    -0.9158836591238659,
                    -0.8768169082910535,
                    -0.6655457719648636,
                    1.522949002308957,
                    0.7635046451431491,
                    -0.9160553350563346,
                    0.9818650844125953,
                    0.9817757426707524,
                    1.4564042531030386,
                    0.7475502969248169,
                    -0.4367843500387564,
                    0.9813506593996986,
                    1.5849208046161924,
                    -0.22726933321225884,
                    -0.6490275283612017,
                    -0.6857300547884588
                  ],
                  "mode": "markers",
                  "xaxis": "x13",
                  "marker": {
                    "symbol": "circle",
                    "size": 2
                  },
                  "x": [
                    0.033388217440508905,
                    -0.6964117620033113,
                    -1.1582806081079497,
                    -0.2561921110075144,
                    -0.9396395616723018,
                    -1.8710775986328148,
                    1.1381065930965866,
                    0.2836313998887739,
                    0.8372825848844795,
                    0.5352062157485056,
                    -0.10570195697932709,
                    1.3932461971675265,
                    -1.0203377791552646,
                    1.4054722978405614,
                    1.2599083999065768,
                    -0.8173466696833639,
                    0.749141786818367,
                    0.32314069513049737,
                    0.7835951532562746,
                    -0.770714323484931,
                    1.3378126523628584,
                    -0.11036438568990392,
                    -1.2305529427537507,
                    0.11815301833078981,
                    0.11468249633092606,
                    -1.5570788214620102,
                    0.3298883731176722,
                    -0.1670048980170897,
                    -0.44610787272009117,
                    -1.040410419879342,
                    -2.134223059509332,
                    1.2055267598805925,
                    0.7833271951513457,
                    -0.30517818327250934,
                    -1.054797078733294,
                    1.0339469118287643,
                    0.031724802569528074,
                    0.46524479084304915,
                    0.2696133157308018,
                    -1.9022090457341743,
                    -0.672553302714725,
                    -1.4538759223619475,
                    -0.8952596564969528,
                    -1.6090791774457278,
                    -0.9556876902032667,
                    -1.2883809167343472,
                    -1.013453792978003,
                    -0.6001203860131052,
                    -0.42238651267056765,
                    -0.9170182467887845,
                    -0.18415000223704875,
                    0.18274248152898628,
                    1.142934386894334,
                    0.6890288189881617,
                    0.5124153344064991,
                    0.9954018120132386,
                    -0.27710289787528714,
                    0.5618092295029821,
                    -1.5853615513089843,
                    -0.0157622538163842,
                    0.0034350917010841247,
                    -1.1545937310589027,
                    -0.9052719576531694,
                    -0.6408810782085186,
                    -1.0539102470766974,
                    -1.6088884404905042,
                    1.4254864256297581,
                    -0.381852587029767,
                    0.49973553564455736,
                    0.12058127493662403,
                    0.10141909915549104,
                    -2.23702939333417,
                    1.1966390259865207,
                    -1.0238163568433811,
                    0.5306379570018278,
                    1.4703548194163234,
                    -0.3706618777461258,
                    -0.4550084839216992,
                    0.08172360222080535,
                    0.6328493435423694,
                    -1.1647795582446374,
                    1.2494878059546373,
                    1.0678653724911056,
                    0.37109684888001876,
                    -0.21332835621154117,
                    -0.36165792593448076,
                    -0.5427678072839484,
                    -0.4522924354445968,
                    0.7548666787430129,
                    -0.18127561554144686,
                    0.18500763008449855,
                    0.4227463117416283,
                    0.09356699424783808,
                    0.5616913468969047,
                    -0.8108851809052096,
                    -0.06592248187876751,
                    0.9053101300097707,
                    1.1852123122865834,
                    1.7821500045599021,
                    1.6772169106987314
                  ],
                  "line": {
                    "color": "rgba(128, 128, 128, 1.0)",
                    "dash": "solid",
                    "shape": "linear",
                    "width": 1.3
                  },
                  "type": "scatter"
                },
                {
                  "name": "D",
                  "yaxis": "y14",
                  "text": "",
                  "y": [
                    -1.8571136111417104,
                    -1.2929803725979587,
                    0.20561240856564708,
                    -1.7826569545732074,
                    0.36893489693853987,
                    -2.290059244742498,
                    -0.1911249252271533,
                    0.5236185166727625,
                    0.5899488231677366,
                    -1.3241496820790173,
                    1.6861347434484786,
                    -0.4399057043982191,
                    -1.3669681004416905,
                    -0.9028743059237215,
                    -0.09325036085177456,
                    0.280789333174742,
                    -1.459304199149204,
                    -2.1884382975915995,
                    -0.528999666571028,
                    1.2437336136919452,
                    -0.020657057724462597,
                    -0.353872154266421,
                    -0.897993582574596,
                    -0.017025339970917843,
                    -0.20558985487071055,
                    0.6469397282058131,
                    0.9929278936820563,
                    -0.03562031828604396,
                    1.3188537541797127,
                    0.5294015240519836,
                    0.1788681022406548,
                    -2.7249712086013367,
                    -0.10469633823990536,
                    -0.3299367522259721,
                    -1.4903303039003206,
                    0.9689750855602837,
                    0.9984033659673972,
                    0.648012535372687,
                    -0.775307176022823,
                    -0.3652690937238262,
                    -0.41931483841559863,
                    0.5828936815594129,
                    0.7270952914903812,
                    -0.3856341136158816,
                    -0.8864597826318832,
                    1.10148403693856,
                    1.1956124718032188,
                    0.30048298039636223,
                    -0.4019068237328676,
                    2.5319740416688026,
                    2.14714538343826,
                    0.49743557883072675,
                    -0.8199651072805834,
                    0.006857191362686243,
                    -0.7690327399872606,
                    0.2172719785518792,
                    -0.2311323722336546,
                    -0.16489298283367107,
                    0.852171081358844,
                    0.7591667025255826,
                    0.13467105505109334,
                    -0.977029151573115,
                    0.763546288536521,
                    -1.3430638347662076,
                    -0.8952301949472096,
                    -2.284450645749927,
                    0.8237278053146003,
                    0.4897196387265957,
                    -0.09698778535217137,
                    0.3036876818094441,
                    2.572159295231823,
                    -1.3688632995193528,
                    0.3480995132046122,
                    -0.715482119345779,
                    -0.22407665777146912,
                    -2.8952030766110473,
                    1.1152970688875075,
                    -0.40533481928326837,
                    0.6155186509320042,
                    1.186699957812302,
                    -0.31501332318615505,
                    0.41068369321607523,
                    -0.7133845944974545,
                    -0.9166980916968319,
                    -0.9158836591238659,
                    -0.8768169082910535,
                    -0.6655457719648636,
                    1.522949002308957,
                    0.7635046451431491,
                    -0.9160553350563346,
                    0.9818650844125953,
                    0.9817757426707524,
                    1.4564042531030386,
                    0.7475502969248169,
                    -0.4367843500387564,
                    0.9813506593996986,
                    1.5849208046161924,
                    -0.22726933321225884,
                    -0.6490275283612017,
                    -0.6857300547884588
                  ],
                  "mode": "markers",
                  "xaxis": "x14",
                  "marker": {
                    "symbol": "circle",
                    "size": 2
                  },
                  "x": [
                    -0.3185819437242191,
                    0.017143553003232212,
                    -1.161883283271516,
                    -0.6704437820758866,
                    -0.4752021049002068,
                    0.8818848095813414,
                    -1.6113668454298233,
                    -0.33827338930798506,
                    -1.22976132791649,
                    -1.1088957196694917,
                    -0.6591281589852449,
                    -0.9959336166710657,
                    0.9843663632768888,
                    -0.8954963504718098,
                    -0.9708364965136446,
                    -0.3456105679762152,
                    -0.5363379641406554,
                    -0.347986706152008,
                    -1.9772259945605442,
                    -1.3146882448697077,
                    1.382190391435313,
                    0.4345969579360139,
                    0.30113552461211096,
                    -0.8470311410792175,
                    0.3685426426850477,
                    0.5951448453513402,
                    0.17061591052139344,
                    0.17415532756605645,
                    0.2981196168572048,
                    0.4977249129616586,
                    0.33480901130394974,
                    0.1868880359802086,
                    -1.6650149993841277,
                    -0.6404910513353013,
                    -0.8824072467179087,
                    -0.553742729869468,
                    0.36036163241066343,
                    -2.275974570734227,
                    -1.5874012126450154,
                    1.3419821073368021,
                    -1.4171003468926828,
                    1.231652765552878,
                    -1.8453235220960005,
                    -0.7197969325839411,
                    1.3226340184457743,
                    0.20947818537722288,
                    0.29165688844925786,
                    0.5883754850166348,
                    0.3683509795965926,
                    -0.3339353731153345,
                    1.309887025504271,
                    0.31546723226620027,
                    1.3263631277316312,
                    -0.34567806682641433,
                    -0.19141808194686688,
                    -0.4713020694872677,
                    0.8852804183445554,
                    -0.8576319218947199,
                    -0.9145682759871094,
                    -1.4002022553453086,
                    -0.1835398022198471,
                    0.9597120405836465,
                    0.7459121859140037,
                    0.9582724578902626,
                    0.2515689421160934,
                    -0.38993360906100594,
                    -1.2295245875026266,
                    -0.6031951925607657,
                    -2.681150844317574,
                    0.08570599518645991,
                    -0.30239374308582356,
                    -0.17549857467971453,
                    -0.34269764974175787,
                    -0.6967515592890964,
                    -0.6517567157566919,
                    -0.7432742339004702,
                    0.9679312814459848,
                    -0.10389313558341703,
                    0.6858706396566807,
                    -0.3944155036832106,
                    0.301036982440157,
                    1.5086902264625675,
                    -0.7373137660036858,
                    -0.22448726844840527,
                    -0.22652852888373978,
                    -1.0077169954080438,
                    1.249022242931242,
                    -0.09106059301916564,
                    1.2227833371035044,
                    1.1059491261446488,
                    -0.8637469439487155,
                    2.124637526257138,
                    0.07570566559288731,
                    -0.652759552671152,
                    -0.35136007142557557,
                    -0.42327448382840327,
                    1.2267554224089194,
                    0.46971004043741227,
                    0.5654883626864355,
                    1.3099927206532345
                  ],
                  "line": {
                    "color": "rgba(128, 128, 128, 1.0)",
                    "dash": "solid",
                    "shape": "linear",
                    "width": 1.3
                  },
                  "type": "scatter"
                },
                {
                  "name": "D",
                  "yaxis": "y15",
                  "text": "",
                  "y": [
                    -1.8571136111417104,
                    -1.2929803725979587,
                    0.20561240856564708,
                    -1.7826569545732074,
                    0.36893489693853987,
                    -2.290059244742498,
                    -0.1911249252271533,
                    0.5236185166727625,
                    0.5899488231677366,
                    -1.3241496820790173,
                    1.6861347434484786,
                    -0.4399057043982191,
                    -1.3669681004416905,
                    -0.9028743059237215,
                    -0.09325036085177456,
                    0.280789333174742,
                    -1.459304199149204,
                    -2.1884382975915995,
                    -0.528999666571028,
                    1.2437336136919452,
                    -0.020657057724462597,
                    -0.353872154266421,
                    -0.897993582574596,
                    -0.017025339970917843,
                    -0.20558985487071055,
                    0.6469397282058131,
                    0.9929278936820563,
                    -0.03562031828604396,
                    1.3188537541797127,
                    0.5294015240519836,
                    0.1788681022406548,
                    -2.7249712086013367,
                    -0.10469633823990536,
                    -0.3299367522259721,
                    -1.4903303039003206,
                    0.9689750855602837,
                    0.9984033659673972,
                    0.648012535372687,
                    -0.775307176022823,
                    -0.3652690937238262,
                    -0.41931483841559863,
                    0.5828936815594129,
                    0.7270952914903812,
                    -0.3856341136158816,
                    -0.8864597826318832,
                    1.10148403693856,
                    1.1956124718032188,
                    0.30048298039636223,
                    -0.4019068237328676,
                    2.5319740416688026,
                    2.14714538343826,
                    0.49743557883072675,
                    -0.8199651072805834,
                    0.006857191362686243,
                    -0.7690327399872606,
                    0.2172719785518792,
                    -0.2311323722336546,
                    -0.16489298283367107,
                    0.852171081358844,
                    0.7591667025255826,
                    0.13467105505109334,
                    -0.977029151573115,
                    0.763546288536521,
                    -1.3430638347662076,
                    -0.8952301949472096,
                    -2.284450645749927,
                    0.8237278053146003,
                    0.4897196387265957,
                    -0.09698778535217137,
                    0.3036876818094441,
                    2.572159295231823,
                    -1.3688632995193528,
                    0.3480995132046122,
                    -0.715482119345779,
                    -0.22407665777146912,
                    -2.8952030766110473,
                    1.1152970688875075,
                    -0.40533481928326837,
                    0.6155186509320042,
                    1.186699957812302,
                    -0.31501332318615505,
                    0.41068369321607523,
                    -0.7133845944974545,
                    -0.9166980916968319,
                    -0.9158836591238659,
                    -0.8768169082910535,
                    -0.6655457719648636,
                    1.522949002308957,
                    0.7635046451431491,
                    -0.9160553350563346,
                    0.9818650844125953,
                    0.9817757426707524,
                    1.4564042531030386,
                    0.7475502969248169,
                    -0.4367843500387564,
                    0.9813506593996986,
                    1.5849208046161924,
                    -0.22726933321225884,
                    -0.6490275283612017,
                    -0.6857300547884588
                  ],
                  "mode": "markers",
                  "xaxis": "x15",
                  "marker": {
                    "symbol": "circle",
                    "size": 2
                  },
                  "x": [
                    1.0182954809449183,
                    0.3794523439700212,
                    0.08190652367893733,
                    0.4060976395887609,
                    1.8822480524904268,
                    -1.1199277178957312,
                    0.7520408186784354,
                    -0.6331838831946867,
                    -0.17975714925589653,
                    0.20581278328232264,
                    -0.9206415216715144,
                    -0.158187219487602,
                    0.5919718158919391,
                    -0.6949331488381687,
                    0.9515420039403529,
                    -0.4494443621898676,
                    -0.9376624498873257,
                    1.215580228812475,
                    1.22299128467945,
                    -0.22091178080380783,
                    1.3001568912685888,
                    -0.18565026756375427,
                    0.6146907772970375,
                    -0.7808293908387653,
                    -0.9694216493104032,
                    0.256562999359,
                    -0.7079856269484804,
                    1.0305534613508498,
                    -0.2835192015206089,
                    0.7303941550936714,
                    0.16276808258431305,
                    -0.043310863923024814,
                    1.2348333984569575,
                    0.0007949050313371751,
                    -0.5246867788786806,
                    -1.1188409262101247,
                    -1.3402419478981256,
                    -0.07588887673591871,
                    -0.2720143665160607,
                    0.0958428080895275,
                    -0.6450366023567586,
                    0.15577856835919768,
                    -0.4360533301593279,
                    0.28282047647932523,
                    0.5202634100016091,
                    -0.040843513287435976,
                    -1.2779500861482962,
                    -0.7033696039532986,
                    -0.1299544172162236,
                    0.42500834327584436,
                    -2.1885844492814046,
                    -0.6862849450430499,
                    1.182500876411005,
                    -0.6959730281974437,
                    -0.8944211587337906,
                    -0.30903749460634994,
                    0.8720881224397372,
                    -0.7160874443335539,
                    0.5953442187035263,
                    0.03444748841613024,
                    -0.7903402084528796,
                    1.6461086977841073,
                    -0.7450716631544378,
                    -1.5138453680566872,
                    0.5864158277439976,
                    0.2044839284652703,
                    -0.37970068784926886,
                    -0.4930577907258506,
                    0.0014749123077378993,
                    1.8374982646911697,
                    -0.13669230541614008,
                    -0.1918502069627978,
                    0.4276938637716622,
                    0.44461120727908987,
                    -1.191864461171342,
                    0.34935090412853315,
                    -1.6960659723973335,
                    0.5628706907746021,
                    0.7957074439625802,
                    0.8319143980525842,
                    0.5628102050643603,
                    -1.2533344015247219,
                    1.462788980892577,
                    0.1903518081062495,
                    -0.4226318942957426,
                    0.8000540760912183,
                    0.7774041770151964,
                    0.21851412378817658,
                    -0.3872888987741951,
                    -0.38193190011498906,
                    -0.4588068675220083,
                    0.12212046334608344,
                    0.7342345571086851,
                    0.3989454139784152,
                    0.08242688746543864,
                    -0.0022928649831613942,
                    1.699568450254879,
                    -1.2052758012027767,
                    -0.6038212323418088,
                    0.6989754367807544
                  ],
                  "line": {
                    "color": "rgba(128, 128, 128, 1.0)",
                    "dash": "solid",
                    "shape": "linear",
                    "width": 1.3
                  },
                  "type": "scatter"
                },
                {
                  "opacity": 0.8,
                  "name": "D",
                  "yaxis": "y16",
                  "histnorm": "",
                  "xaxis": "x16",
                  "nbinsx": 10,
                  "histfunc": "count",
                  "marker": {
                    "color": "rgba(128, 0, 128, 1.0)",
                    "line": {
                      "color": "#4D5663",
                      "width": 1.3
                    }
                  },
                  "x": [
                    -1.8571136111417104,
                    -1.2929803725979587,
                    0.20561240856564708,
                    -1.7826569545732074,
                    0.36893489693853987,
                    -2.290059244742498,
                    -0.1911249252271533,
                    0.5236185166727625,
                    0.5899488231677366,
                    -1.3241496820790173,
                    1.6861347434484786,
                    -0.4399057043982191,
                    -1.3669681004416905,
                    -0.9028743059237215,
                    -0.09325036085177456,
                    0.280789333174742,
                    -1.459304199149204,
                    -2.1884382975915995,
                    -0.528999666571028,
                    1.2437336136919452,
                    -0.020657057724462597,
                    -0.353872154266421,
                    -0.897993582574596,
                    -0.017025339970917843,
                    -0.20558985487071055,
                    0.6469397282058131,
                    0.9929278936820563,
                    -0.03562031828604396,
                    1.3188537541797127,
                    0.5294015240519836,
                    0.1788681022406548,
                    -2.7249712086013367,
                    -0.10469633823990536,
                    -0.3299367522259721,
                    -1.4903303039003206,
                    0.9689750855602837,
                    0.9984033659673972,
                    0.648012535372687,
                    -0.775307176022823,
                    -0.3652690937238262,
                    -0.41931483841559863,
                    0.5828936815594129,
                    0.7270952914903812,
                    -0.3856341136158816,
                    -0.8864597826318832,
                    1.10148403693856,
                    1.1956124718032188,
                    0.30048298039636223,
                    -0.4019068237328676,
                    2.5319740416688026,
                    2.14714538343826,
                    0.49743557883072675,
                    -0.8199651072805834,
                    0.006857191362686243,
                    -0.7690327399872606,
                    0.2172719785518792,
                    -0.2311323722336546,
                    -0.16489298283367107,
                    0.852171081358844,
                    0.7591667025255826,
                    0.13467105505109334,
                    -0.977029151573115,
                    0.763546288536521,
                    -1.3430638347662076,
                    -0.8952301949472096,
                    -2.284450645749927,
                    0.8237278053146003,
                    0.4897196387265957,
                    -0.09698778535217137,
                    0.3036876818094441,
                    2.572159295231823,
                    -1.3688632995193528,
                    0.3480995132046122,
                    -0.715482119345779,
                    -0.22407665777146912,
                    -2.8952030766110473,
                    1.1152970688875075,
                    -0.40533481928326837,
                    0.6155186509320042,
                    1.186699957812302,
                    -0.31501332318615505,
                    0.41068369321607523,
                    -0.7133845944974545,
                    -0.9166980916968319,
                    -0.9158836591238659,
                    -0.8768169082910535,
                    -0.6655457719648636,
                    1.522949002308957,
                    0.7635046451431491,
                    -0.9160553350563346,
                    0.9818650844125953,
                    0.9817757426707524,
                    1.4564042531030386,
                    0.7475502969248169,
                    -0.4367843500387564,
                    0.9813506593996986,
                    1.5849208046161924,
                    -0.22726933321225884,
                    -0.6490275283612017,
                    -0.6857300547884588
                  ],
                  "type": "histogram",
                  "orientation": "v"
                }
              ],
              "config": {
                "plotlyServerURL": "https://plot.ly",
                "linkText": "Export to plot.ly",
                "showLink": true
              },
              "layout": {
                "paper_bgcolor": "#F5F6F9",
                "xaxis16": {
                  "tickfont": {
                    "color": "#4D5663"
                  },
                  "domain": [
                    0.7875,
                    1
                  ],
                  "title": {
                    "text": "",
                    "font": {
                      "color": "#4D5663"
                    }
                  },
                  "showgrid": false,
                  "zerolinecolor": "#E1E5ED",
                  "gridcolor": "#E1E5ED",
                  "anchor": "y16"
                },
                "xaxis15": {
                  "tickfont": {
                    "color": "#4D5663"
                  },
                  "domain": [
                    0.525,
                    0.7375
                  ],
                  "title": {
                    "text": "",
                    "font": {
                      "color": "#4D5663"
                    }
                  },
                  "showgrid": false,
                  "zerolinecolor": "#E1E5ED",
                  "gridcolor": "#E1E5ED",
                  "anchor": "y15"
                },
                "xaxis14": {
                  "tickfont": {
                    "color": "#4D5663"
                  },
                  "domain": [
                    0.2625,
                    0.475
                  ],
                  "title": {
                    "text": "",
                    "font": {
                      "color": "#4D5663"
                    }
                  },
                  "showgrid": false,
                  "zerolinecolor": "#E1E5ED",
                  "gridcolor": "#E1E5ED",
                  "anchor": "y14"
                },
                "xaxis13": {
                  "tickfont": {
                    "color": "#4D5663"
                  },
                  "domain": [
                    0,
                    0.2125
                  ],
                  "title": {
                    "text": "",
                    "font": {
                      "color": "#4D5663"
                    }
                  },
                  "showgrid": false,
                  "zerolinecolor": "#E1E5ED",
                  "gridcolor": "#E1E5ED",
                  "anchor": "y13"
                },
                "xaxis12": {
                  "tickfont": {
                    "color": "#4D5663"
                  },
                  "domain": [
                    0.7875,
                    1
                  ],
                  "title": {
                    "text": "",
                    "font": {
                      "color": "#4D5663"
                    }
                  },
                  "showgrid": false,
                  "zerolinecolor": "#E1E5ED",
                  "gridcolor": "#E1E5ED",
                  "anchor": "y12"
                },
                "xaxis11": {
                  "tickfont": {
                    "color": "#4D5663"
                  },
                  "domain": [
                    0.525,
                    0.7375
                  ],
                  "title": {
                    "text": "",
                    "font": {
                      "color": "#4D5663"
                    }
                  },
                  "showgrid": false,
                  "zerolinecolor": "#E1E5ED",
                  "gridcolor": "#E1E5ED",
                  "anchor": "y11"
                },
                "xaxis10": {
                  "tickfont": {
                    "color": "#4D5663"
                  },
                  "domain": [
                    0.2625,
                    0.475
                  ],
                  "title": {
                    "text": "",
                    "font": {
                      "color": "#4D5663"
                    }
                  },
                  "showgrid": false,
                  "zerolinecolor": "#E1E5ED",
                  "gridcolor": "#E1E5ED",
                  "anchor": "y10"
                },
                "yaxis2": {
                  "tickfont": {
                    "color": "#4D5663"
                  },
                  "domain": [
                    0.8025,
                    1
                  ],
                  "title": {
                    "text": "",
                    "font": {
                      "color": "#4D5663"
                    }
                  },
                  "showgrid": false,
                  "zerolinecolor": "#E1E5ED",
                  "gridcolor": "#E1E5ED",
                  "anchor": "x2"
                },
                "yaxis3": {
                  "tickfont": {
                    "color": "#4D5663"
                  },
                  "domain": [
                    0.8025,
                    1
                  ],
                  "title": {
                    "text": "",
                    "font": {
                      "color": "#4D5663"
                    }
                  },
                  "showgrid": false,
                  "zerolinecolor": "#E1E5ED",
                  "gridcolor": "#E1E5ED",
                  "anchor": "x3"
                },
                "yaxis4": {
                  "tickfont": {
                    "color": "#4D5663"
                  },
                  "domain": [
                    0.8025,
                    1
                  ],
                  "title": {
                    "text": "",
                    "font": {
                      "color": "#4D5663"
                    }
                  },
                  "showgrid": false,
                  "zerolinecolor": "#E1E5ED",
                  "gridcolor": "#E1E5ED",
                  "anchor": "x4"
                },
                "yaxis5": {
                  "tickfont": {
                    "color": "#4D5663"
                  },
                  "domain": [
                    0.535,
                    0.7325
                  ],
                  "title": {
                    "text": "",
                    "font": {
                      "color": "#4D5663"
                    }
                  },
                  "showgrid": false,
                  "zerolinecolor": "#E1E5ED",
                  "gridcolor": "#E1E5ED",
                  "anchor": "x5"
                },
                "yaxis6": {
                  "tickfont": {
                    "color": "#4D5663"
                  },
                  "domain": [
                    0.535,
                    0.7325
                  ],
                  "title": {
                    "text": "",
                    "font": {
                      "color": "#4D5663"
                    }
                  },
                  "showgrid": false,
                  "zerolinecolor": "#E1E5ED",
                  "gridcolor": "#E1E5ED",
                  "anchor": "x6"
                },
                "yaxis7": {
                  "tickfont": {
                    "color": "#4D5663"
                  },
                  "domain": [
                    0.535,
                    0.7325
                  ],
                  "title": {
                    "text": "",
                    "font": {
                      "color": "#4D5663"
                    }
                  },
                  "showgrid": false,
                  "zerolinecolor": "#E1E5ED",
                  "gridcolor": "#E1E5ED",
                  "anchor": "x7"
                },
                "yaxis8": {
                  "tickfont": {
                    "color": "#4D5663"
                  },
                  "domain": [
                    0.535,
                    0.7325
                  ],
                  "title": {
                    "text": "",
                    "font": {
                      "color": "#4D5663"
                    }
                  },
                  "showgrid": false,
                  "zerolinecolor": "#E1E5ED",
                  "gridcolor": "#E1E5ED",
                  "anchor": "x8"
                },
                "yaxis11": {
                  "tickfont": {
                    "color": "#4D5663"
                  },
                  "domain": [
                    0.2675,
                    0.465
                  ],
                  "title": {
                    "text": "",
                    "font": {
                      "color": "#4D5663"
                    }
                  },
                  "showgrid": false,
                  "zerolinecolor": "#E1E5ED",
                  "gridcolor": "#E1E5ED",
                  "anchor": "x11"
                },
                "yaxis9": {
                  "tickfont": {
                    "color": "#4D5663"
                  },
                  "domain": [
                    0.2675,
                    0.465
                  ],
                  "title": {
                    "text": "",
                    "font": {
                      "color": "#4D5663"
                    }
                  },
                  "showgrid": false,
                  "zerolinecolor": "#E1E5ED",
                  "gridcolor": "#E1E5ED",
                  "anchor": "x9"
                },
                "showlegend": false,
                "title": {
                  "font": {
                    "color": "#4D5663"
                  }
                },
                "plot_bgcolor": "#F5F6F9",
                "yaxis": {
                  "tickfont": {
                    "color": "#4D5663"
                  },
                  "domain": [
                    0.8025,
                    1
                  ],
                  "title": {
                    "text": "",
                    "font": {
                      "color": "#4D5663"
                    }
                  },
                  "showgrid": false,
                  "zerolinecolor": "#E1E5ED",
                  "gridcolor": "#E1E5ED",
                  "anchor": "x"
                },
                "yaxis12": {
                  "tickfont": {
                    "color": "#4D5663"
                  },
                  "domain": [
                    0.2675,
                    0.465
                  ],
                  "title": {
                    "text": "",
                    "font": {
                      "color": "#4D5663"
                    }
                  },
                  "showgrid": false,
                  "zerolinecolor": "#E1E5ED",
                  "gridcolor": "#E1E5ED",
                  "anchor": "x12"
                },
                "yaxis13": {
                  "tickfont": {
                    "color": "#4D5663"
                  },
                  "domain": [
                    0,
                    0.1975
                  ],
                  "title": {
                    "text": "",
                    "font": {
                      "color": "#4D5663"
                    }
                  },
                  "showgrid": false,
                  "zerolinecolor": "#E1E5ED",
                  "gridcolor": "#E1E5ED",
                  "anchor": "x13"
                },
                "yaxis10": {
                  "tickfont": {
                    "color": "#4D5663"
                  },
                  "domain": [
                    0.2675,
                    0.465
                  ],
                  "title": {
                    "text": "",
                    "font": {
                      "color": "#4D5663"
                    }
                  },
                  "showgrid": false,
                  "zerolinecolor": "#E1E5ED",
                  "gridcolor": "#E1E5ED",
                  "anchor": "x10"
                },
                "bargap": 0.02,
                "yaxis16": {
                  "tickfont": {
                    "color": "#4D5663"
                  },
                  "domain": [
                    0,
                    0.1975
                  ],
                  "title": {
                    "text": "",
                    "font": {
                      "color": "#4D5663"
                    }
                  },
                  "showgrid": false,
                  "zerolinecolor": "#E1E5ED",
                  "gridcolor": "#E1E5ED",
                  "anchor": "x16"
                },
                "xaxis": {
                  "tickfont": {
                    "color": "#4D5663"
                  },
                  "domain": [
                    0,
                    0.2125
                  ],
                  "title": {
                    "text": "",
                    "font": {
                      "color": "#4D5663"
                    }
                  },
                  "showgrid": false,
                  "zerolinecolor": "#E1E5ED",
                  "gridcolor": "#E1E5ED",
                  "anchor": "y"
                },
                "yaxis15": {
                  "tickfont": {
                    "color": "#4D5663"
                  },
                  "domain": [
                    0,
                    0.1975
                  ],
                  "title": {
                    "text": "",
                    "font": {
                      "color": "#4D5663"
                    }
                  },
                  "showgrid": false,
                  "zerolinecolor": "#E1E5ED",
                  "gridcolor": "#E1E5ED",
                  "anchor": "x15"
                },
                "template": {
                  "layout": {
                    "shapedefaults": {
                      "line": {
                        "color": "#2a3f5f"
                      }
                    },
                    "polar": {
                      "radialaxis": {
                        "ticks": "",
                        "gridcolor": "white",
                        "linecolor": "white"
                      },
                      "bgcolor": "#E5ECF6",
                      "angularaxis": {
                        "ticks": "",
                        "gridcolor": "white",
                        "linecolor": "white"
                      }
                    },
                    "colorway": [
                      "#636efa",
                      "#EF553B",
                      "#00cc96",
                      "#ab63fa",
                      "#FFA15A",
                      "#19d3f3",
                      "#FF6692",
                      "#B6E880",
                      "#FF97FF",
                      "#FECB52"
                    ],
                    "xaxis": {
                      "automargin": true,
                      "title": {
                        "standoff": 15
                      },
                      "zerolinewidth": 2,
                      "ticks": "",
                      "zerolinecolor": "white",
                      "gridcolor": "white",
                      "linecolor": "white"
                    },
                    "colorscale": {
                      "diverging": [
                        [
                          0,
                          "#8e0152"
                        ],
                        [
                          0.1,
                          "#c51b7d"
                        ],
                        [
                          0.2,
                          "#de77ae"
                        ],
                        [
                          0.3,
                          "#f1b6da"
                        ],
                        [
                          0.4,
                          "#fde0ef"
                        ],
                        [
                          0.5,
                          "#f7f7f7"
                        ],
                        [
                          0.6,
                          "#e6f5d0"
                        ],
                        [
                          0.7,
                          "#b8e186"
                        ],
                        [
                          0.8,
                          "#7fbc41"
                        ],
                        [
                          0.9,
                          "#4d9221"
                        ],
                        [
                          1,
                          "#276419"
                        ]
                      ],
                      "sequential": [
                        [
                          0,
                          "#0d0887"
                        ],
                        [
                          0.1111111111111111,
                          "#46039f"
                        ],
                        [
                          0.2222222222222222,
                          "#7201a8"
                        ],
                        [
                          0.3333333333333333,
                          "#9c179e"
                        ],
                        [
                          0.4444444444444444,
                          "#bd3786"
                        ],
                        [
                          0.5555555555555556,
                          "#d8576b"
                        ],
                        [
                          0.6666666666666666,
                          "#ed7953"
                        ],
                        [
                          0.7777777777777778,
                          "#fb9f3a"
                        ],
                        [
                          0.8888888888888888,
                          "#fdca26"
                        ],
                        [
                          1,
                          "#f0f921"
                        ]
                      ],
                      "sequentialminus": [
                        [
                          0,
                          "#0d0887"
                        ],
                        [
                          0.1111111111111111,
                          "#46039f"
                        ],
                        [
                          0.2222222222222222,
                          "#7201a8"
                        ],
                        [
                          0.3333333333333333,
                          "#9c179e"
                        ],
                        [
                          0.4444444444444444,
                          "#bd3786"
                        ],
                        [
                          0.5555555555555556,
                          "#d8576b"
                        ],
                        [
                          0.6666666666666666,
                          "#ed7953"
                        ],
                        [
                          0.7777777777777778,
                          "#fb9f3a"
                        ],
                        [
                          0.8888888888888888,
                          "#fdca26"
                        ],
                        [
                          1,
                          "#f0f921"
                        ]
                      ]
                    },
                    "paper_bgcolor": "white",
                    "plot_bgcolor": "#E5ECF6",
                    "title": {
                      "x": 0.05
                    },
                    "scene": {
                      "zaxis": {
                        "backgroundcolor": "#E5ECF6",
                        "ticks": "",
                        "gridwidth": 2,
                        "showbackground": true,
                        "zerolinecolor": "white",
                        "gridcolor": "white",
                        "linecolor": "white"
                      },
                      "xaxis": {
                        "backgroundcolor": "#E5ECF6",
                        "ticks": "",
                        "gridwidth": 2,
                        "showbackground": true,
                        "zerolinecolor": "white",
                        "gridcolor": "white",
                        "linecolor": "white"
                      },
                      "yaxis": {
                        "backgroundcolor": "#E5ECF6",
                        "ticks": "",
                        "gridwidth": 2,
                        "showbackground": true,
                        "zerolinecolor": "white",
                        "gridcolor": "white",
                        "linecolor": "white"
                      }
                    },
                    "yaxis": {
                      "automargin": true,
                      "title": {
                        "standoff": 15
                      },
                      "zerolinewidth": 2,
                      "ticks": "",
                      "zerolinecolor": "white",
                      "gridcolor": "white",
                      "linecolor": "white"
                    },
                    "annotationdefaults": {
                      "arrowwidth": 1,
                      "arrowhead": 0,
                      "arrowcolor": "#2a3f5f"
                    },
                    "hoverlabel": {
                      "align": "left"
                    },
                    "ternary": {
                      "bgcolor": "#E5ECF6",
                      "baxis": {
                        "ticks": "",
                        "gridcolor": "white",
                        "linecolor": "white"
                      },
                      "caxis": {
                        "ticks": "",
                        "gridcolor": "white",
                        "linecolor": "white"
                      },
                      "aaxis": {
                        "ticks": "",
                        "gridcolor": "white",
                        "linecolor": "white"
                      }
                    },
                    "mapbox": {
                      "style": "light"
                    },
                    "hovermode": "closest",
                    "font": {
                      "color": "#2a3f5f"
                    },
                    "geo": {
                      "showland": true,
                      "landcolor": "#E5ECF6",
                      "showlakes": true,
                      "bgcolor": "white",
                      "subunitcolor": "white",
                      "lakecolor": "white"
                    },
                    "coloraxis": {
                      "colorbar": {
                        "outlinewidth": 0,
                        "ticks": ""
                      }
                    }
                  },
                  "data": {
                    "mesh3d": [
                      {
                        "colorbar": {
                          "outlinewidth": 0,
                          "ticks": ""
                        },
                        "type": "mesh3d"
                      }
                    ],
                    "scattercarpet": [
                      {
                        "marker": {
                          "colorbar": {
                            "outlinewidth": 0,
                            "ticks": ""
                          }
                        },
                        "type": "scattercarpet"
                      }
                    ],
                    "pie": [
                      {
                        "automargin": true,
                        "type": "pie"
                      }
                    ],
                    "surface": [
                      {
                        "colorbar": {
                          "outlinewidth": 0,
                          "ticks": ""
                        },
                        "type": "surface",
                        "colorscale": [
                          [
                            0,
                            "#0d0887"
                          ],
                          [
                            0.1111111111111111,
                            "#46039f"
                          ],
                          [
                            0.2222222222222222,
                            "#7201a8"
                          ],
                          [
                            0.3333333333333333,
                            "#9c179e"
                          ],
                          [
                            0.4444444444444444,
                            "#bd3786"
                          ],
                          [
                            0.5555555555555556,
                            "#d8576b"
                          ],
                          [
                            0.6666666666666666,
                            "#ed7953"
                          ],
                          [
                            0.7777777777777778,
                            "#fb9f3a"
                          ],
                          [
                            0.8888888888888888,
                            "#fdca26"
                          ],
                          [
                            1,
                            "#f0f921"
                          ]
                        ]
                      }
                    ],
                    "table": [
                      {
                        "header": {
                          "line": {
                            "color": "white"
                          },
                          "fill": {
                            "color": "#C8D4E3"
                          }
                        },
                        "cells": {
                          "line": {
                            "color": "white"
                          },
                          "fill": {
                            "color": "#EBF0F8"
                          }
                        },
                        "type": "table"
                      }
                    ],
                    "scatterpolargl": [
                      {
                        "marker": {
                          "colorbar": {
                            "outlinewidth": 0,
                            "ticks": ""
                          }
                        },
                        "type": "scatterpolargl"
                      }
                    ],
                    "contour": [
                      {
                        "colorbar": {
                          "outlinewidth": 0,
                          "ticks": ""
                        },
                        "type": "contour",
                        "colorscale": [
                          [
                            0,
                            "#0d0887"
                          ],
                          [
                            0.1111111111111111,
                            "#46039f"
                          ],
                          [
                            0.2222222222222222,
                            "#7201a8"
                          ],
                          [
                            0.3333333333333333,
                            "#9c179e"
                          ],
                          [
                            0.4444444444444444,
                            "#bd3786"
                          ],
                          [
                            0.5555555555555556,
                            "#d8576b"
                          ],
                          [
                            0.6666666666666666,
                            "#ed7953"
                          ],
                          [
                            0.7777777777777778,
                            "#fb9f3a"
                          ],
                          [
                            0.8888888888888888,
                            "#fdca26"
                          ],
                          [
                            1,
                            "#f0f921"
                          ]
                        ]
                      }
                    ],
                    "carpet": [
                      {
                        "type": "carpet",
                        "baxis": {
                          "minorgridcolor": "white",
                          "gridcolor": "white",
                          "linecolor": "white",
                          "endlinecolor": "#2a3f5f",
                          "startlinecolor": "#2a3f5f"
                        },
                        "aaxis": {
                          "minorgridcolor": "white",
                          "gridcolor": "white",
                          "linecolor": "white",
                          "endlinecolor": "#2a3f5f",
                          "startlinecolor": "#2a3f5f"
                        }
                      }
                    ],
                    "contourcarpet": [
                      {
                        "colorbar": {
                          "outlinewidth": 0,
                          "ticks": ""
                        },
                        "type": "contourcarpet"
                      }
                    ],
                    "heatmap": [
                      {
                        "colorbar": {
                          "outlinewidth": 0,
                          "ticks": ""
                        },
                        "type": "heatmap",
                        "colorscale": [
                          [
                            0,
                            "#0d0887"
                          ],
                          [
                            0.1111111111111111,
                            "#46039f"
                          ],
                          [
                            0.2222222222222222,
                            "#7201a8"
                          ],
                          [
                            0.3333333333333333,
                            "#9c179e"
                          ],
                          [
                            0.4444444444444444,
                            "#bd3786"
                          ],
                          [
                            0.5555555555555556,
                            "#d8576b"
                          ],
                          [
                            0.6666666666666666,
                            "#ed7953"
                          ],
                          [
                            0.7777777777777778,
                            "#fb9f3a"
                          ],
                          [
                            0.8888888888888888,
                            "#fdca26"
                          ],
                          [
                            1,
                            "#f0f921"
                          ]
                        ]
                      }
                    ],
                    "scattermapbox": [
                      {
                        "marker": {
                          "colorbar": {
                            "outlinewidth": 0,
                            "ticks": ""
                          }
                        },
                        "type": "scattermapbox"
                      }
                    ],
                    "scatter3d": [
                      {
                        "marker": {
                          "colorbar": {
                            "outlinewidth": 0,
                            "ticks": ""
                          }
                        },
                        "line": {
                          "colorbar": {
                            "outlinewidth": 0,
                            "ticks": ""
                          }
                        },
                        "type": "scatter3d"
                      }
                    ],
                    "scattergl": [
                      {
                        "marker": {
                          "colorbar": {
                            "outlinewidth": 0,
                            "ticks": ""
                          }
                        },
                        "type": "scattergl"
                      }
                    ],
                    "scatterternary": [
                      {
                        "marker": {
                          "colorbar": {
                            "outlinewidth": 0,
                            "ticks": ""
                          }
                        },
                        "type": "scatterternary"
                      }
                    ],
                    "histogram": [
                      {
                        "marker": {
                          "colorbar": {
                            "outlinewidth": 0,
                            "ticks": ""
                          }
                        },
                        "type": "histogram"
                      }
                    ],
                    "heatmapgl": [
                      {
                        "colorbar": {
                          "outlinewidth": 0,
                          "ticks": ""
                        },
                        "type": "heatmapgl",
                        "colorscale": [
                          [
                            0,
                            "#0d0887"
                          ],
                          [
                            0.1111111111111111,
                            "#46039f"
                          ],
                          [
                            0.2222222222222222,
                            "#7201a8"
                          ],
                          [
                            0.3333333333333333,
                            "#9c179e"
                          ],
                          [
                            0.4444444444444444,
                            "#bd3786"
                          ],
                          [
                            0.5555555555555556,
                            "#d8576b"
                          ],
                          [
                            0.6666666666666666,
                            "#ed7953"
                          ],
                          [
                            0.7777777777777778,
                            "#fb9f3a"
                          ],
                          [
                            0.8888888888888888,
                            "#fdca26"
                          ],
                          [
                            1,
                            "#f0f921"
                          ]
                        ]
                      }
                    ],
                    "scatterpolar": [
                      {
                        "marker": {
                          "colorbar": {
                            "outlinewidth": 0,
                            "ticks": ""
                          }
                        },
                        "type": "scatterpolar"
                      }
                    ],
                    "histogram2d": [
                      {
                        "colorbar": {
                          "outlinewidth": 0,
                          "ticks": ""
                        },
                        "type": "histogram2d",
                        "colorscale": [
                          [
                            0,
                            "#0d0887"
                          ],
                          [
                            0.1111111111111111,
                            "#46039f"
                          ],
                          [
                            0.2222222222222222,
                            "#7201a8"
                          ],
                          [
                            0.3333333333333333,
                            "#9c179e"
                          ],
                          [
                            0.4444444444444444,
                            "#bd3786"
                          ],
                          [
                            0.5555555555555556,
                            "#d8576b"
                          ],
                          [
                            0.6666666666666666,
                            "#ed7953"
                          ],
                          [
                            0.7777777777777778,
                            "#fb9f3a"
                          ],
                          [
                            0.8888888888888888,
                            "#fdca26"
                          ],
                          [
                            1,
                            "#f0f921"
                          ]
                        ]
                      }
                    ],
                    "scattergeo": [
                      {
                        "marker": {
                          "colorbar": {
                            "outlinewidth": 0,
                            "ticks": ""
                          }
                        },
                        "type": "scattergeo"
                      }
                    ],
                    "bar": [
                      {
                        "marker": {
                          "line": {
                            "color": "#E5ECF6",
                            "width": 0.5
                          }
                        },
                        "type": "bar",
                        "error_x": {
                          "color": "#2a3f5f"
                        },
                        "error_y": {
                          "color": "#2a3f5f"
                        }
                      }
                    ],
                    "choropleth": [
                      {
                        "colorbar": {
                          "outlinewidth": 0,
                          "ticks": ""
                        },
                        "type": "choropleth"
                      }
                    ],
                    "parcoords": [
                      {
                        "line": {
                          "colorbar": {
                            "outlinewidth": 0,
                            "ticks": ""
                          }
                        },
                        "type": "parcoords"
                      }
                    ],
                    "barpolar": [
                      {
                        "marker": {
                          "line": {
                            "color": "#E5ECF6",
                            "width": 0.5
                          }
                        },
                        "type": "barpolar"
                      }
                    ],
                    "histogram2dcontour": [
                      {
                        "colorbar": {
                          "outlinewidth": 0,
                          "ticks": ""
                        },
                        "type": "histogram2dcontour",
                        "colorscale": [
                          [
                            0,
                            "#0d0887"
                          ],
                          [
                            0.1111111111111111,
                            "#46039f"
                          ],
                          [
                            0.2222222222222222,
                            "#7201a8"
                          ],
                          [
                            0.3333333333333333,
                            "#9c179e"
                          ],
                          [
                            0.4444444444444444,
                            "#bd3786"
                          ],
                          [
                            0.5555555555555556,
                            "#d8576b"
                          ],
                          [
                            0.6666666666666666,
                            "#ed7953"
                          ],
                          [
                            0.7777777777777778,
                            "#fb9f3a"
                          ],
                          [
                            0.8888888888888888,
                            "#fdca26"
                          ],
                          [
                            1,
                            "#f0f921"
                          ]
                        ]
                      }
                    ],
                    "scatter": [
                      {
                        "marker": {
                          "colorbar": {
                            "outlinewidth": 0,
                            "ticks": ""
                          }
                        },
                        "type": "scatter"
                      }
                    ]
                  }
                },
                "legend": {
                  "bgcolor": "#F5F6F9",
                  "font": {
                    "color": "#4D5663"
                  }
                },
                "xaxis9": {
                  "tickfont": {
                    "color": "#4D5663"
                  },
                  "domain": [
                    0,
                    0.2125
                  ],
                  "title": {
                    "text": "",
                    "font": {
                      "color": "#4D5663"
                    }
                  },
                  "showgrid": false,
                  "zerolinecolor": "#E1E5ED",
                  "gridcolor": "#E1E5ED",
                  "anchor": "y9"
                },
                "xaxis8": {
                  "tickfont": {
                    "color": "#4D5663"
                  },
                  "domain": [
                    0.7875,
                    1
                  ],
                  "title": {
                    "text": "",
                    "font": {
                      "color": "#4D5663"
                    }
                  },
                  "showgrid": false,
                  "zerolinecolor": "#E1E5ED",
                  "gridcolor": "#E1E5ED",
                  "anchor": "y8"
                },
                "xaxis7": {
                  "tickfont": {
                    "color": "#4D5663"
                  },
                  "domain": [
                    0.525,
                    0.7375
                  ],
                  "title": {
                    "text": "",
                    "font": {
                      "color": "#4D5663"
                    }
                  },
                  "showgrid": false,
                  "zerolinecolor": "#E1E5ED",
                  "gridcolor": "#E1E5ED",
                  "anchor": "y7"
                },
                "xaxis6": {
                  "tickfont": {
                    "color": "#4D5663"
                  },
                  "domain": [
                    0.2625,
                    0.475
                  ],
                  "title": {
                    "text": "",
                    "font": {
                      "color": "#4D5663"
                    }
                  },
                  "showgrid": false,
                  "zerolinecolor": "#E1E5ED",
                  "gridcolor": "#E1E5ED",
                  "anchor": "y6"
                },
                "xaxis5": {
                  "tickfont": {
                    "color": "#4D5663"
                  },
                  "domain": [
                    0,
                    0.2125
                  ],
                  "title": {
                    "text": "",
                    "font": {
                      "color": "#4D5663"
                    }
                  },
                  "showgrid": false,
                  "zerolinecolor": "#E1E5ED",
                  "gridcolor": "#E1E5ED",
                  "anchor": "y5"
                },
                "xaxis4": {
                  "tickfont": {
                    "color": "#4D5663"
                  },
                  "domain": [
                    0.7875,
                    1
                  ],
                  "title": {
                    "text": "",
                    "font": {
                      "color": "#4D5663"
                    }
                  },
                  "showgrid": false,
                  "zerolinecolor": "#E1E5ED",
                  "gridcolor": "#E1E5ED",
                  "anchor": "y4"
                },
                "xaxis3": {
                  "tickfont": {
                    "color": "#4D5663"
                  },
                  "domain": [
                    0.525,
                    0.7375
                  ],
                  "title": {
                    "text": "",
                    "font": {
                      "color": "#4D5663"
                    }
                  },
                  "showgrid": false,
                  "zerolinecolor": "#E1E5ED",
                  "gridcolor": "#E1E5ED",
                  "anchor": "y3"
                },
                "xaxis2": {
                  "tickfont": {
                    "color": "#4D5663"
                  },
                  "domain": [
                    0.2625,
                    0.475
                  ],
                  "title": {
                    "text": "",
                    "font": {
                      "color": "#4D5663"
                    }
                  },
                  "showgrid": false,
                  "zerolinecolor": "#E1E5ED",
                  "gridcolor": "#E1E5ED",
                  "anchor": "y2"
                },
                "yaxis14": {
                  "tickfont": {
                    "color": "#4D5663"
                  },
                  "domain": [
                    0,
                    0.1975
                  ],
                  "title": {
                    "text": "",
                    "font": {
                      "color": "#4D5663"
                    }
                  },
                  "showgrid": false,
                  "zerolinecolor": "#E1E5ED",
                  "gridcolor": "#E1E5ED",
                  "anchor": "x14"
                }
              }
            }
          },
          "metadata": {
            "tags": []
          }
        }
      ]
    }
  ]
}